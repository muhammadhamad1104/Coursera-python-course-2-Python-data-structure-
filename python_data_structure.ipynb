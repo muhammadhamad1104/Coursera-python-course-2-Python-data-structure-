{
  "nbformat": 4,
  "nbformat_minor": 0,
  "metadata": {
    "colab": {
      "provenance": [],
      "gpuType": "T4"
    },
    "kernelspec": {
      "name": "python3",
      "display_name": "Python 3"
    },
    "language_info": {
      "name": "python"
    }
  },
  "cells": [
    {
      "cell_type": "markdown",
      "source": [
        "# **strings**"
      ],
      "metadata": {
        "id": "BRDNY853RghD"
      }
    },
    {
      "cell_type": "code",
      "execution_count": null,
      "metadata": {
        "colab": {
          "base_uri": "https://localhost:8080/"
        },
        "id": "DkQlLhepHqNa",
        "outputId": "86d3a34f-51b0-4f67-f167-0a39c6865978"
      },
      "outputs": [
        {
          "output_type": "stream",
          "name": "stdout",
          "text": [
            "letter a\n",
            "x n\n",
            "o\n"
          ]
        }
      ],
      "source": [
        "fruit=\"banana\"\n",
        "letter=fruit[1]\n",
        "print(\"letter\",letter)\n",
        "w=3\n",
        "x=fruit[w-1]\n",
        "print(\"x\",x)\n",
        "zot=\"hello world\"\n",
        "print(zot[7])"
      ]
    },
    {
      "cell_type": "code",
      "source": [
        "fruit=\"banana\"\n",
        "x=len(fruit)\n",
        "print(x)\n",
        "print(len(\"hello world\"))"
      ],
      "metadata": {
        "colab": {
          "base_uri": "https://localhost:8080/"
        },
        "id": "aUJNqagnyi9a",
        "outputId": "c8d37f5e-33d5-40ef-ad7e-dd63b2ef75fc"
      },
      "execution_count": null,
      "outputs": [
        {
          "output_type": "stream",
          "name": "stdout",
          "text": [
            "6\n",
            "11\n"
          ]
        }
      ]
    },
    {
      "cell_type": "code",
      "source": [
        "def fruits(fruit):\n",
        "  index=0\n",
        "  while(index<len(fruit)):\n",
        "    letter=fruit[index]\n",
        "    print(index,letter)\n",
        "    index=index+1\n",
        "fruits(\"banana\")\n",
        "fruits(\"apple\")"
      ],
      "metadata": {
        "colab": {
          "base_uri": "https://localhost:8080/"
        },
        "id": "NcEvAMHrzb0C",
        "outputId": "c9fd079b-c8d2-4bb5-84da-3bedd3af1741"
      },
      "execution_count": null,
      "outputs": [
        {
          "output_type": "stream",
          "name": "stdout",
          "text": [
            "0 b\n",
            "1 a\n",
            "2 n\n",
            "3 a\n",
            "4 n\n",
            "5 a\n",
            "0 a\n",
            "1 p\n",
            "2 p\n",
            "3 l\n",
            "4 e\n"
          ]
        }
      ]
    },
    {
      "cell_type": "code",
      "source": [
        "fruit=\"banana\"\n",
        "count=0\n",
        "for letter in fruit:\n",
        "  count=count+1\n",
        "  print(\"count\",count,\"letter\",letter)"
      ],
      "metadata": {
        "colab": {
          "base_uri": "https://localhost:8080/"
        },
        "id": "RdBOPWaY0JD0",
        "outputId": "c8595696-7931-4325-cdbf-f78b8c5e2550"
      },
      "execution_count": null,
      "outputs": [
        {
          "output_type": "stream",
          "name": "stdout",
          "text": [
            "count 1 letter b\n",
            "count 2 letter a\n",
            "count 3 letter n\n",
            "count 4 letter a\n",
            "count 5 letter n\n",
            "count 6 letter a\n"
          ]
        }
      ]
    },
    {
      "cell_type": "code",
      "source": [
        "fruit=\"banana\"\n",
        "count=0\n",
        "for letter in fruit:\n",
        "  if(letter==\"a\"):\n",
        "    count=count+1\n",
        "print(\"count\",count)"
      ],
      "metadata": {
        "colab": {
          "base_uri": "https://localhost:8080/"
        },
        "id": "VHJvu3_33sam",
        "outputId": "889a8de3-dfed-462a-b4e9-3cf6216a2aac"
      },
      "execution_count": null,
      "outputs": [
        {
          "output_type": "stream",
          "name": "stdout",
          "text": [
            "count 3\n"
          ]
        }
      ]
    },
    {
      "cell_type": "code",
      "source": [
        "letter=\"hamad baloch\"\n",
        "print(letter[0:4])\n",
        "print(letter[6:7])\n",
        "print(letter[6:50])\n",
        "print(letter[:2])\n",
        "print(letter[8:])\n",
        "print(letter[:])"
      ],
      "metadata": {
        "colab": {
          "base_uri": "https://localhost:8080/"
        },
        "id": "JunVuEJt4ogt",
        "outputId": "912c6123-3c1a-4397-94dd-05bca702ea3e"
      },
      "execution_count": null,
      "outputs": [
        {
          "output_type": "stream",
          "name": "stdout",
          "text": [
            "hama\n",
            "b\n",
            "baloch\n",
            "ha\n",
            "loch\n",
            "hamad baloch\n"
          ]
        }
      ]
    },
    {
      "cell_type": "code",
      "source": [
        "a=\"hello\"\n",
        "b=a+\"hamad\"\n",
        "print(b)\n",
        "c=a+\" \"+\"hamad\"\n",
        "print(c)"
      ],
      "metadata": {
        "colab": {
          "base_uri": "https://localhost:8080/"
        },
        "id": "7009qwxT5nXF",
        "outputId": "f763036a-e6be-4586-f0a2-b41a88ac54a5"
      },
      "execution_count": null,
      "outputs": [
        {
          "output_type": "stream",
          "name": "stdout",
          "text": [
            "hellohamad\n",
            "hello hamad\n"
          ]
        }
      ]
    },
    {
      "cell_type": "code",
      "source": [
        "fruit=\"banana\"\n",
        "\"n\" in fruit #true\n",
        "\"a\" in fruit #true\n",
        "\"nan\" in fruit #true\n",
        "\"m\" in fruit #false\n",
        "if(\"a\" in fruit):\n",
        "  print(\"found it\")"
      ],
      "metadata": {
        "colab": {
          "base_uri": "https://localhost:8080/"
        },
        "id": "bZttATNt9qbL",
        "outputId": "b170914c-dbc1-4971-edd4-e23eef68c476"
      },
      "execution_count": null,
      "outputs": [
        {
          "output_type": "stream",
          "name": "stdout",
          "text": [
            "found it\n"
          ]
        }
      ]
    },
    {
      "cell_type": "code",
      "source": [
        "word=input(\"enter a word \")\n",
        "if word==\"banana\":\n",
        "  print(\"all right fruit is banana\")\n",
        "elif(word<\"banana\"):\n",
        "  print(\"your word \"+word+\" comes before banana\")\n",
        "else:\n",
        "  print(\"your word \"+word+\" comes after banana\")"
      ],
      "metadata": {
        "colab": {
          "base_uri": "https://localhost:8080/"
        },
        "id": "GTqDOiml--gd",
        "outputId": "20246b85-0e34-4946-d4b4-9d2ff9d45893"
      },
      "execution_count": null,
      "outputs": [
        {
          "output_type": "stream",
          "name": "stdout",
          "text": [
            "enter a word babana\n",
            "your word babana comes before banana\n"
          ]
        }
      ]
    },
    {
      "cell_type": "code",
      "source": [
        "greet=\"Hello Hamad\"\n",
        "print(greet.lower())\n",
        "print(\"hello Hamad\".lower())\n",
        "zip=greet.lower()\n",
        "print(zip)\n",
        "print(greet.upper())\n",
        "print(\"hello Hamad\".upper())\n",
        "ziip=greet.upper()\n",
        "print(ziip)"
      ],
      "metadata": {
        "colab": {
          "base_uri": "https://localhost:8080/"
        },
        "id": "AjnQR9pWAxJK",
        "outputId": "9c30c25a-c4fa-4e94-a80b-c17c16c6826b"
      },
      "execution_count": null,
      "outputs": [
        {
          "output_type": "stream",
          "name": "stdout",
          "text": [
            "hello hamad\n",
            "hello hamad\n",
            "hello hamad\n",
            "HELLO HAMAD\n",
            "HELLO HAMAD\n",
            "HELLO HAMAD\n"
          ]
        }
      ]
    },
    {
      "cell_type": "code",
      "source": [
        "word=\"hello Hamad\"\n",
        "dir(word)"
      ],
      "metadata": {
        "colab": {
          "base_uri": "https://localhost:8080/"
        },
        "id": "YarXZEzLB86X",
        "outputId": "e15edbdf-7fe3-4ea1-a9a3-86aa2f113375"
      },
      "execution_count": null,
      "outputs": [
        {
          "output_type": "execute_result",
          "data": {
            "text/plain": [
              "['__add__',\n",
              " '__class__',\n",
              " '__contains__',\n",
              " '__delattr__',\n",
              " '__dir__',\n",
              " '__doc__',\n",
              " '__eq__',\n",
              " '__format__',\n",
              " '__ge__',\n",
              " '__getattribute__',\n",
              " '__getitem__',\n",
              " '__getnewargs__',\n",
              " '__gt__',\n",
              " '__hash__',\n",
              " '__init__',\n",
              " '__init_subclass__',\n",
              " '__iter__',\n",
              " '__le__',\n",
              " '__len__',\n",
              " '__lt__',\n",
              " '__mod__',\n",
              " '__mul__',\n",
              " '__ne__',\n",
              " '__new__',\n",
              " '__reduce__',\n",
              " '__reduce_ex__',\n",
              " '__repr__',\n",
              " '__rmod__',\n",
              " '__rmul__',\n",
              " '__setattr__',\n",
              " '__sizeof__',\n",
              " '__str__',\n",
              " '__subclasshook__',\n",
              " 'capitalize',\n",
              " 'casefold',\n",
              " 'center',\n",
              " 'count',\n",
              " 'encode',\n",
              " 'endswith',\n",
              " 'expandtabs',\n",
              " 'find',\n",
              " 'format',\n",
              " 'format_map',\n",
              " 'index',\n",
              " 'isalnum',\n",
              " 'isalpha',\n",
              " 'isascii',\n",
              " 'isdecimal',\n",
              " 'isdigit',\n",
              " 'isidentifier',\n",
              " 'islower',\n",
              " 'isnumeric',\n",
              " 'isprintable',\n",
              " 'isspace',\n",
              " 'istitle',\n",
              " 'isupper',\n",
              " 'join',\n",
              " 'ljust',\n",
              " 'lower',\n",
              " 'lstrip',\n",
              " 'maketrans',\n",
              " 'partition',\n",
              " 'removeprefix',\n",
              " 'removesuffix',\n",
              " 'replace',\n",
              " 'rfind',\n",
              " 'rindex',\n",
              " 'rjust',\n",
              " 'rpartition',\n",
              " 'rsplit',\n",
              " 'rstrip',\n",
              " 'split',\n",
              " 'splitlines',\n",
              " 'startswith',\n",
              " 'strip',\n",
              " 'swapcase',\n",
              " 'title',\n",
              " 'translate',\n",
              " 'upper',\n",
              " 'zfill']"
            ]
          },
          "metadata": {},
          "execution_count": 16
        }
      ]
    },
    {
      "cell_type": "code",
      "source": [
        "word=\"hello hamad\"\n",
        "new_word=str.capitalize(word)\n",
        "print(new_word)\n",
        "fruit=\"banana\"\n",
        "print(fruit.find(\"na\"))\n",
        "print(fruit.find(\"z\"))\n",
        "print(fruit.find(\"a\",3))\n",
        "print(fruit.find(\"na\",3))\n",
        "a=\"hello Hamad\"\n",
        "b=a.replace(\"Hamad\",\"Hamad baloch\")\n",
        "print(b)\n",
        "print(b.replace(\"a\",\"o\"))\n",
        "c=\"   hello hamad    \"\n",
        "print(c.lstrip())\n",
        "print(c.rstrip())\n",
        "print(c.strip())\n",
        "line=\"My name is Muhammad Hamad\"\n",
        "print(line.startswith(\"My\"))\n",
        "print(line.startswith(\"M\"))\n",
        "print(line.startswith(\"m\"))\n",
        "data=\"From stephon.marquard@uct.ac.za Sat Jan 5 09:14:16 2008\"\n",
        "a=data.find(\"@\")\n",
        "print(a)\n",
        "b=data.find(\" \",a)\n",
        "print(b)\n",
        "print(data[a+1:b])"
      ],
      "metadata": {
        "colab": {
          "base_uri": "https://localhost:8080/"
        },
        "id": "iLIzov44CcC1",
        "outputId": "e90f39c2-d49b-4705-959e-389449b2c11f"
      },
      "execution_count": null,
      "outputs": [
        {
          "output_type": "stream",
          "name": "stdout",
          "text": [
            "Hello hamad\n",
            "2\n",
            "-1\n",
            "3\n",
            "4\n",
            "hello Hamad baloch\n",
            "hello Homod boloch\n",
            "hello hamad    \n",
            "   hello hamad\n",
            "hello hamad\n",
            "True\n",
            "True\n",
            "False\n",
            "21\n",
            "31\n",
            "uct.ac.za\n"
          ]
        }
      ]
    },
    {
      "cell_type": "code",
      "source": [
        "x = 'From marquard@uct.ac.za'\n",
        "print(x[8])\n",
        "x = 'From marquard@uct.ac.za'\n",
        "print(x[14:17])"
      ],
      "metadata": {
        "colab": {
          "base_uri": "https://localhost:8080/"
        },
        "id": "dEgI3-EjwolD",
        "outputId": "ee07b817-ccbe-42f7-f88e-cad2f4fa51a4"
      },
      "execution_count": null,
      "outputs": [
        {
          "output_type": "stream",
          "name": "stdout",
          "text": [
            "q\n",
            "uct\n"
          ]
        }
      ]
    },
    {
      "cell_type": "code",
      "source": [
        "text = \"X-DSPAM-Confidence:    0.8475\"\n",
        "x=text.find(\"0\")\n",
        "y=text[x:]\n",
        "z=float(y)\n",
        "print(z)"
      ],
      "metadata": {
        "id": "U665Q6-P08Qw",
        "outputId": "9f547b94-8d79-4147-e801-a9488f08dbb9",
        "colab": {
          "base_uri": "https://localhost:8080/"
        }
      },
      "execution_count": null,
      "outputs": [
        {
          "output_type": "stream",
          "name": "stdout",
          "text": [
            "0.8475\n"
          ]
        }
      ]
    },
    {
      "cell_type": "markdown",
      "source": [
        "**filing**"
      ],
      "metadata": {
        "id": "maRBL_SwDoDx"
      }
    },
    {
      "cell_type": "code",
      "source": [
        "line=\"hello\\nHamad\"\n",
        "line #hello\\nHamad\n",
        "print(line)\n",
        "print(len(line)) #\\n is one character"
      ],
      "metadata": {
        "colab": {
          "base_uri": "https://localhost:8080/"
        },
        "id": "xvicyfFJDm_o",
        "outputId": "4d1b1d54-0de5-405a-dfe6-1c27cd35d172"
      },
      "execution_count": null,
      "outputs": [
        {
          "output_type": "stream",
          "name": "stdout",
          "text": [
            "hello\n",
            "Hamad\n",
            "11\n"
          ]
        }
      ]
    },
    {
      "cell_type": "code",
      "source": [
        "xfile=open(\"hello\")\n",
        "count=0\n",
        "for i in xfile:\n",
        "  count=count+1\n",
        "  print(count,i)"
      ],
      "metadata": {
        "colab": {
          "base_uri": "https://localhost:8080/"
        },
        "id": "xUyanGarJLtu",
        "outputId": "8d04fa4f-79d7-48a6-cf99-7b7a29413ae6"
      },
      "execution_count": null,
      "outputs": [
        {
          "output_type": "stream",
          "name": "stdout",
          "text": [
            "1 print(\"hello world\")\n",
            "\n",
            "2 my name is Muhammad hamad\n",
            "\n",
            "3 how are you my friend \n",
            "\n",
            "4 what is this bro\n"
          ]
        }
      ]
    },
    {
      "cell_type": "code",
      "source": [
        "xfile=open(\"hello\")\n",
        "f=xfile.read()\n",
        "print(len(f))#how many character\n",
        "print(f[:30])#print first 30 character"
      ],
      "metadata": {
        "colab": {
          "base_uri": "https://localhost:8080/"
        },
        "id": "efInj0MXzY6q",
        "outputId": "6d979a0e-94cc-48bd-901b-55e308b9d103"
      },
      "execution_count": null,
      "outputs": [
        {
          "output_type": "stream",
          "name": "stdout",
          "text": [
            "86\n",
            "print(\"hello world\")\n",
            "my name i\n"
          ]
        }
      ]
    },
    {
      "cell_type": "code",
      "source": [
        "xfile=open(\"hello\")\n",
        "for i in xfile:\n",
        "  i=i.rstrip();\n",
        "  if(i.startswith(\"h\")):\n",
        "    print(i)"
      ],
      "metadata": {
        "colab": {
          "base_uri": "https://localhost:8080/"
        },
        "id": "suRiqC4P0eFJ",
        "outputId": "1107634e-2be2-426a-ee5e-dfa412cab8c7"
      },
      "execution_count": null,
      "outputs": [
        {
          "output_type": "stream",
          "name": "stdout",
          "text": [
            "how are you my friend\n"
          ]
        }
      ]
    },
    {
      "cell_type": "code",
      "source": [
        "xfile=open(\"hello\")\n",
        "for i in xfile:\n",
        "  i=i.rstrip();\n",
        "  if(not i.startswith(\"h\")):\n",
        "    continue\n",
        "  print(i)"
      ],
      "metadata": {
        "colab": {
          "base_uri": "https://localhost:8080/"
        },
        "id": "rWoovU0L2op_",
        "outputId": "25cc4973-88a7-4d8b-aa31-a07425451b9b"
      },
      "execution_count": null,
      "outputs": [
        {
          "output_type": "stream",
          "name": "stdout",
          "text": [
            "how are you my friend\n"
          ]
        }
      ]
    },
    {
      "cell_type": "code",
      "source": [
        "xfile=open(\"hello\")\n",
        "for i in xfile:\n",
        "  i=i.rstrip();\n",
        "  if(not \"w\" in i):\n",
        "    continue\n",
        "  print(i)"
      ],
      "metadata": {
        "colab": {
          "base_uri": "https://localhost:8080/"
        },
        "id": "NRcpTIkX3ygy",
        "outputId": "9eec65d8-3aa3-437e-af89-562bf6cf9589"
      },
      "execution_count": null,
      "outputs": [
        {
          "output_type": "stream",
          "name": "stdout",
          "text": [
            "print(\"hello world\")\n",
            "how are you my friend\n",
            "what is this bro\n"
          ]
        }
      ]
    },
    {
      "cell_type": "code",
      "source": [
        "a=input(\"enter file name :\")\n",
        "xfile=None\n",
        "try:\n",
        "  xfile=open(a)\n",
        "except:\n",
        "  print(a,\"file not present\")\n",
        "  #quit() you can also use quit() function if you not want to use if condition\n",
        "if(xfile!=None):\n",
        "  count=0\n",
        "  for i in xfile:\n",
        "    if(\"w\" in i):\n",
        "      count=count+1\n",
        "  print(\"ther are\",count,\"lines in file\",xfile,\"having word w\")"
      ],
      "metadata": {
        "colab": {
          "base_uri": "https://localhost:8080/"
        },
        "id": "gcqQgd8W4Wx3",
        "outputId": "ca85a6cf-6a89-4a8f-9946-c908a442effc"
      },
      "execution_count": null,
      "outputs": [
        {
          "output_type": "stream",
          "name": "stdout",
          "text": [
            "enter file name :f\n",
            "f file not present\n"
          ]
        }
      ]
    },
    {
      "cell_type": "code",
      "source": [
        "filename = input(\"Enter file name: \")\n",
        "try:\n",
        "  file = open(filename,\"r\")\n",
        "  content = file.read()\n",
        "  file.close()\n",
        "  print (content.upper())\n",
        "except:\n",
        "  print(\"file not exsist\")"
      ],
      "metadata": {
        "id": "K_fEHlB87PrZ"
      },
      "execution_count": null,
      "outputs": []
    },
    {
      "cell_type": "code",
      "source": [
        "fname = input(\"Enter file name: \")\n",
        "try:\n",
        "  file = open(fname)\n",
        "except:\n",
        "  print(\"file not exsist\")\n",
        "count=0\n",
        "sum=0\n",
        "for line in file:\n",
        "    if line.startswith(\"X-DSPAM-Confidence:\"):\n",
        "        number=float(line[21:])\n",
        "        count=count+1\n",
        "        sum=sum+number\n",
        "average=sum/count\n",
        "print(\"Average spam confidence:\",average)\n"
      ],
      "metadata": {
        "colab": {
          "base_uri": "https://localhost:8080/"
        },
        "id": "vq55IuTSNMEm",
        "outputId": "0c7cccdf-91c3-4678-ede6-6af7d0d7aa5a"
      },
      "execution_count": null,
      "outputs": [
        {
          "output_type": "stream",
          "name": "stdout",
          "text": [
            "Enter file name: hello\n",
            "Average spam confidence: 0.7507185185185187\n"
          ]
        }
      ]
    },
    {
      "cell_type": "markdown",
      "source": [
        "# **list**"
      ],
      "metadata": {
        "id": "GLlWtzRCqy8V"
      }
    },
    {
      "cell_type": "code",
      "source": [
        "friends=[\"hamad\",\"ali\",\"zeeshan\"]\n",
        "print(friends)\n",
        "for i in friends:\n",
        "  print(i)\n",
        "a=[1,2,3,4,5]\n",
        "print(a)\n",
        "b=[\"ali\",1,\"hamad\",2]\n",
        "print(b)\n",
        "c=[\"ali\",[\"hamad\",1],2]\n",
        "print(c)\n",
        "print([])"
      ],
      "metadata": {
        "colab": {
          "base_uri": "https://localhost:8080/"
        },
        "id": "rcJlc5UOqxJD",
        "outputId": "658926c0-dca1-40b4-8a2a-bcc58b09973a"
      },
      "execution_count": null,
      "outputs": [
        {
          "output_type": "stream",
          "name": "stdout",
          "text": [
            "['hamad', 'ali', 'zeeshan']\n",
            "hamad\n",
            "ali\n",
            "zeeshan\n",
            "[1, 2, 3, 4, 5]\n",
            "['ali', 1, 'hamad', 2]\n",
            "['ali', ['hamad', 1], 2]\n",
            "[]\n"
          ]
        }
      ]
    },
    {
      "cell_type": "code",
      "source": [
        "friends=[\"hamad\",\"ali\",\"zeeshan\"]\n",
        "print(friends[1])\n",
        "for friend in friends:\n",
        "  print(\"happy new year :\",friend)"
      ],
      "metadata": {
        "colab": {
          "base_uri": "https://localhost:8080/"
        },
        "id": "3AcsQ-twsPu0",
        "outputId": "4821ef83-01ee-4fd7-9fa1-88663c6fb436"
      },
      "execution_count": null,
      "outputs": [
        {
          "output_type": "stream",
          "name": "stdout",
          "text": [
            "ali\n",
            "happy new year : hamad\n",
            "happy new year : ali\n",
            "happy new year : zeeshan\n"
          ]
        }
      ]
    },
    {
      "cell_type": "code",
      "source": [
        "fruit=\"banana\"\n",
        "#fruit[0]=\"B\"  -->not supported in string\n",
        "#print(fruit)\n",
        "x=fruit.upper()\n",
        "print(x)\n",
        "friends=[\"hamad\",\"ali\",2,\"zeeshan\"]\n",
        "friends[2]=\"hamza\"  #-->this is happen in list\n",
        "print(friends)\n",
        "print(len(friends))\n",
        "print(range(len(friends)))\n",
        "print(list(range(len(friends))))\n",
        "for i in range(len(friends)):\n",
        "  print(i)\n",
        "  friend=friends[i]\n",
        "  print(\"happy new year :\",friend)"
      ],
      "metadata": {
        "colab": {
          "base_uri": "https://localhost:8080/"
        },
        "id": "gXH-za1xtgDA",
        "outputId": "e7b6c599-7faf-4d18-8715-258e45d26ace"
      },
      "execution_count": null,
      "outputs": [
        {
          "output_type": "stream",
          "name": "stdout",
          "text": [
            "BANANA\n",
            "['hamad', 'ali', 'hamza', 'zeeshan']\n",
            "4\n",
            "range(0, 4)\n",
            "[0, 1, 2, 3]\n",
            "0\n",
            "happy new year : hamad\n",
            "1\n",
            "happy new year : ali\n",
            "2\n",
            "happy new year : hamza\n",
            "3\n",
            "happy new year : zeeshan\n"
          ]
        }
      ]
    },
    {
      "cell_type": "code",
      "source": [
        "a=[1,2,3,4,5]\n",
        "b=[\"ali\",\"hamad\",\"zeeshan\"]\n",
        "c=a+b\n",
        "print(c)\n",
        "print(a*4)\n",
        "print(c[1:3])\n",
        "print(c[:4])\n",
        "print(c[4:])\n",
        "print(c[:])"
      ],
      "metadata": {
        "colab": {
          "base_uri": "https://localhost:8080/"
        },
        "id": "VUOufRzhxuEB",
        "outputId": "f414b03f-4df9-4f5b-d264-e56f2a162daf"
      },
      "execution_count": null,
      "outputs": [
        {
          "output_type": "stream",
          "name": "stdout",
          "text": [
            "[1, 2, 3, 4, 5, 'ali', 'hamad', 'zeeshan']\n",
            "[1, 2, 3, 4, 5, 1, 2, 3, 4, 5, 1, 2, 3, 4, 5, 1, 2, 3, 4, 5]\n",
            "[2, 3]\n",
            "[1, 2, 3, 4]\n",
            "[5, 'ali', 'hamad', 'zeeshan']\n",
            "[1, 2, 3, 4, 5, 'ali', 'hamad', 'zeeshan']\n"
          ]
        }
      ]
    },
    {
      "cell_type": "code",
      "source": [
        "a=list()\n",
        "print(a)\n",
        "a.append(\"hamad\")\n",
        "a.append(\"ali\")\n",
        "print(a)\n",
        "a.append(2)\n",
        "a.append(\"zeeshan\")\n",
        "print(a)\n",
        "2 in a\n",
        "\"hamza\" not in a\n",
        "#a.sort() -->we cannot sort a list containing different data types\n",
        "#print(a)"
      ],
      "metadata": {
        "colab": {
          "base_uri": "https://localhost:8080/"
        },
        "id": "iWMVj7dKy8ca",
        "outputId": "aa334e1b-d993-4104-bc30-bc0265e9ef70"
      },
      "execution_count": null,
      "outputs": [
        {
          "output_type": "stream",
          "name": "stdout",
          "text": [
            "[]\n",
            "['hamad', 'ali']\n",
            "['hamad', 'ali', 2, 'zeeshan']\n"
          ]
        },
        {
          "output_type": "execute_result",
          "data": {
            "text/plain": [
              "True"
            ]
          },
          "metadata": {},
          "execution_count": 29
        }
      ]
    },
    {
      "cell_type": "code",
      "source": [
        "friend=[\"hamad\",\"zeeshan\",\"ali\"]\n",
        "print(friend)\n",
        "friend.sort()\n",
        "print(friend)\n",
        "print(friend[1])\n",
        "print(friend[-1])"
      ],
      "metadata": {
        "colab": {
          "base_uri": "https://localhost:8080/"
        },
        "id": "Vm7EjUgo1DOy",
        "outputId": "7f47ce5c-0441-4e06-ce03-db54afe5c31d"
      },
      "execution_count": null,
      "outputs": [
        {
          "output_type": "stream",
          "name": "stdout",
          "text": [
            "['hamad', 'zeeshan', 'ali']\n",
            "['ali', 'hamad', 'zeeshan']\n",
            "hamad\n",
            "zeeshan\n"
          ]
        }
      ]
    },
    {
      "cell_type": "code",
      "source": [
        "numlist=list()\n",
        "#total=0\n",
        "#count=0\n",
        "while(True):\n",
        "  inp=input(\"Enter the number : \")\n",
        "  if(inp==\"done\"):\n",
        "    break\n",
        "  try:\n",
        "    value=float(inp)\n",
        "    #count=count+1\n",
        "    #total=total+value\n",
        "    numlist.append(value)\n",
        "  except:\n",
        "    print(\"invalid input\")\n",
        "    continue\n",
        "#average=total/count\n",
        "average=sum(numlist)/len(numlist)\n",
        "print(\"average :\",average)\n",
        "print(sum(numlist))"
      ],
      "metadata": {
        "colab": {
          "base_uri": "https://localhost:8080/"
        },
        "id": "n91DjCK62oMM",
        "outputId": "eba9a79a-85c2-4768-879c-b217c52110ac"
      },
      "execution_count": null,
      "outputs": [
        {
          "output_type": "stream",
          "name": "stdout",
          "text": [
            "Enter the number : 1\n",
            "Enter the number : 2\n",
            "Enter the number : 3\n",
            "Enter the number : done\n",
            "average : 2.0\n",
            "6.0\n"
          ]
        }
      ]
    },
    {
      "cell_type": "code",
      "source": [
        "l=[1,2,3]\n",
        "x=sum(l) #sum() is now called correctly\n",
        "print(x)"
      ],
      "metadata": {
        "colab": {
          "base_uri": "https://localhost:8080/"
        },
        "id": "yjZId1P03wQi",
        "outputId": "753a487f-678e-468f-b33a-55286158180a"
      },
      "execution_count": null,
      "outputs": [
        {
          "output_type": "stream",
          "name": "stdout",
          "text": [
            "6\n"
          ]
        }
      ]
    },
    {
      "cell_type": "code",
      "source": [
        "abc=\"my name is hamad\"\n",
        "xyz=abc.split()\n",
        "print(xyz)\n",
        "for i in xyz:\n",
        "  print(i)\n",
        "print(len(xyz))\n",
        "print(len(abc))"
      ],
      "metadata": {
        "colab": {
          "base_uri": "https://localhost:8080/"
        },
        "id": "3WppyRna7qih",
        "outputId": "d25e3b6a-beb7-42fd-996f-53f7c232acf4"
      },
      "execution_count": null,
      "outputs": [
        {
          "output_type": "stream",
          "name": "stdout",
          "text": [
            "['my', 'name', 'is', 'hamad']\n",
            "my\n",
            "name\n",
            "is\n",
            "hamad\n",
            "4\n",
            "16\n"
          ]
        }
      ]
    },
    {
      "cell_type": "code",
      "source": [
        "a=\"a lot of            spaces\"\n",
        "b=a.split()\n",
        "print(b)\n",
        "print(len(b))\n",
        "c=\"my;name;is;hamad\"\n",
        "d=c.split()\n",
        "print(d)\n",
        "print(len(d))\n",
        "e=c.split(\";\")\n",
        "print(e)\n",
        "print(len(e))"
      ],
      "metadata": {
        "colab": {
          "base_uri": "https://localhost:8080/"
        },
        "id": "8IQWnU9f86vR",
        "outputId": "410563e7-85ca-4413-94a1-5472fe06e6cf"
      },
      "execution_count": null,
      "outputs": [
        {
          "output_type": "stream",
          "name": "stdout",
          "text": [
            "['a', 'lot', 'of', 'spaces']\n",
            "4\n",
            "['my;name;is;hamad']\n",
            "1\n",
            "['my', 'name', 'is', 'hamad']\n",
            "4\n"
          ]
        }
      ]
    },
    {
      "cell_type": "code",
      "source": [
        "a=open(\"hello2.txt\")\n",
        "for line in a:\n",
        "  line=line.rstrip()\n",
        "  if not line.startswith(\"X\"):\n",
        "    continue\n",
        "  word=line.split()\n",
        "  print(word[1])"
      ],
      "metadata": {
        "colab": {
          "base_uri": "https://localhost:8080/"
        },
        "id": "VPa8oVIC9wBr",
        "outputId": "4b66ba21-5e1d-4fde-d4f2-85601ac81531"
      },
      "execution_count": null,
      "outputs": [
        {
          "output_type": "stream",
          "name": "stdout",
          "text": [
            "CMU\n",
            "nakamura.uits.iupui.edu:\n",
            "text/plain;\n",
            "text/plain;\n",
            "Innocent\n",
            "Sat\n",
            "0.8475\n",
            "0.0000\n",
            "CMU\n",
            "nakamura.uits.iupui.edu:\n",
            "text/plain;\n",
            "text/plain;\n",
            "Innocent\n",
            "Fri\n",
            "0.6178\n",
            "0.0000\n",
            "CMU\n",
            "nakamura.uits.iupui.edu:\n",
            "text/plain;\n",
            "text/plain;\n",
            "Innocent\n",
            "Fri\n",
            "0.6961\n",
            "0.0000\n",
            "CMU\n",
            "nakamura.uits.iupui.edu:\n",
            "text/plain;\n",
            "text/plain;\n",
            "Innocent\n",
            "Fri\n",
            "0.7565\n",
            "0.0000\n",
            "CMU\n",
            "nakamura.uits.iupui.edu:\n",
            "text/plain;\n",
            "text/plain;\n",
            "Innocent\n",
            "Fri\n",
            "0.7626\n",
            "0.0000\n",
            "CMU\n",
            "nakamura.uits.iupui.edu:\n",
            "text/plain;\n",
            "text/plain;\n",
            "Innocent\n",
            "Fri\n",
            "0.7556\n",
            "0.0000\n",
            "CMU\n",
            "nakamura.uits.iupui.edu:\n",
            "text/plain;\n",
            "text/plain;\n",
            "Innocent\n",
            "Fri\n",
            "0.7002\n",
            "0.0000\n",
            "CMU\n",
            "nakamura.uits.iupui.edu:\n",
            "text/plain;\n",
            "text/plain;\n",
            "Innocent\n",
            "Fri\n",
            "0.7615\n",
            "0.0000\n",
            "CMU\n",
            "nakamura.uits.iupui.edu:\n",
            "text/plain;\n",
            "text/plain;\n",
            "Innocent\n",
            "Fri\n",
            "0.7601\n",
            "0.0000\n",
            "CMU\n",
            "nakamura.uits.iupui.edu:\n",
            "text/plain;\n",
            "text/plain;\n",
            "Innocent\n",
            "Fri\n",
            "0.7605\n",
            "0.0000\n",
            "CMU\n",
            "nakamura.uits.iupui.edu:\n",
            "text/plain;\n",
            "text/plain;\n",
            "Innocent\n",
            "Fri\n",
            "0.6959\n",
            "0.0000\n",
            "CMU\n",
            "nakamura.uits.iupui.edu:\n",
            "text/plain;\n",
            "text/plain;\n",
            "Innocent\n",
            "Fri\n",
            "0.7606\n",
            "0.0000\n",
            "CMU\n",
            "nakamura.uits.iupui.edu:\n",
            "text/plain;\n",
            "text/plain;\n",
            "Innocent\n",
            "Fri\n",
            "0.7559\n",
            "0.0000\n",
            "CMU\n",
            "nakamura.uits.iupui.edu:\n",
            "text/plain;\n",
            "text/plain;\n",
            "Innocent\n",
            "Fri\n",
            "0.7605\n",
            "0.0000\n",
            "CMU\n",
            "nakamura.uits.iupui.edu:\n",
            "text/plain;\n",
            "text/plain;\n",
            "Innocent\n",
            "Fri\n",
            "0.6932\n",
            "0.0000\n",
            "CMU\n",
            "nakamura.uits.iupui.edu:\n",
            "text/plain;\n",
            "text/plain;\n",
            "Innocent\n",
            "Fri\n",
            "0.7558\n",
            "0.0000\n",
            "CMU\n",
            "nakamura.uits.iupui.edu:\n",
            "text/plain;\n",
            "text/plain;\n",
            "Innocent\n",
            "Fri\n",
            "0.6526\n",
            "0.0000\n",
            "CMU\n",
            "nakamura.uits.iupui.edu:\n",
            "text/plain;\n",
            "text/plain;\n",
            "Innocent\n",
            "Fri\n",
            "0.6948\n",
            "0.0000\n",
            "CMU\n",
            "nakamura.uits.iupui.edu:\n",
            "text/plain;\n",
            "text/plain;\n",
            "Innocent\n",
            "Fri\n",
            "0.6528\n",
            "0.0000\n",
            "CMU\n",
            "nakamura.uits.iupui.edu:\n",
            "text/plain;\n",
            "text/plain;\n",
            "Innocent\n",
            "Fri\n",
            "0.7002\n",
            "0.0000\n",
            "CMU\n",
            "nakamura.uits.iupui.edu:\n",
            "text/plain;\n",
            "text/plain;\n",
            "Innocent\n",
            "Fri\n",
            "0.7554\n",
            "0.0000\n",
            "CMU\n",
            "nakamura.uits.iupui.edu:\n",
            "text/plain;\n",
            "text/plain;\n",
            "Innocent\n",
            "Thu\n",
            "0.6956\n",
            "0.0000\n",
            "CMU\n",
            "nakamura.uits.iupui.edu:\n",
            "text/plain;\n",
            "text/plain;\n",
            "Innocent\n",
            "Thu\n",
            "0.6959\n",
            "0.0000\n",
            "CMU\n",
            "nakamura.uits.iupui.edu:\n",
            "text/plain;\n",
            "text/plain;\n",
            "Innocent\n",
            "Thu\n",
            "0.7556\n",
            "0.0000\n",
            "CMU\n",
            "nakamura.uits.iupui.edu:\n",
            "text/plain;\n",
            "text/plain;\n",
            "Innocent\n",
            "Thu\n",
            "0.9846\n",
            "0.0000\n",
            "CMU\n",
            "nakamura.uits.iupui.edu:\n",
            "text/plain;\n",
            "text/plain;\n",
            "Innocent\n",
            "Thu\n",
            "0.8509\n",
            "0.0000\n",
            "CMU\n",
            "nakamura.uits.iupui.edu:\n",
            "text/plain;\n",
            "text/plain;\n",
            "Innocent\n",
            "Thu\n",
            "0.9907\n",
            "0.0000\n"
          ]
        }
      ]
    },
    {
      "cell_type": "code",
      "source": [
        "word=\"from muhammadhamad1104@gmail.com 06/06/2006\"\n",
        "email=word.split()\n",
        "print(email)\n",
        "emails=email[1].split(\"@\")\n",
        "print(emails)"
      ],
      "metadata": {
        "colab": {
          "base_uri": "https://localhost:8080/"
        },
        "id": "wxZE_PvoCIUe",
        "outputId": "4bd06b18-601b-4145-96e0-661f2bdfa3a6"
      },
      "execution_count": null,
      "outputs": [
        {
          "output_type": "stream",
          "name": "stdout",
          "text": [
            "['from', 'muhammadhamad1104@gmail.com', '06/06/2006']\n",
            "['muhammadhamad1104', 'gmail.com']\n"
          ]
        }
      ]
    },
    {
      "cell_type": "code",
      "source": [
        "fname = open(\"hello3.txt\")\n",
        "lst = list()\n",
        "for line in fname:\n",
        "  line=line.rstrip()\n",
        "  words=line.split()\n",
        "  for word in words:\n",
        "    if word in lst:\n",
        "      continue\n",
        "    else:\n",
        "      lst.append(word)\n",
        "lst.sort()\n",
        "print(lst)\n"
      ],
      "metadata": {
        "colab": {
          "base_uri": "https://localhost:8080/"
        },
        "id": "WNvGsC-CH_xD",
        "outputId": "65b8f5e8-d3b3-4833-f09c-068a8b95c21d"
      },
      "execution_count": null,
      "outputs": [
        {
          "output_type": "stream",
          "name": "stdout",
          "text": [
            "['Arise', 'But', 'It', 'Juliet', 'Who', 'already', 'and', 'breaks', 'east', 'envious', 'fair', 'grief', 'is', 'kill', 'light', 'moon', 'pale', 'sick', 'soft', 'sun', 'the', 'through', 'what', 'window', 'with', 'yonder']\n"
          ]
        }
      ]
    },
    {
      "cell_type": "code",
      "source": [
        "try:\n",
        "  fname = open(\"hello2.txt\")\n",
        "  count = 0\n",
        "  for line in fname:\n",
        "    line=line.rstrip()\n",
        "    if line.startswith(\"From \"):\n",
        "      count=count+1\n",
        "      words=line.split()\n",
        "      print(words[1])\n",
        "  print(\"There were\", count, \"lines in the file with From as the first word\")\n",
        "except:\n",
        "  print(\"file not found\")"
      ],
      "metadata": {
        "colab": {
          "base_uri": "https://localhost:8080/"
        },
        "id": "-AAsteryMBdB",
        "outputId": "45295055-7673-41a3-d0b6-63b66b72060e"
      },
      "execution_count": null,
      "outputs": [
        {
          "output_type": "stream",
          "name": "stdout",
          "text": [
            "stephen.marquard@uct.ac.za\n",
            "louis@media.berkeley.edu\n",
            "zqian@umich.edu\n",
            "rjlowe@iupui.edu\n",
            "zqian@umich.edu\n",
            "rjlowe@iupui.edu\n",
            "cwen@iupui.edu\n",
            "cwen@iupui.edu\n",
            "gsilver@umich.edu\n",
            "gsilver@umich.edu\n",
            "zqian@umich.edu\n",
            "gsilver@umich.edu\n",
            "wagnermr@iupui.edu\n",
            "zqian@umich.edu\n",
            "antranig@caret.cam.ac.uk\n",
            "gopal.ramasammycook@gmail.com\n",
            "david.horwitz@uct.ac.za\n",
            "david.horwitz@uct.ac.za\n",
            "david.horwitz@uct.ac.za\n",
            "david.horwitz@uct.ac.za\n",
            "stephen.marquard@uct.ac.za\n",
            "louis@media.berkeley.edu\n",
            "louis@media.berkeley.edu\n",
            "ray@media.berkeley.edu\n",
            "cwen@iupui.edu\n",
            "cwen@iupui.edu\n",
            "cwen@iupui.edu\n",
            "There were 27 lines in the file with From as the first word\n"
          ]
        }
      ]
    },
    {
      "cell_type": "markdown",
      "source": [
        "# Dictionaries:"
      ],
      "metadata": {
        "id": "3tsEnVH8Prxd"
      }
    },
    {
      "cell_type": "code",
      "source": [
        "cabinet=dict()\n",
        "cabinet[\"summer\"]=12\n",
        "cabinet[\"fall\"]=3\n",
        "cabinet[\"spring\"]=75\n",
        "cabinet[\"winter\"]=\"hamad\"\n",
        "print(cabinet)\n",
        "print(cabinet[\"spring\"])\n",
        "cabinet[\"fall\"]=cabinet[\"fall\"]+2\n",
        "print(cabinet)\n",
        "cabinet[\"fall\"]=\"ali\"\n",
        "print(cabinet)"
      ],
      "metadata": {
        "colab": {
          "base_uri": "https://localhost:8080/"
        },
        "id": "ru38dadKPfsO",
        "outputId": "da07d0e2-c2bc-4a7b-cd79-3fd9f16b6bc0"
      },
      "execution_count": null,
      "outputs": [
        {
          "output_type": "stream",
          "name": "stdout",
          "text": [
            "{'summer': 12, 'fall': 3, 'spring': 75, 'winter': 'hamad'}\n",
            "75\n",
            "{'summer': 12, 'fall': 5, 'spring': 75, 'winter': 'hamad'}\n",
            "{'summer': 12, 'fall': 'ali', 'spring': 75, 'winter': 'hamad'}\n"
          ]
        }
      ]
    },
    {
      "cell_type": "code",
      "source": [
        "aa={\"a\":1,\"b\":2,\"c\":3}\n",
        "print(aa)\n",
        "print(aa[\"a\"])\n",
        "bb={}\n",
        "print(bb)"
      ],
      "metadata": {
        "colab": {
          "base_uri": "https://localhost:8080/"
        },
        "id": "mjBUQYdNT05m",
        "outputId": "3c9e43cc-e8fc-4663-f7cd-974c813af727"
      },
      "execution_count": null,
      "outputs": [
        {
          "output_type": "stream",
          "name": "stdout",
          "text": [
            "{'a': 1, 'b': 2, 'c': 3}\n",
            "1\n",
            "{}\n"
          ]
        }
      ]
    },
    {
      "cell_type": "code",
      "source": [
        "counts=dict()\n",
        "#names=[\"hamad\",\"ali\",\"zeeshan\",\"hamad\",\"hamad\",\"ali\"]\n",
        "name=open(\"hello2.txt\")\n",
        "names=name.read()\n",
        "names=names.rstrip()\n",
        "names=names.split()\n",
        "print(names)\n",
        "for name in names:\n",
        "  if name not in counts:\n",
        "    counts[name]=1\n",
        "  else:\n",
        "    counts[name]=counts[name]+1\n",
        "print(counts)"
      ],
      "metadata": {
        "colab": {
          "base_uri": "https://localhost:8080/"
        },
        "id": "L7CoVE1Tr3Z_",
        "outputId": "3527facc-74d5-4015-98fd-965c84e9a3a5"
      },
      "execution_count": null,
      "outputs": [
        {
          "output_type": "stream",
          "name": "stdout",
          "text": [
            "['From', 'stephen.marquard@uct.ac.za', 'Sat', 'Jan', '5', '09:14:16', '2008', 'Return-Path:', '<postmaster@collab.sakaiproject.org>', 'Received:', 'from', 'murder', '(mail.umich.edu', '[141.211.14.90])', 'by', 'frankenstein.mail.umich.edu', '(Cyrus', 'v2.3.8)', 'with', 'LMTPA;', 'Sat,', '05', 'Jan', '2008', '09:14:16', '-0500', 'X-Sieve:', 'CMU', 'Sieve', '2.3', 'Received:', 'from', 'murder', '([unix', 'socket])', 'by', 'mail.umich.edu', '(Cyrus', 'v2.2.12)', 'with', 'LMTPA;', 'Sat,', '05', 'Jan', '2008', '09:14:16', '-0500', 'Received:', 'from', 'holes.mr.itd.umich.edu', '(holes.mr.itd.umich.edu', '[141.211.14.79])', 'by', 'flawless.mail.umich.edu', '()', 'with', 'ESMTP', 'id', 'm05EEFR1013674;', 'Sat,', '5', 'Jan', '2008', '09:14:15', '-0500', 'Received:', 'FROM', 'paploo.uhi.ac.uk', '(app1.prod.collab.uhi.ac.uk', '[194.35.219.184])', 'BY', 'holes.mr.itd.umich.edu', 'ID', '477F90B0.2DB2F.12494', ';', '5', 'Jan', '2008', '09:14:10', '-0500', 'Received:', 'from', 'paploo.uhi.ac.uk', '(localhost', '[127.0.0.1])', 'by', 'paploo.uhi.ac.uk', '(Postfix)', 'with', 'ESMTP', 'id', '5F919BC2F2;', 'Sat,', '5', 'Jan', '2008', '14:10:05', '+0000', '(GMT)', 'Message-ID:', '<200801051412.m05ECIaH010327@nakamura.uits.iupui.edu>', 'Mime-Version:', '1.0', 'Content-Transfer-Encoding:', '7bit', 'Received:', 'from', 'prod.collab.uhi.ac.uk', '([194.35.219.182])', 'by', 'paploo.uhi.ac.uk', '(JAMES', 'SMTP', 'Server', '2.1.3)', 'with', 'SMTP', 'ID', '899', 'for', '<source@collab.sakaiproject.org>;', 'Sat,', '5', 'Jan', '2008', '14:09:50', '+0000', '(GMT)', 'Received:', 'from', 'nakamura.uits.iupui.edu', '(nakamura.uits.iupui.edu', '[134.68.220.122])', 'by', 'shmi.uhi.ac.uk', '(Postfix)', 'with', 'ESMTP', 'id', 'A215243002', 'for', '<source@collab.sakaiproject.org>;', 'Sat,', '5', 'Jan', '2008', '14:13:33', '+0000', '(GMT)', 'Received:', 'from', 'nakamura.uits.iupui.edu', '(localhost', '[127.0.0.1])', 'by', 'nakamura.uits.iupui.edu', '(8.12.11.20060308/8.12.11)', 'with', 'ESMTP', 'id', 'm05ECJVp010329', 'for', '<source@collab.sakaiproject.org>;', 'Sat,', '5', 'Jan', '2008', '09:12:19', '-0500', 'Received:', '(from', 'apache@localhost)', 'by', 'nakamura.uits.iupui.edu', '(8.12.11.20060308/8.12.11/Submit)', 'id', 'm05ECIaH010327', 'for', 'source@collab.sakaiproject.org;', 'Sat,', '5', 'Jan', '2008', '09:12:18', '-0500', 'Date:', 'Sat,', '5', 'Jan', '2008', '09:12:18', '-0500', 'X-Authentication-Warning:', 'nakamura.uits.iupui.edu:', 'apache', 'set', 'sender', 'to', 'stephen.marquard@uct.ac.za', 'using', '-f', 'To:', 'source@collab.sakaiproject.org', 'From:', 'stephen.marquard@uct.ac.za', 'Subject:', '[sakai]', 'svn', 'commit:', 'r39772', '-', 'content/branches/sakai_2-5-x/content-impl/impl/src/java/org/sakaiproject/content/impl', 'X-Content-Type-Outer-Envelope:', 'text/plain;', 'charset=UTF-8', 'X-Content-Type-Message-Body:', 'text/plain;', 'charset=UTF-8', 'Content-Type:', 'text/plain;', 'charset=UTF-8', 'X-DSPAM-Result:', 'Innocent', 'X-DSPAM-Processed:', 'Sat', 'Jan', '5', '09:14:16', '2008', 'X-DSPAM-Confidence:', '0.8475', 'X-DSPAM-Probability:', '0.0000', 'Details:', 'http://source.sakaiproject.org/viewsvn/?view=rev&rev=39772', 'Author:', 'stephen.marquard@uct.ac.za', 'Date:', '2008-01-05', '09:12:07', '-0500', '(Sat,', '05', 'Jan', '2008)', 'New', 'Revision:', '39772', 'Modified:', 'content/branches/sakai_2-5-x/content-impl/impl/src/java/org/sakaiproject/content/impl/ContentServiceSqlOracle.java', 'content/branches/sakai_2-5-x/content-impl/impl/src/java/org/sakaiproject/content/impl/DbContentService.java', 'Log:', 'SAK-12501', 'merge', 'to', '2-5-x:', 'r39622,', 'r39624:5,', 'r39632:3', '(resolve', 'conflict', 'from', 'differing', 'linebreaks', 'for', 'r39622)', '----------------------', 'This', 'automatic', 'notification', 'message', 'was', 'sent', 'by', 'Sakai', 'Collab', '(https://collab.sakaiproject.org/portal)', 'from', 'the', 'Source', 'site.', 'You', 'can', 'modify', 'how', 'you', 'receive', 'notifications', 'at', 'My', 'Workspace', '>', 'Preferences.', 'From', 'louis@media.berkeley.edu', 'Fri', 'Jan', '4', '18:10:48', '2008', 'Return-Path:', '<postmaster@collab.sakaiproject.org>', 'Received:', 'from', 'murder', '(mail.umich.edu', '[141.211.14.97])', 'by', 'frankenstein.mail.umich.edu', '(Cyrus', 'v2.3.8)', 'with', 'LMTPA;', 'Fri,', '04', 'Jan', '2008', '18:10:48', '-0500', 'X-Sieve:', 'CMU', 'Sieve', '2.3', 'Received:', 'from', 'murder', '([unix', 'socket])', 'by', 'mail.umich.edu', '(Cyrus', 'v2.2.12)', 'with', 'LMTPA;', 'Fri,', '04', 'Jan', '2008', '18:10:48', '-0500', 'Received:', 'from', 'icestorm.mr.itd.umich.edu', '(icestorm.mr.itd.umich.edu', '[141.211.93.149])', 'by', 'sleepers.mail.umich.edu', '()', 'with', 'ESMTP', 'id', 'm04NAbGa029441;', 'Fri,', '4', 'Jan', '2008', '18:10:37', '-0500', 'Received:', 'FROM', 'paploo.uhi.ac.uk', '(app1.prod.collab.uhi.ac.uk', '[194.35.219.184])', 'BY', 'icestorm.mr.itd.umich.edu', 'ID', '477EBCE3.161BB.4320', ';', '4', 'Jan', '2008', '18:10:31', '-0500', 'Received:', 'from', 'paploo.uhi.ac.uk', '(localhost', '[127.0.0.1])', 'by', 'paploo.uhi.ac.uk', '(Postfix)', 'with', 'ESMTP', 'id', '07969BB706;', 'Fri,', '4', 'Jan', '2008', '23:10:33', '+0000', '(GMT)', 'Message-ID:', '<200801042308.m04N8v6O008125@nakamura.uits.iupui.edu>', 'Mime-Version:', '1.0', 'Content-Transfer-Encoding:', '7bit', 'Received:', 'from', 'prod.collab.uhi.ac.uk', '([194.35.219.182])', 'by', 'paploo.uhi.ac.uk', '(JAMES', 'SMTP', 'Server', '2.1.3)', 'with', 'SMTP', 'ID', '710', 'for', '<source@collab.sakaiproject.org>;', 'Fri,', '4', 'Jan', '2008', '23:10:10', '+0000', '(GMT)', 'Received:', 'from', 'nakamura.uits.iupui.edu', '(nakamura.uits.iupui.edu', '[134.68.220.122])', 'by', 'shmi.uhi.ac.uk', '(Postfix)', 'with', 'ESMTP', 'id', '4BA2F42F57', 'for', '<source@collab.sakaiproject.org>;', 'Fri,', '4', 'Jan', '2008', '23:10:10', '+0000', '(GMT)', 'Received:', 'from', 'nakamura.uits.iupui.edu', '(localhost', '[127.0.0.1])', 'by', 'nakamura.uits.iupui.edu', '(8.12.11.20060308/8.12.11)', 'with', 'ESMTP', 'id', 'm04N8vHG008127', 'for', '<source@collab.sakaiproject.org>;', 'Fri,', '4', 'Jan', '2008', '18:08:57', '-0500', 'Received:', '(from', 'apache@localhost)', 'by', 'nakamura.uits.iupui.edu', '(8.12.11.20060308/8.12.11/Submit)', 'id', 'm04N8v6O008125', 'for', 'source@collab.sakaiproject.org;', 'Fri,', '4', 'Jan', '2008', '18:08:57', '-0500', 'Date:', 'Fri,', '4', 'Jan', '2008', '18:08:57', '-0500', 'X-Authentication-Warning:', 'nakamura.uits.iupui.edu:', 'apache', 'set', 'sender', 'to', 'louis@media.berkeley.edu', 'using', '-f', 'To:', 'source@collab.sakaiproject.org', 'From:', 'louis@media.berkeley.edu', 'Subject:', '[sakai]', 'svn', 'commit:', 'r39771', '-', 'in', 'bspace/site-manage/sakai_2-4-x/site-manage-tool/tool/src:', 'bundle', 'java/org/sakaiproject/site/tool', 'X-Content-Type-Outer-Envelope:', 'text/plain;', 'charset=UTF-8', 'X-Content-Type-Message-Body:', 'text/plain;', 'charset=UTF-8', 'Content-Type:', 'text/plain;', 'charset=UTF-8', 'X-DSPAM-Result:', 'Innocent', 'X-DSPAM-Processed:', 'Fri', 'Jan', '4', '18:10:48', '2008', 'X-DSPAM-Confidence:', '0.6178', 'X-DSPAM-Probability:', '0.0000', 'Details:', 'http://source.sakaiproject.org/viewsvn/?view=rev&rev=39771', 'Author:', 'louis@media.berkeley.edu', 'Date:', '2008-01-04', '18:08:50', '-0500', '(Fri,', '04', 'Jan', '2008)', 'New', 'Revision:', '39771', 'Modified:', 'bspace/site-manage/sakai_2-4-x/site-manage-tool/tool/src/bundle/sitesetupgeneric.properties', 'bspace/site-manage/sakai_2-4-x/site-manage-tool/tool/src/java/org/sakaiproject/site/tool/SiteAction.java', 'Log:', 'BSP-1415', 'New', '(Guest)', 'user', 'Notification', '----------------------', 'This', 'automatic', 'notification', 'message', 'was', 'sent', 'by', 'Sakai', 'Collab', '(https://collab.sakaiproject.org/portal)', 'from', 'the', 'Source', 'site.', 'You', 'can', 'modify', 'how', 'you', 'receive', 'notifications', 'at', 'My', 'Workspace', '>', 'Preferences.', 'From', 'zqian@umich.edu', 'Fri', 'Jan', '4', '16:10:39', '2008', 'Return-Path:', '<postmaster@collab.sakaiproject.org>', 'Received:', 'from', 'murder', '(mail.umich.edu', '[141.211.14.25])', 'by', 'frankenstein.mail.umich.edu', '(Cyrus', 'v2.3.8)', 'with', 'LMTPA;', 'Fri,', '04', 'Jan', '2008', '16:10:39', '-0500', 'X-Sieve:', 'CMU', 'Sieve', '2.3', 'Received:', 'from', 'murder', '([unix', 'socket])', 'by', 'mail.umich.edu', '(Cyrus', 'v2.2.12)', 'with', 'LMTPA;', 'Fri,', '04', 'Jan', '2008', '16:10:39', '-0500', 'Received:', 'from', 'ghostbusters.mr.itd.umich.edu', '(ghostbusters.mr.itd.umich.edu', '[141.211.93.144])', 'by', 'panther.mail.umich.edu', '()', 'with', 'ESMTP', 'id', 'm04LAcZw014275;', 'Fri,', '4', 'Jan', '2008', '16:10:38', '-0500', 'Received:', 'FROM', 'paploo.uhi.ac.uk', '(app1.prod.collab.uhi.ac.uk', '[194.35.219.184])', 'BY', 'ghostbusters.mr.itd.umich.edu', 'ID', '477EA0C6.A0214.25480', ';', '4', 'Jan', '2008', '16:10:33', '-0500', 'Received:', 'from', 'paploo.uhi.ac.uk', '(localhost', '[127.0.0.1])', 'by', 'paploo.uhi.ac.uk', '(Postfix)', 'with', 'ESMTP', 'id', 'C48CDBB490;', 'Fri,', '4', 'Jan', '2008', '21:10:31', '+0000', '(GMT)', 'Message-ID:', '<200801042109.m04L92hb007923@nakamura.uits.iupui.edu>', 'Mime-Version:', '1.0', 'Content-Transfer-Encoding:', '7bit', 'Received:', 'from', 'prod.collab.uhi.ac.uk', '([194.35.219.182])', 'by', 'paploo.uhi.ac.uk', '(JAMES', 'SMTP', 'Server', '2.1.3)', 'with', 'SMTP', 'ID', '906', 'for', '<source@collab.sakaiproject.org>;', 'Fri,', '4', 'Jan', '2008', '21:10:18', '+0000', '(GMT)', 'Received:', 'from', 'nakamura.uits.iupui.edu', '(nakamura.uits.iupui.edu', '[134.68.220.122])', 'by', 'shmi.uhi.ac.uk', '(Postfix)', 'with', 'ESMTP', 'id', '7D13042F71', 'for', '<source@collab.sakaiproject.org>;', 'Fri,', '4', 'Jan', '2008', '21:10:14', '+0000', '(GMT)', 'Received:', 'from', 'nakamura.uits.iupui.edu', '(localhost', '[127.0.0.1])', 'by', 'nakamura.uits.iupui.edu', '(8.12.11.20060308/8.12.11)', 'with', 'ESMTP', 'id', 'm04L927E007925', 'for', '<source@collab.sakaiproject.org>;', 'Fri,', '4', 'Jan', '2008', '16:09:02', '-0500', 'Received:', '(from', 'apache@localhost)', 'by', 'nakamura.uits.iupui.edu', '(8.12.11.20060308/8.12.11/Submit)', 'id', 'm04L92hb007923', 'for', 'source@collab.sakaiproject.org;', 'Fri,', '4', 'Jan', '2008', '16:09:02', '-0500', 'Date:', 'Fri,', '4', 'Jan', '2008', '16:09:02', '-0500', 'X-Authentication-Warning:', 'nakamura.uits.iupui.edu:', 'apache', 'set', 'sender', 'to', 'zqian@umich.edu', 'using', '-f', 'To:', 'source@collab.sakaiproject.org', 'From:', 'zqian@umich.edu', 'Subject:', '[sakai]', 'svn', 'commit:', 'r39770', '-', 'site-manage/branches/sakai_2-5-x/site-manage-tool/tool/src/webapp/vm/sitesetup', 'X-Content-Type-Outer-Envelope:', 'text/plain;', 'charset=UTF-8', 'X-Content-Type-Message-Body:', 'text/plain;', 'charset=UTF-8', 'Content-Type:', 'text/plain;', 'charset=UTF-8', 'X-DSPAM-Result:', 'Innocent', 'X-DSPAM-Processed:', 'Fri', 'Jan', '4', '16:10:39', '2008', 'X-DSPAM-Confidence:', '0.6961', 'X-DSPAM-Probability:', '0.0000', 'Details:', 'http://source.sakaiproject.org/viewsvn/?view=rev&rev=39770', 'Author:', 'zqian@umich.edu', 'Date:', '2008-01-04', '16:09:01', '-0500', '(Fri,', '04', 'Jan', '2008)', 'New', 'Revision:', '39770', 'Modified:', 'site-manage/branches/sakai_2-5-x/site-manage-tool/tool/src/webapp/vm/sitesetup/chef_site-siteInfo-list.vm', 'Log:', 'merge', 'fix', 'to', 'SAK-9996', 'into', '2-5-x', 'branch:', 'svn', 'merge', '-r', '39687:39688', 'https://source.sakaiproject.org/svn/site-manage/trunk/', '----------------------', 'This', 'automatic', 'notification', 'message', 'was', 'sent', 'by', 'Sakai', 'Collab', '(https://collab.sakaiproject.org/portal)', 'from', 'the', 'Source', 'site.', 'You', 'can', 'modify', 'how', 'you', 'receive', 'notifications', 'at', 'My', 'Workspace', '>', 'Preferences.', 'From', 'rjlowe@iupui.edu', 'Fri', 'Jan', '4', '15:46:24', '2008', 'Return-Path:', '<postmaster@collab.sakaiproject.org>', 'Received:', 'from', 'murder', '(mail.umich.edu', '[141.211.14.25])', 'by', 'frankenstein.mail.umich.edu', '(Cyrus', 'v2.3.8)', 'with', 'LMTPA;', 'Fri,', '04', 'Jan', '2008', '15:46:24', '-0500', 'X-Sieve:', 'CMU', 'Sieve', '2.3', 'Received:', 'from', 'murder', '([unix', 'socket])', 'by', 'mail.umich.edu', '(Cyrus', 'v2.2.12)', 'with', 'LMTPA;', 'Fri,', '04', 'Jan', '2008', '15:46:24', '-0500', 'Received:', 'from', 'dreamcatcher.mr.itd.umich.edu', '(dreamcatcher.mr.itd.umich.edu', '[141.211.14.43])', 'by', 'panther.mail.umich.edu', '()', 'with', 'ESMTP', 'id', 'm04KkNbx032077;', 'Fri,', '4', 'Jan', '2008', '15:46:23', '-0500', 'Received:', 'FROM', 'paploo.uhi.ac.uk', '(app1.prod.collab.uhi.ac.uk', '[194.35.219.184])', 'BY', 'dreamcatcher.mr.itd.umich.edu', 'ID', '477E9B13.2F3BC.22965', ';', '4', 'Jan', '2008', '15:46:13', '-0500', 'Received:', 'from', 'paploo.uhi.ac.uk', '(localhost', '[127.0.0.1])', 'by', 'paploo.uhi.ac.uk', '(Postfix)', 'with', 'ESMTP', 'id', '4AE03BB552;', 'Fri,', '4', 'Jan', '2008', '20:46:13', '+0000', '(GMT)', 'Message-ID:', '<200801042044.m04Kiem3007881@nakamura.uits.iupui.edu>', 'Mime-Version:', '1.0', 'Content-Transfer-Encoding:', '7bit', 'Received:', 'from', 'prod.collab.uhi.ac.uk', '([194.35.219.182])', 'by', 'paploo.uhi.ac.uk', '(JAMES', 'SMTP', 'Server', '2.1.3)', 'with', 'SMTP', 'ID', '38', 'for', '<source@collab.sakaiproject.org>;', 'Fri,', '4', 'Jan', '2008', '20:45:56', '+0000', '(GMT)', 'Received:', 'from', 'nakamura.uits.iupui.edu', '(nakamura.uits.iupui.edu', '[134.68.220.122])', 'by', 'shmi.uhi.ac.uk', '(Postfix)', 'with', 'ESMTP', 'id', 'A55D242F57', 'for', '<source@collab.sakaiproject.org>;', 'Fri,', '4', 'Jan', '2008', '20:45:52', '+0000', '(GMT)', 'Received:', 'from', 'nakamura.uits.iupui.edu', '(localhost', '[127.0.0.1])', 'by', 'nakamura.uits.iupui.edu', '(8.12.11.20060308/8.12.11)', 'with', 'ESMTP', 'id', 'm04KieqE007883', 'for', '<source@collab.sakaiproject.org>;', 'Fri,', '4', 'Jan', '2008', '15:44:40', '-0500', 'Received:', '(from', 'apache@localhost)', 'by', 'nakamura.uits.iupui.edu', '(8.12.11.20060308/8.12.11/Submit)', 'id', 'm04Kiem3007881', 'for', 'source@collab.sakaiproject.org;', 'Fri,', '4', 'Jan', '2008', '15:44:40', '-0500', 'Date:', 'Fri,', '4', 'Jan', '2008', '15:44:40', '-0500', 'X-Authentication-Warning:', 'nakamura.uits.iupui.edu:', 'apache', 'set', 'sender', 'to', 'rjlowe@iupui.edu', 'using', '-f', 'To:', 'source@collab.sakaiproject.org', 'From:', 'rjlowe@iupui.edu', 'Subject:', '[sakai]', 'svn', 'commit:', 'r39769', '-', 'in', 'gradebook/trunk/app/ui/src:', 'java/org/sakaiproject/tool/gradebook/ui/helpers/beans', 'java/org/sakaiproject/tool/gradebook/ui/helpers/producers', 'webapp/WEB-INF', 'webapp/WEB-INF/bundle', 'X-Content-Type-Outer-Envelope:', 'text/plain;', 'charset=UTF-8', 'X-Content-Type-Message-Body:', 'text/plain;', 'charset=UTF-8', 'Content-Type:', 'text/plain;', 'charset=UTF-8', 'X-DSPAM-Result:', 'Innocent', 'X-DSPAM-Processed:', 'Fri', 'Jan', '4', '15:46:24', '2008', 'X-DSPAM-Confidence:', '0.7565', 'X-DSPAM-Probability:', '0.0000', 'Details:', 'http://source.sakaiproject.org/viewsvn/?view=rev&rev=39769', 'Author:', 'rjlowe@iupui.edu', 'Date:', '2008-01-04', '15:44:39', '-0500', '(Fri,', '04', 'Jan', '2008)', 'New', 'Revision:', '39769', 'Modified:', 'gradebook/trunk/app/ui/src/java/org/sakaiproject/tool/gradebook/ui/helpers/beans/AssignmentGradeRecordBean.java', 'gradebook/trunk/app/ui/src/java/org/sakaiproject/tool/gradebook/ui/helpers/producers/GradeGradebookItemProducer.java', 'gradebook/trunk/app/ui/src/webapp/WEB-INF/applicationContext.xml', 'gradebook/trunk/app/ui/src/webapp/WEB-INF/bundle/messages.properties', 'gradebook/trunk/app/ui/src/webapp/WEB-INF/requestContext.xml', 'Log:', 'SAK-12180', '-', 'Fixed', 'errors', 'with', 'grading', 'helper', '----------------------', 'This', 'automatic', 'notification', 'message', 'was', 'sent', 'by', 'Sakai', 'Collab', '(https://collab.sakaiproject.org/portal)', 'from', 'the', 'Source', 'site.', 'You', 'can', 'modify', 'how', 'you', 'receive', 'notifications', 'at', 'My', 'Workspace', '>', 'Preferences.', 'From', 'zqian@umich.edu', 'Fri', 'Jan', '4', '15:03:18', '2008', 'Return-Path:', '<postmaster@collab.sakaiproject.org>', 'Received:', 'from', 'murder', '(mail.umich.edu', '[141.211.14.46])', 'by', 'frankenstein.mail.umich.edu', '(Cyrus', 'v2.3.8)', 'with', 'LMTPA;', 'Fri,', '04', 'Jan', '2008', '15:03:18', '-0500', 'X-Sieve:', 'CMU', 'Sieve', '2.3', 'Received:', 'from', 'murder', '([unix', 'socket])', 'by', 'mail.umich.edu', '(Cyrus', 'v2.2.12)', 'with', 'LMTPA;', 'Fri,', '04', 'Jan', '2008', '15:03:18', '-0500', 'Received:', 'from', 'firestarter.mr.itd.umich.edu', '(firestarter.mr.itd.umich.edu', '[141.211.14.83])', 'by', 'fan.mail.umich.edu', '()', 'with', 'ESMTP', 'id', 'm04K3HGF006563;', 'Fri,', '4', 'Jan', '2008', '15:03:17', '-0500', 'Received:', 'FROM', 'paploo.uhi.ac.uk', '(app1.prod.collab.uhi.ac.uk', '[194.35.219.184])', 'BY', 'firestarter.mr.itd.umich.edu', 'ID', '477E9100.8F7F4.1590', ';', '4', 'Jan', '2008', '15:03:15', '-0500', 'Received:', 'from', 'paploo.uhi.ac.uk', '(localhost', '[127.0.0.1])', 'by', 'paploo.uhi.ac.uk', '(Postfix)', 'with', 'ESMTP', 'id', '57770BB477;', 'Fri,', '4', 'Jan', '2008', '20:03:09', '+0000', '(GMT)', 'Message-ID:', '<200801042001.m04K1cO0007738@nakamura.uits.iupui.edu>', 'Mime-Version:', '1.0', 'Content-Transfer-Encoding:', '7bit', 'Received:', 'from', 'prod.collab.uhi.ac.uk', '([194.35.219.182])', 'by', 'paploo.uhi.ac.uk', '(JAMES', 'SMTP', 'Server', '2.1.3)', 'with', 'SMTP', 'ID', '622', 'for', '<source@collab.sakaiproject.org>;', 'Fri,', '4', 'Jan', '2008', '20:02:46', '+0000', '(GMT)', 'Received:', 'from', 'nakamura.uits.iupui.edu', '(nakamura.uits.iupui.edu', '[134.68.220.122])', 'by', 'shmi.uhi.ac.uk', '(Postfix)', 'with', 'ESMTP', 'id', 'AB4D042F4D', 'for', '<source@collab.sakaiproject.org>;', 'Fri,', '4', 'Jan', '2008', '20:02:50', '+0000', '(GMT)', 'Received:', 'from', 'nakamura.uits.iupui.edu', '(localhost', '[127.0.0.1])', 'by', 'nakamura.uits.iupui.edu', '(8.12.11.20060308/8.12.11)', 'with', 'ESMTP', 'id', 'm04K1cXv007740', 'for', '<source@collab.sakaiproject.org>;', 'Fri,', '4', 'Jan', '2008', '15:01:38', '-0500', 'Received:', '(from', 'apache@localhost)', 'by', 'nakamura.uits.iupui.edu', '(8.12.11.20060308/8.12.11/Submit)', 'id', 'm04K1cO0007738', 'for', 'source@collab.sakaiproject.org;', 'Fri,', '4', 'Jan', '2008', '15:01:38', '-0500', 'Date:', 'Fri,', '4', 'Jan', '2008', '15:01:38', '-0500', 'X-Authentication-Warning:', 'nakamura.uits.iupui.edu:', 'apache', 'set', 'sender', 'to', 'zqian@umich.edu', 'using', '-f', 'To:', 'source@collab.sakaiproject.org', 'From:', 'zqian@umich.edu', 'Subject:', '[sakai]', 'svn', 'commit:', 'r39766', '-', 'site-manage/branches/sakai_2-4-x/site-manage-tool/tool/src/java/org/sakaiproject/site/tool', 'X-Content-Type-Outer-Envelope:', 'text/plain;', 'charset=UTF-8', 'X-Content-Type-Message-Body:', 'text/plain;', 'charset=UTF-8', 'Content-Type:', 'text/plain;', 'charset=UTF-8', 'X-DSPAM-Result:', 'Innocent', 'X-DSPAM-Processed:', 'Fri', 'Jan', '4', '15:03:18', '2008', 'X-DSPAM-Confidence:', '0.7626', 'X-DSPAM-Probability:', '0.0000', 'Details:', 'http://source.sakaiproject.org/viewsvn/?view=rev&rev=39766', 'Author:', 'zqian@umich.edu', 'Date:', '2008-01-04', '15:01:37', '-0500', '(Fri,', '04', 'Jan', '2008)', 'New', 'Revision:', '39766', 'Modified:', 'site-manage/branches/sakai_2-4-x/site-manage-tool/tool/src/java/org/sakaiproject/site/tool/SiteAction.java', 'Log:', 'merge', 'fix', 'to', 'SAK-10788', 'into', 'site-manage', '2.4.x', 'branch:', 'Sakai', 'Source', 'Repository', '#38024', 'Wed', 'Nov', '07', '14:54:46', 'MST', '2007', 'zqian@umich.edu', 'Fix', 'to', 'SAK-10788:', 'If', 'a', 'provided', 'id', 'in', 'a', 'couse', 'site', 'is', 'fake', 'or', \"doesn't\", 'provide', 'any', 'user', 'information,', 'Site', 'Info', 'appears', 'to', 'be', 'like', 'project', 'site', 'with', 'empty', 'participant', 'list', 'Watch', 'for', 'enrollments', 'object', 'being', 'null', 'and', 'concatenate', 'provider', 'ids', 'when', 'there', 'are', 'more', 'than', 'one.', 'Files', 'Changed', 'MODIFY', '/site-manage/trunk/site-manage-tool/tool/src/java/org/sakaiproject/site/tool/SiteAction.java', '----------------------', 'This', 'automatic', 'notification', 'message', 'was', 'sent', 'by', 'Sakai', 'Collab', '(https://collab.sakaiproject.org/portal)', 'from', 'the', 'Source', 'site.', 'You', 'can', 'modify', 'how', 'you', 'receive', 'notifications', 'at', 'My', 'Workspace', '>', 'Preferences.', 'From', 'rjlowe@iupui.edu', 'Fri', 'Jan', '4', '14:50:18', '2008', 'Return-Path:', '<postmaster@collab.sakaiproject.org>', 'Received:', 'from', 'murder', '(mail.umich.edu', '[141.211.14.93])', 'by', 'frankenstein.mail.umich.edu', '(Cyrus', 'v2.3.8)', 'with', 'LMTPA;', 'Fri,', '04', 'Jan', '2008', '14:50:18', '-0500', 'X-Sieve:', 'CMU', 'Sieve', '2.3', 'Received:', 'from', 'murder', '([unix', 'socket])', 'by', 'mail.umich.edu', '(Cyrus', 'v2.2.12)', 'with', 'LMTPA;', 'Fri,', '04', 'Jan', '2008', '14:50:18', '-0500', 'Received:', 'from', 'eyewitness.mr.itd.umich.edu', '(eyewitness.mr.itd.umich.edu', '[141.211.93.142])', 'by', 'mission.mail.umich.edu', '()', 'with', 'ESMTP', 'id', 'm04JoHJi019755;', 'Fri,', '4', 'Jan', '2008', '14:50:17', '-0500', 'Received:', 'FROM', 'paploo.uhi.ac.uk', '(app1.prod.collab.uhi.ac.uk', '[194.35.219.184])', 'BY', 'eyewitness.mr.itd.umich.edu', 'ID', '477E8DF2.67B91.5278', ';', '4', 'Jan', '2008', '14:50:13', '-0500', 'Received:', 'from', 'paploo.uhi.ac.uk', '(localhost', '[127.0.0.1])', 'by', 'paploo.uhi.ac.uk', '(Postfix)', 'with', 'ESMTP', 'id', '2D1B9BB492;', 'Fri,', '4', 'Jan', '2008', '19:47:10', '+0000', '(GMT)', 'Message-ID:', '<200801041948.m04JmdwO007705@nakamura.uits.iupui.edu>', 'Mime-Version:', '1.0', 'Content-Transfer-Encoding:', '7bit', 'Received:', 'from', 'prod.collab.uhi.ac.uk', '([194.35.219.182])', 'by', 'paploo.uhi.ac.uk', '(JAMES', 'SMTP', 'Server', '2.1.3)', 'with', 'SMTP', 'ID', '960', 'for', '<source@collab.sakaiproject.org>;', 'Fri,', '4', 'Jan', '2008', '19:46:50', '+0000', '(GMT)', 'Received:', 'from', 'nakamura.uits.iupui.edu', '(nakamura.uits.iupui.edu', '[134.68.220.122])', 'by', 'shmi.uhi.ac.uk', '(Postfix)', 'with', 'ESMTP', 'id', 'B3E6742F4A', 'for', '<source@collab.sakaiproject.org>;', 'Fri,', '4', 'Jan', '2008', '19:49:51', '+0000', '(GMT)', 'Received:', 'from', 'nakamura.uits.iupui.edu', '(localhost', '[127.0.0.1])', 'by', 'nakamura.uits.iupui.edu', '(8.12.11.20060308/8.12.11)', 'with', 'ESMTP', 'id', 'm04JmeV9007707', 'for', '<source@collab.sakaiproject.org>;', 'Fri,', '4', 'Jan', '2008', '14:48:40', '-0500', 'Received:', '(from', 'apache@localhost)', 'by', 'nakamura.uits.iupui.edu', '(8.12.11.20060308/8.12.11/Submit)', 'id', 'm04JmdwO007705', 'for', 'source@collab.sakaiproject.org;', 'Fri,', '4', 'Jan', '2008', '14:48:39', '-0500', 'Date:', 'Fri,', '4', 'Jan', '2008', '14:48:39', '-0500', 'X-Authentication-Warning:', 'nakamura.uits.iupui.edu:', 'apache', 'set', 'sender', 'to', 'rjlowe@iupui.edu', 'using', '-f', 'To:', 'source@collab.sakaiproject.org', 'From:', 'rjlowe@iupui.edu', 'Subject:', '[sakai]', 'svn', 'commit:', 'r39765', '-', 'in', 'gradebook/trunk/app:', 'business/src/java/org/sakaiproject/tool/gradebook/business', 'business/src/java/org/sakaiproject/tool/gradebook/business/impl', 'ui', 'ui/src/java/org/sakaiproject/tool/gradebook/ui/helpers/beans', 'ui/src/java/org/sakaiproject/tool/gradebook/ui/helpers/entity', 'ui/src/java/org/sakaiproject/tool/gradebook/ui/helpers/params', 'ui/src/java/org/sakaiproject/tool/gradebook/ui/helpers/producers', 'ui/src/webapp/WEB-INF', 'ui/src/webapp/WEB-INF/bundle', 'ui/src/webapp/content/templates', 'X-Content-Type-Outer-Envelope:', 'text/plain;', 'charset=UTF-8', 'X-Content-Type-Message-Body:', 'text/plain;', 'charset=UTF-8', 'Content-Type:', 'text/plain;', 'charset=UTF-8', 'X-DSPAM-Result:', 'Innocent', 'X-DSPAM-Processed:', 'Fri', 'Jan', '4', '14:50:18', '2008', 'X-DSPAM-Confidence:', '0.7556', 'X-DSPAM-Probability:', '0.0000', 'Details:', 'http://source.sakaiproject.org/viewsvn/?view=rev&rev=39765', 'Author:', 'rjlowe@iupui.edu', 'Date:', '2008-01-04', '14:48:37', '-0500', '(Fri,', '04', 'Jan', '2008)', 'New', 'Revision:', '39765', 'Added:', 'gradebook/trunk/app/ui/src/java/org/sakaiproject/tool/gradebook/ui/helpers/beans/AssignmentGradeRecordBean.java', 'gradebook/trunk/app/ui/src/java/org/sakaiproject/tool/gradebook/ui/helpers/beans/AssignmentGradeRecordCreator.java', 'gradebook/trunk/app/ui/src/java/org/sakaiproject/tool/gradebook/ui/helpers/entity/GradebookEntryGradeEntityProvider.java', 'gradebook/trunk/app/ui/src/java/org/sakaiproject/tool/gradebook/ui/helpers/params/GradeGradebookItemViewParams.java', 'gradebook/trunk/app/ui/src/java/org/sakaiproject/tool/gradebook/ui/helpers/producers/GradeGradebookItemProducer.java', 'gradebook/trunk/app/ui/src/webapp/content/templates/grade-gradebook-item.html', 'Modified:', 'gradebook/trunk/app/business/src/java/org/sakaiproject/tool/gradebook/business/GradebookManager.java', 'gradebook/trunk/app/business/src/java/org/sakaiproject/tool/gradebook/business/impl/GradebookManagerHibernateImpl.java', 'gradebook/trunk/app/ui/pom.xml', 'gradebook/trunk/app/ui/src/java/org/sakaiproject/tool/gradebook/ui/helpers/beans/GradebookItemBean.java', 'gradebook/trunk/app/ui/src/java/org/sakaiproject/tool/gradebook/ui/helpers/entity/GradebookEntryEntityProvider.java', 'gradebook/trunk/app/ui/src/java/org/sakaiproject/tool/gradebook/ui/helpers/producers/AddGradebookItemProducer.java', 'gradebook/trunk/app/ui/src/webapp/WEB-INF/applicationContext.xml', 'gradebook/trunk/app/ui/src/webapp/WEB-INF/bundle/messages.properties', 'gradebook/trunk/app/ui/src/webapp/WEB-INF/requestContext.xml', 'Log:', 'SAK-12180', '-', 'New', 'helper', 'tool', 'to', 'grade', 'an', 'assignment', '----------------------', 'This', 'automatic', 'notification', 'message', 'was', 'sent', 'by', 'Sakai', 'Collab', '(https://collab.sakaiproject.org/portal)', 'from', 'the', 'Source', 'site.', 'You', 'can', 'modify', 'how', 'you', 'receive', 'notifications', 'at', 'My', 'Workspace', '>', 'Preferences.', 'From', 'cwen@iupui.edu', 'Fri', 'Jan', '4', '11:37:30', '2008', 'Return-Path:', '<postmaster@collab.sakaiproject.org>', 'Received:', 'from', 'murder', '(mail.umich.edu', '[141.211.14.46])', 'by', 'frankenstein.mail.umich.edu', '(Cyrus', 'v2.3.8)', 'with', 'LMTPA;', 'Fri,', '04', 'Jan', '2008', '11:37:30', '-0500', 'X-Sieve:', 'CMU', 'Sieve', '2.3', 'Received:', 'from', 'murder', '([unix', 'socket])', 'by', 'mail.umich.edu', '(Cyrus', 'v2.2.12)', 'with', 'LMTPA;', 'Fri,', '04', 'Jan', '2008', '11:37:30', '-0500', 'Received:', 'from', 'tadpole.mr.itd.umich.edu', '(tadpole.mr.itd.umich.edu', '[141.211.14.72])', 'by', 'fan.mail.umich.edu', '()', 'with', 'ESMTP', 'id', 'm04GbT9x022078;', 'Fri,', '4', 'Jan', '2008', '11:37:29', '-0500', 'Received:', 'FROM', 'paploo.uhi.ac.uk', '(app1.prod.collab.uhi.ac.uk', '[194.35.219.184])', 'BY', 'tadpole.mr.itd.umich.edu', 'ID', '477E60B2.82756.9904', ';', '4', 'Jan', '2008', '11:37:09', '-0500', 'Received:', 'from', 'paploo.uhi.ac.uk', '(localhost', '[127.0.0.1])', 'by', 'paploo.uhi.ac.uk', '(Postfix)', 'with', 'ESMTP', 'id', '8D13DBB001;', 'Fri,', '4', 'Jan', '2008', '16:37:07', '+0000', '(GMT)', 'Message-ID:', '<200801041635.m04GZQGZ007313@nakamura.uits.iupui.edu>', 'Mime-Version:', '1.0', 'Content-Transfer-Encoding:', '7bit', 'Received:', 'from', 'prod.collab.uhi.ac.uk', '([194.35.219.182])', 'by', 'paploo.uhi.ac.uk', '(JAMES', 'SMTP', 'Server', '2.1.3)', 'with', 'SMTP', 'ID', '120', 'for', '<source@collab.sakaiproject.org>;', 'Fri,', '4', 'Jan', '2008', '16:36:40', '+0000', '(GMT)', 'Received:', 'from', 'nakamura.uits.iupui.edu', '(nakamura.uits.iupui.edu', '[134.68.220.122])', 'by', 'shmi.uhi.ac.uk', '(Postfix)', 'with', 'ESMTP', 'id', 'D430B42E42', 'for', '<source@collab.sakaiproject.org>;', 'Fri,', '4', 'Jan', '2008', '16:36:37', '+0000', '(GMT)', 'Received:', 'from', 'nakamura.uits.iupui.edu', '(localhost', '[127.0.0.1])', 'by', 'nakamura.uits.iupui.edu', '(8.12.11.20060308/8.12.11)', 'with', 'ESMTP', 'id', 'm04GZQ7W007315', 'for', '<source@collab.sakaiproject.org>;', 'Fri,', '4', 'Jan', '2008', '11:35:26', '-0500', 'Received:', '(from', 'apache@localhost)', 'by', 'nakamura.uits.iupui.edu', '(8.12.11.20060308/8.12.11/Submit)', 'id', 'm04GZQGZ007313', 'for', 'source@collab.sakaiproject.org;', 'Fri,', '4', 'Jan', '2008', '11:35:26', '-0500', 'Date:', 'Fri,', '4', 'Jan', '2008', '11:35:26', '-0500', 'X-Authentication-Warning:', 'nakamura.uits.iupui.edu:', 'apache', 'set', 'sender', 'to', 'cwen@iupui.edu', 'using', '-f', 'To:', 'source@collab.sakaiproject.org', 'From:', 'cwen@iupui.edu', 'Subject:', '[sakai]', 'svn', 'commit:', 'r39764', '-', 'in', 'msgcntr/trunk/messageforums-app/src/java/org/sakaiproject/tool/messageforums:', '.', 'ui', 'X-Content-Type-Outer-Envelope:', 'text/plain;', 'charset=UTF-8', 'X-Content-Type-Message-Body:', 'text/plain;', 'charset=UTF-8', 'Content-Type:', 'text/plain;', 'charset=UTF-8', 'X-DSPAM-Result:', 'Innocent', 'X-DSPAM-Processed:', 'Fri', 'Jan', '4', '11:37:30', '2008', 'X-DSPAM-Confidence:', '0.7002', 'X-DSPAM-Probability:', '0.0000', 'Details:', 'http://source.sakaiproject.org/viewsvn/?view=rev&rev=39764', 'Author:', 'cwen@iupui.edu', 'Date:', '2008-01-04', '11:35:25', '-0500', '(Fri,', '04', 'Jan', '2008)', 'New', 'Revision:', '39764', 'Modified:', 'msgcntr/trunk/messageforums-app/src/java/org/sakaiproject/tool/messageforums/PrivateMessagesTool.java', 'msgcntr/trunk/messageforums-app/src/java/org/sakaiproject/tool/messageforums/ui/PrivateMessageDecoratedBean.java', 'Log:', 'unmerge', \"Xingtang's\", 'checkin', 'for', 'SAK-12488.', 'svn', 'merge', '-r39558:39557', 'https://source.sakaiproject.org/svn/msgcntr/trunk', 'U', 'messageforums-app/src/java/org/sakaiproject/tool/messageforums/PrivateMessagesTool.java', 'U', 'messageforums-app/src/java/org/sakaiproject/tool/messageforums/ui/PrivateMessageDecoratedBean.java', 'svn', 'log', '-r', '39558', '------------------------------------------------------------------------', 'r39558', '|', 'hu2@iupui.edu', '|', '2007-12-20', '15:25:38', '-0500', '(Thu,', '20', 'Dec', '2007)', '|', '3', 'lines', 'SAK-12488', 'when', 'send', 'a', 'message', 'to', 'yourself.', 'click', 'reply', 'to', 'all,', 'cc', 'row', 'should', 'be', 'null.', 'http://jira.sakaiproject.org/jira/browse/SAK-12488', '------------------------------------------------------------------------', '----------------------', 'This', 'automatic', 'notification', 'message', 'was', 'sent', 'by', 'Sakai', 'Collab', '(https://collab.sakaiproject.org/portal)', 'from', 'the', 'Source', 'site.', 'You', 'can', 'modify', 'how', 'you', 'receive', 'notifications', 'at', 'My', 'Workspace', '>', 'Preferences.', 'From', 'cwen@iupui.edu', 'Fri', 'Jan', '4', '11:35:08', '2008', 'Return-Path:', '<postmaster@collab.sakaiproject.org>', 'Received:', 'from', 'murder', '(mail.umich.edu', '[141.211.14.46])', 'by', 'frankenstein.mail.umich.edu', '(Cyrus', 'v2.3.8)', 'with', 'LMTPA;', 'Fri,', '04', 'Jan', '2008', '11:35:08', '-0500', 'X-Sieve:', 'CMU', 'Sieve', '2.3', 'Received:', 'from', 'murder', '([unix', 'socket])', 'by', 'mail.umich.edu', '(Cyrus', 'v2.2.12)', 'with', 'LMTPA;', 'Fri,', '04', 'Jan', '2008', '11:35:08', '-0500', 'Received:', 'from', 'it.mr.itd.umich.edu', '(it.mr.itd.umich.edu', '[141.211.93.151])', 'by', 'fan.mail.umich.edu', '()', 'with', 'ESMTP', 'id', 'm04GZ6lt020480;', 'Fri,', '4', 'Jan', '2008', '11:35:06', '-0500', 'Received:', 'FROM', 'paploo.uhi.ac.uk', '(app1.prod.collab.uhi.ac.uk', '[194.35.219.184])', 'BY', 'it.mr.itd.umich.edu', 'ID', '477E6033.6469D.21870', ';', '4', 'Jan', '2008', '11:35:02', '-0500', 'Received:', 'from', 'paploo.uhi.ac.uk', '(localhost', '[127.0.0.1])', 'by', 'paploo.uhi.ac.uk', '(Postfix)', 'with', 'ESMTP', 'id', 'E40FABAE5B;', 'Fri,', '4', 'Jan', '2008', '16:34:38', '+0000', '(GMT)', 'Message-ID:', '<200801041633.m04GX6eG007292@nakamura.uits.iupui.edu>', 'Mime-Version:', '1.0', 'Content-Transfer-Encoding:', '7bit', 'Received:', 'from', 'prod.collab.uhi.ac.uk', '([194.35.219.182])', 'by', 'paploo.uhi.ac.uk', '(JAMES', 'SMTP', 'Server', '2.1.3)', 'with', 'SMTP', 'ID', '697', 'for', '<source@collab.sakaiproject.org>;', 'Fri,', '4', 'Jan', '2008', '16:34:01', '+0000', '(GMT)', 'Received:', 'from', 'nakamura.uits.iupui.edu', '(nakamura.uits.iupui.edu', '[134.68.220.122])', 'by', 'shmi.uhi.ac.uk', '(Postfix)', 'with', 'ESMTP', 'id', '1CD0C42E42', 'for', '<source@collab.sakaiproject.org>;', 'Fri,', '4', 'Jan', '2008', '16:34:17', '+0000', '(GMT)', 'Received:', 'from', 'nakamura.uits.iupui.edu', '(localhost', '[127.0.0.1])', 'by', 'nakamura.uits.iupui.edu', '(8.12.11.20060308/8.12.11)', 'with', 'ESMTP', 'id', 'm04GX6Y3007294', 'for', '<source@collab.sakaiproject.org>;', 'Fri,', '4', 'Jan', '2008', '11:33:06', '-0500', 'Received:', '(from', 'apache@localhost)', 'by', 'nakamura.uits.iupui.edu', '(8.12.11.20060308/8.12.11/Submit)', 'id', 'm04GX6eG007292', 'for', 'source@collab.sakaiproject.org;', 'Fri,', '4', 'Jan', '2008', '11:33:06', '-0500', 'Date:', 'Fri,', '4', 'Jan', '2008', '11:33:06', '-0500', 'X-Authentication-Warning:', 'nakamura.uits.iupui.edu:', 'apache', 'set', 'sender', 'to', 'cwen@iupui.edu', 'using', '-f', 'To:', 'source@collab.sakaiproject.org', 'From:', 'cwen@iupui.edu', 'Subject:', '[sakai]', 'svn', 'commit:', 'r39763', '-', 'in', 'msgcntr/trunk:', 'messageforums-api/src/bundle/org/sakaiproject/api/app/messagecenter/bundle', 'messageforums-app/src/java/org/sakaiproject/tool/messageforums', 'X-Content-Type-Outer-Envelope:', 'text/plain;', 'charset=UTF-8', 'X-Content-Type-Message-Body:', 'text/plain;', 'charset=UTF-8', 'Content-Type:', 'text/plain;', 'charset=UTF-8', 'X-DSPAM-Result:', 'Innocent', 'X-DSPAM-Processed:', 'Fri', 'Jan', '4', '11:35:08', '2008', 'X-DSPAM-Confidence:', '0.7615', 'X-DSPAM-Probability:', '0.0000', 'Details:', 'http://source.sakaiproject.org/viewsvn/?view=rev&rev=39763', 'Author:', 'cwen@iupui.edu', 'Date:', '2008-01-04', '11:33:05', '-0500', '(Fri,', '04', 'Jan', '2008)', 'New', 'Revision:', '39763', 'Modified:', 'msgcntr/trunk/messageforums-api/src/bundle/org/sakaiproject/api/app/messagecenter/bundle/Messages.properties', 'msgcntr/trunk/messageforums-app/src/java/org/sakaiproject/tool/messageforums/PrivateMessagesTool.java', 'Log:', 'unmerge', \"Xingtang's\", 'check', 'in', 'for', 'SAK-12484.', 'svn', 'merge', '-r39571:39570', 'https://source.sakaiproject.org/svn/msgcntr/trunk', 'U', 'messageforums-api/src/bundle/org/sakaiproject/api/app/messagecenter/bundle/Messages.properties', 'U', 'messageforums-app/src/java/org/sakaiproject/tool/messageforums/PrivateMessagesTool.java', 'svn', 'log', '-r', '39571', '------------------------------------------------------------------------', 'r39571', '|', 'hu2@iupui.edu', '|', '2007-12-20', '21:26:28', '-0500', '(Thu,', '20', 'Dec', '2007)', '|', '3', 'lines', 'SAK-12484', 'reply', 'all', 'cc', 'list', 'should', 'not', 'include', 'the', 'current', 'user', 'name.', 'http://jira.sakaiproject.org/jira/browse/SAK-12484', '------------------------------------------------------------------------', '----------------------', 'This', 'automatic', 'notification', 'message', 'was', 'sent', 'by', 'Sakai', 'Collab', '(https://collab.sakaiproject.org/portal)', 'from', 'the', 'Source', 'site.', 'You', 'can', 'modify', 'how', 'you', 'receive', 'notifications', 'at', 'My', 'Workspace', '>', 'Preferences.', 'From', 'gsilver@umich.edu', 'Fri', 'Jan', '4', '11:12:37', '2008', 'Return-Path:', '<postmaster@collab.sakaiproject.org>', 'Received:', 'from', 'murder', '(mail.umich.edu', '[141.211.14.25])', 'by', 'frankenstein.mail.umich.edu', '(Cyrus', 'v2.3.8)', 'with', 'LMTPA;', 'Fri,', '04', 'Jan', '2008', '11:12:37', '-0500', 'X-Sieve:', 'CMU', 'Sieve', '2.3', 'Received:', 'from', 'murder', '([unix', 'socket])', 'by', 'mail.umich.edu', '(Cyrus', 'v2.2.12)', 'with', 'LMTPA;', 'Fri,', '04', 'Jan', '2008', '11:12:37', '-0500', 'Received:', 'from', 'holes.mr.itd.umich.edu', '(holes.mr.itd.umich.edu', '[141.211.14.79])', 'by', 'panther.mail.umich.edu', '()', 'with', 'ESMTP', 'id', 'm04GCaHB030887;', 'Fri,', '4', 'Jan', '2008', '11:12:36', '-0500', 'Received:', 'FROM', 'paploo.uhi.ac.uk', '(app1.prod.collab.uhi.ac.uk', '[194.35.219.184])', 'BY', 'holes.mr.itd.umich.edu', 'ID', '477E5AEB.E670B.28397', ';', '4', 'Jan', '2008', '11:12:30', '-0500', 'Received:', 'from', 'paploo.uhi.ac.uk', '(localhost', '[127.0.0.1])', 'by', 'paploo.uhi.ac.uk', '(Postfix)', 'with', 'ESMTP', 'id', '99715BAE7D;', 'Fri,', '4', 'Jan', '2008', '16:12:27', '+0000', '(GMT)', 'Message-ID:', '<200801041611.m04GB1Lb007221@nakamura.uits.iupui.edu>', 'Mime-Version:', '1.0', 'Content-Transfer-Encoding:', '7bit', 'Received:', 'from', 'prod.collab.uhi.ac.uk', '([194.35.219.182])', 'by', 'paploo.uhi.ac.uk', '(JAMES', 'SMTP', 'Server', '2.1.3)', 'with', 'SMTP', 'ID', '272', 'for', '<source@collab.sakaiproject.org>;', 'Fri,', '4', 'Jan', '2008', '16:12:14', '+0000', '(GMT)', 'Received:', 'from', 'nakamura.uits.iupui.edu', '(nakamura.uits.iupui.edu', '[134.68.220.122])', 'by', 'shmi.uhi.ac.uk', '(Postfix)', 'with', 'ESMTP', 'id', '0A6ED42DFC', 'for', '<source@collab.sakaiproject.org>;', 'Fri,', '4', 'Jan', '2008', '16:12:12', '+0000', '(GMT)', 'Received:', 'from', 'nakamura.uits.iupui.edu', '(localhost', '[127.0.0.1])', 'by', 'nakamura.uits.iupui.edu', '(8.12.11.20060308/8.12.11)', 'with', 'ESMTP', 'id', 'm04GB1Wt007223', 'for', '<source@collab.sakaiproject.org>;', 'Fri,', '4', 'Jan', '2008', '11:11:01', '-0500', 'Received:', '(from', 'apache@localhost)', 'by', 'nakamura.uits.iupui.edu', '(8.12.11.20060308/8.12.11/Submit)', 'id', 'm04GB1Lb007221', 'for', 'source@collab.sakaiproject.org;', 'Fri,', '4', 'Jan', '2008', '11:11:01', '-0500', 'Date:', 'Fri,', '4', 'Jan', '2008', '11:11:01', '-0500', 'X-Authentication-Warning:', 'nakamura.uits.iupui.edu:', 'apache', 'set', 'sender', 'to', 'gsilver@umich.edu', 'using', '-f', 'To:', 'source@collab.sakaiproject.org', 'From:', 'gsilver@umich.edu', 'Subject:', '[sakai]', 'svn', 'commit:', 'r39762', '-', 'web/trunk/web-tool/tool/src/bundle', 'X-Content-Type-Outer-Envelope:', 'text/plain;', 'charset=UTF-8', 'X-Content-Type-Message-Body:', 'text/plain;', 'charset=UTF-8', 'Content-Type:', 'text/plain;', 'charset=UTF-8', 'X-DSPAM-Result:', 'Innocent', 'X-DSPAM-Processed:', 'Fri', 'Jan', '4', '11:12:37', '2008', 'X-DSPAM-Confidence:', '0.7601', 'X-DSPAM-Probability:', '0.0000', 'Details:', 'http://source.sakaiproject.org/viewsvn/?view=rev&rev=39762', 'Author:', 'gsilver@umich.edu', 'Date:', '2008-01-04', '11:11:00', '-0500', '(Fri,', '04', 'Jan', '2008)', 'New', 'Revision:', '39762', 'Modified:', 'web/trunk/web-tool/tool/src/bundle/iframe.properties', 'Log:', 'SAK-12596', 'http://bugs.sakaiproject.org/jira/browse/SAK-12596', '-', 'left', 'moot', '(unused)', 'entries', 'commented', 'for', 'now', '----------------------', 'This', 'automatic', 'notification', 'message', 'was', 'sent', 'by', 'Sakai', 'Collab', '(https://collab.sakaiproject.org/portal)', 'from', 'the', 'Source', 'site.', 'You', 'can', 'modify', 'how', 'you', 'receive', 'notifications', 'at', 'My', 'Workspace', '>', 'Preferences.', 'From', 'gsilver@umich.edu', 'Fri', 'Jan', '4', '11:11:52', '2008', 'Return-Path:', '<postmaster@collab.sakaiproject.org>', 'Received:', 'from', 'murder', '(mail.umich.edu', '[141.211.14.36])', 'by', 'frankenstein.mail.umich.edu', '(Cyrus', 'v2.3.8)', 'with', 'LMTPA;', 'Fri,', '04', 'Jan', '2008', '11:11:52', '-0500', 'X-Sieve:', 'CMU', 'Sieve', '2.3', 'Received:', 'from', 'murder', '([unix', 'socket])', 'by', 'mail.umich.edu', '(Cyrus', 'v2.2.12)', 'with', 'LMTPA;', 'Fri,', '04', 'Jan', '2008', '11:11:52', '-0500', 'Received:', 'from', 'creepshow.mr.itd.umich.edu', '(creepshow.mr.itd.umich.edu', '[141.211.14.84])', 'by', 'godsend.mail.umich.edu', '()', 'with', 'ESMTP', 'id', 'm04GBqqv025330;', 'Fri,', '4', 'Jan', '2008', '11:11:52', '-0500', 'Received:', 'FROM', 'paploo.uhi.ac.uk', '(app1.prod.collab.uhi.ac.uk', '[194.35.219.184])', 'BY', 'creepshow.mr.itd.umich.edu', 'ID', '477E5AB3.5CC32.30840', ';', '4', 'Jan', '2008', '11:11:34', '-0500', 'Received:', 'from', 'paploo.uhi.ac.uk', '(localhost', '[127.0.0.1])', 'by', 'paploo.uhi.ac.uk', '(Postfix)', 'with', 'ESMTP', 'id', '62AA4BAE46;', 'Fri,', '4', 'Jan', '2008', '16:11:31', '+0000', '(GMT)', 'Message-ID:', '<200801041610.m04GA5KP007209@nakamura.uits.iupui.edu>', 'Mime-Version:', '1.0', 'Content-Transfer-Encoding:', '7bit', 'Received:', 'from', 'prod.collab.uhi.ac.uk', '([194.35.219.182])', 'by', 'paploo.uhi.ac.uk', '(JAMES', 'SMTP', 'Server', '2.1.3)', 'with', 'SMTP', 'ID', '1006', 'for', '<source@collab.sakaiproject.org>;', 'Fri,', '4', 'Jan', '2008', '16:11:18', '+0000', '(GMT)', 'Received:', 'from', 'nakamura.uits.iupui.edu', '(nakamura.uits.iupui.edu', '[134.68.220.122])', 'by', 'shmi.uhi.ac.uk', '(Postfix)', 'with', 'ESMTP', 'id', 'C596A3DFA2', 'for', '<source@collab.sakaiproject.org>;', 'Fri,', '4', 'Jan', '2008', '16:11:16', '+0000', '(GMT)', 'Received:', 'from', 'nakamura.uits.iupui.edu', '(localhost', '[127.0.0.1])', 'by', 'nakamura.uits.iupui.edu', '(8.12.11.20060308/8.12.11)', 'with', 'ESMTP', 'id', 'm04GA5LR007211', 'for', '<source@collab.sakaiproject.org>;', 'Fri,', '4', 'Jan', '2008', '11:10:05', '-0500', 'Received:', '(from', 'apache@localhost)', 'by', 'nakamura.uits.iupui.edu', '(8.12.11.20060308/8.12.11/Submit)', 'id', 'm04GA5KP007209', 'for', 'source@collab.sakaiproject.org;', 'Fri,', '4', 'Jan', '2008', '11:10:05', '-0500', 'Date:', 'Fri,', '4', 'Jan', '2008', '11:10:05', '-0500', 'X-Authentication-Warning:', 'nakamura.uits.iupui.edu:', 'apache', 'set', 'sender', 'to', 'gsilver@umich.edu', 'using', '-f', 'To:', 'source@collab.sakaiproject.org', 'From:', 'gsilver@umich.edu', 'Subject:', '[sakai]', 'svn', 'commit:', 'r39761', '-', 'site/trunk/site-tool/tool/src/bundle', 'X-Content-Type-Outer-Envelope:', 'text/plain;', 'charset=UTF-8', 'X-Content-Type-Message-Body:', 'text/plain;', 'charset=UTF-8', 'Content-Type:', 'text/plain;', 'charset=UTF-8', 'X-DSPAM-Result:', 'Innocent', 'X-DSPAM-Processed:', 'Fri', 'Jan', '4', '11:11:52', '2008', 'X-DSPAM-Confidence:', '0.7605', 'X-DSPAM-Probability:', '0.0000', 'Details:', 'http://source.sakaiproject.org/viewsvn/?view=rev&rev=39761', 'Author:', 'gsilver@umich.edu', 'Date:', '2008-01-04', '11:10:04', '-0500', '(Fri,', '04', 'Jan', '2008)', 'New', 'Revision:', '39761', 'Modified:', 'site/trunk/site-tool/tool/src/bundle/admin.properties', 'Log:', 'SAK-12595', 'http://bugs.sakaiproject.org/jira/browse/SAK-12595', '-', 'left', 'moot', '(unused)', 'entries', 'commented', 'for', 'now', '----------------------', 'This', 'automatic', 'notification', 'message', 'was', 'sent', 'by', 'Sakai', 'Collab', '(https://collab.sakaiproject.org/portal)', 'from', 'the', 'Source', 'site.', 'You', 'can', 'modify', 'how', 'you', 'receive', 'notifications', 'at', 'My', 'Workspace', '>', 'Preferences.', 'From', 'zqian@umich.edu', 'Fri', 'Jan', '4', '11:11:03', '2008', 'Return-Path:', '<postmaster@collab.sakaiproject.org>', 'Received:', 'from', 'murder', '(mail.umich.edu', '[141.211.14.97])', 'by', 'frankenstein.mail.umich.edu', '(Cyrus', 'v2.3.8)', 'with', 'LMTPA;', 'Fri,', '04', 'Jan', '2008', '11:11:03', '-0500', 'X-Sieve:', 'CMU', 'Sieve', '2.3', 'Received:', 'from', 'murder', '([unix', 'socket])', 'by', 'mail.umich.edu', '(Cyrus', 'v2.2.12)', 'with', 'LMTPA;', 'Fri,', '04', 'Jan', '2008', '11:11:03', '-0500', 'Received:', 'from', 'carrie.mr.itd.umich.edu', '(carrie.mr.itd.umich.edu', '[141.211.93.152])', 'by', 'sleepers.mail.umich.edu', '()', 'with', 'ESMTP', 'id', 'm04GB3Vg011502;', 'Fri,', '4', 'Jan', '2008', '11:11:03', '-0500', 'Received:', 'FROM', 'paploo.uhi.ac.uk', '(app1.prod.collab.uhi.ac.uk', '[194.35.219.184])', 'BY', 'carrie.mr.itd.umich.edu', 'ID', '477E5A8D.B378F.24200', ';', '4', 'Jan', '2008', '11:10:56', '-0500', 'Received:', 'from', 'paploo.uhi.ac.uk', '(localhost', '[127.0.0.1])', 'by', 'paploo.uhi.ac.uk', '(Postfix)', 'with', 'ESMTP', 'id', 'C7251BAD44;', 'Fri,', '4', 'Jan', '2008', '16:10:53', '+0000', '(GMT)', 'Message-ID:', '<200801041609.m04G9EuX007197@nakamura.uits.iupui.edu>', 'Mime-Version:', '1.0', 'Content-Transfer-Encoding:', '7bit', 'Received:', 'from', 'prod.collab.uhi.ac.uk', '([194.35.219.182])', 'by', 'paploo.uhi.ac.uk', '(JAMES', 'SMTP', 'Server', '2.1.3)', 'with', 'SMTP', 'ID', '483', 'for', '<source@collab.sakaiproject.org>;', 'Fri,', '4', 'Jan', '2008', '16:10:27', '+0000', '(GMT)', 'Received:', 'from', 'nakamura.uits.iupui.edu', '(nakamura.uits.iupui.edu', '[134.68.220.122])', 'by', 'shmi.uhi.ac.uk', '(Postfix)', 'with', 'ESMTP', 'id', '2E7043DFA2', 'for', '<source@collab.sakaiproject.org>;', 'Fri,', '4', 'Jan', '2008', '16:10:26', '+0000', '(GMT)', 'Received:', 'from', 'nakamura.uits.iupui.edu', '(localhost', '[127.0.0.1])', 'by', 'nakamura.uits.iupui.edu', '(8.12.11.20060308/8.12.11)', 'with', 'ESMTP', 'id', 'm04G9Eqg007199', 'for', '<source@collab.sakaiproject.org>;', 'Fri,', '4', 'Jan', '2008', '11:09:15', '-0500', 'Received:', '(from', 'apache@localhost)', 'by', 'nakamura.uits.iupui.edu', '(8.12.11.20060308/8.12.11/Submit)', 'id', 'm04G9EuX007197', 'for', 'source@collab.sakaiproject.org;', 'Fri,', '4', 'Jan', '2008', '11:09:14', '-0500', 'Date:', 'Fri,', '4', 'Jan', '2008', '11:09:14', '-0500', 'X-Authentication-Warning:', 'nakamura.uits.iupui.edu:', 'apache', 'set', 'sender', 'to', 'zqian@umich.edu', 'using', '-f', 'To:', 'source@collab.sakaiproject.org', 'From:', 'zqian@umich.edu', 'Subject:', '[sakai]', 'svn', 'commit:', 'r39760', '-', 'in', 'site-manage/trunk/site-manage-tool/tool/src:', 'java/org/sakaiproject/site/tool', 'webapp/vm/sitesetup', 'X-Content-Type-Outer-Envelope:', 'text/plain;', 'charset=UTF-8', 'X-Content-Type-Message-Body:', 'text/plain;', 'charset=UTF-8', 'Content-Type:', 'text/plain;', 'charset=UTF-8', 'X-DSPAM-Result:', 'Innocent', 'X-DSPAM-Processed:', 'Fri', 'Jan', '4', '11:11:03', '2008', 'X-DSPAM-Confidence:', '0.6959', 'X-DSPAM-Probability:', '0.0000', 'Details:', 'http://source.sakaiproject.org/viewsvn/?view=rev&rev=39760', 'Author:', 'zqian@umich.edu', 'Date:', '2008-01-04', '11:09:12', '-0500', '(Fri,', '04', 'Jan', '2008)', 'New', 'Revision:', '39760', 'Modified:', 'site-manage/trunk/site-manage-tool/tool/src/java/org/sakaiproject/site/tool/SiteAction.java', 'site-manage/trunk/site-manage-tool/tool/src/webapp/vm/sitesetup/chef_site-siteInfo-list.vm', 'Log:', 'fix', 'to', 'SAK-10911:', 'Refactor', 'use', 'of', 'site.upd,', 'site.upd.site.mbrship', 'and', 'site.upd.grp.mbrship', 'permissions', '----------------------', 'This', 'automatic', 'notification', 'message', 'was', 'sent', 'by', 'Sakai', 'Collab', '(https://collab.sakaiproject.org/portal)', 'from', 'the', 'Source', 'site.', 'You', 'can', 'modify', 'how', 'you', 'receive', 'notifications', 'at', 'My', 'Workspace', '>', 'Preferences.', 'From', 'gsilver@umich.edu', 'Fri', 'Jan', '4', '11:10:22', '2008', 'Return-Path:', '<postmaster@collab.sakaiproject.org>', 'Received:', 'from', 'murder', '(mail.umich.edu', '[141.211.14.39])', 'by', 'frankenstein.mail.umich.edu', '(Cyrus', 'v2.3.8)', 'with', 'LMTPA;', 'Fri,', '04', 'Jan', '2008', '11:10:22', '-0500', 'X-Sieve:', 'CMU', 'Sieve', '2.3', 'Received:', 'from', 'murder', '([unix', 'socket])', 'by', 'mail.umich.edu', '(Cyrus', 'v2.2.12)', 'with', 'LMTPA;', 'Fri,', '04', 'Jan', '2008', '11:10:22', '-0500', 'Received:', 'from', 'holes.mr.itd.umich.edu', '(holes.mr.itd.umich.edu', '[141.211.14.79])', 'by', 'faithful.mail.umich.edu', '()', 'with', 'ESMTP', 'id', 'm04GAL9k010604;', 'Fri,', '4', 'Jan', '2008', '11:10:21', '-0500', 'Received:', 'FROM', 'paploo.uhi.ac.uk', '(app1.prod.collab.uhi.ac.uk', '[194.35.219.184])', 'BY', 'holes.mr.itd.umich.edu', 'ID', '477E5A67.34350.23015', ';', '4', 'Jan', '2008', '11:10:18', '-0500', 'Received:', 'from', 'paploo.uhi.ac.uk', '(localhost', '[127.0.0.1])', 'by', 'paploo.uhi.ac.uk', '(Postfix)', 'with', 'ESMTP', 'id', '98D04BAD43;', 'Fri,', '4', 'Jan', '2008', '16:10:11', '+0000', '(GMT)', 'Message-ID:', '<200801041608.m04G8d7w007184@nakamura.uits.iupui.edu>', 'Mime-Version:', '1.0', 'Content-Transfer-Encoding:', '7bit', 'Received:', 'from', 'prod.collab.uhi.ac.uk', '([194.35.219.182])', 'by', 'paploo.uhi.ac.uk', '(JAMES', 'SMTP', 'Server', '2.1.3)', 'with', 'SMTP', 'ID', '966', 'for', '<source@collab.sakaiproject.org>;', 'Fri,', '4', 'Jan', '2008', '16:09:51', '+0000', '(GMT)', 'Received:', 'from', 'nakamura.uits.iupui.edu', '(nakamura.uits.iupui.edu', '[134.68.220.122])', 'by', 'shmi.uhi.ac.uk', '(Postfix)', 'with', 'ESMTP', 'id', '9F89542DD0', 'for', '<source@collab.sakaiproject.org>;', 'Fri,', '4', 'Jan', '2008', '16:09:50', '+0000', '(GMT)', 'Received:', 'from', 'nakamura.uits.iupui.edu', '(localhost', '[127.0.0.1])', 'by', 'nakamura.uits.iupui.edu', '(8.12.11.20060308/8.12.11)', 'with', 'ESMTP', 'id', 'm04G8dXN007186', 'for', '<source@collab.sakaiproject.org>;', 'Fri,', '4', 'Jan', '2008', '11:08:39', '-0500', 'Received:', '(from', 'apache@localhost)', 'by', 'nakamura.uits.iupui.edu', '(8.12.11.20060308/8.12.11/Submit)', 'id', 'm04G8d7w007184', 'for', 'source@collab.sakaiproject.org;', 'Fri,', '4', 'Jan', '2008', '11:08:39', '-0500', 'Date:', 'Fri,', '4', 'Jan', '2008', '11:08:39', '-0500', 'X-Authentication-Warning:', 'nakamura.uits.iupui.edu:', 'apache', 'set', 'sender', 'to', 'gsilver@umich.edu', 'using', '-f', 'To:', 'source@collab.sakaiproject.org', 'From:', 'gsilver@umich.edu', 'Subject:', '[sakai]', 'svn', 'commit:', 'r39759', '-', 'mailarchive/trunk/mailarchive-tool/tool/src/bundle', 'X-Content-Type-Outer-Envelope:', 'text/plain;', 'charset=UTF-8', 'X-Content-Type-Message-Body:', 'text/plain;', 'charset=UTF-8', 'Content-Type:', 'text/plain;', 'charset=UTF-8', 'X-DSPAM-Result:', 'Innocent', 'X-DSPAM-Processed:', 'Fri', 'Jan', '4', '11:10:22', '2008', 'X-DSPAM-Confidence:', '0.7606', 'X-DSPAM-Probability:', '0.0000', 'Details:', 'http://source.sakaiproject.org/viewsvn/?view=rev&rev=39759', 'Author:', 'gsilver@umich.edu', 'Date:', '2008-01-04', '11:08:38', '-0500', '(Fri,', '04', 'Jan', '2008)', 'New', 'Revision:', '39759', 'Modified:', 'mailarchive/trunk/mailarchive-tool/tool/src/bundle/email.properties', 'Log:', 'SAK-12592', 'http://bugs.sakaiproject.org/jira/browse/SAK-12592', '-', 'left', 'moot', '(unused)', 'entries', 'commented', 'for', 'now', '----------------------', 'This', 'automatic', 'notification', 'message', 'was', 'sent', 'by', 'Sakai', 'Collab', '(https://collab.sakaiproject.org/portal)', 'from', 'the', 'Source', 'site.', 'You', 'can', 'modify', 'how', 'you', 'receive', 'notifications', 'at', 'My', 'Workspace', '>', 'Preferences.', 'From', 'wagnermr@iupui.edu', 'Fri', 'Jan', '4', '10:38:42', '2008', 'Return-Path:', '<postmaster@collab.sakaiproject.org>', 'Received:', 'from', 'murder', '(mail.umich.edu', '[141.211.14.90])', 'by', 'frankenstein.mail.umich.edu', '(Cyrus', 'v2.3.8)', 'with', 'LMTPA;', 'Fri,', '04', 'Jan', '2008', '10:38:42', '-0500', 'X-Sieve:', 'CMU', 'Sieve', '2.3', 'Received:', 'from', 'murder', '([unix', 'socket])', 'by', 'mail.umich.edu', '(Cyrus', 'v2.2.12)', 'with', 'LMTPA;', 'Fri,', '04', 'Jan', '2008', '10:38:42', '-0500', 'Received:', 'from', 'shining.mr.itd.umich.edu', '(shining.mr.itd.umich.edu', '[141.211.93.153])', 'by', 'flawless.mail.umich.edu', '()', 'with', 'ESMTP', 'id', 'm04Fcfjm012313;', 'Fri,', '4', 'Jan', '2008', '10:38:41', '-0500', 'Received:', 'FROM', 'paploo.uhi.ac.uk', '(app1.prod.collab.uhi.ac.uk', '[194.35.219.184])', 'BY', 'shining.mr.itd.umich.edu', 'ID', '477E52FA.E6C6E.24093', ';', '4', 'Jan', '2008', '10:38:37', '-0500', 'Received:', 'from', 'paploo.uhi.ac.uk', '(localhost', '[127.0.0.1])', 'by', 'paploo.uhi.ac.uk', '(Postfix)', 'with', 'ESMTP', 'id', '6A39594CD2;', 'Fri,', '4', 'Jan', '2008', '15:37:36', '+0000', '(GMT)', 'Message-ID:', '<200801041537.m04Fb6Ci007092@nakamura.uits.iupui.edu>', 'Mime-Version:', '1.0', 'Content-Transfer-Encoding:', '7bit', 'Received:', 'from', 'prod.collab.uhi.ac.uk', '([194.35.219.182])', 'by', 'paploo.uhi.ac.uk', '(JAMES', 'SMTP', 'Server', '2.1.3)', 'with', 'SMTP', 'ID', '690', 'for', '<source@collab.sakaiproject.org>;', 'Fri,', '4', 'Jan', '2008', '15:37:21', '+0000', '(GMT)', 'Received:', 'from', 'nakamura.uits.iupui.edu', '(nakamura.uits.iupui.edu', '[134.68.220.122])', 'by', 'shmi.uhi.ac.uk', '(Postfix)', 'with', 'ESMTP', 'id', 'CEFA037ACE', 'for', '<source@collab.sakaiproject.org>;', 'Fri,', '4', 'Jan', '2008', '15:38:17', '+0000', '(GMT)', 'Received:', 'from', 'nakamura.uits.iupui.edu', '(localhost', '[127.0.0.1])', 'by', 'nakamura.uits.iupui.edu', '(8.12.11.20060308/8.12.11)', 'with', 'ESMTP', 'id', 'm04Fb6nh007094', 'for', '<source@collab.sakaiproject.org>;', 'Fri,', '4', 'Jan', '2008', '10:37:06', '-0500', 'Received:', '(from', 'apache@localhost)', 'by', 'nakamura.uits.iupui.edu', '(8.12.11.20060308/8.12.11/Submit)', 'id', 'm04Fb6Ci007092', 'for', 'source@collab.sakaiproject.org;', 'Fri,', '4', 'Jan', '2008', '10:37:06', '-0500', 'Date:', 'Fri,', '4', 'Jan', '2008', '10:37:06', '-0500', 'X-Authentication-Warning:', 'nakamura.uits.iupui.edu:', 'apache', 'set', 'sender', 'to', 'wagnermr@iupui.edu', 'using', '-f', 'To:', 'source@collab.sakaiproject.org', 'From:', 'wagnermr@iupui.edu', 'Subject:', '[sakai]', 'svn', 'commit:', 'r39758', '-', 'in', 'gradebook/trunk:', 'app/business/src/java/org/sakaiproject/tool/gradebook/business/impl', 'service/api/src/java/org/sakaiproject/service/gradebook/shared', 'service/impl/src/java/org/sakaiproject/component/gradebook', 'X-Content-Type-Outer-Envelope:', 'text/plain;', 'charset=UTF-8', 'X-Content-Type-Message-Body:', 'text/plain;', 'charset=UTF-8', 'Content-Type:', 'text/plain;', 'charset=UTF-8', 'X-DSPAM-Result:', 'Innocent', 'X-DSPAM-Processed:', 'Fri', 'Jan', '4', '10:38:42', '2008', 'X-DSPAM-Confidence:', '0.7559', 'X-DSPAM-Probability:', '0.0000', 'Details:', 'http://source.sakaiproject.org/viewsvn/?view=rev&rev=39758', 'Author:', 'wagnermr@iupui.edu', 'Date:', '2008-01-04', '10:37:04', '-0500', '(Fri,', '04', 'Jan', '2008)', 'New', 'Revision:', '39758', 'Modified:', 'gradebook/trunk/app/business/src/java/org/sakaiproject/tool/gradebook/business/impl/GradebookManagerHibernateImpl.java', 'gradebook/trunk/service/api/src/java/org/sakaiproject/service/gradebook/shared/GradebookService.java', 'gradebook/trunk/service/impl/src/java/org/sakaiproject/component/gradebook/GradebookServiceHibernateImpl.java', 'Log:', 'SAK-12175', 'http://bugs.sakaiproject.org/jira/browse/SAK-12175', 'Create', 'methods', 'required', 'for', 'gb', 'integration', 'with', 'the', 'Assignment2', 'tool', 'getGradeDefinitionForStudentForItem', '----------------------', 'This', 'automatic', 'notification', 'message', 'was', 'sent', 'by', 'Sakai', 'Collab', '(https://collab.sakaiproject.org/portal)', 'from', 'the', 'Source', 'site.', 'You', 'can', 'modify', 'how', 'you', 'receive', 'notifications', 'at', 'My', 'Workspace', '>', 'Preferences.', 'From', 'zqian@umich.edu', 'Fri', 'Jan', '4', '10:17:43', '2008', 'Return-Path:', '<postmaster@collab.sakaiproject.org>', 'Received:', 'from', 'murder', '(mail.umich.edu', '[141.211.14.97])', 'by', 'frankenstein.mail.umich.edu', '(Cyrus', 'v2.3.8)', 'with', 'LMTPA;', 'Fri,', '04', 'Jan', '2008', '10:17:43', '-0500', 'X-Sieve:', 'CMU', 'Sieve', '2.3', 'Received:', 'from', 'murder', '([unix', 'socket])', 'by', 'mail.umich.edu', '(Cyrus', 'v2.2.12)', 'with', 'LMTPA;', 'Fri,', '04', 'Jan', '2008', '10:17:42', '-0500', 'Received:', 'from', 'creepshow.mr.itd.umich.edu', '(creepshow.mr.itd.umich.edu', '[141.211.14.84])', 'by', 'sleepers.mail.umich.edu', '()', 'with', 'ESMTP', 'id', 'm04FHgfs011536;', 'Fri,', '4', 'Jan', '2008', '10:17:42', '-0500', 'Received:', 'FROM', 'paploo.uhi.ac.uk', '(app1.prod.collab.uhi.ac.uk', '[194.35.219.184])', 'BY', 'creepshow.mr.itd.umich.edu', 'ID', '477E4E0F.CCA4B.926', ';', '4', 'Jan', '2008', '10:17:38', '-0500', 'Received:', 'from', 'paploo.uhi.ac.uk', '(localhost', '[127.0.0.1])', 'by', 'paploo.uhi.ac.uk', '(Postfix)', 'with', 'ESMTP', 'id', 'BD02DBAC64;', 'Fri,', '4', 'Jan', '2008', '15:17:34', '+0000', '(GMT)', 'Message-ID:', '<200801041515.m04FFv42007050@nakamura.uits.iupui.edu>', 'Mime-Version:', '1.0', 'Content-Transfer-Encoding:', '7bit', 'Received:', 'from', 'prod.collab.uhi.ac.uk', '([194.35.219.182])', 'by', 'paploo.uhi.ac.uk', '(JAMES', 'SMTP', 'Server', '2.1.3)', 'with', 'SMTP', 'ID', '25', 'for', '<source@collab.sakaiproject.org>;', 'Fri,', '4', 'Jan', '2008', '15:17:11', '+0000', '(GMT)', 'Received:', 'from', 'nakamura.uits.iupui.edu', '(nakamura.uits.iupui.edu', '[134.68.220.122])', 'by', 'shmi.uhi.ac.uk', '(Postfix)', 'with', 'ESMTP', 'id', '5B396236B9', 'for', '<source@collab.sakaiproject.org>;', 'Fri,', '4', 'Jan', '2008', '15:17:08', '+0000', '(GMT)', 'Received:', 'from', 'nakamura.uits.iupui.edu', '(localhost', '[127.0.0.1])', 'by', 'nakamura.uits.iupui.edu', '(8.12.11.20060308/8.12.11)', 'with', 'ESMTP', 'id', 'm04FFv85007052', 'for', '<source@collab.sakaiproject.org>;', 'Fri,', '4', 'Jan', '2008', '10:15:57', '-0500', 'Received:', '(from', 'apache@localhost)', 'by', 'nakamura.uits.iupui.edu', '(8.12.11.20060308/8.12.11/Submit)', 'id', 'm04FFv42007050', 'for', 'source@collab.sakaiproject.org;', 'Fri,', '4', 'Jan', '2008', '10:15:57', '-0500', 'Date:', 'Fri,', '4', 'Jan', '2008', '10:15:57', '-0500', 'X-Authentication-Warning:', 'nakamura.uits.iupui.edu:', 'apache', 'set', 'sender', 'to', 'zqian@umich.edu', 'using', '-f', 'To:', 'source@collab.sakaiproject.org', 'From:', 'zqian@umich.edu', 'Subject:', '[sakai]', 'svn', 'commit:', 'r39757', '-', 'in', 'assignment/trunk:', 'assignment-impl/impl/src/java/org/sakaiproject/assignment/impl', 'assignment-tool/tool/src/webapp/vm/assignment', 'X-Content-Type-Outer-Envelope:', 'text/plain;', 'charset=UTF-8', 'X-Content-Type-Message-Body:', 'text/plain;', 'charset=UTF-8', 'Content-Type:', 'text/plain;', 'charset=UTF-8', 'X-DSPAM-Result:', 'Innocent', 'X-DSPAM-Processed:', 'Fri', 'Jan', '4', '10:17:42', '2008', 'X-DSPAM-Confidence:', '0.7605', 'X-DSPAM-Probability:', '0.0000', 'Details:', 'http://source.sakaiproject.org/viewsvn/?view=rev&rev=39757', 'Author:', 'zqian@umich.edu', 'Date:', '2008-01-04', '10:15:54', '-0500', '(Fri,', '04', 'Jan', '2008)', 'New', 'Revision:', '39757', 'Modified:', 'assignment/trunk/assignment-impl/impl/src/java/org/sakaiproject/assignment/impl/BaseAssignmentService.java', 'assignment/trunk/assignment-tool/tool/src/webapp/vm/assignment/chef_assignments_instructor_list_submissions.vm', 'Log:', 'fix', 'to', \"SAK-12604:Don't\", 'show', 'groups/sections', 'filter', 'if', 'the', 'site', \"doesn't\", 'have', 'any', '----------------------', 'This', 'automatic', 'notification', 'message', 'was', 'sent', 'by', 'Sakai', 'Collab', '(https://collab.sakaiproject.org/portal)', 'from', 'the', 'Source', 'site.', 'You', 'can', 'modify', 'how', 'you', 'receive', 'notifications', 'at', 'My', 'Workspace', '>', 'Preferences.', 'From', 'antranig@caret.cam.ac.uk', 'Fri', 'Jan', '4', '10:04:14', '2008', 'Return-Path:', '<postmaster@collab.sakaiproject.org>', 'Received:', 'from', 'murder', '(mail.umich.edu', '[141.211.14.25])', 'by', 'frankenstein.mail.umich.edu', '(Cyrus', 'v2.3.8)', 'with', 'LMTPA;', 'Fri,', '04', 'Jan', '2008', '10:04:14', '-0500', 'X-Sieve:', 'CMU', 'Sieve', '2.3', 'Received:', 'from', 'murder', '([unix', 'socket])', 'by', 'mail.umich.edu', '(Cyrus', 'v2.2.12)', 'with', 'LMTPA;', 'Fri,', '04', 'Jan', '2008', '10:04:14', '-0500', 'Received:', 'from', 'holes.mr.itd.umich.edu', '(holes.mr.itd.umich.edu', '[141.211.14.79])', 'by', 'panther.mail.umich.edu', '()', 'with', 'ESMTP', 'id', 'm04F4Dci015108;', 'Fri,', '4', 'Jan', '2008', '10:04:13', '-0500', 'Received:', 'FROM', 'paploo.uhi.ac.uk', '(app1.prod.collab.uhi.ac.uk', '[194.35.219.184])', 'BY', 'holes.mr.itd.umich.edu', 'ID', '477E4AE3.D7AF.31669', ';', '4', 'Jan', '2008', '10:04:05', '-0500', 'Received:', 'from', 'paploo.uhi.ac.uk', '(localhost', '[127.0.0.1])', 'by', 'paploo.uhi.ac.uk', '(Postfix)', 'with', 'ESMTP', 'id', '933E3BAC17;', 'Fri,', '4', 'Jan', '2008', '15:04:00', '+0000', '(GMT)', 'Message-ID:', '<200801041502.m04F21Jo007031@nakamura.uits.iupui.edu>', 'Mime-Version:', '1.0', 'Content-Transfer-Encoding:', '7bit', 'Received:', 'from', 'prod.collab.uhi.ac.uk', '([194.35.219.182])', 'by', 'paploo.uhi.ac.uk', '(JAMES', 'SMTP', 'Server', '2.1.3)', 'with', 'SMTP', 'ID', '32', 'for', '<source@collab.sakaiproject.org>;', 'Fri,', '4', 'Jan', '2008', '15:03:15', '+0000', '(GMT)', 'Received:', 'from', 'nakamura.uits.iupui.edu', '(nakamura.uits.iupui.edu', '[134.68.220.122])', 'by', 'shmi.uhi.ac.uk', '(Postfix)', 'with', 'ESMTP', 'id', 'AC2F6236B9', 'for', '<source@collab.sakaiproject.org>;', 'Fri,', '4', 'Jan', '2008', '15:03:12', '+0000', '(GMT)', 'Received:', 'from', 'nakamura.uits.iupui.edu', '(localhost', '[127.0.0.1])', 'by', 'nakamura.uits.iupui.edu', '(8.12.11.20060308/8.12.11)', 'with', 'ESMTP', 'id', 'm04F21hn007033', 'for', '<source@collab.sakaiproject.org>;', 'Fri,', '4', 'Jan', '2008', '10:02:01', '-0500', 'Received:', '(from', 'apache@localhost)', 'by', 'nakamura.uits.iupui.edu', '(8.12.11.20060308/8.12.11/Submit)', 'id', 'm04F21Jo007031', 'for', 'source@collab.sakaiproject.org;', 'Fri,', '4', 'Jan', '2008', '10:02:01', '-0500', 'Date:', 'Fri,', '4', 'Jan', '2008', '10:02:01', '-0500', 'X-Authentication-Warning:', 'nakamura.uits.iupui.edu:', 'apache', 'set', 'sender', 'to', 'antranig@caret.cam.ac.uk', 'using', '-f', 'To:', 'source@collab.sakaiproject.org', 'From:', 'antranig@caret.cam.ac.uk', 'Subject:', '[sakai]', 'svn', 'commit:', 'r39756', '-', 'in', 'component/branches/SAK-12166/component-api/component/src/java/org/sakaiproject/component:', 'impl', 'impl/spring/support', 'impl/spring/support/dynamic', 'impl/support', 'util', 'X-Content-Type-Outer-Envelope:', 'text/plain;', 'charset=UTF-8', 'X-Content-Type-Message-Body:', 'text/plain;', 'charset=UTF-8', 'Content-Type:', 'text/plain;', 'charset=UTF-8', 'X-DSPAM-Result:', 'Innocent', 'X-DSPAM-Processed:', 'Fri', 'Jan', '4', '10:04:14', '2008', 'X-DSPAM-Confidence:', '0.6932', 'X-DSPAM-Probability:', '0.0000', 'Details:', 'http://source.sakaiproject.org/viewsvn/?view=rev&rev=39756', 'Author:', 'antranig@caret.cam.ac.uk', 'Date:', '2008-01-04', '10:01:40', '-0500', '(Fri,', '04', 'Jan', '2008)', 'New', 'Revision:', '39756', 'Added:', 'component/branches/SAK-12166/component-api/component/src/java/org/sakaiproject/component/impl/spring/support/dynamic/', 'component/branches/SAK-12166/component-api/component/src/java/org/sakaiproject/component/impl/spring/support/dynamic/DynamicComponentManager.java', 'component/branches/SAK-12166/component-api/component/src/java/org/sakaiproject/component/impl/support/', 'component/branches/SAK-12166/component-api/component/src/java/org/sakaiproject/component/impl/support/DynamicComponentRecord.java', 'component/branches/SAK-12166/component-api/component/src/java/org/sakaiproject/component/impl/support/DynamicJARManager.java', 'component/branches/SAK-12166/component-api/component/src/java/org/sakaiproject/component/impl/support/JARRecord.java', 'component/branches/SAK-12166/component-api/component/src/java/org/sakaiproject/component/util/ByteToCharBase64.java', 'component/branches/SAK-12166/component-api/component/src/java/org/sakaiproject/component/util/FileUtil.java', 'component/branches/SAK-12166/component-api/component/src/java/org/sakaiproject/component/util/RecordFileIO.java', 'component/branches/SAK-12166/component-api/component/src/java/org/sakaiproject/component/util/RecordReader.java', 'component/branches/SAK-12166/component-api/component/src/java/org/sakaiproject/component/util/RecordWriter.java', 'component/branches/SAK-12166/component-api/component/src/java/org/sakaiproject/component/util/StreamDigestor.java', 'Modified:', 'component/branches/SAK-12166/component-api/component/src/java/org/sakaiproject/component/impl/spring/support/ComponentsLoaderImpl.java', 'Log:', 'Temporary', 'commit', 'of', 'incomplete', 'work', 'on', 'JAR', 'caching', '----------------------', 'This', 'automatic', 'notification', 'message', 'was', 'sent', 'by', 'Sakai', 'Collab', '(https://collab.sakaiproject.org/portal)', 'from', 'the', 'Source', 'site.', 'You', 'can', 'modify', 'how', 'you', 'receive', 'notifications', 'at', 'My', 'Workspace', '>', 'Preferences.', 'From', 'gopal.ramasammycook@gmail.com', 'Fri', 'Jan', '4', '09:05:31', '2008', 'Return-Path:', '<postmaster@collab.sakaiproject.org>', 'Received:', 'from', 'murder', '(mail.umich.edu', '[141.211.14.90])', 'by', 'frankenstein.mail.umich.edu', '(Cyrus', 'v2.3.8)', 'with', 'LMTPA;', 'Fri,', '04', 'Jan', '2008', '09:05:31', '-0500', 'X-Sieve:', 'CMU', 'Sieve', '2.3', 'Received:', 'from', 'murder', '([unix', 'socket])', 'by', 'mail.umich.edu', '(Cyrus', 'v2.2.12)', 'with', 'LMTPA;', 'Fri,', '04', 'Jan', '2008', '09:05:31', '-0500', 'Received:', 'from', 'guys.mr.itd.umich.edu', '(guys.mr.itd.umich.edu', '[141.211.14.76])', 'by', 'flawless.mail.umich.edu', '()', 'with', 'ESMTP', 'id', 'm04E5U3C029277;', 'Fri,', '4', 'Jan', '2008', '09:05:30', '-0500', 'Received:', 'FROM', 'paploo.uhi.ac.uk', '(app1.prod.collab.uhi.ac.uk', '[194.35.219.184])', 'BY', 'guys.mr.itd.umich.edu', 'ID', '477E3D23.EE2E7.5237', ';', '4', 'Jan', '2008', '09:05:26', '-0500', 'Received:', 'from', 'paploo.uhi.ac.uk', '(localhost', '[127.0.0.1])', 'by', 'paploo.uhi.ac.uk', '(Postfix)', 'with', 'ESMTP', 'id', '33C7856DC0;', 'Fri,', '4', 'Jan', '2008', '14:05:26', '+0000', '(GMT)', 'Message-ID:', '<200801041403.m04E3psW006926@nakamura.uits.iupui.edu>', 'Mime-Version:', '1.0', 'Content-Transfer-Encoding:', '7bit', 'Received:', 'from', 'prod.collab.uhi.ac.uk', '([194.35.219.182])', 'by', 'paploo.uhi.ac.uk', '(JAMES', 'SMTP', 'Server', '2.1.3)', 'with', 'SMTP', 'ID', '575', 'for', '<source@collab.sakaiproject.org>;', 'Fri,', '4', 'Jan', '2008', '14:05:04', '+0000', '(GMT)', 'Received:', 'from', 'nakamura.uits.iupui.edu', '(nakamura.uits.iupui.edu', '[134.68.220.122])', 'by', 'shmi.uhi.ac.uk', '(Postfix)', 'with', 'ESMTP', 'id', '3C0261D617', 'for', '<source@collab.sakaiproject.org>;', 'Fri,', '4', 'Jan', '2008', '14:05:03', '+0000', '(GMT)', 'Received:', 'from', 'nakamura.uits.iupui.edu', '(localhost', '[127.0.0.1])', 'by', 'nakamura.uits.iupui.edu', '(8.12.11.20060308/8.12.11)', 'with', 'ESMTP', 'id', 'm04E3pQS006928', 'for', '<source@collab.sakaiproject.org>;', 'Fri,', '4', 'Jan', '2008', '09:03:52', '-0500', 'Received:', '(from', 'apache@localhost)', 'by', 'nakamura.uits.iupui.edu', '(8.12.11.20060308/8.12.11/Submit)', 'id', 'm04E3psW006926', 'for', 'source@collab.sakaiproject.org;', 'Fri,', '4', 'Jan', '2008', '09:03:51', '-0500', 'Date:', 'Fri,', '4', 'Jan', '2008', '09:03:51', '-0500', 'X-Authentication-Warning:', 'nakamura.uits.iupui.edu:', 'apache', 'set', 'sender', 'to', 'gopal.ramasammycook@gmail.com', 'using', '-f', 'To:', 'source@collab.sakaiproject.org', 'From:', 'gopal.ramasammycook@gmail.com', 'Subject:', '[sakai]', 'svn', 'commit:', 'r39755', '-', 'in', 'sam/branches/SAK-12065:', 'samigo-api/src/java/org/sakaiproject/tool/assessment/shared/api/grading', 'samigo-app/src/java/org/sakaiproject/tool/assessment/ui/bean/evaluation', 'samigo-app/src/java/org/sakaiproject/tool/assessment/ui/listener/evaluation', 'samigo-services/src/java/org/sakaiproject/tool/assessment/facade', 'samigo-services/src/java/org/sakaiproject/tool/assessment/integration/helper/ifc', 'samigo-services/src/java/org/sakaiproject/tool/assessment/integration/helper/integrated', 'samigo-services/src/java/org/sakaiproject/tool/assessment/integration/helper/standalone', 'samigo-services/src/java/org/sakaiproject/tool/assessment/shared/impl/grading', 'X-Content-Type-Outer-Envelope:', 'text/plain;', 'charset=UTF-8', 'X-Content-Type-Message-Body:', 'text/plain;', 'charset=UTF-8', 'Content-Type:', 'text/plain;', 'charset=UTF-8', 'X-DSPAM-Result:', 'Innocent', 'X-DSPAM-Processed:', 'Fri', 'Jan', '4', '09:05:31', '2008', 'X-DSPAM-Confidence:', '0.7558', 'X-DSPAM-Probability:', '0.0000', 'Details:', 'http://source.sakaiproject.org/viewsvn/?view=rev&rev=39755', 'Author:', 'gopal.ramasammycook@gmail.com', 'Date:', '2008-01-04', '09:02:54', '-0500', '(Fri,', '04', 'Jan', '2008)', 'New', 'Revision:', '39755', 'Modified:', 'sam/branches/SAK-12065/samigo-api/src/java/org/sakaiproject/tool/assessment/shared/api/grading/GradingSectionAwareServiceAPI.java', 'sam/branches/SAK-12065/samigo-app/src/java/org/sakaiproject/tool/assessment/ui/bean/evaluation/QuestionScoresBean.java', 'sam/branches/SAK-12065/samigo-app/src/java/org/sakaiproject/tool/assessment/ui/bean/evaluation/SubmissionStatusBean.java', 'sam/branches/SAK-12065/samigo-app/src/java/org/sakaiproject/tool/assessment/ui/bean/evaluation/TotalScoresBean.java', 'sam/branches/SAK-12065/samigo-app/src/java/org/sakaiproject/tool/assessment/ui/listener/evaluation/SubmissionStatusListener.java', 'sam/branches/SAK-12065/samigo-services/src/java/org/sakaiproject/tool/assessment/facade/PublishedAssessmentFacadeQueries.java', 'sam/branches/SAK-12065/samigo-services/src/java/org/sakaiproject/tool/assessment/facade/PublishedAssessmentFacadeQueriesAPI.java', 'sam/branches/SAK-12065/samigo-services/src/java/org/sakaiproject/tool/assessment/integration/helper/ifc/SectionAwareServiceHelper.java', 'sam/branches/SAK-12065/samigo-services/src/java/org/sakaiproject/tool/assessment/integration/helper/integrated/SectionAwareServiceHelperImpl.java', 'sam/branches/SAK-12065/samigo-services/src/java/org/sakaiproject/tool/assessment/integration/helper/standalone/SectionAwareServiceHelperImpl.java', 'sam/branches/SAK-12065/samigo-services/src/java/org/sakaiproject/tool/assessment/shared/impl/grading/GradingSectionAwareServiceImpl.java', 'Log:', 'SAK-12065', 'Gopal', '-', 'Samigo', 'Group', 'Release.', 'SubmissionStatus/TotalScores/Questions', 'View', 'filter.', '----------------------', 'This', 'automatic', 'notification', 'message', 'was', 'sent', 'by', 'Sakai', 'Collab', '(https://collab.sakaiproject.org/portal)', 'from', 'the', 'Source', 'site.', 'You', 'can', 'modify', 'how', 'you', 'receive', 'notifications', 'at', 'My', 'Workspace', '>', 'Preferences.', 'From', 'david.horwitz@uct.ac.za', 'Fri', 'Jan', '4', '07:02:32', '2008', 'Return-Path:', '<postmaster@collab.sakaiproject.org>', 'Received:', 'from', 'murder', '(mail.umich.edu', '[141.211.14.39])', 'by', 'frankenstein.mail.umich.edu', '(Cyrus', 'v2.3.8)', 'with', 'LMTPA;', 'Fri,', '04', 'Jan', '2008', '07:02:32', '-0500', 'X-Sieve:', 'CMU', 'Sieve', '2.3', 'Received:', 'from', 'murder', '([unix', 'socket])', 'by', 'mail.umich.edu', '(Cyrus', 'v2.2.12)', 'with', 'LMTPA;', 'Fri,', '04', 'Jan', '2008', '07:02:32', '-0500', 'Received:', 'from', 'guys.mr.itd.umich.edu', '(guys.mr.itd.umich.edu', '[141.211.14.76])', 'by', 'faithful.mail.umich.edu', '()', 'with', 'ESMTP', 'id', 'm04C2VN7026678;', 'Fri,', '4', 'Jan', '2008', '07:02:31', '-0500', 'Received:', 'FROM', 'paploo.uhi.ac.uk', '(app1.prod.collab.uhi.ac.uk', '[194.35.219.184])', 'BY', 'guys.mr.itd.umich.edu', 'ID', '477E2050.C2599.3263', ';', '4', 'Jan', '2008', '07:02:27', '-0500', 'Received:', 'from', 'paploo.uhi.ac.uk', '(localhost', '[127.0.0.1])', 'by', 'paploo.uhi.ac.uk', '(Postfix)', 'with', 'ESMTP', 'id', '6497FBA906;', 'Fri,', '4', 'Jan', '2008', '12:02:11', '+0000', '(GMT)', 'Message-ID:', '<200801041200.m04C0gfK006793@nakamura.uits.iupui.edu>', 'Mime-Version:', '1.0', 'Content-Transfer-Encoding:', '7bit', 'Received:', 'from', 'prod.collab.uhi.ac.uk', '([194.35.219.182])', 'by', 'paploo.uhi.ac.uk', '(JAMES', 'SMTP', 'Server', '2.1.3)', 'with', 'SMTP', 'ID', '611', 'for', '<source@collab.sakaiproject.org>;', 'Fri,', '4', 'Jan', '2008', '12:01:53', '+0000', '(GMT)', 'Received:', 'from', 'nakamura.uits.iupui.edu', '(nakamura.uits.iupui.edu', '[134.68.220.122])', 'by', 'shmi.uhi.ac.uk', '(Postfix)', 'with', 'ESMTP', 'id', '5296342D3C', 'for', '<source@collab.sakaiproject.org>;', 'Fri,', '4', 'Jan', '2008', '12:01:53', '+0000', '(GMT)', 'Received:', 'from', 'nakamura.uits.iupui.edu', '(localhost', '[127.0.0.1])', 'by', 'nakamura.uits.iupui.edu', '(8.12.11.20060308/8.12.11)', 'with', 'ESMTP', 'id', 'm04C0gnm006795', 'for', '<source@collab.sakaiproject.org>;', 'Fri,', '4', 'Jan', '2008', '07:00:42', '-0500', 'Received:', '(from', 'apache@localhost)', 'by', 'nakamura.uits.iupui.edu', '(8.12.11.20060308/8.12.11/Submit)', 'id', 'm04C0gfK006793', 'for', 'source@collab.sakaiproject.org;', 'Fri,', '4', 'Jan', '2008', '07:00:42', '-0500', 'Date:', 'Fri,', '4', 'Jan', '2008', '07:00:42', '-0500', 'X-Authentication-Warning:', 'nakamura.uits.iupui.edu:', 'apache', 'set', 'sender', 'to', 'david.horwitz@uct.ac.za', 'using', '-f', 'To:', 'source@collab.sakaiproject.org', 'From:', 'david.horwitz@uct.ac.za', 'Subject:', '[sakai]', 'svn', 'commit:', 'r39754', '-', 'in', 'polls/branches/sakai_2-5-x:', '.', 'tool', 'tool/src/java/org/sakaiproject/poll/tool', 'tool/src/java/org/sakaiproject/poll/tool/evolvers', 'tool/src/webapp/WEB-INF', 'X-Content-Type-Outer-Envelope:', 'text/plain;', 'charset=UTF-8', 'X-Content-Type-Message-Body:', 'text/plain;', 'charset=UTF-8', 'Content-Type:', 'text/plain;', 'charset=UTF-8', 'X-DSPAM-Result:', 'Innocent', 'X-DSPAM-Processed:', 'Fri', 'Jan', '4', '07:02:32', '2008', 'X-DSPAM-Confidence:', '0.6526', 'X-DSPAM-Probability:', '0.0000', 'Details:', 'http://source.sakaiproject.org/viewsvn/?view=rev&rev=39754', 'Author:', 'david.horwitz@uct.ac.za', 'Date:', '2008-01-04', '07:00:10', '-0500', '(Fri,', '04', 'Jan', '2008)', 'New', 'Revision:', '39754', 'Added:', 'polls/branches/sakai_2-5-x/tool/src/java/org/sakaiproject/poll/tool/evolvers/', 'polls/branches/sakai_2-5-x/tool/src/java/org/sakaiproject/poll/tool/evolvers/SakaiFCKTextEvolver.java', 'Removed:', 'polls/branches/sakai_2-5-x/tool/src/java/org/sakaiproject/poll/tool/evolvers/SakaiFCKTextEvolver.java', 'Modified:', 'polls/branches/sakai_2-5-x/.classpath', 'polls/branches/sakai_2-5-x/tool/pom.xml', 'polls/branches/sakai_2-5-x/tool/src/webapp/WEB-INF/requestContext.xml', 'Log:', 'svn', 'log', '-r39753', 'https://source.sakaiproject.org/svn/polls/trunk', '------------------------------------------------------------------------', 'r39753', '|', 'david.horwitz@uct.ac.za', '|', '2008-01-04', '13:05:51', '+0200', '(Fri,', '04', 'Jan', '2008)', '|', '1', 'line', 'SAK-12228', 'implmented', 'workaround', 'sugested', 'by', 'AB', '-', 'needs', 'to', 'be', 'tested', 'against', 'a', 'trunk', 'build', '------------------------------------------------------------------------', 'dhorwitz@david-horwitz-6:~/branchManagemnt/sakai_2-5-x>', 'svn', 'merge', '-c39753', 'https://source.sakaiproject.org/svn/polls/trunk', 'polls/', 'U', 'polls/.classpath', 'A', 'polls/tool/src/java/org/sakaiproject/poll/tool/evolvers', 'A', 'polls/tool/src/java/org/sakaiproject/poll/tool/evolvers/SakaiFCKTextEvolver.java', 'C', 'polls/tool/src/webapp/WEB-INF/requestContext.xml', 'U', 'polls/tool/pom.xml', 'dhorwitz@david-horwitz-6:~/branchManagemnt/sakai_2-5-x>', 'svn', 'resolved', 'polls/tool/src/webapp/WEB-INF/requestContext.xml', 'Resolved', 'conflicted', 'state', 'of', \"'polls/tool/src/webapp/WEB-INF/requestContext.xml\", '----------------------', 'This', 'automatic', 'notification', 'message', 'was', 'sent', 'by', 'Sakai', 'Collab', '(https://collab.sakaiproject.org/portal)', 'from', 'the', 'Source', 'site.', 'You', 'can', 'modify', 'how', 'you', 'receive', 'notifications', 'at', 'My', 'Workspace', '>', 'Preferences.', 'From', 'david.horwitz@uct.ac.za', 'Fri', 'Jan', '4', '06:08:27', '2008', 'Return-Path:', '<postmaster@collab.sakaiproject.org>', 'Received:', 'from', 'murder', '(mail.umich.edu', '[141.211.14.98])', 'by', 'frankenstein.mail.umich.edu', '(Cyrus', 'v2.3.8)', 'with', 'LMTPA;', 'Fri,', '04', 'Jan', '2008', '06:08:27', '-0500', 'X-Sieve:', 'CMU', 'Sieve', '2.3', 'Received:', 'from', 'murder', '([unix', 'socket])', 'by', 'mail.umich.edu', '(Cyrus', 'v2.2.12)', 'with', 'LMTPA;', 'Fri,', '04', 'Jan', '2008', '06:08:27', '-0500', 'Received:', 'from', 'firestarter.mr.itd.umich.edu', '(firestarter.mr.itd.umich.edu', '[141.211.14.83])', 'by', 'casino.mail.umich.edu', '()', 'with', 'ESMTP', 'id', 'm04B8Qw9001368;', 'Fri,', '4', 'Jan', '2008', '06:08:26', '-0500', 'Received:', 'FROM', 'paploo.uhi.ac.uk', '(app1.prod.collab.uhi.ac.uk', '[194.35.219.184])', 'BY', 'firestarter.mr.itd.umich.edu', 'ID', '477E13A5.30FC0.24054', ';', '4', 'Jan', '2008', '06:08:23', '-0500', 'Received:', 'from', 'paploo.uhi.ac.uk', '(localhost', '[127.0.0.1])', 'by', 'paploo.uhi.ac.uk', '(Postfix)', 'with', 'ESMTP', 'id', '784A476D7B;', 'Fri,', '4', 'Jan', '2008', '11:08:12', '+0000', '(GMT)', 'Message-ID:', '<200801041106.m04B6lK3006677@nakamura.uits.iupui.edu>', 'Mime-Version:', '1.0', 'Content-Transfer-Encoding:', '7bit', 'Received:', 'from', 'prod.collab.uhi.ac.uk', '([194.35.219.182])', 'by', 'paploo.uhi.ac.uk', '(JAMES', 'SMTP', 'Server', '2.1.3)', 'with', 'SMTP', 'ID', '585', 'for', '<source@collab.sakaiproject.org>;', 'Fri,', '4', 'Jan', '2008', '11:07:56', '+0000', '(GMT)', 'Received:', 'from', 'nakamura.uits.iupui.edu', '(nakamura.uits.iupui.edu', '[134.68.220.122])', 'by', 'shmi.uhi.ac.uk', '(Postfix)', 'with', 'ESMTP', 'id', '1CACC42D0C', 'for', '<source@collab.sakaiproject.org>;', 'Fri,', '4', 'Jan', '2008', '11:07:58', '+0000', '(GMT)', 'Received:', 'from', 'nakamura.uits.iupui.edu', '(localhost', '[127.0.0.1])', 'by', 'nakamura.uits.iupui.edu', '(8.12.11.20060308/8.12.11)', 'with', 'ESMTP', 'id', 'm04B6lWM006679', 'for', '<source@collab.sakaiproject.org>;', 'Fri,', '4', 'Jan', '2008', '06:06:47', '-0500', 'Received:', '(from', 'apache@localhost)', 'by', 'nakamura.uits.iupui.edu', '(8.12.11.20060308/8.12.11/Submit)', 'id', 'm04B6lK3006677', 'for', 'source@collab.sakaiproject.org;', 'Fri,', '4', 'Jan', '2008', '06:06:47', '-0500', 'Date:', 'Fri,', '4', 'Jan', '2008', '06:06:47', '-0500', 'X-Authentication-Warning:', 'nakamura.uits.iupui.edu:', 'apache', 'set', 'sender', 'to', 'david.horwitz@uct.ac.za', 'using', '-f', 'To:', 'source@collab.sakaiproject.org', 'From:', 'david.horwitz@uct.ac.za', 'Subject:', '[sakai]', 'svn', 'commit:', 'r39753', '-', 'in', 'polls/trunk:', '.', 'tool', 'tool/src/java/org/sakaiproject/poll/tool', 'tool/src/java/org/sakaiproject/poll/tool/evolvers', 'tool/src/webapp/WEB-INF', 'X-Content-Type-Outer-Envelope:', 'text/plain;', 'charset=UTF-8', 'X-Content-Type-Message-Body:', 'text/plain;', 'charset=UTF-8', 'Content-Type:', 'text/plain;', 'charset=UTF-8', 'X-DSPAM-Result:', 'Innocent', 'X-DSPAM-Processed:', 'Fri', 'Jan', '4', '06:08:27', '2008', 'X-DSPAM-Confidence:', '0.6948', 'X-DSPAM-Probability:', '0.0000', 'Details:', 'http://source.sakaiproject.org/viewsvn/?view=rev&rev=39753', 'Author:', 'david.horwitz@uct.ac.za', 'Date:', '2008-01-04', '06:05:51', '-0500', '(Fri,', '04', 'Jan', '2008)', 'New', 'Revision:', '39753', 'Added:', 'polls/trunk/tool/src/java/org/sakaiproject/poll/tool/evolvers/', 'polls/trunk/tool/src/java/org/sakaiproject/poll/tool/evolvers/SakaiFCKTextEvolver.java', 'Modified:', 'polls/trunk/.classpath', 'polls/trunk/tool/pom.xml', 'polls/trunk/tool/src/webapp/WEB-INF/requestContext.xml', 'Log:', 'SAK-12228', 'implmented', 'workaround', 'sugested', 'by', 'AB', '-', 'needs', 'to', 'be', 'tested', 'against', 'a', 'trunk', 'build', '----------------------', 'This', 'automatic', 'notification', 'message', 'was', 'sent', 'by', 'Sakai', 'Collab', '(https://collab.sakaiproject.org/portal)', 'from', 'the', 'Source', 'site.', 'You', 'can', 'modify', 'how', 'you', 'receive', 'notifications', 'at', 'My', 'Workspace', '>', 'Preferences.', 'From', 'david.horwitz@uct.ac.za', 'Fri', 'Jan', '4', '04:49:08', '2008', 'Return-Path:', '<postmaster@collab.sakaiproject.org>', 'Received:', 'from', 'murder', '(mail.umich.edu', '[141.211.14.92])', 'by', 'frankenstein.mail.umich.edu', '(Cyrus', 'v2.3.8)', 'with', 'LMTPA;', 'Fri,', '04', 'Jan', '2008', '04:49:08', '-0500', 'X-Sieve:', 'CMU', 'Sieve', '2.3', 'Received:', 'from', 'murder', '([unix', 'socket])', 'by', 'mail.umich.edu', '(Cyrus', 'v2.2.12)', 'with', 'LMTPA;', 'Fri,', '04', 'Jan', '2008', '04:49:08', '-0500', 'Received:', 'from', 'galaxyquest.mr.itd.umich.edu', '(galaxyquest.mr.itd.umich.edu', '[141.211.93.145])', 'by', 'score.mail.umich.edu', '()', 'with', 'ESMTP', 'id', 'm049n60G017588;', 'Fri,', '4', 'Jan', '2008', '04:49:06', '-0500', 'Received:', 'FROM', 'paploo.uhi.ac.uk', '(app1.prod.collab.uhi.ac.uk', '[194.35.219.184])', 'BY', 'galaxyquest.mr.itd.umich.edu', 'ID', '477E010C.48C2.10259', ';', '4', 'Jan', '2008', '04:49:03', '-0500', 'Received:', 'from', 'paploo.uhi.ac.uk', '(localhost', '[127.0.0.1])', 'by', 'paploo.uhi.ac.uk', '(Postfix)', 'with', 'ESMTP', 'id', '254CC8CDEE;', 'Fri,', '4', 'Jan', '2008', '09:48:55', '+0000', '(GMT)', 'Message-ID:', '<200801040947.m049lUxo006517@nakamura.uits.iupui.edu>', 'Mime-Version:', '1.0', 'Content-Transfer-Encoding:', '7bit', 'Received:', 'from', 'prod.collab.uhi.ac.uk', '([194.35.219.182])', 'by', 'paploo.uhi.ac.uk', '(JAMES', 'SMTP', 'Server', '2.1.3)', 'with', 'SMTP', 'ID', '246', 'for', '<source@collab.sakaiproject.org>;', 'Fri,', '4', 'Jan', '2008', '09:48:36', '+0000', '(GMT)', 'Received:', 'from', 'nakamura.uits.iupui.edu', '(nakamura.uits.iupui.edu', '[134.68.220.122])', 'by', 'shmi.uhi.ac.uk', '(Postfix)', 'with', 'ESMTP', 'id', '8C13342C92', 'for', '<source@collab.sakaiproject.org>;', 'Fri,', '4', 'Jan', '2008', '09:48:40', '+0000', '(GMT)', 'Received:', 'from', 'nakamura.uits.iupui.edu', '(localhost', '[127.0.0.1])', 'by', 'nakamura.uits.iupui.edu', '(8.12.11.20060308/8.12.11)', 'with', 'ESMTP', 'id', 'm049lU3P006519', 'for', '<source@collab.sakaiproject.org>;', 'Fri,', '4', 'Jan', '2008', '04:47:30', '-0500', 'Received:', '(from', 'apache@localhost)', 'by', 'nakamura.uits.iupui.edu', '(8.12.11.20060308/8.12.11/Submit)', 'id', 'm049lUxo006517', 'for', 'source@collab.sakaiproject.org;', 'Fri,', '4', 'Jan', '2008', '04:47:30', '-0500', 'Date:', 'Fri,', '4', 'Jan', '2008', '04:47:30', '-0500', 'X-Authentication-Warning:', 'nakamura.uits.iupui.edu:', 'apache', 'set', 'sender', 'to', 'david.horwitz@uct.ac.za', 'using', '-f', 'To:', 'source@collab.sakaiproject.org', 'From:', 'david.horwitz@uct.ac.za', 'Subject:', '[sakai]', 'svn', 'commit:', 'r39752', '-', 'in', 'podcasts/branches/sakai_2-5-x/podcasts-app/src/webapp:', 'css', 'podcasts', 'X-Content-Type-Outer-Envelope:', 'text/plain;', 'charset=UTF-8', 'X-Content-Type-Message-Body:', 'text/plain;', 'charset=UTF-8', 'Content-Type:', 'text/plain;', 'charset=UTF-8', 'X-DSPAM-Result:', 'Innocent', 'X-DSPAM-Processed:', 'Fri', 'Jan', '4', '04:49:08', '2008', 'X-DSPAM-Confidence:', '0.6528', 'X-DSPAM-Probability:', '0.0000', 'Details:', 'http://source.sakaiproject.org/viewsvn/?view=rev&rev=39752', 'Author:', 'david.horwitz@uct.ac.za', 'Date:', '2008-01-04', '04:47:16', '-0500', '(Fri,', '04', 'Jan', '2008)', 'New', 'Revision:', '39752', 'Modified:', 'podcasts/branches/sakai_2-5-x/podcasts-app/src/webapp/css/podcaster.css', 'podcasts/branches/sakai_2-5-x/podcasts-app/src/webapp/podcasts/podMain.jsp', 'Log:', 'svn', 'log', '-r39641', 'https://source.sakaiproject.org/svn/podcasts/trunk', '------------------------------------------------------------------------', 'r39641', '|', 'josrodri@iupui.edu', '|', '2007-12-28', '23:44:24', '+0200', '(Fri,', '28', 'Dec', '2007)', '|', '1', 'line', 'SAK-9882:', 'refactored', 'podMain.jsp', 'the', 'right', 'way', '(at', 'least', 'much', 'closer', 'to)', '------------------------------------------------------------------------', 'dhorwitz@david-horwitz-6:~/branchManagemnt/sakai_2-5-x>', 'svn', 'merge', '-c39641', 'https://source.sakaiproject.org/svn/podcasts/trunk', 'podcasts/', 'C', 'podcasts/podcasts-app/src/webapp/podcasts/podMain.jsp', 'U', 'podcasts/podcasts-app/src/webapp/css/podcaster.css', 'conflict', 'merged', 'manualy', '----------------------', 'This', 'automatic', 'notification', 'message', 'was', 'sent', 'by', 'Sakai', 'Collab', '(https://collab.sakaiproject.org/portal)', 'from', 'the', 'Source', 'site.', 'You', 'can', 'modify', 'how', 'you', 'receive', 'notifications', 'at', 'My', 'Workspace', '>', 'Preferences.', 'From', 'david.horwitz@uct.ac.za', 'Fri', 'Jan', '4', '04:33:44', '2008', 'Return-Path:', '<postmaster@collab.sakaiproject.org>', 'Received:', 'from', 'murder', '(mail.umich.edu', '[141.211.14.46])', 'by', 'frankenstein.mail.umich.edu', '(Cyrus', 'v2.3.8)', 'with', 'LMTPA;', 'Fri,', '04', 'Jan', '2008', '04:33:44', '-0500', 'X-Sieve:', 'CMU', 'Sieve', '2.3', 'Received:', 'from', 'murder', '([unix', 'socket])', 'by', 'mail.umich.edu', '(Cyrus', 'v2.2.12)', 'with', 'LMTPA;', 'Fri,', '04', 'Jan', '2008', '04:33:44', '-0500', 'Received:', 'from', 'workinggirl.mr.itd.umich.edu', '(workinggirl.mr.itd.umich.edu', '[141.211.93.143])', 'by', 'fan.mail.umich.edu', '()', 'with', 'ESMTP', 'id', 'm049Xge3031803;', 'Fri,', '4', 'Jan', '2008', '04:33:42', '-0500', 'Received:', 'FROM', 'paploo.uhi.ac.uk', '(app1.prod.collab.uhi.ac.uk', '[194.35.219.184])', 'BY', 'workinggirl.mr.itd.umich.edu', 'ID', '477DFD6C.75DBE.26054', ';', '4', 'Jan', '2008', '04:33:35', '-0500', 'Received:', 'from', 'paploo.uhi.ac.uk', '(localhost', '[127.0.0.1])', 'by', 'paploo.uhi.ac.uk', '(Postfix)', 'with', 'ESMTP', 'id', '6C929BA656;', 'Fri,', '4', 'Jan', '2008', '09:33:27', '+0000', '(GMT)', 'Message-ID:', '<200801040932.m049W2i5006493@nakamura.uits.iupui.edu>', 'Mime-Version:', '1.0', 'Content-Transfer-Encoding:', '7bit', 'Received:', 'from', 'prod.collab.uhi.ac.uk', '([194.35.219.182])', 'by', 'paploo.uhi.ac.uk', '(JAMES', 'SMTP', 'Server', '2.1.3)', 'with', 'SMTP', 'ID', '153', 'for', '<source@collab.sakaiproject.org>;', 'Fri,', '4', 'Jan', '2008', '09:33:10', '+0000', '(GMT)', 'Received:', 'from', 'nakamura.uits.iupui.edu', '(nakamura.uits.iupui.edu', '[134.68.220.122])', 'by', 'shmi.uhi.ac.uk', '(Postfix)', 'with', 'ESMTP', 'id', '6C69423767', 'for', '<source@collab.sakaiproject.org>;', 'Fri,', '4', 'Jan', '2008', '09:33:13', '+0000', '(GMT)', 'Received:', 'from', 'nakamura.uits.iupui.edu', '(localhost', '[127.0.0.1])', 'by', 'nakamura.uits.iupui.edu', '(8.12.11.20060308/8.12.11)', 'with', 'ESMTP', 'id', 'm049W3fl006495', 'for', '<source@collab.sakaiproject.org>;', 'Fri,', '4', 'Jan', '2008', '04:32:03', '-0500', 'Received:', '(from', 'apache@localhost)', 'by', 'nakamura.uits.iupui.edu', '(8.12.11.20060308/8.12.11/Submit)', 'id', 'm049W2i5006493', 'for', 'source@collab.sakaiproject.org;', 'Fri,', '4', 'Jan', '2008', '04:32:02', '-0500', 'Date:', 'Fri,', '4', 'Jan', '2008', '04:32:02', '-0500', 'X-Authentication-Warning:', 'nakamura.uits.iupui.edu:', 'apache', 'set', 'sender', 'to', 'david.horwitz@uct.ac.za', 'using', '-f', 'To:', 'source@collab.sakaiproject.org', 'From:', 'david.horwitz@uct.ac.za', 'Subject:', '[sakai]', 'svn', 'commit:', 'r39751', '-', 'in', 'podcasts/branches/sakai_2-5-x/podcasts-app/src/webapp:', 'css', 'images', 'podcasts', 'X-Content-Type-Outer-Envelope:', 'text/plain;', 'charset=UTF-8', 'X-Content-Type-Message-Body:', 'text/plain;', 'charset=UTF-8', 'Content-Type:', 'text/plain;', 'charset=UTF-8', 'X-DSPAM-Result:', 'Innocent', 'X-DSPAM-Processed:', 'Fri', 'Jan', '4', '04:33:44', '2008', 'X-DSPAM-Confidence:', '0.7002', 'X-DSPAM-Probability:', '0.0000', 'Details:', 'http://source.sakaiproject.org/viewsvn/?view=rev&rev=39751', 'Author:', 'david.horwitz@uct.ac.za', 'Date:', '2008-01-04', '04:31:35', '-0500', '(Fri,', '04', 'Jan', '2008)', 'New', 'Revision:', '39751', 'Removed:', 'podcasts/branches/sakai_2-5-x/podcasts-app/src/webapp/images/rss-feed-icon.png', 'podcasts/branches/sakai_2-5-x/podcasts-app/src/webapp/podcasts/podPermissions.jsp', 'Modified:', 'podcasts/branches/sakai_2-5-x/podcasts-app/src/webapp/css/podcaster.css', 'podcasts/branches/sakai_2-5-x/podcasts-app/src/webapp/podcasts/podDelete.jsp', 'podcasts/branches/sakai_2-5-x/podcasts-app/src/webapp/podcasts/podMain.jsp', 'podcasts/branches/sakai_2-5-x/podcasts-app/src/webapp/podcasts/podNoResource.jsp', 'podcasts/branches/sakai_2-5-x/podcasts-app/src/webapp/podcasts/podOptions.jsp', 'Log:', 'svn', 'log', '-r39146', 'https://source.sakaiproject.org/svn/podcasts/trunk', '------------------------------------------------------------------------', 'r39146', '|', 'josrodri@iupui.edu', '|', '2007-12-12', '21:40:33', '+0200', '(Wed,', '12', 'Dec', '2007)', '|', '1', 'line', 'SAK-9882:', 'refactored', 'the', 'other', 'pages', 'as', 'well', 'to', 'take', 'advantage', 'of', 'proper', 'jsp', 'components', 'as', 'well', 'as', 'validation', 'cleanup.', '------------------------------------------------------------------------', 'dhorwitz@david-horwitz-6:~/branchManagemnt/sakai_2-5-x>', 'svn', 'merge', '-c39146', 'https://source.sakaiproject.org/svn/podcasts/trunk', 'podcasts/', 'D', 'podcasts/podcasts-app/src/webapp/podcasts/podPermissions.jsp', 'U', 'podcasts/podcasts-app/src/webapp/podcasts/podDelete.jsp', 'U', 'podcasts/podcasts-app/src/webapp/podcasts/podMain.jsp', 'U', 'podcasts/podcasts-app/src/webapp/podcasts/podNoResource.jsp', 'U', 'podcasts/podcasts-app/src/webapp/podcasts/podOptions.jsp', 'D', 'podcasts/podcasts-app/src/webapp/images/rss-feed-icon.png', 'U', 'podcasts/podcasts-app/src/webapp/css/podcaster.css', '----------------------', 'This', 'automatic', 'notification', 'message', 'was', 'sent', 'by', 'Sakai', 'Collab', '(https://collab.sakaiproject.org/portal)', 'from', 'the', 'Source', 'site.', 'You', 'can', 'modify', 'how', 'you', 'receive', 'notifications', 'at', 'My', 'Workspace', '>', 'Preferences.', 'From', 'stephen.marquard@uct.ac.za', 'Fri', 'Jan', '4', '04:07:34', '2008', 'Return-Path:', '<postmaster@collab.sakaiproject.org>', 'Received:', 'from', 'murder', '(mail.umich.edu', '[141.211.14.25])', 'by', 'frankenstein.mail.umich.edu', '(Cyrus', 'v2.3.8)', 'with', 'LMTPA;', 'Fri,', '04', 'Jan', '2008', '04:07:34', '-0500', 'X-Sieve:', 'CMU', 'Sieve', '2.3', 'Received:', 'from', 'murder', '([unix', 'socket])', 'by', 'mail.umich.edu', '(Cyrus', 'v2.2.12)', 'with', 'LMTPA;', 'Fri,', '04', 'Jan', '2008', '04:07:34', '-0500', 'Received:', 'from', 'salemslot.mr.itd.umich.edu', '(salemslot.mr.itd.umich.edu', '[141.211.14.58])', 'by', 'panther.mail.umich.edu', '()', 'with', 'ESMTP', 'id', 'm0497WAN027902;', 'Fri,', '4', 'Jan', '2008', '04:07:32', '-0500', 'Received:', 'FROM', 'paploo.uhi.ac.uk', '(app1.prod.collab.uhi.ac.uk', '[194.35.219.184])', 'BY', 'salemslot.mr.itd.umich.edu', 'ID', '477DF74E.49493.30415', ';', '4', 'Jan', '2008', '04:07:29', '-0500', 'Received:', 'from', 'paploo.uhi.ac.uk', '(localhost', '[127.0.0.1])', 'by', 'paploo.uhi.ac.uk', '(Postfix)', 'with', 'ESMTP', 'id', '88598BA5B6;', 'Fri,', '4', 'Jan', '2008', '09:07:19', '+0000', '(GMT)', 'Message-ID:', '<200801040905.m0495rWB006420@nakamura.uits.iupui.edu>', 'Mime-Version:', '1.0', 'Content-Transfer-Encoding:', '7bit', 'Received:', 'from', 'prod.collab.uhi.ac.uk', '([194.35.219.182])', 'by', 'paploo.uhi.ac.uk', '(JAMES', 'SMTP', 'Server', '2.1.3)', 'with', 'SMTP', 'ID', '385', 'for', '<source@collab.sakaiproject.org>;', 'Fri,', '4', 'Jan', '2008', '09:07:04', '+0000', '(GMT)', 'Received:', 'from', 'nakamura.uits.iupui.edu', '(nakamura.uits.iupui.edu', '[134.68.220.122])', 'by', 'shmi.uhi.ac.uk', '(Postfix)', 'with', 'ESMTP', 'id', '90636418A8', 'for', '<source@collab.sakaiproject.org>;', 'Fri,', '4', 'Jan', '2008', '09:07:04', '+0000', '(GMT)', 'Received:', 'from', 'nakamura.uits.iupui.edu', '(localhost', '[127.0.0.1])', 'by', 'nakamura.uits.iupui.edu', '(8.12.11.20060308/8.12.11)', 'with', 'ESMTP', 'id', 'm0495sZs006422', 'for', '<source@collab.sakaiproject.org>;', 'Fri,', '4', 'Jan', '2008', '04:05:54', '-0500', 'Received:', '(from', 'apache@localhost)', 'by', 'nakamura.uits.iupui.edu', '(8.12.11.20060308/8.12.11/Submit)', 'id', 'm0495rWB006420', 'for', 'source@collab.sakaiproject.org;', 'Fri,', '4', 'Jan', '2008', '04:05:53', '-0500', 'Date:', 'Fri,', '4', 'Jan', '2008', '04:05:53', '-0500', 'X-Authentication-Warning:', 'nakamura.uits.iupui.edu:', 'apache', 'set', 'sender', 'to', 'stephen.marquard@uct.ac.za', 'using', '-f', 'To:', 'source@collab.sakaiproject.org', 'From:', 'stephen.marquard@uct.ac.za', 'Subject:', '[sakai]', 'svn', 'commit:', 'r39750', '-', 'event/branches/SAK-6216/event-util/util/src/java/org/sakaiproject/util', 'X-Content-Type-Outer-Envelope:', 'text/plain;', 'charset=UTF-8', 'X-Content-Type-Message-Body:', 'text/plain;', 'charset=UTF-8', 'Content-Type:', 'text/plain;', 'charset=UTF-8', 'X-DSPAM-Result:', 'Innocent', 'X-DSPAM-Processed:', 'Fri', 'Jan', '4', '04:07:34', '2008', 'X-DSPAM-Confidence:', '0.7554', 'X-DSPAM-Probability:', '0.0000', 'Details:', 'http://source.sakaiproject.org/viewsvn/?view=rev&rev=39750', 'Author:', 'stephen.marquard@uct.ac.za', 'Date:', '2008-01-04', '04:05:43', '-0500', '(Fri,', '04', 'Jan', '2008)', 'New', 'Revision:', '39750', 'Modified:', 'event/branches/SAK-6216/event-util/util/src/java/org/sakaiproject/util/EmailNotification.java', 'Log:', 'SAK-6216', 'merge', 'event', 'change', 'from', 'SAK-11169', '(r39033)', 'to', 'synchronize', 'branch', 'with', '2-5-x', '(for', 'convenience', 'for', 'UCT', 'local', 'build)', '----------------------', 'This', 'automatic', 'notification', 'message', 'was', 'sent', 'by', 'Sakai', 'Collab', '(https://collab.sakaiproject.org/portal)', 'from', 'the', 'Source', 'site.', 'You', 'can', 'modify', 'how', 'you', 'receive', 'notifications', 'at', 'My', 'Workspace', '>', 'Preferences.', 'From', 'louis@media.berkeley.edu', 'Thu', 'Jan', '3', '19:51:21', '2008', 'Return-Path:', '<postmaster@collab.sakaiproject.org>', 'Received:', 'from', 'murder', '(mail.umich.edu', '[141.211.14.91])', 'by', 'frankenstein.mail.umich.edu', '(Cyrus', 'v2.3.8)', 'with', 'LMTPA;', 'Thu,', '03', 'Jan', '2008', '19:51:21', '-0500', 'X-Sieve:', 'CMU', 'Sieve', '2.3', 'Received:', 'from', 'murder', '([unix', 'socket])', 'by', 'mail.umich.edu', '(Cyrus', 'v2.2.12)', 'with', 'LMTPA;', 'Thu,', '03', 'Jan', '2008', '19:51:21', '-0500', 'Received:', 'from', 'eyewitness.mr.itd.umich.edu', '(eyewitness.mr.itd.umich.edu', '[141.211.93.142])', 'by', 'jacknife.mail.umich.edu', '()', 'with', 'ESMTP', 'id', 'm040pJHB027171;', 'Thu,', '3', 'Jan', '2008', '19:51:19', '-0500', 'Received:', 'FROM', 'paploo.uhi.ac.uk', '(app1.prod.collab.uhi.ac.uk', '[194.35.219.184])', 'BY', 'eyewitness.mr.itd.umich.edu', 'ID', '477D8300.AC098.32562', ';', '3', 'Jan', '2008', '19:51:15', '-0500', 'Received:', 'from', 'paploo.uhi.ac.uk', '(localhost', '[127.0.0.1])', 'by', 'paploo.uhi.ac.uk', '(Postfix)', 'with', 'ESMTP', 'id', 'E6CC4B9F8A;', 'Fri,', '4', 'Jan', '2008', '00:36:06', '+0000', '(GMT)', 'Message-ID:', '<200801040023.m040NpCc005473@nakamura.uits.iupui.edu>', 'Mime-Version:', '1.0', 'Content-Transfer-Encoding:', '7bit', 'Received:', 'from', 'prod.collab.uhi.ac.uk', '([194.35.219.182])', 'by', 'paploo.uhi.ac.uk', '(JAMES', 'SMTP', 'Server', '2.1.3)', 'with', 'SMTP', 'ID', '754', 'for', '<source@collab.sakaiproject.org>;', 'Fri,', '4', 'Jan', '2008', '00:35:43', '+0000', '(GMT)', 'Received:', 'from', 'nakamura.uits.iupui.edu', '(nakamura.uits.iupui.edu', '[134.68.220.122])', 'by', 'shmi.uhi.ac.uk', '(Postfix)', 'with', 'ESMTP', 'id', '8889842C49', 'for', '<source@collab.sakaiproject.org>;', 'Fri,', '4', 'Jan', '2008', '00:25:00', '+0000', '(GMT)', 'Received:', 'from', 'nakamura.uits.iupui.edu', '(localhost', '[127.0.0.1])', 'by', 'nakamura.uits.iupui.edu', '(8.12.11.20060308/8.12.11)', 'with', 'ESMTP', 'id', 'm040NpgM005475', 'for', '<source@collab.sakaiproject.org>;', 'Thu,', '3', 'Jan', '2008', '19:23:51', '-0500', 'Received:', '(from', 'apache@localhost)', 'by', 'nakamura.uits.iupui.edu', '(8.12.11.20060308/8.12.11/Submit)', 'id', 'm040NpCc005473', 'for', 'source@collab.sakaiproject.org;', 'Thu,', '3', 'Jan', '2008', '19:23:51', '-0500', 'Date:', 'Thu,', '3', 'Jan', '2008', '19:23:51', '-0500', 'X-Authentication-Warning:', 'nakamura.uits.iupui.edu:', 'apache', 'set', 'sender', 'to', 'louis@media.berkeley.edu', 'using', '-f', 'To:', 'source@collab.sakaiproject.org', 'From:', 'louis@media.berkeley.edu', 'Subject:', '[sakai]', 'svn', 'commit:', 'r39749', '-', 'in', 'bspace/site-manage/sakai_2-4-x/site-manage-tool/tool/src:', 'bundle', 'webapp/vm/sitesetup', 'X-Content-Type-Outer-Envelope:', 'text/plain;', 'charset=UTF-8', 'X-Content-Type-Message-Body:', 'text/plain;', 'charset=UTF-8', 'Content-Type:', 'text/plain;', 'charset=UTF-8', 'X-DSPAM-Result:', 'Innocent', 'X-DSPAM-Processed:', 'Thu', 'Jan', '3', '19:51:20', '2008', 'X-DSPAM-Confidence:', '0.6956', 'X-DSPAM-Probability:', '0.0000', 'Details:', 'http://source.sakaiproject.org/viewsvn/?view=rev&rev=39749', 'Author:', 'louis@media.berkeley.edu', 'Date:', '2008-01-03', '19:23:46', '-0500', '(Thu,', '03', 'Jan', '2008)', 'New', 'Revision:', '39749', 'Modified:', 'bspace/site-manage/sakai_2-4-x/site-manage-tool/tool/src/bundle/sitesetupgeneric.properties', 'bspace/site-manage/sakai_2-4-x/site-manage-tool/tool/src/webapp/vm/sitesetup/chef_site-importSites.vm', 'Log:', 'BSP-1420', 'Update', 'text', 'to', 'clarify', '\"Re-Use', 'Materials...\"', 'option', 'in', 'WS', 'Setup', '----------------------', 'This', 'automatic', 'notification', 'message', 'was', 'sent', 'by', 'Sakai', 'Collab', '(https://collab.sakaiproject.org/portal)', 'from', 'the', 'Source', 'site.', 'You', 'can', 'modify', 'how', 'you', 'receive', 'notifications', 'at', 'My', 'Workspace', '>', 'Preferences.', 'From', 'louis@media.berkeley.edu', 'Thu', 'Jan', '3', '17:18:23', '2008', 'Return-Path:', '<postmaster@collab.sakaiproject.org>', 'Received:', 'from', 'murder', '(mail.umich.edu', '[141.211.14.91])', 'by', 'frankenstein.mail.umich.edu', '(Cyrus', 'v2.3.8)', 'with', 'LMTPA;', 'Thu,', '03', 'Jan', '2008', '17:18:23', '-0500', 'X-Sieve:', 'CMU', 'Sieve', '2.3', 'Received:', 'from', 'murder', '([unix', 'socket])', 'by', 'mail.umich.edu', '(Cyrus', 'v2.2.12)', 'with', 'LMTPA;', 'Thu,', '03', 'Jan', '2008', '17:18:23', '-0500', 'Received:', 'from', 'salemslot.mr.itd.umich.edu', '(salemslot.mr.itd.umich.edu', '[141.211.14.58])', 'by', 'jacknife.mail.umich.edu', '()', 'with', 'ESMTP', 'id', 'm03MIMXY027729;', 'Thu,', '3', 'Jan', '2008', '17:18:22', '-0500', 'Received:', 'FROM', 'paploo.uhi.ac.uk', '(app1.prod.collab.uhi.ac.uk', '[194.35.219.184])', 'BY', 'salemslot.mr.itd.umich.edu', 'ID', '477D5F23.797F6.16348', ';', '3', 'Jan', '2008', '17:18:14', '-0500', 'Received:', 'from', 'paploo.uhi.ac.uk', '(localhost', '[127.0.0.1])', 'by', 'paploo.uhi.ac.uk', '(Postfix)', 'with', 'ESMTP', 'id', 'EF439B98CE;', 'Thu,', '3', 'Jan', '2008', '22:18:19', '+0000', '(GMT)', 'Message-ID:', '<200801032216.m03MGhDa005292@nakamura.uits.iupui.edu>', 'Mime-Version:', '1.0', 'Content-Transfer-Encoding:', '7bit', 'Received:', 'from', 'prod.collab.uhi.ac.uk', '([194.35.219.182])', 'by', 'paploo.uhi.ac.uk', '(JAMES', 'SMTP', 'Server', '2.1.3)', 'with', 'SMTP', 'ID', '236', 'for', '<source@collab.sakaiproject.org>;', 'Thu,', '3', 'Jan', '2008', '22:18:04', '+0000', '(GMT)', 'Received:', 'from', 'nakamura.uits.iupui.edu', '(nakamura.uits.iupui.edu', '[134.68.220.122])', 'by', 'shmi.uhi.ac.uk', '(Postfix)', 'with', 'ESMTP', 'id', '905D53C2FD', 'for', '<source@collab.sakaiproject.org>;', 'Thu,', '3', 'Jan', '2008', '22:17:52', '+0000', '(GMT)', 'Received:', 'from', 'nakamura.uits.iupui.edu', '(localhost', '[127.0.0.1])', 'by', 'nakamura.uits.iupui.edu', '(8.12.11.20060308/8.12.11)', 'with', 'ESMTP', 'id', 'm03MGhrs005294', 'for', '<source@collab.sakaiproject.org>;', 'Thu,', '3', 'Jan', '2008', '17:16:43', '-0500', 'Received:', '(from', 'apache@localhost)', 'by', 'nakamura.uits.iupui.edu', '(8.12.11.20060308/8.12.11/Submit)', 'id', 'm03MGhDa005292', 'for', 'source@collab.sakaiproject.org;', 'Thu,', '3', 'Jan', '2008', '17:16:43', '-0500', 'Date:', 'Thu,', '3', 'Jan', '2008', '17:16:43', '-0500', 'X-Authentication-Warning:', 'nakamura.uits.iupui.edu:', 'apache', 'set', 'sender', 'to', 'louis@media.berkeley.edu', 'using', '-f', 'To:', 'source@collab.sakaiproject.org', 'From:', 'louis@media.berkeley.edu', 'Subject:', '[sakai]', 'svn', 'commit:', 'r39746', '-', 'in', 'bspace/site-manage/sakai_2-4-x/site-manage-tool/tool/src:', 'bundle', 'webapp/vm/sitesetup', 'X-Content-Type-Outer-Envelope:', 'text/plain;', 'charset=UTF-8', 'X-Content-Type-Message-Body:', 'text/plain;', 'charset=UTF-8', 'Content-Type:', 'text/plain;', 'charset=UTF-8', 'X-DSPAM-Result:', 'Innocent', 'X-DSPAM-Processed:', 'Thu', 'Jan', '3', '17:18:23', '2008', 'X-DSPAM-Confidence:', '0.6959', 'X-DSPAM-Probability:', '0.0000', 'Details:', 'http://source.sakaiproject.org/viewsvn/?view=rev&rev=39746', 'Author:', 'louis@media.berkeley.edu', 'Date:', '2008-01-03', '17:16:39', '-0500', '(Thu,', '03', 'Jan', '2008)', 'New', 'Revision:', '39746', 'Modified:', 'bspace/site-manage/sakai_2-4-x/site-manage-tool/tool/src/bundle/sitesetupgeneric.properties', 'bspace/site-manage/sakai_2-4-x/site-manage-tool/tool/src/webapp/vm/sitesetup/chef_site-siteInfo-duplicate.vm', 'Log:', 'BSP-1421', 'Add', 'text', 'to', 'clarify', '\"Duplicate', 'Site\"', 'option', 'in', 'Site', 'Info', '----------------------', 'This', 'automatic', 'notification', 'message', 'was', 'sent', 'by', 'Sakai', 'Collab', '(https://collab.sakaiproject.org/portal)', 'from', 'the', 'Source', 'site.', 'You', 'can', 'modify', 'how', 'you', 'receive', 'notifications', 'at', 'My', 'Workspace', '>', 'Preferences.', 'From', 'ray@media.berkeley.edu', 'Thu', 'Jan', '3', '17:07:00', '2008', 'Return-Path:', '<postmaster@collab.sakaiproject.org>', 'Received:', 'from', 'murder', '(mail.umich.edu', '[141.211.14.39])', 'by', 'frankenstein.mail.umich.edu', '(Cyrus', 'v2.3.8)', 'with', 'LMTPA;', 'Thu,', '03', 'Jan', '2008', '17:07:00', '-0500', 'X-Sieve:', 'CMU', 'Sieve', '2.3', 'Received:', 'from', 'murder', '([unix', 'socket])', 'by', 'mail.umich.edu', '(Cyrus', 'v2.2.12)', 'with', 'LMTPA;', 'Thu,', '03', 'Jan', '2008', '17:07:00', '-0500', 'Received:', 'from', 'anniehall.mr.itd.umich.edu', '(anniehall.mr.itd.umich.edu', '[141.211.93.141])', 'by', 'faithful.mail.umich.edu', '()', 'with', 'ESMTP', 'id', 'm03M6xaq014868;', 'Thu,', '3', 'Jan', '2008', '17:06:59', '-0500', 'Received:', 'FROM', 'paploo.uhi.ac.uk', '(app1.prod.collab.uhi.ac.uk', '[194.35.219.184])', 'BY', 'anniehall.mr.itd.umich.edu', 'ID', '477D5C7A.4FE1F.22211', ';', '3', 'Jan', '2008', '17:06:53', '-0500', 'Received:', 'from', 'paploo.uhi.ac.uk', '(localhost', '[127.0.0.1])', 'by', 'paploo.uhi.ac.uk', '(Postfix)', 'with', 'ESMTP', 'id', '0BC8D7225E;', 'Thu,', '3', 'Jan', '2008', '22:06:57', '+0000', '(GMT)', 'Message-ID:', '<200801032205.m03M5Ea7005273@nakamura.uits.iupui.edu>', 'Mime-Version:', '1.0', 'Content-Transfer-Encoding:', '7bit', 'Received:', 'from', 'prod.collab.uhi.ac.uk', '([194.35.219.182])', 'by', 'paploo.uhi.ac.uk', '(JAMES', 'SMTP', 'Server', '2.1.3)', 'with', 'SMTP', 'ID', '554', 'for', '<source@collab.sakaiproject.org>;', 'Thu,', '3', 'Jan', '2008', '22:06:34', '+0000', '(GMT)', 'Received:', 'from', 'nakamura.uits.iupui.edu', '(nakamura.uits.iupui.edu', '[134.68.220.122])', 'by', 'shmi.uhi.ac.uk', '(Postfix)', 'with', 'ESMTP', 'id', '2AB513C2FD', 'for', '<source@collab.sakaiproject.org>;', 'Thu,', '3', 'Jan', '2008', '22:06:23', '+0000', '(GMT)', 'Received:', 'from', 'nakamura.uits.iupui.edu', '(localhost', '[127.0.0.1])', 'by', 'nakamura.uits.iupui.edu', '(8.12.11.20060308/8.12.11)', 'with', 'ESMTP', 'id', 'm03M5EQa005275', 'for', '<source@collab.sakaiproject.org>;', 'Thu,', '3', 'Jan', '2008', '17:05:14', '-0500', 'Received:', '(from', 'apache@localhost)', 'by', 'nakamura.uits.iupui.edu', '(8.12.11.20060308/8.12.11/Submit)', 'id', 'm03M5Ea7005273', 'for', 'source@collab.sakaiproject.org;', 'Thu,', '3', 'Jan', '2008', '17:05:14', '-0500', 'Date:', 'Thu,', '3', 'Jan', '2008', '17:05:14', '-0500', 'X-Authentication-Warning:', 'nakamura.uits.iupui.edu:', 'apache', 'set', 'sender', 'to', 'ray@media.berkeley.edu', 'using', '-f', 'To:', 'source@collab.sakaiproject.org', 'From:', 'ray@media.berkeley.edu', 'Subject:', '[sakai]', 'svn', 'commit:', 'r39745', '-', 'providers/trunk/cm/cm-authz-provider/src/java/org/sakaiproject/coursemanagement/impl/provider', 'X-Content-Type-Outer-Envelope:', 'text/plain;', 'charset=UTF-8', 'X-Content-Type-Message-Body:', 'text/plain;', 'charset=UTF-8', 'Content-Type:', 'text/plain;', 'charset=UTF-8', 'X-DSPAM-Result:', 'Innocent', 'X-DSPAM-Processed:', 'Thu', 'Jan', '3', '17:07:00', '2008', 'X-DSPAM-Confidence:', '0.7556', 'X-DSPAM-Probability:', '0.0000', 'Details:', 'http://source.sakaiproject.org/viewsvn/?view=rev&rev=39745', 'Author:', 'ray@media.berkeley.edu', 'Date:', '2008-01-03', '17:05:11', '-0500', '(Thu,', '03', 'Jan', '2008)', 'New', 'Revision:', '39745', 'Modified:', 'providers/trunk/cm/cm-authz-provider/src/java/org/sakaiproject/coursemanagement/impl/provider/CourseManagementGroupProvider.java', 'Log:', 'SAK-12602', 'Fix', 'logic', 'when', 'a', 'user', 'has', 'multiple', 'roles', 'in', 'a', 'section', '----------------------', 'This', 'automatic', 'notification', 'message', 'was', 'sent', 'by', 'Sakai', 'Collab', '(https://collab.sakaiproject.org/portal)', 'from', 'the', 'Source', 'site.', 'You', 'can', 'modify', 'how', 'you', 'receive', 'notifications', 'at', 'My', 'Workspace', '>', 'Preferences.', 'From', 'cwen@iupui.edu', 'Thu', 'Jan', '3', '16:34:40', '2008', 'Return-Path:', '<postmaster@collab.sakaiproject.org>', 'Received:', 'from', 'murder', '(mail.umich.edu', '[141.211.14.34])', 'by', 'frankenstein.mail.umich.edu', '(Cyrus', 'v2.3.8)', 'with', 'LMTPA;', 'Thu,', '03', 'Jan', '2008', '16:34:40', '-0500', 'X-Sieve:', 'CMU', 'Sieve', '2.3', 'Received:', 'from', 'murder', '([unix', 'socket])', 'by', 'mail.umich.edu', '(Cyrus', 'v2.2.12)', 'with', 'LMTPA;', 'Thu,', '03', 'Jan', '2008', '16:34:40', '-0500', 'Received:', 'from', 'icestorm.mr.itd.umich.edu', '(icestorm.mr.itd.umich.edu', '[141.211.93.149])', 'by', 'chaos.mail.umich.edu', '()', 'with', 'ESMTP', 'id', 'm03LYdY1029538;', 'Thu,', '3', 'Jan', '2008', '16:34:39', '-0500', 'Received:', 'FROM', 'paploo.uhi.ac.uk', '(app1.prod.collab.uhi.ac.uk', '[194.35.219.184])', 'BY', 'icestorm.mr.itd.umich.edu', 'ID', '477D54EA.13F34.26602', ';', '3', 'Jan', '2008', '16:34:36', '-0500', 'Received:', 'from', 'paploo.uhi.ac.uk', '(localhost', '[127.0.0.1])', 'by', 'paploo.uhi.ac.uk', '(Postfix)', 'with', 'ESMTP', 'id', 'CC710ADC79;', 'Thu,', '3', 'Jan', '2008', '21:34:29', '+0000', '(GMT)', 'Message-ID:', '<200801032133.m03LX3gG005191@nakamura.uits.iupui.edu>', 'Mime-Version:', '1.0', 'Content-Transfer-Encoding:', '7bit', 'Received:', 'from', 'prod.collab.uhi.ac.uk', '([194.35.219.182])', 'by', 'paploo.uhi.ac.uk', '(JAMES', 'SMTP', 'Server', '2.1.3)', 'with', 'SMTP', 'ID', '611', 'for', '<source@collab.sakaiproject.org>;', 'Thu,', '3', 'Jan', '2008', '21:34:08', '+0000', '(GMT)', 'Received:', 'from', 'nakamura.uits.iupui.edu', '(nakamura.uits.iupui.edu', '[134.68.220.122])', 'by', 'shmi.uhi.ac.uk', '(Postfix)', 'with', 'ESMTP', 'id', '43C4242B55', 'for', '<source@collab.sakaiproject.org>;', 'Thu,', '3', 'Jan', '2008', '21:34:12', '+0000', '(GMT)', 'Received:', 'from', 'nakamura.uits.iupui.edu', '(localhost', '[127.0.0.1])', 'by', 'nakamura.uits.iupui.edu', '(8.12.11.20060308/8.12.11)', 'with', 'ESMTP', 'id', 'm03LX3Vb005193', 'for', '<source@collab.sakaiproject.org>;', 'Thu,', '3', 'Jan', '2008', '16:33:03', '-0500', 'Received:', '(from', 'apache@localhost)', 'by', 'nakamura.uits.iupui.edu', '(8.12.11.20060308/8.12.11/Submit)', 'id', 'm03LX3gG005191', 'for', 'source@collab.sakaiproject.org;', 'Thu,', '3', 'Jan', '2008', '16:33:03', '-0500', 'Date:', 'Thu,', '3', 'Jan', '2008', '16:33:03', '-0500', 'X-Authentication-Warning:', 'nakamura.uits.iupui.edu:', 'apache', 'set', 'sender', 'to', 'cwen@iupui.edu', 'using', '-f', 'To:', 'source@collab.sakaiproject.org', 'From:', 'cwen@iupui.edu', 'Subject:', '[sakai]', 'svn', 'commit:', 'r39744', '-', 'oncourse/branches/oncourse_OPC_122007', 'X-Content-Type-Outer-Envelope:', 'text/plain;', 'charset=UTF-8', 'X-Content-Type-Message-Body:', 'text/plain;', 'charset=UTF-8', 'Content-Type:', 'text/plain;', 'charset=UTF-8', 'X-DSPAM-Result:', 'Innocent', 'X-DSPAM-Processed:', 'Thu', 'Jan', '3', '16:34:40', '2008', 'X-DSPAM-Confidence:', '0.9846', 'X-DSPAM-Probability:', '0.0000', 'Details:', 'http://source.sakaiproject.org/viewsvn/?view=rev&rev=39744', 'Author:', 'cwen@iupui.edu', 'Date:', '2008-01-03', '16:33:02', '-0500', '(Thu,', '03', 'Jan', '2008)', 'New', 'Revision:', '39744', 'Modified:', 'oncourse/branches/oncourse_OPC_122007/', 'oncourse/branches/oncourse_OPC_122007/.externals', 'Log:', 'update', 'external', 'for', 'GB.', '----------------------', 'This', 'automatic', 'notification', 'message', 'was', 'sent', 'by', 'Sakai', 'Collab', '(https://collab.sakaiproject.org/portal)', 'from', 'the', 'Source', 'site.', 'You', 'can', 'modify', 'how', 'you', 'receive', 'notifications', 'at', 'My', 'Workspace', '>', 'Preferences.', 'From', 'cwen@iupui.edu', 'Thu', 'Jan', '3', '16:29:07', '2008', 'Return-Path:', '<postmaster@collab.sakaiproject.org>', 'Received:', 'from', 'murder', '(mail.umich.edu', '[141.211.14.46])', 'by', 'frankenstein.mail.umich.edu', '(Cyrus', 'v2.3.8)', 'with', 'LMTPA;', 'Thu,', '03', 'Jan', '2008', '16:29:07', '-0500', 'X-Sieve:', 'CMU', 'Sieve', '2.3', 'Received:', 'from', 'murder', '([unix', 'socket])', 'by', 'mail.umich.edu', '(Cyrus', 'v2.2.12)', 'with', 'LMTPA;', 'Thu,', '03', 'Jan', '2008', '16:29:07', '-0500', 'Received:', 'from', 'galaxyquest.mr.itd.umich.edu', '(galaxyquest.mr.itd.umich.edu', '[141.211.93.145])', 'by', 'fan.mail.umich.edu', '()', 'with', 'ESMTP', 'id', 'm03LT6uw027749;', 'Thu,', '3', 'Jan', '2008', '16:29:06', '-0500', 'Received:', 'FROM', 'paploo.uhi.ac.uk', '(app1.prod.collab.uhi.ac.uk', '[194.35.219.184])', 'BY', 'galaxyquest.mr.itd.umich.edu', 'ID', '477D5397.E161D.20326', ';', '3', 'Jan', '2008', '16:28:58', '-0500', 'Received:', 'from', 'paploo.uhi.ac.uk', '(localhost', '[127.0.0.1])', 'by', 'paploo.uhi.ac.uk', '(Postfix)', 'with', 'ESMTP', 'id', 'DEC65ADC79;', 'Thu,', '3', 'Jan', '2008', '21:28:52', '+0000', '(GMT)', 'Message-ID:', '<200801032127.m03LRUqH005177@nakamura.uits.iupui.edu>', 'Mime-Version:', '1.0', 'Content-Transfer-Encoding:', '7bit', 'Received:', 'from', 'prod.collab.uhi.ac.uk', '([194.35.219.182])', 'by', 'paploo.uhi.ac.uk', '(JAMES', 'SMTP', 'Server', '2.1.3)', 'with', 'SMTP', 'ID', '917', 'for', '<source@collab.sakaiproject.org>;', 'Thu,', '3', 'Jan', '2008', '21:28:39', '+0000', '(GMT)', 'Received:', 'from', 'nakamura.uits.iupui.edu', '(nakamura.uits.iupui.edu', '[134.68.220.122])', 'by', 'shmi.uhi.ac.uk', '(Postfix)', 'with', 'ESMTP', 'id', '1FBB042B30', 'for', '<source@collab.sakaiproject.org>;', 'Thu,', '3', 'Jan', '2008', '21:28:38', '+0000', '(GMT)', 'Received:', 'from', 'nakamura.uits.iupui.edu', '(localhost', '[127.0.0.1])', 'by', 'nakamura.uits.iupui.edu', '(8.12.11.20060308/8.12.11)', 'with', 'ESMTP', 'id', 'm03LRUk4005179', 'for', '<source@collab.sakaiproject.org>;', 'Thu,', '3', 'Jan', '2008', '16:27:30', '-0500', 'Received:', '(from', 'apache@localhost)', 'by', 'nakamura.uits.iupui.edu', '(8.12.11.20060308/8.12.11/Submit)', 'id', 'm03LRUqH005177', 'for', 'source@collab.sakaiproject.org;', 'Thu,', '3', 'Jan', '2008', '16:27:30', '-0500', 'Date:', 'Thu,', '3', 'Jan', '2008', '16:27:30', '-0500', 'X-Authentication-Warning:', 'nakamura.uits.iupui.edu:', 'apache', 'set', 'sender', 'to', 'cwen@iupui.edu', 'using', '-f', 'To:', 'source@collab.sakaiproject.org', 'From:', 'cwen@iupui.edu', 'Subject:', '[sakai]', 'svn', 'commit:', 'r39743', '-', 'gradebook/branches/oncourse_2-4-2/app/ui/src/java/org/sakaiproject/tool/gradebook/ui', 'X-Content-Type-Outer-Envelope:', 'text/plain;', 'charset=UTF-8', 'X-Content-Type-Message-Body:', 'text/plain;', 'charset=UTF-8', 'Content-Type:', 'text/plain;', 'charset=UTF-8', 'X-DSPAM-Result:', 'Innocent', 'X-DSPAM-Processed:', 'Thu', 'Jan', '3', '16:29:07', '2008', 'X-DSPAM-Confidence:', '0.8509', 'X-DSPAM-Probability:', '0.0000', 'Details:', 'http://source.sakaiproject.org/viewsvn/?view=rev&rev=39743', 'Author:', 'cwen@iupui.edu', 'Date:', '2008-01-03', '16:27:29', '-0500', '(Thu,', '03', 'Jan', '2008)', 'New', 'Revision:', '39743', 'Modified:', 'gradebook/branches/oncourse_2-4-2/app/ui/src/java/org/sakaiproject/tool/gradebook/ui/RosterBean.java', 'Log:', 'svn', 'merge', '-c', '39403', 'https://source.sakaiproject.org/svn/gradebook/trunk', 'U', 'app/ui/src/java/org/sakaiproject/tool/gradebook/ui/RosterBean.java', 'svn', 'log', '-r', '39403', 'https://source.sakaiproject.org/svn/gradebook/trunk', '------------------------------------------------------------------------', 'r39403', '|', 'wagnermr@iupui.edu', '|', '2007-12-17', '17:11:08', '-0500', '(Mon,', '17', 'Dec', '2007)', '|', '3', 'lines', 'SAK-12504', 'http://jira.sakaiproject.org/jira/browse/SAK-12504', 'Viewing', '\"All', 'Grades\"', 'page', 'as', 'a', 'TA', 'with', 'grader', 'permissions', 'causes', 'stack', 'trace', '------------------------------------------------------------------------', '----------------------', 'This', 'automatic', 'notification', 'message', 'was', 'sent', 'by', 'Sakai', 'Collab', '(https://collab.sakaiproject.org/portal)', 'from', 'the', 'Source', 'site.', 'You', 'can', 'modify', 'how', 'you', 'receive', 'notifications', 'at', 'My', 'Workspace', '>', 'Preferences.', 'From', 'cwen@iupui.edu', 'Thu', 'Jan', '3', '16:23:48', '2008', 'Return-Path:', '<postmaster@collab.sakaiproject.org>', 'Received:', 'from', 'murder', '(mail.umich.edu', '[141.211.14.91])', 'by', 'frankenstein.mail.umich.edu', '(Cyrus', 'v2.3.8)', 'with', 'LMTPA;', 'Thu,', '03', 'Jan', '2008', '16:23:48', '-0500', 'X-Sieve:', 'CMU', 'Sieve', '2.3', 'Received:', 'from', 'murder', '([unix', 'socket])', 'by', 'mail.umich.edu', '(Cyrus', 'v2.2.12)', 'with', 'LMTPA;', 'Thu,', '03', 'Jan', '2008', '16:23:48', '-0500', 'Received:', 'from', 'salemslot.mr.itd.umich.edu', '(salemslot.mr.itd.umich.edu', '[141.211.14.58])', 'by', 'jacknife.mail.umich.edu', '()', 'with', 'ESMTP', 'id', 'm03LNlf0002115;', 'Thu,', '3', 'Jan', '2008', '16:23:47', '-0500', 'Received:', 'FROM', 'paploo.uhi.ac.uk', '(app1.prod.collab.uhi.ac.uk', '[194.35.219.184])', 'BY', 'salemslot.mr.itd.umich.edu', 'ID', '477D525E.1448.30389', ';', '3', 'Jan', '2008', '16:23:44', '-0500', 'Received:', 'from', 'paploo.uhi.ac.uk', '(localhost', '[127.0.0.1])', 'by', 'paploo.uhi.ac.uk', '(Postfix)', 'with', 'ESMTP', 'id', '9D005B9D06;', 'Thu,', '3', 'Jan', '2008', '21:23:38', '+0000', '(GMT)', 'Message-ID:', '<200801032122.m03LMFo4005148@nakamura.uits.iupui.edu>', 'Mime-Version:', '1.0', 'Content-Transfer-Encoding:', '7bit', 'Received:', 'from', 'prod.collab.uhi.ac.uk', '([194.35.219.182])', 'by', 'paploo.uhi.ac.uk', '(JAMES', 'SMTP', 'Server', '2.1.3)', 'with', 'SMTP', 'ID', '6', 'for', '<source@collab.sakaiproject.org>;', 'Thu,', '3', 'Jan', '2008', '21:23:24', '+0000', '(GMT)', 'Received:', 'from', 'nakamura.uits.iupui.edu', '(nakamura.uits.iupui.edu', '[134.68.220.122])', 'by', 'shmi.uhi.ac.uk', '(Postfix)', 'with', 'ESMTP', 'id', '3535542B69', 'for', '<source@collab.sakaiproject.org>;', 'Thu,', '3', 'Jan', '2008', '21:23:24', '+0000', '(GMT)', 'Received:', 'from', 'nakamura.uits.iupui.edu', '(localhost', '[127.0.0.1])', 'by', 'nakamura.uits.iupui.edu', '(8.12.11.20060308/8.12.11)', 'with', 'ESMTP', 'id', 'm03LMFtT005150', 'for', '<source@collab.sakaiproject.org>;', 'Thu,', '3', 'Jan', '2008', '16:22:15', '-0500', 'Received:', '(from', 'apache@localhost)', 'by', 'nakamura.uits.iupui.edu', '(8.12.11.20060308/8.12.11/Submit)', 'id', 'm03LMFo4005148', 'for', 'source@collab.sakaiproject.org;', 'Thu,', '3', 'Jan', '2008', '16:22:15', '-0500', 'Date:', 'Thu,', '3', 'Jan', '2008', '16:22:15', '-0500', 'X-Authentication-Warning:', 'nakamura.uits.iupui.edu:', 'apache', 'set', 'sender', 'to', 'cwen@iupui.edu', 'using', '-f', 'To:', 'source@collab.sakaiproject.org', 'From:', 'cwen@iupui.edu', 'Subject:', '[sakai]', 'svn', 'commit:', 'r39742', '-', 'gradebook/branches/oncourse_2-4-2/app/ui/src/java/org/sakaiproject/tool/gradebook/ui', 'X-Content-Type-Outer-Envelope:', 'text/plain;', 'charset=UTF-8', 'X-Content-Type-Message-Body:', 'text/plain;', 'charset=UTF-8', 'Content-Type:', 'text/plain;', 'charset=UTF-8', 'X-DSPAM-Result:', 'Innocent', 'X-DSPAM-Processed:', 'Thu', 'Jan', '3', '16:23:48', '2008', 'X-DSPAM-Confidence:', '0.9907', 'X-DSPAM-Probability:', '0.0000', 'Details:', 'http://source.sakaiproject.org/viewsvn/?view=rev&rev=39742', 'Author:', 'cwen@iupui.edu', 'Date:', '2008-01-03', '16:22:14', '-0500', '(Thu,', '03', 'Jan', '2008)', 'New', 'Revision:', '39742', 'Modified:', 'gradebook/branches/oncourse_2-4-2/app/ui/src/java/org/sakaiproject/tool/gradebook/ui/RosterBean.java', 'Log:', 'svn', 'merge', '-c', '35014', 'https://source.sakaiproject.org/svn/gradebook/trunk', 'U', 'app/ui/src/java/org/sakaiproject/tool/gradebook/ui/RosterBean.java', 'svn', 'log', '-r', '35014', 'https://source.sakaiproject.org/svn/gradebook/trunk', '------------------------------------------------------------------------', 'r35014', '|', 'wagnermr@iupui.edu', '|', '2007-09-12', '16:17:59', '-0400', '(Wed,', '12', 'Sep', '2007)', '|', '3', 'lines', 'SAK-11458', 'http://bugs.sakaiproject.org/jira/browse/SAK-11458', 'Course', 'grade', 'does', 'not', 'appear', 'on', '\"All', 'Grades\"', 'page', 'if', 'no', 'categories', 'in', 'gb', '------------------------------------------------------------------------', '----------------------', 'This', 'automatic', 'notification', 'message', 'was', 'sent', 'by', 'Sakai', 'Collab', '(https://collab.sakaiproject.org/portal)', 'from', 'the', 'Source', 'site.', 'You', 'can', 'modify', 'how', 'you', 'receive', 'notifications', 'at', 'My', 'Workspace', '>', 'Preferences.']\n",
            "{'From': 27, 'stephen.marquard@uct.ac.za': 8, 'Sat': 2, 'Jan': 352, '5': 10, '09:14:16': 4, '2008': 324, 'Return-Path:': 27, '<postmaster@collab.sakaiproject.org>': 27, 'Received:': 243, 'from': 218, 'murder': 54, '(mail.umich.edu': 27, '[141.211.14.90])': 3, 'by': 245, 'frankenstein.mail.umich.edu': 27, '(Cyrus': 54, 'v2.3.8)': 27, 'with': 194, 'LMTPA;': 54, 'Sat,': 9, '05': 3, '-0500': 219, 'X-Sieve:': 27, 'CMU': 27, 'Sieve': 27, '2.3': 27, '([unix': 27, 'socket])': 27, 'mail.umich.edu': 27, 'v2.2.12)': 27, 'holes.mr.itd.umich.edu': 8, '(holes.mr.itd.umich.edu': 4, '[141.211.14.79])': 4, 'flawless.mail.umich.edu': 3, '()': 27, 'ESMTP': 108, 'id': 136, 'm05EEFR1013674;': 1, '09:14:15': 1, 'FROM': 27, 'paploo.uhi.ac.uk': 108, '(app1.prod.collab.uhi.ac.uk': 27, '[194.35.219.184])': 27, 'BY': 27, 'ID': 54, '477F90B0.2DB2F.12494': 1, ';': 27, '09:14:10': 1, '(localhost': 54, '[127.0.0.1])': 54, '(Postfix)': 54, '5F919BC2F2;': 1, '14:10:05': 1, '+0000': 81, '(GMT)': 81, 'Message-ID:': 27, '<200801051412.m05ECIaH010327@nakamura.uits.iupui.edu>': 1, 'Mime-Version:': 27, '1.0': 27, 'Content-Transfer-Encoding:': 27, '7bit': 27, 'prod.collab.uhi.ac.uk': 27, '([194.35.219.182])': 27, '(JAMES': 27, 'SMTP': 54, 'Server': 27, '2.1.3)': 27, '899': 1, 'for': 118, '<source@collab.sakaiproject.org>;': 81, '14:09:50': 1, 'nakamura.uits.iupui.edu': 108, '(nakamura.uits.iupui.edu': 27, '[134.68.220.122])': 27, 'shmi.uhi.ac.uk': 27, 'A215243002': 1, '14:13:33': 1, '(8.12.11.20060308/8.12.11)': 27, 'm05ECJVp010329': 1, '09:12:19': 1, '(from': 27, 'apache@localhost)': 27, '(8.12.11.20060308/8.12.11/Submit)': 27, 'm05ECIaH010327': 1, 'source@collab.sakaiproject.org;': 27, '09:12:18': 2, 'Date:': 54, 'X-Authentication-Warning:': 27, 'nakamura.uits.iupui.edu:': 27, 'apache': 27, 'set': 27, 'sender': 27, 'to': 43, 'using': 27, '-f': 27, 'To:': 27, 'source@collab.sakaiproject.org': 27, 'From:': 27, 'Subject:': 27, '[sakai]': 27, 'svn': 43, 'commit:': 27, 'r39772': 1, '-': 35, 'content/branches/sakai_2-5-x/content-impl/impl/src/java/org/sakaiproject/content/impl': 1, 'X-Content-Type-Outer-Envelope:': 27, 'text/plain;': 81, 'charset=UTF-8': 81, 'X-Content-Type-Message-Body:': 27, 'Content-Type:': 27, 'X-DSPAM-Result:': 27, 'Innocent': 27, 'X-DSPAM-Processed:': 27, 'X-DSPAM-Confidence:': 27, '0.8475': 1, 'X-DSPAM-Probability:': 27, '0.0000': 27, 'Details:': 27, 'http://source.sakaiproject.org/viewsvn/?view=rev&rev=39772': 1, 'Author:': 27, '2008-01-05': 1, '09:12:07': 1, '(Sat,': 1, '2008)': 28, 'New': 29, 'Revision:': 27, '39772': 1, 'Modified:': 27, 'content/branches/sakai_2-5-x/content-impl/impl/src/java/org/sakaiproject/content/impl/ContentServiceSqlOracle.java': 1, 'content/branches/sakai_2-5-x/content-impl/impl/src/java/org/sakaiproject/content/impl/DbContentService.java': 1, 'Log:': 27, 'SAK-12501': 1, 'merge': 12, '2-5-x:': 1, 'r39622,': 1, 'r39624:5,': 1, 'r39632:3': 1, '(resolve': 1, 'conflict': 2, 'differing': 1, 'linebreaks': 1, 'r39622)': 1, '----------------------': 27, 'This': 27, 'automatic': 27, 'notification': 27, 'message': 28, 'was': 27, 'sent': 27, 'Sakai': 28, 'Collab': 27, '(https://collab.sakaiproject.org/portal)': 27, 'the': 32, 'Source': 28, 'site.': 27, 'You': 27, 'can': 27, 'modify': 27, 'how': 27, 'you': 27, 'receive': 27, 'notifications': 27, 'at': 27, 'My': 27, 'Workspace': 27, '>': 27, 'Preferences.': 27, 'louis@media.berkeley.edu': 12, 'Fri': 40, '4': 203, '18:10:48': 4, '[141.211.14.97])': 3, 'Fri,': 183, '04': 61, 'icestorm.mr.itd.umich.edu': 4, '(icestorm.mr.itd.umich.edu': 2, '[141.211.93.149])': 2, 'sleepers.mail.umich.edu': 3, 'm04NAbGa029441;': 1, '18:10:37': 1, '477EBCE3.161BB.4320': 1, '18:10:31': 1, '07969BB706;': 1, '23:10:33': 1, '<200801042308.m04N8v6O008125@nakamura.uits.iupui.edu>': 1, '710': 1, '23:10:10': 2, '4BA2F42F57': 1, 'm04N8vHG008127': 1, '18:08:57': 3, 'm04N8v6O008125': 1, 'r39771': 1, 'in': 22, 'bspace/site-manage/sakai_2-4-x/site-manage-tool/tool/src:': 3, 'bundle': 3, 'java/org/sakaiproject/site/tool': 2, '0.6178': 1, 'http://source.sakaiproject.org/viewsvn/?view=rev&rev=39771': 1, '2008-01-04': 21, '18:08:50': 1, '(Fri,': 22, '39771': 1, 'bspace/site-manage/sakai_2-4-x/site-manage-tool/tool/src/bundle/sitesetupgeneric.properties': 3, 'bspace/site-manage/sakai_2-4-x/site-manage-tool/tool/src/java/org/sakaiproject/site/tool/SiteAction.java': 1, 'BSP-1415': 1, '(Guest)': 1, 'user': 4, 'Notification': 1, 'zqian@umich.edu': 17, '16:10:39': 4, '[141.211.14.25])': 5, 'ghostbusters.mr.itd.umich.edu': 2, '(ghostbusters.mr.itd.umich.edu': 1, '[141.211.93.144])': 1, 'panther.mail.umich.edu': 5, 'm04LAcZw014275;': 1, '16:10:38': 1, '477EA0C6.A0214.25480': 1, '16:10:33': 1, 'C48CDBB490;': 1, '21:10:31': 1, '<200801042109.m04L92hb007923@nakamura.uits.iupui.edu>': 1, '906': 1, '21:10:18': 1, '7D13042F71': 1, '21:10:14': 1, 'm04L927E007925': 1, '16:09:02': 3, 'm04L92hb007923': 1, 'r39770': 1, 'site-manage/branches/sakai_2-5-x/site-manage-tool/tool/src/webapp/vm/sitesetup': 1, '0.6961': 1, 'http://source.sakaiproject.org/viewsvn/?view=rev&rev=39770': 1, '16:09:01': 1, '39770': 1, 'site-manage/branches/sakai_2-5-x/site-manage-tool/tool/src/webapp/vm/sitesetup/chef_site-siteInfo-list.vm': 1, 'fix': 4, 'SAK-9996': 1, 'into': 2, '2-5-x': 2, 'branch:': 2, '-r': 5, '39687:39688': 1, 'https://source.sakaiproject.org/svn/site-manage/trunk/': 1, 'rjlowe@iupui.edu': 8, '15:46:24': 4, 'dreamcatcher.mr.itd.umich.edu': 2, '(dreamcatcher.mr.itd.umich.edu': 1, '[141.211.14.43])': 1, 'm04KkNbx032077;': 1, '15:46:23': 1, '477E9B13.2F3BC.22965': 1, '15:46:13': 1, '4AE03BB552;': 1, '20:46:13': 1, '<200801042044.m04Kiem3007881@nakamura.uits.iupui.edu>': 1, '38': 1, '20:45:56': 1, 'A55D242F57': 1, '20:45:52': 1, 'm04KieqE007883': 1, '15:44:40': 3, 'm04Kiem3007881': 1, 'r39769': 1, 'gradebook/trunk/app/ui/src:': 1, 'java/org/sakaiproject/tool/gradebook/ui/helpers/beans': 1, 'java/org/sakaiproject/tool/gradebook/ui/helpers/producers': 1, 'webapp/WEB-INF': 1, 'webapp/WEB-INF/bundle': 1, '0.7565': 1, 'http://source.sakaiproject.org/viewsvn/?view=rev&rev=39769': 1, '15:44:39': 1, '39769': 1, 'gradebook/trunk/app/ui/src/java/org/sakaiproject/tool/gradebook/ui/helpers/beans/AssignmentGradeRecordBean.java': 2, 'gradebook/trunk/app/ui/src/java/org/sakaiproject/tool/gradebook/ui/helpers/producers/GradeGradebookItemProducer.java': 2, 'gradebook/trunk/app/ui/src/webapp/WEB-INF/applicationContext.xml': 2, 'gradebook/trunk/app/ui/src/webapp/WEB-INF/bundle/messages.properties': 2, 'gradebook/trunk/app/ui/src/webapp/WEB-INF/requestContext.xml': 2, 'SAK-12180': 2, 'Fixed': 1, 'errors': 1, 'grading': 1, 'helper': 2, '15:03:18': 4, '[141.211.14.46])': 5, 'firestarter.mr.itd.umich.edu': 4, '(firestarter.mr.itd.umich.edu': 2, '[141.211.14.83])': 2, 'fan.mail.umich.edu': 5, 'm04K3HGF006563;': 1, '15:03:17': 1, '477E9100.8F7F4.1590': 1, '15:03:15': 2, '57770BB477;': 1, '20:03:09': 1, '<200801042001.m04K1cO0007738@nakamura.uits.iupui.edu>': 1, '622': 1, '20:02:46': 1, 'AB4D042F4D': 1, '20:02:50': 1, 'm04K1cXv007740': 1, '15:01:38': 3, 'm04K1cO0007738': 1, 'r39766': 1, 'site-manage/branches/sakai_2-4-x/site-manage-tool/tool/src/java/org/sakaiproject/site/tool': 1, '0.7626': 1, 'http://source.sakaiproject.org/viewsvn/?view=rev&rev=39766': 1, '15:01:37': 1, '39766': 1, 'site-manage/branches/sakai_2-4-x/site-manage-tool/tool/src/java/org/sakaiproject/site/tool/SiteAction.java': 1, 'SAK-10788': 1, 'site-manage': 1, '2.4.x': 1, 'Repository': 1, '#38024': 1, 'Wed': 1, 'Nov': 1, '07': 1, '14:54:46': 1, 'MST': 1, '2007': 1, 'Fix': 2, 'SAK-10788:': 1, 'If': 1, 'a': 8, 'provided': 1, 'couse': 1, 'site': 3, 'is': 1, 'fake': 1, 'or': 1, \"doesn't\": 2, 'provide': 1, 'any': 2, 'information,': 1, 'Site': 2, 'Info': 2, 'appears': 1, 'be': 4, 'like': 1, 'project': 1, 'empty': 1, 'participant': 1, 'list': 2, 'Watch': 1, 'enrollments': 1, 'object': 1, 'being': 1, 'null': 1, 'and': 2, 'concatenate': 1, 'provider': 1, 'ids': 1, 'when': 3, 'there': 1, 'are': 1, 'more': 1, 'than': 1, 'one.': 1, 'Files': 1, 'Changed': 1, 'MODIFY': 1, '/site-manage/trunk/site-manage-tool/tool/src/java/org/sakaiproject/site/tool/SiteAction.java': 1, '14:50:18': 4, '[141.211.14.93])': 1, 'eyewitness.mr.itd.umich.edu': 4, '(eyewitness.mr.itd.umich.edu': 2, '[141.211.93.142])': 2, 'mission.mail.umich.edu': 1, 'm04JoHJi019755;': 1, '14:50:17': 1, '477E8DF2.67B91.5278': 1, '14:50:13': 1, '2D1B9BB492;': 1, '19:47:10': 1, '<200801041948.m04JmdwO007705@nakamura.uits.iupui.edu>': 1, '960': 1, '19:46:50': 1, 'B3E6742F4A': 1, '19:49:51': 1, 'm04JmeV9007707': 1, '14:48:40': 1, 'm04JmdwO007705': 1, '14:48:39': 2, 'r39765': 1, 'gradebook/trunk/app:': 1, 'business/src/java/org/sakaiproject/tool/gradebook/business': 1, 'business/src/java/org/sakaiproject/tool/gradebook/business/impl': 1, 'ui': 2, 'ui/src/java/org/sakaiproject/tool/gradebook/ui/helpers/beans': 1, 'ui/src/java/org/sakaiproject/tool/gradebook/ui/helpers/entity': 1, 'ui/src/java/org/sakaiproject/tool/gradebook/ui/helpers/params': 1, 'ui/src/java/org/sakaiproject/tool/gradebook/ui/helpers/producers': 1, 'ui/src/webapp/WEB-INF': 1, 'ui/src/webapp/WEB-INF/bundle': 1, 'ui/src/webapp/content/templates': 1, '0.7556': 2, 'http://source.sakaiproject.org/viewsvn/?view=rev&rev=39765': 1, '14:48:37': 1, '39765': 1, 'Added:': 4, 'gradebook/trunk/app/ui/src/java/org/sakaiproject/tool/gradebook/ui/helpers/beans/AssignmentGradeRecordCreator.java': 1, 'gradebook/trunk/app/ui/src/java/org/sakaiproject/tool/gradebook/ui/helpers/entity/GradebookEntryGradeEntityProvider.java': 1, 'gradebook/trunk/app/ui/src/java/org/sakaiproject/tool/gradebook/ui/helpers/params/GradeGradebookItemViewParams.java': 1, 'gradebook/trunk/app/ui/src/webapp/content/templates/grade-gradebook-item.html': 1, 'gradebook/trunk/app/business/src/java/org/sakaiproject/tool/gradebook/business/GradebookManager.java': 1, 'gradebook/trunk/app/business/src/java/org/sakaiproject/tool/gradebook/business/impl/GradebookManagerHibernateImpl.java': 2, 'gradebook/trunk/app/ui/pom.xml': 1, 'gradebook/trunk/app/ui/src/java/org/sakaiproject/tool/gradebook/ui/helpers/beans/GradebookItemBean.java': 1, 'gradebook/trunk/app/ui/src/java/org/sakaiproject/tool/gradebook/ui/helpers/entity/GradebookEntryEntityProvider.java': 1, 'gradebook/trunk/app/ui/src/java/org/sakaiproject/tool/gradebook/ui/helpers/producers/AddGradebookItemProducer.java': 1, 'tool': 4, 'grade': 2, 'an': 1, 'assignment': 1, 'cwen@iupui.edu': 20, '11:37:30': 4, 'tadpole.mr.itd.umich.edu': 2, '(tadpole.mr.itd.umich.edu': 1, '[141.211.14.72])': 1, 'm04GbT9x022078;': 1, '11:37:29': 1, '477E60B2.82756.9904': 1, '11:37:09': 1, '8D13DBB001;': 1, '16:37:07': 1, '<200801041635.m04GZQGZ007313@nakamura.uits.iupui.edu>': 1, '120': 1, '16:36:40': 1, 'D430B42E42': 1, '16:36:37': 1, 'm04GZQ7W007315': 1, '11:35:26': 3, 'm04GZQGZ007313': 1, 'r39764': 1, 'msgcntr/trunk/messageforums-app/src/java/org/sakaiproject/tool/messageforums:': 1, '.': 3, '0.7002': 2, 'http://source.sakaiproject.org/viewsvn/?view=rev&rev=39764': 1, '11:35:25': 1, '39764': 1, 'msgcntr/trunk/messageforums-app/src/java/org/sakaiproject/tool/messageforums/PrivateMessagesTool.java': 2, 'msgcntr/trunk/messageforums-app/src/java/org/sakaiproject/tool/messageforums/ui/PrivateMessageDecoratedBean.java': 1, 'unmerge': 2, \"Xingtang's\": 2, 'checkin': 1, 'SAK-12488.': 1, '-r39558:39557': 1, 'https://source.sakaiproject.org/svn/msgcntr/trunk': 2, 'U': 14, 'messageforums-app/src/java/org/sakaiproject/tool/messageforums/PrivateMessagesTool.java': 2, 'messageforums-app/src/java/org/sakaiproject/tool/messageforums/ui/PrivateMessageDecoratedBean.java': 1, 'log': 7, '39558': 1, '------------------------------------------------------------------------': 14, 'r39558': 1, '|': 21, 'hu2@iupui.edu': 2, '2007-12-20': 2, '15:25:38': 1, '(Thu,': 8, '20': 2, 'Dec': 5, '2007)': 6, '3': 61, 'lines': 4, 'SAK-12488': 1, 'send': 1, 'yourself.': 1, 'click': 1, 'reply': 2, 'all,': 1, 'cc': 2, 'row': 1, 'should': 2, 'null.': 1, 'http://jira.sakaiproject.org/jira/browse/SAK-12488': 1, '11:35:08': 4, 'it.mr.itd.umich.edu': 2, '(it.mr.itd.umich.edu': 1, '[141.211.93.151])': 1, 'm04GZ6lt020480;': 1, '11:35:06': 1, '477E6033.6469D.21870': 1, '11:35:02': 1, 'E40FABAE5B;': 1, '16:34:38': 1, '<200801041633.m04GX6eG007292@nakamura.uits.iupui.edu>': 1, '697': 1, '16:34:01': 1, '1CD0C42E42': 1, '16:34:17': 1, 'm04GX6Y3007294': 1, '11:33:06': 3, 'm04GX6eG007292': 1, 'r39763': 1, 'msgcntr/trunk:': 1, 'messageforums-api/src/bundle/org/sakaiproject/api/app/messagecenter/bundle': 1, 'messageforums-app/src/java/org/sakaiproject/tool/messageforums': 1, '0.7615': 1, 'http://source.sakaiproject.org/viewsvn/?view=rev&rev=39763': 1, '11:33:05': 1, '39763': 1, 'msgcntr/trunk/messageforums-api/src/bundle/org/sakaiproject/api/app/messagecenter/bundle/Messages.properties': 1, 'check': 1, 'SAK-12484.': 1, '-r39571:39570': 1, 'messageforums-api/src/bundle/org/sakaiproject/api/app/messagecenter/bundle/Messages.properties': 1, '39571': 1, 'r39571': 1, '21:26:28': 1, 'SAK-12484': 1, 'all': 1, 'not': 2, 'include': 1, 'current': 1, 'name.': 1, 'http://jira.sakaiproject.org/jira/browse/SAK-12484': 1, 'gsilver@umich.edu': 12, '11:12:37': 4, 'm04GCaHB030887;': 1, '11:12:36': 1, '477E5AEB.E670B.28397': 1, '11:12:30': 1, '99715BAE7D;': 1, '16:12:27': 1, '<200801041611.m04GB1Lb007221@nakamura.uits.iupui.edu>': 1, '272': 1, '16:12:14': 1, '0A6ED42DFC': 1, '16:12:12': 1, 'm04GB1Wt007223': 1, '11:11:01': 3, 'm04GB1Lb007221': 1, 'r39762': 1, 'web/trunk/web-tool/tool/src/bundle': 1, '0.7601': 1, 'http://source.sakaiproject.org/viewsvn/?view=rev&rev=39762': 1, '11:11:00': 1, '39762': 1, 'web/trunk/web-tool/tool/src/bundle/iframe.properties': 1, 'SAK-12596': 1, 'http://bugs.sakaiproject.org/jira/browse/SAK-12596': 1, 'left': 3, 'moot': 3, '(unused)': 3, 'entries': 3, 'commented': 3, 'now': 3, '11:11:52': 5, '[141.211.14.36])': 1, 'creepshow.mr.itd.umich.edu': 4, '(creepshow.mr.itd.umich.edu': 2, '[141.211.14.84])': 2, 'godsend.mail.umich.edu': 1, 'm04GBqqv025330;': 1, '477E5AB3.5CC32.30840': 1, '11:11:34': 1, '62AA4BAE46;': 1, '16:11:31': 1, '<200801041610.m04GA5KP007209@nakamura.uits.iupui.edu>': 1, '1006': 1, '16:11:18': 1, 'C596A3DFA2': 1, '16:11:16': 1, 'm04GA5LR007211': 1, '11:10:05': 3, 'm04GA5KP007209': 1, 'r39761': 1, 'site/trunk/site-tool/tool/src/bundle': 1, '0.7605': 2, 'http://source.sakaiproject.org/viewsvn/?view=rev&rev=39761': 1, '11:10:04': 1, '39761': 1, 'site/trunk/site-tool/tool/src/bundle/admin.properties': 1, 'SAK-12595': 1, 'http://bugs.sakaiproject.org/jira/browse/SAK-12595': 1, '11:11:03': 5, 'carrie.mr.itd.umich.edu': 2, '(carrie.mr.itd.umich.edu': 1, '[141.211.93.152])': 1, 'm04GB3Vg011502;': 1, '477E5A8D.B378F.24200': 1, '11:10:56': 1, 'C7251BAD44;': 1, '16:10:53': 1, '<200801041609.m04G9EuX007197@nakamura.uits.iupui.edu>': 1, '483': 1, '16:10:27': 1, '2E7043DFA2': 1, '16:10:26': 1, 'm04G9Eqg007199': 1, '11:09:15': 1, 'm04G9EuX007197': 1, '11:09:14': 2, 'r39760': 1, 'site-manage/trunk/site-manage-tool/tool/src:': 1, 'webapp/vm/sitesetup': 3, '0.6959': 2, 'http://source.sakaiproject.org/viewsvn/?view=rev&rev=39760': 1, '11:09:12': 1, '39760': 1, 'site-manage/trunk/site-manage-tool/tool/src/java/org/sakaiproject/site/tool/SiteAction.java': 1, 'site-manage/trunk/site-manage-tool/tool/src/webapp/vm/sitesetup/chef_site-siteInfo-list.vm': 1, 'SAK-10911:': 1, 'Refactor': 1, 'use': 1, 'of': 4, 'site.upd,': 1, 'site.upd.site.mbrship': 1, 'site.upd.grp.mbrship': 1, 'permissions': 2, '11:10:22': 4, '[141.211.14.39])': 3, 'faithful.mail.umich.edu': 3, 'm04GAL9k010604;': 1, '11:10:21': 1, '477E5A67.34350.23015': 1, '11:10:18': 1, '98D04BAD43;': 1, '16:10:11': 1, '<200801041608.m04G8d7w007184@nakamura.uits.iupui.edu>': 1, '966': 1, '16:09:51': 1, '9F89542DD0': 1, '16:09:50': 1, 'm04G8dXN007186': 1, '11:08:39': 3, 'm04G8d7w007184': 1, 'r39759': 1, 'mailarchive/trunk/mailarchive-tool/tool/src/bundle': 1, '0.7606': 1, 'http://source.sakaiproject.org/viewsvn/?view=rev&rev=39759': 1, '11:08:38': 1, '39759': 1, 'mailarchive/trunk/mailarchive-tool/tool/src/bundle/email.properties': 1, 'SAK-12592': 1, 'http://bugs.sakaiproject.org/jira/browse/SAK-12592': 1, 'wagnermr@iupui.edu': 6, '10:38:42': 4, 'shining.mr.itd.umich.edu': 2, '(shining.mr.itd.umich.edu': 1, '[141.211.93.153])': 1, 'm04Fcfjm012313;': 1, '10:38:41': 1, '477E52FA.E6C6E.24093': 1, '10:38:37': 1, '6A39594CD2;': 1, '15:37:36': 1, '<200801041537.m04Fb6Ci007092@nakamura.uits.iupui.edu>': 1, '690': 1, '15:37:21': 1, 'CEFA037ACE': 1, '15:38:17': 1, 'm04Fb6nh007094': 1, '10:37:06': 3, 'm04Fb6Ci007092': 1, 'r39758': 1, 'gradebook/trunk:': 1, 'app/business/src/java/org/sakaiproject/tool/gradebook/business/impl': 1, 'service/api/src/java/org/sakaiproject/service/gradebook/shared': 1, 'service/impl/src/java/org/sakaiproject/component/gradebook': 1, '0.7559': 1, 'http://source.sakaiproject.org/viewsvn/?view=rev&rev=39758': 1, '10:37:04': 1, '39758': 1, 'gradebook/trunk/service/api/src/java/org/sakaiproject/service/gradebook/shared/GradebookService.java': 1, 'gradebook/trunk/service/impl/src/java/org/sakaiproject/component/gradebook/GradebookServiceHibernateImpl.java': 1, 'SAK-12175': 1, 'http://bugs.sakaiproject.org/jira/browse/SAK-12175': 1, 'Create': 1, 'methods': 1, 'required': 1, 'gb': 2, 'integration': 1, 'Assignment2': 1, 'getGradeDefinitionForStudentForItem': 1, '10:17:43': 2, '10:17:42': 3, 'm04FHgfs011536;': 1, '477E4E0F.CCA4B.926': 1, '10:17:38': 1, 'BD02DBAC64;': 1, '15:17:34': 1, '<200801041515.m04FFv42007050@nakamura.uits.iupui.edu>': 1, '25': 1, '15:17:11': 1, '5B396236B9': 1, '15:17:08': 1, 'm04FFv85007052': 1, '10:15:57': 3, 'm04FFv42007050': 1, 'r39757': 1, 'assignment/trunk:': 1, 'assignment-impl/impl/src/java/org/sakaiproject/assignment/impl': 1, 'assignment-tool/tool/src/webapp/vm/assignment': 1, 'http://source.sakaiproject.org/viewsvn/?view=rev&rev=39757': 1, '10:15:54': 1, '39757': 1, 'assignment/trunk/assignment-impl/impl/src/java/org/sakaiproject/assignment/impl/BaseAssignmentService.java': 1, 'assignment/trunk/assignment-tool/tool/src/webapp/vm/assignment/chef_assignments_instructor_list_submissions.vm': 1, \"SAK-12604:Don't\": 1, 'show': 1, 'groups/sections': 1, 'filter': 1, 'if': 2, 'have': 1, 'antranig@caret.cam.ac.uk': 4, '10:04:14': 4, 'm04F4Dci015108;': 1, '10:04:13': 1, '477E4AE3.D7AF.31669': 1, '10:04:05': 1, '933E3BAC17;': 1, '15:04:00': 1, '<200801041502.m04F21Jo007031@nakamura.uits.iupui.edu>': 1, '32': 1, 'AC2F6236B9': 1, '15:03:12': 1, 'm04F21hn007033': 1, '10:02:01': 3, 'm04F21Jo007031': 1, 'r39756': 1, 'component/branches/SAK-12166/component-api/component/src/java/org/sakaiproject/component:': 1, 'impl': 1, 'impl/spring/support': 1, 'impl/spring/support/dynamic': 1, 'impl/support': 1, 'util': 1, '0.6932': 1, 'http://source.sakaiproject.org/viewsvn/?view=rev&rev=39756': 1, '10:01:40': 1, '39756': 1, 'component/branches/SAK-12166/component-api/component/src/java/org/sakaiproject/component/impl/spring/support/dynamic/': 1, 'component/branches/SAK-12166/component-api/component/src/java/org/sakaiproject/component/impl/spring/support/dynamic/DynamicComponentManager.java': 1, 'component/branches/SAK-12166/component-api/component/src/java/org/sakaiproject/component/impl/support/': 1, 'component/branches/SAK-12166/component-api/component/src/java/org/sakaiproject/component/impl/support/DynamicComponentRecord.java': 1, 'component/branches/SAK-12166/component-api/component/src/java/org/sakaiproject/component/impl/support/DynamicJARManager.java': 1, 'component/branches/SAK-12166/component-api/component/src/java/org/sakaiproject/component/impl/support/JARRecord.java': 1, 'component/branches/SAK-12166/component-api/component/src/java/org/sakaiproject/component/util/ByteToCharBase64.java': 1, 'component/branches/SAK-12166/component-api/component/src/java/org/sakaiproject/component/util/FileUtil.java': 1, 'component/branches/SAK-12166/component-api/component/src/java/org/sakaiproject/component/util/RecordFileIO.java': 1, 'component/branches/SAK-12166/component-api/component/src/java/org/sakaiproject/component/util/RecordReader.java': 1, 'component/branches/SAK-12166/component-api/component/src/java/org/sakaiproject/component/util/RecordWriter.java': 1, 'component/branches/SAK-12166/component-api/component/src/java/org/sakaiproject/component/util/StreamDigestor.java': 1, 'component/branches/SAK-12166/component-api/component/src/java/org/sakaiproject/component/impl/spring/support/ComponentsLoaderImpl.java': 1, 'Temporary': 1, 'commit': 1, 'incomplete': 1, 'work': 1, 'on': 2, 'JAR': 1, 'caching': 1, 'gopal.ramasammycook@gmail.com': 4, '09:05:31': 4, 'guys.mr.itd.umich.edu': 4, '(guys.mr.itd.umich.edu': 2, '[141.211.14.76])': 2, 'm04E5U3C029277;': 1, '09:05:30': 1, '477E3D23.EE2E7.5237': 1, '09:05:26': 1, '33C7856DC0;': 1, '14:05:26': 1, '<200801041403.m04E3psW006926@nakamura.uits.iupui.edu>': 1, '575': 1, '14:05:04': 1, '3C0261D617': 1, '14:05:03': 1, 'm04E3pQS006928': 1, '09:03:52': 1, 'm04E3psW006926': 1, '09:03:51': 2, 'r39755': 1, 'sam/branches/SAK-12065:': 1, 'samigo-api/src/java/org/sakaiproject/tool/assessment/shared/api/grading': 1, 'samigo-app/src/java/org/sakaiproject/tool/assessment/ui/bean/evaluation': 1, 'samigo-app/src/java/org/sakaiproject/tool/assessment/ui/listener/evaluation': 1, 'samigo-services/src/java/org/sakaiproject/tool/assessment/facade': 1, 'samigo-services/src/java/org/sakaiproject/tool/assessment/integration/helper/ifc': 1, 'samigo-services/src/java/org/sakaiproject/tool/assessment/integration/helper/integrated': 1, 'samigo-services/src/java/org/sakaiproject/tool/assessment/integration/helper/standalone': 1, 'samigo-services/src/java/org/sakaiproject/tool/assessment/shared/impl/grading': 1, '0.7558': 1, 'http://source.sakaiproject.org/viewsvn/?view=rev&rev=39755': 1, '09:02:54': 1, '39755': 1, 'sam/branches/SAK-12065/samigo-api/src/java/org/sakaiproject/tool/assessment/shared/api/grading/GradingSectionAwareServiceAPI.java': 1, 'sam/branches/SAK-12065/samigo-app/src/java/org/sakaiproject/tool/assessment/ui/bean/evaluation/QuestionScoresBean.java': 1, 'sam/branches/SAK-12065/samigo-app/src/java/org/sakaiproject/tool/assessment/ui/bean/evaluation/SubmissionStatusBean.java': 1, 'sam/branches/SAK-12065/samigo-app/src/java/org/sakaiproject/tool/assessment/ui/bean/evaluation/TotalScoresBean.java': 1, 'sam/branches/SAK-12065/samigo-app/src/java/org/sakaiproject/tool/assessment/ui/listener/evaluation/SubmissionStatusListener.java': 1, 'sam/branches/SAK-12065/samigo-services/src/java/org/sakaiproject/tool/assessment/facade/PublishedAssessmentFacadeQueries.java': 1, 'sam/branches/SAK-12065/samigo-services/src/java/org/sakaiproject/tool/assessment/facade/PublishedAssessmentFacadeQueriesAPI.java': 1, 'sam/branches/SAK-12065/samigo-services/src/java/org/sakaiproject/tool/assessment/integration/helper/ifc/SectionAwareServiceHelper.java': 1, 'sam/branches/SAK-12065/samigo-services/src/java/org/sakaiproject/tool/assessment/integration/helper/integrated/SectionAwareServiceHelperImpl.java': 1, 'sam/branches/SAK-12065/samigo-services/src/java/org/sakaiproject/tool/assessment/integration/helper/standalone/SectionAwareServiceHelperImpl.java': 1, 'sam/branches/SAK-12065/samigo-services/src/java/org/sakaiproject/tool/assessment/shared/impl/grading/GradingSectionAwareServiceImpl.java': 1, 'SAK-12065': 1, 'Gopal': 1, 'Samigo': 1, 'Group': 1, 'Release.': 1, 'SubmissionStatus/TotalScores/Questions': 1, 'View': 1, 'filter.': 1, 'david.horwitz@uct.ac.za': 17, '07:02:32': 4, 'm04C2VN7026678;': 1, '07:02:31': 1, '477E2050.C2599.3263': 1, '07:02:27': 1, '6497FBA906;': 1, '12:02:11': 1, '<200801041200.m04C0gfK006793@nakamura.uits.iupui.edu>': 1, '611': 2, '12:01:53': 2, '5296342D3C': 1, 'm04C0gnm006795': 1, '07:00:42': 3, 'm04C0gfK006793': 1, 'r39754': 1, 'polls/branches/sakai_2-5-x:': 1, 'tool/src/java/org/sakaiproject/poll/tool': 2, 'tool/src/java/org/sakaiproject/poll/tool/evolvers': 2, 'tool/src/webapp/WEB-INF': 2, '0.6526': 1, 'http://source.sakaiproject.org/viewsvn/?view=rev&rev=39754': 1, '07:00:10': 1, '39754': 1, 'polls/branches/sakai_2-5-x/tool/src/java/org/sakaiproject/poll/tool/evolvers/': 1, 'polls/branches/sakai_2-5-x/tool/src/java/org/sakaiproject/poll/tool/evolvers/SakaiFCKTextEvolver.java': 2, 'Removed:': 2, 'polls/branches/sakai_2-5-x/.classpath': 1, 'polls/branches/sakai_2-5-x/tool/pom.xml': 1, 'polls/branches/sakai_2-5-x/tool/src/webapp/WEB-INF/requestContext.xml': 1, '-r39753': 1, 'https://source.sakaiproject.org/svn/polls/trunk': 2, 'r39753': 2, '13:05:51': 1, '+0200': 3, '1': 3, 'line': 3, 'SAK-12228': 2, 'implmented': 2, 'workaround': 2, 'sugested': 2, 'AB': 2, 'needs': 2, 'tested': 2, 'against': 2, 'trunk': 2, 'build': 2, 'dhorwitz@david-horwitz-6:~/branchManagemnt/sakai_2-5-x>': 4, '-c39753': 1, 'polls/': 1, 'polls/.classpath': 1, 'A': 2, 'polls/tool/src/java/org/sakaiproject/poll/tool/evolvers': 1, 'polls/tool/src/java/org/sakaiproject/poll/tool/evolvers/SakaiFCKTextEvolver.java': 1, 'C': 2, 'polls/tool/src/webapp/WEB-INF/requestContext.xml': 2, 'polls/tool/pom.xml': 1, 'resolved': 1, 'Resolved': 1, 'conflicted': 1, 'state': 1, \"'polls/tool/src/webapp/WEB-INF/requestContext.xml\": 1, '06:08:27': 4, '[141.211.14.98])': 1, 'casino.mail.umich.edu': 1, 'm04B8Qw9001368;': 1, '06:08:26': 1, '477E13A5.30FC0.24054': 1, '06:08:23': 1, '784A476D7B;': 1, '11:08:12': 1, '<200801041106.m04B6lK3006677@nakamura.uits.iupui.edu>': 1, '585': 1, '11:07:56': 1, '1CACC42D0C': 1, '11:07:58': 1, 'm04B6lWM006679': 1, '06:06:47': 3, 'm04B6lK3006677': 1, 'polls/trunk:': 1, '0.6948': 1, 'http://source.sakaiproject.org/viewsvn/?view=rev&rev=39753': 1, '06:05:51': 1, '39753': 1, 'polls/trunk/tool/src/java/org/sakaiproject/poll/tool/evolvers/': 1, 'polls/trunk/tool/src/java/org/sakaiproject/poll/tool/evolvers/SakaiFCKTextEvolver.java': 1, 'polls/trunk/.classpath': 1, 'polls/trunk/tool/pom.xml': 1, 'polls/trunk/tool/src/webapp/WEB-INF/requestContext.xml': 1, '04:49:08': 4, '[141.211.14.92])': 1, 'galaxyquest.mr.itd.umich.edu': 4, '(galaxyquest.mr.itd.umich.edu': 2, '[141.211.93.145])': 2, 'score.mail.umich.edu': 1, 'm049n60G017588;': 1, '04:49:06': 1, '477E010C.48C2.10259': 1, '04:49:03': 1, '254CC8CDEE;': 1, '09:48:55': 1, '<200801040947.m049lUxo006517@nakamura.uits.iupui.edu>': 1, '246': 1, '09:48:36': 1, '8C13342C92': 1, '09:48:40': 1, 'm049lU3P006519': 1, '04:47:30': 3, 'm049lUxo006517': 1, 'r39752': 1, 'podcasts/branches/sakai_2-5-x/podcasts-app/src/webapp:': 2, 'css': 2, 'podcasts': 2, '0.6528': 1, 'http://source.sakaiproject.org/viewsvn/?view=rev&rev=39752': 1, '04:47:16': 1, '39752': 1, 'podcasts/branches/sakai_2-5-x/podcasts-app/src/webapp/css/podcaster.css': 2, 'podcasts/branches/sakai_2-5-x/podcasts-app/src/webapp/podcasts/podMain.jsp': 2, '-r39641': 1, 'https://source.sakaiproject.org/svn/podcasts/trunk': 4, 'r39641': 1, 'josrodri@iupui.edu': 2, '2007-12-28': 1, '23:44:24': 1, '28': 1, 'SAK-9882:': 2, 'refactored': 2, 'podMain.jsp': 1, 'right': 1, 'way': 1, '(at': 1, 'least': 1, 'much': 1, 'closer': 1, 'to)': 1, '-c39641': 1, 'podcasts/': 2, 'podcasts/podcasts-app/src/webapp/podcasts/podMain.jsp': 2, 'podcasts/podcasts-app/src/webapp/css/podcaster.css': 2, 'merged': 1, 'manualy': 1, '04:33:44': 4, 'workinggirl.mr.itd.umich.edu': 2, '(workinggirl.mr.itd.umich.edu': 1, '[141.211.93.143])': 1, 'm049Xge3031803;': 1, '04:33:42': 1, '477DFD6C.75DBE.26054': 1, '04:33:35': 1, '6C929BA656;': 1, '09:33:27': 1, '<200801040932.m049W2i5006493@nakamura.uits.iupui.edu>': 1, '153': 1, '09:33:10': 1, '6C69423767': 1, '09:33:13': 1, 'm049W3fl006495': 1, '04:32:03': 1, 'm049W2i5006493': 1, '04:32:02': 2, 'r39751': 1, 'images': 1, 'http://source.sakaiproject.org/viewsvn/?view=rev&rev=39751': 1, '04:31:35': 1, '39751': 1, 'podcasts/branches/sakai_2-5-x/podcasts-app/src/webapp/images/rss-feed-icon.png': 1, 'podcasts/branches/sakai_2-5-x/podcasts-app/src/webapp/podcasts/podPermissions.jsp': 1, 'podcasts/branches/sakai_2-5-x/podcasts-app/src/webapp/podcasts/podDelete.jsp': 1, 'podcasts/branches/sakai_2-5-x/podcasts-app/src/webapp/podcasts/podNoResource.jsp': 1, 'podcasts/branches/sakai_2-5-x/podcasts-app/src/webapp/podcasts/podOptions.jsp': 1, '-r39146': 1, 'r39146': 1, '2007-12-12': 1, '21:40:33': 1, '(Wed,': 2, '12': 2, 'other': 1, 'pages': 1, 'as': 4, 'well': 2, 'take': 1, 'advantage': 1, 'proper': 1, 'jsp': 1, 'components': 1, 'validation': 1, 'cleanup.': 1, '-c39146': 1, 'D': 2, 'podcasts/podcasts-app/src/webapp/podcasts/podPermissions.jsp': 1, 'podcasts/podcasts-app/src/webapp/podcasts/podDelete.jsp': 1, 'podcasts/podcasts-app/src/webapp/podcasts/podNoResource.jsp': 1, 'podcasts/podcasts-app/src/webapp/podcasts/podOptions.jsp': 1, 'podcasts/podcasts-app/src/webapp/images/rss-feed-icon.png': 1, '04:07:34': 4, 'salemslot.mr.itd.umich.edu': 6, '(salemslot.mr.itd.umich.edu': 3, '[141.211.14.58])': 3, 'm0497WAN027902;': 1, '04:07:32': 1, '477DF74E.49493.30415': 1, '04:07:29': 1, '88598BA5B6;': 1, '09:07:19': 1, '<200801040905.m0495rWB006420@nakamura.uits.iupui.edu>': 1, '385': 1, '09:07:04': 2, '90636418A8': 1, 'm0495sZs006422': 1, '04:05:54': 1, 'm0495rWB006420': 1, '04:05:53': 2, 'r39750': 1, 'event/branches/SAK-6216/event-util/util/src/java/org/sakaiproject/util': 1, '0.7554': 1, 'http://source.sakaiproject.org/viewsvn/?view=rev&rev=39750': 1, '04:05:43': 1, '39750': 1, 'event/branches/SAK-6216/event-util/util/src/java/org/sakaiproject/util/EmailNotification.java': 1, 'SAK-6216': 1, 'event': 1, 'change': 1, 'SAK-11169': 1, '(r39033)': 1, 'synchronize': 1, 'branch': 1, '(for': 1, 'convenience': 1, 'UCT': 1, 'local': 1, 'build)': 1, 'Thu': 12, '19:51:21': 3, '[141.211.14.91])': 3, 'Thu,': 51, '03': 18, 'jacknife.mail.umich.edu': 3, 'm040pJHB027171;': 1, '19:51:19': 1, '477D8300.AC098.32562': 1, '19:51:15': 1, 'E6CC4B9F8A;': 1, '00:36:06': 1, '<200801040023.m040NpCc005473@nakamura.uits.iupui.edu>': 1, '754': 1, '00:35:43': 1, '8889842C49': 1, '00:25:00': 1, 'm040NpgM005475': 1, '19:23:51': 3, 'm040NpCc005473': 1, 'r39749': 1, '19:51:20': 1, '0.6956': 1, 'http://source.sakaiproject.org/viewsvn/?view=rev&rev=39749': 1, '2008-01-03': 6, '19:23:46': 1, '39749': 1, 'bspace/site-manage/sakai_2-4-x/site-manage-tool/tool/src/webapp/vm/sitesetup/chef_site-importSites.vm': 1, 'BSP-1420': 1, 'Update': 1, 'text': 2, 'clarify': 2, '\"Re-Use': 1, 'Materials...\"': 1, 'option': 2, 'WS': 1, 'Setup': 1, '17:18:23': 4, 'm03MIMXY027729;': 1, '17:18:22': 1, '477D5F23.797F6.16348': 1, '17:18:14': 1, 'EF439B98CE;': 1, '22:18:19': 1, '<200801032216.m03MGhDa005292@nakamura.uits.iupui.edu>': 1, '236': 1, '22:18:04': 1, '905D53C2FD': 1, '22:17:52': 1, 'm03MGhrs005294': 1, '17:16:43': 3, 'm03MGhDa005292': 1, 'r39746': 1, 'http://source.sakaiproject.org/viewsvn/?view=rev&rev=39746': 1, '17:16:39': 1, '39746': 1, 'bspace/site-manage/sakai_2-4-x/site-manage-tool/tool/src/webapp/vm/sitesetup/chef_site-siteInfo-duplicate.vm': 1, 'BSP-1421': 1, 'Add': 1, '\"Duplicate': 1, 'Site\"': 1, 'ray@media.berkeley.edu': 4, '17:07:00': 4, 'anniehall.mr.itd.umich.edu': 2, '(anniehall.mr.itd.umich.edu': 1, '[141.211.93.141])': 1, 'm03M6xaq014868;': 1, '17:06:59': 1, '477D5C7A.4FE1F.22211': 1, '17:06:53': 1, '0BC8D7225E;': 1, '22:06:57': 1, '<200801032205.m03M5Ea7005273@nakamura.uits.iupui.edu>': 1, '554': 1, '22:06:34': 1, '2AB513C2FD': 1, '22:06:23': 1, 'm03M5EQa005275': 1, '17:05:14': 3, 'm03M5Ea7005273': 1, 'r39745': 1, 'providers/trunk/cm/cm-authz-provider/src/java/org/sakaiproject/coursemanagement/impl/provider': 1, 'http://source.sakaiproject.org/viewsvn/?view=rev&rev=39745': 1, '17:05:11': 1, '39745': 1, 'providers/trunk/cm/cm-authz-provider/src/java/org/sakaiproject/coursemanagement/impl/provider/CourseManagementGroupProvider.java': 1, 'SAK-12602': 1, 'logic': 1, 'has': 1, 'multiple': 1, 'roles': 1, 'section': 1, '16:34:40': 4, '[141.211.14.34])': 1, 'chaos.mail.umich.edu': 1, 'm03LYdY1029538;': 1, '16:34:39': 1, '477D54EA.13F34.26602': 1, '16:34:36': 1, 'CC710ADC79;': 1, '21:34:29': 1, '<200801032133.m03LX3gG005191@nakamura.uits.iupui.edu>': 1, '21:34:08': 1, '43C4242B55': 1, '21:34:12': 1, 'm03LX3Vb005193': 1, '16:33:03': 3, 'm03LX3gG005191': 1, 'r39744': 1, 'oncourse/branches/oncourse_OPC_122007': 1, '0.9846': 1, 'http://source.sakaiproject.org/viewsvn/?view=rev&rev=39744': 1, '16:33:02': 1, '39744': 1, 'oncourse/branches/oncourse_OPC_122007/': 1, 'oncourse/branches/oncourse_OPC_122007/.externals': 1, 'update': 1, 'external': 1, 'GB.': 1, '16:29:07': 4, 'm03LT6uw027749;': 1, '16:29:06': 1, '477D5397.E161D.20326': 1, '16:28:58': 1, 'DEC65ADC79;': 1, '21:28:52': 1, '<200801032127.m03LRUqH005177@nakamura.uits.iupui.edu>': 1, '917': 1, '21:28:39': 1, '1FBB042B30': 1, '21:28:38': 1, 'm03LRUk4005179': 1, '16:27:30': 3, 'm03LRUqH005177': 1, 'r39743': 1, 'gradebook/branches/oncourse_2-4-2/app/ui/src/java/org/sakaiproject/tool/gradebook/ui': 2, '0.8509': 1, 'http://source.sakaiproject.org/viewsvn/?view=rev&rev=39743': 1, '16:27:29': 1, '39743': 1, 'gradebook/branches/oncourse_2-4-2/app/ui/src/java/org/sakaiproject/tool/gradebook/ui/RosterBean.java': 2, '-c': 2, '39403': 2, 'https://source.sakaiproject.org/svn/gradebook/trunk': 4, 'app/ui/src/java/org/sakaiproject/tool/gradebook/ui/RosterBean.java': 2, 'r39403': 1, '2007-12-17': 1, '17:11:08': 1, '(Mon,': 1, '17': 1, 'SAK-12504': 1, 'http://jira.sakaiproject.org/jira/browse/SAK-12504': 1, 'Viewing': 1, '\"All': 2, 'Grades\"': 2, 'page': 2, 'TA': 1, 'grader': 1, 'causes': 1, 'stack': 1, 'trace': 1, '16:23:48': 4, 'm03LNlf0002115;': 1, '16:23:47': 1, '477D525E.1448.30389': 1, '16:23:44': 1, '9D005B9D06;': 1, '21:23:38': 1, '<200801032122.m03LMFo4005148@nakamura.uits.iupui.edu>': 1, '6': 1, '21:23:24': 2, '3535542B69': 1, 'm03LMFtT005150': 1, '16:22:15': 3, 'm03LMFo4005148': 1, 'r39742': 1, '0.9907': 1, 'http://source.sakaiproject.org/viewsvn/?view=rev&rev=39742': 1, '16:22:14': 1, '39742': 1, '35014': 2, 'r35014': 1, '2007-09-12': 1, '16:17:59': 1, '-0400': 1, 'Sep': 1, 'SAK-11458': 1, 'http://bugs.sakaiproject.org/jira/browse/SAK-11458': 1, 'Course': 1, 'does': 1, 'appear': 1, 'no': 1, 'categories': 1}\n"
          ]
        }
      ]
    },
    {
      "cell_type": "code",
      "source": [
        "if name in names:\n",
        "  x=counts[name]\n",
        "else:\n",
        "  x=0\n",
        "x=counts.get(name,0)\n",
        "print(x)"
      ],
      "metadata": {
        "colab": {
          "base_uri": "https://localhost:8080/"
        },
        "id": "SVosX-CP7U3Q",
        "outputId": "16d9df99-15fb-4d42-879a-522616da4fb2"
      },
      "execution_count": null,
      "outputs": [
        {
          "output_type": "stream",
          "name": "stdout",
          "text": [
            "27\n"
          ]
        }
      ]
    },
    {
      "cell_type": "code",
      "source": [
        "counts=dict()\n",
        "brother=[\"hamad\",\"ali\",\"zeeshan\",\"hamad\",\"hamad\",\"ali\"]\n",
        "for name in brother:\n",
        "  counts[name]=counts.get(name,0)+1\n",
        "print(counts)"
      ],
      "metadata": {
        "colab": {
          "base_uri": "https://localhost:8080/"
        },
        "id": "eh-WXFh994tg",
        "outputId": "bd9b32f9-8aa8-476e-836d-c411f1dc45e5"
      },
      "execution_count": null,
      "outputs": [
        {
          "output_type": "stream",
          "name": "stdout",
          "text": [
            "{'hamad': 3, 'ali': 2, 'zeeshan': 1}\n"
          ]
        }
      ]
    },
    {
      "cell_type": "code",
      "source": [
        "print(\"Enter the line : \")\n",
        "line=input()\n",
        "words=line.rstrip().split()\n",
        "print(words)\n",
        "counts=dict()\n",
        "for word in words:\n",
        "  counts[word]=counts.get(word,0)+1\n",
        "print(counts)"
      ],
      "metadata": {
        "colab": {
          "base_uri": "https://localhost:8080/"
        },
        "id": "K466FkoD_5TS",
        "outputId": "33ad15ba-f3e2-4013-e63b-da9a0e0bcfbf"
      },
      "execution_count": null,
      "outputs": [
        {
          "output_type": "stream",
          "name": "stdout",
          "text": [
            "Enter the line : \n",
            "h a m a d\n",
            "['h', 'a', 'm', 'a', 'd']\n",
            "{'h': 1, 'a': 2, 'm': 1, 'd': 1}\n"
          ]
        }
      ]
    },
    {
      "cell_type": "code",
      "source": [
        "for key in counts:\n",
        "  print(key,counts[key])"
      ],
      "metadata": {
        "colab": {
          "base_uri": "https://localhost:8080/"
        },
        "id": "D4-Q92DmFx4X",
        "outputId": "842a20da-d11c-4577-ec36-0c9ccbff939c"
      },
      "execution_count": null,
      "outputs": [
        {
          "output_type": "stream",
          "name": "stdout",
          "text": [
            "h 1\n",
            "a 2\n",
            "m 1\n",
            "d 1\n"
          ]
        }
      ]
    },
    {
      "cell_type": "code",
      "source": [
        "print(list(counts))\n",
        "print(list(counts.keys()))\n",
        "print(list(counts.values()))\n",
        "print(list(counts.items()))\n",
        "for key,value in counts.items():\n",
        "  print(key,value)"
      ],
      "metadata": {
        "colab": {
          "base_uri": "https://localhost:8080/"
        },
        "id": "OCj2Fe9QJB2d",
        "outputId": "8134d9b9-5c5f-4b8f-e28f-e16525f2213a"
      },
      "execution_count": null,
      "outputs": [
        {
          "output_type": "stream",
          "name": "stdout",
          "text": [
            "['hamad', 'ali', 'zeeshan']\n",
            "['hamad', 'ali', 'zeeshan']\n",
            "[3, 2, 1]\n",
            "[('hamad', 3), ('ali', 2), ('zeeshan', 1)]\n",
            "hamad 3\n",
            "ali 2\n",
            "zeeshan 1\n"
          ]
        }
      ]
    },
    {
      "cell_type": "code",
      "source": [
        "fname=input(\"enter file name : \")\n",
        "try:\n",
        "  name=open(fname)\n",
        "  counts=dict()\n",
        "  for line in name:\n",
        "    word=line.rstrip().split()\n",
        "    for words in word:\n",
        "      counts[words]=counts.get(words,0)+1\n",
        "  print(counts)\n",
        "  bigCount=None\n",
        "  bigWord=None\n",
        "  for word,count in counts.items():\n",
        "    #--> find highest value\n",
        "    if bigCount is None or count>bigCount:\n",
        "      bigCount=count\n",
        "      bigWord=word\n",
        "  print(bigWord,bigCount)\n",
        "except:\n",
        "  print(\"file not found\")\n",
        "  quit()"
      ],
      "metadata": {
        "colab": {
          "base_uri": "https://localhost:8080/"
        },
        "id": "PSBnbwZiLccd",
        "outputId": "16126c57-bb32-4936-c27b-28524c4097a5"
      },
      "execution_count": null,
      "outputs": [
        {
          "output_type": "stream",
          "name": "stdout",
          "text": [
            "enter file name : hello2.txt\n",
            "{'From': 27, 'stephen.marquard@uct.ac.za': 8, 'Sat': 2, 'Jan': 352, '5': 10, '09:14:16': 4, '2008': 324, 'Return-Path:': 27, '<postmaster@collab.sakaiproject.org>': 27, 'Received:': 243, 'from': 218, 'murder': 54, '(mail.umich.edu': 27, '[141.211.14.90])': 3, 'by': 245, 'frankenstein.mail.umich.edu': 27, '(Cyrus': 54, 'v2.3.8)': 27, 'with': 194, 'LMTPA;': 54, 'Sat,': 9, '05': 3, '-0500': 219, 'X-Sieve:': 27, 'CMU': 27, 'Sieve': 27, '2.3': 27, '([unix': 27, 'socket])': 27, 'mail.umich.edu': 27, 'v2.2.12)': 27, 'holes.mr.itd.umich.edu': 8, '(holes.mr.itd.umich.edu': 4, '[141.211.14.79])': 4, 'flawless.mail.umich.edu': 3, '()': 27, 'ESMTP': 108, 'id': 136, 'm05EEFR1013674;': 1, '09:14:15': 1, 'FROM': 27, 'paploo.uhi.ac.uk': 108, '(app1.prod.collab.uhi.ac.uk': 27, '[194.35.219.184])': 27, 'BY': 27, 'ID': 54, '477F90B0.2DB2F.12494': 1, ';': 27, '09:14:10': 1, '(localhost': 54, '[127.0.0.1])': 54, '(Postfix)': 54, '5F919BC2F2;': 1, '14:10:05': 1, '+0000': 81, '(GMT)': 81, 'Message-ID:': 27, '<200801051412.m05ECIaH010327@nakamura.uits.iupui.edu>': 1, 'Mime-Version:': 27, '1.0': 27, 'Content-Transfer-Encoding:': 27, '7bit': 27, 'prod.collab.uhi.ac.uk': 27, '([194.35.219.182])': 27, '(JAMES': 27, 'SMTP': 54, 'Server': 27, '2.1.3)': 27, '899': 1, 'for': 118, '<source@collab.sakaiproject.org>;': 81, '14:09:50': 1, 'nakamura.uits.iupui.edu': 108, '(nakamura.uits.iupui.edu': 27, '[134.68.220.122])': 27, 'shmi.uhi.ac.uk': 27, 'A215243002': 1, '14:13:33': 1, '(8.12.11.20060308/8.12.11)': 27, 'm05ECJVp010329': 1, '09:12:19': 1, '(from': 27, 'apache@localhost)': 27, '(8.12.11.20060308/8.12.11/Submit)': 27, 'm05ECIaH010327': 1, 'source@collab.sakaiproject.org;': 27, '09:12:18': 2, 'Date:': 54, 'X-Authentication-Warning:': 27, 'nakamura.uits.iupui.edu:': 27, 'apache': 27, 'set': 27, 'sender': 27, 'to': 43, 'using': 27, '-f': 27, 'To:': 27, 'source@collab.sakaiproject.org': 27, 'From:': 27, 'Subject:': 27, '[sakai]': 27, 'svn': 43, 'commit:': 27, 'r39772': 1, '-': 35, 'content/branches/sakai_2-5-x/content-impl/impl/src/java/org/sakaiproject/content/impl': 1, 'X-Content-Type-Outer-Envelope:': 27, 'text/plain;': 81, 'charset=UTF-8': 81, 'X-Content-Type-Message-Body:': 27, 'Content-Type:': 27, 'X-DSPAM-Result:': 27, 'Innocent': 27, 'X-DSPAM-Processed:': 27, 'X-DSPAM-Confidence:': 27, '0.8475': 1, 'X-DSPAM-Probability:': 27, '0.0000': 27, 'Details:': 27, 'http://source.sakaiproject.org/viewsvn/?view=rev&rev=39772': 1, 'Author:': 27, '2008-01-05': 1, '09:12:07': 1, '(Sat,': 1, '2008)': 28, 'New': 29, 'Revision:': 27, '39772': 1, 'Modified:': 27, 'content/branches/sakai_2-5-x/content-impl/impl/src/java/org/sakaiproject/content/impl/ContentServiceSqlOracle.java': 1, 'content/branches/sakai_2-5-x/content-impl/impl/src/java/org/sakaiproject/content/impl/DbContentService.java': 1, 'Log:': 27, 'SAK-12501': 1, 'merge': 12, '2-5-x:': 1, 'r39622,': 1, 'r39624:5,': 1, 'r39632:3': 1, '(resolve': 1, 'conflict': 2, 'differing': 1, 'linebreaks': 1, 'r39622)': 1, '----------------------': 27, 'This': 27, 'automatic': 27, 'notification': 27, 'message': 28, 'was': 27, 'sent': 27, 'Sakai': 28, 'Collab': 27, '(https://collab.sakaiproject.org/portal)': 27, 'the': 32, 'Source': 28, 'site.': 27, 'You': 27, 'can': 27, 'modify': 27, 'how': 27, 'you': 27, 'receive': 27, 'notifications': 27, 'at': 27, 'My': 27, 'Workspace': 27, '>': 27, 'Preferences.': 27, 'louis@media.berkeley.edu': 12, 'Fri': 40, '4': 203, '18:10:48': 4, '[141.211.14.97])': 3, 'Fri,': 183, '04': 61, 'icestorm.mr.itd.umich.edu': 4, '(icestorm.mr.itd.umich.edu': 2, '[141.211.93.149])': 2, 'sleepers.mail.umich.edu': 3, 'm04NAbGa029441;': 1, '18:10:37': 1, '477EBCE3.161BB.4320': 1, '18:10:31': 1, '07969BB706;': 1, '23:10:33': 1, '<200801042308.m04N8v6O008125@nakamura.uits.iupui.edu>': 1, '710': 1, '23:10:10': 2, '4BA2F42F57': 1, 'm04N8vHG008127': 1, '18:08:57': 3, 'm04N8v6O008125': 1, 'r39771': 1, 'in': 22, 'bspace/site-manage/sakai_2-4-x/site-manage-tool/tool/src:': 3, 'bundle': 3, 'java/org/sakaiproject/site/tool': 2, '0.6178': 1, 'http://source.sakaiproject.org/viewsvn/?view=rev&rev=39771': 1, '2008-01-04': 21, '18:08:50': 1, '(Fri,': 22, '39771': 1, 'bspace/site-manage/sakai_2-4-x/site-manage-tool/tool/src/bundle/sitesetupgeneric.properties': 3, 'bspace/site-manage/sakai_2-4-x/site-manage-tool/tool/src/java/org/sakaiproject/site/tool/SiteAction.java': 1, 'BSP-1415': 1, '(Guest)': 1, 'user': 4, 'Notification': 1, 'zqian@umich.edu': 17, '16:10:39': 4, '[141.211.14.25])': 5, 'ghostbusters.mr.itd.umich.edu': 2, '(ghostbusters.mr.itd.umich.edu': 1, '[141.211.93.144])': 1, 'panther.mail.umich.edu': 5, 'm04LAcZw014275;': 1, '16:10:38': 1, '477EA0C6.A0214.25480': 1, '16:10:33': 1, 'C48CDBB490;': 1, '21:10:31': 1, '<200801042109.m04L92hb007923@nakamura.uits.iupui.edu>': 1, '906': 1, '21:10:18': 1, '7D13042F71': 1, '21:10:14': 1, 'm04L927E007925': 1, '16:09:02': 3, 'm04L92hb007923': 1, 'r39770': 1, 'site-manage/branches/sakai_2-5-x/site-manage-tool/tool/src/webapp/vm/sitesetup': 1, '0.6961': 1, 'http://source.sakaiproject.org/viewsvn/?view=rev&rev=39770': 1, '16:09:01': 1, '39770': 1, 'site-manage/branches/sakai_2-5-x/site-manage-tool/tool/src/webapp/vm/sitesetup/chef_site-siteInfo-list.vm': 1, 'fix': 4, 'SAK-9996': 1, 'into': 2, '2-5-x': 2, 'branch:': 2, '-r': 5, '39687:39688': 1, 'https://source.sakaiproject.org/svn/site-manage/trunk/': 1, 'rjlowe@iupui.edu': 8, '15:46:24': 4, 'dreamcatcher.mr.itd.umich.edu': 2, '(dreamcatcher.mr.itd.umich.edu': 1, '[141.211.14.43])': 1, 'm04KkNbx032077;': 1, '15:46:23': 1, '477E9B13.2F3BC.22965': 1, '15:46:13': 1, '4AE03BB552;': 1, '20:46:13': 1, '<200801042044.m04Kiem3007881@nakamura.uits.iupui.edu>': 1, '38': 1, '20:45:56': 1, 'A55D242F57': 1, '20:45:52': 1, 'm04KieqE007883': 1, '15:44:40': 3, 'm04Kiem3007881': 1, 'r39769': 1, 'gradebook/trunk/app/ui/src:': 1, 'java/org/sakaiproject/tool/gradebook/ui/helpers/beans': 1, 'java/org/sakaiproject/tool/gradebook/ui/helpers/producers': 1, 'webapp/WEB-INF': 1, 'webapp/WEB-INF/bundle': 1, '0.7565': 1, 'http://source.sakaiproject.org/viewsvn/?view=rev&rev=39769': 1, '15:44:39': 1, '39769': 1, 'gradebook/trunk/app/ui/src/java/org/sakaiproject/tool/gradebook/ui/helpers/beans/AssignmentGradeRecordBean.java': 2, 'gradebook/trunk/app/ui/src/java/org/sakaiproject/tool/gradebook/ui/helpers/producers/GradeGradebookItemProducer.java': 2, 'gradebook/trunk/app/ui/src/webapp/WEB-INF/applicationContext.xml': 2, 'gradebook/trunk/app/ui/src/webapp/WEB-INF/bundle/messages.properties': 2, 'gradebook/trunk/app/ui/src/webapp/WEB-INF/requestContext.xml': 2, 'SAK-12180': 2, 'Fixed': 1, 'errors': 1, 'grading': 1, 'helper': 2, '15:03:18': 4, '[141.211.14.46])': 5, 'firestarter.mr.itd.umich.edu': 4, '(firestarter.mr.itd.umich.edu': 2, '[141.211.14.83])': 2, 'fan.mail.umich.edu': 5, 'm04K3HGF006563;': 1, '15:03:17': 1, '477E9100.8F7F4.1590': 1, '15:03:15': 2, '57770BB477;': 1, '20:03:09': 1, '<200801042001.m04K1cO0007738@nakamura.uits.iupui.edu>': 1, '622': 1, '20:02:46': 1, 'AB4D042F4D': 1, '20:02:50': 1, 'm04K1cXv007740': 1, '15:01:38': 3, 'm04K1cO0007738': 1, 'r39766': 1, 'site-manage/branches/sakai_2-4-x/site-manage-tool/tool/src/java/org/sakaiproject/site/tool': 1, '0.7626': 1, 'http://source.sakaiproject.org/viewsvn/?view=rev&rev=39766': 1, '15:01:37': 1, '39766': 1, 'site-manage/branches/sakai_2-4-x/site-manage-tool/tool/src/java/org/sakaiproject/site/tool/SiteAction.java': 1, 'SAK-10788': 1, 'site-manage': 1, '2.4.x': 1, 'Repository': 1, '#38024': 1, 'Wed': 1, 'Nov': 1, '07': 1, '14:54:46': 1, 'MST': 1, '2007': 1, 'Fix': 2, 'SAK-10788:': 1, 'If': 1, 'a': 8, 'provided': 1, 'couse': 1, 'site': 3, 'is': 1, 'fake': 1, 'or': 1, \"doesn't\": 2, 'provide': 1, 'any': 2, 'information,': 1, 'Site': 2, 'Info': 2, 'appears': 1, 'be': 4, 'like': 1, 'project': 1, 'empty': 1, 'participant': 1, 'list': 2, 'Watch': 1, 'enrollments': 1, 'object': 1, 'being': 1, 'null': 1, 'and': 2, 'concatenate': 1, 'provider': 1, 'ids': 1, 'when': 3, 'there': 1, 'are': 1, 'more': 1, 'than': 1, 'one.': 1, 'Files': 1, 'Changed': 1, 'MODIFY': 1, '/site-manage/trunk/site-manage-tool/tool/src/java/org/sakaiproject/site/tool/SiteAction.java': 1, '14:50:18': 4, '[141.211.14.93])': 1, 'eyewitness.mr.itd.umich.edu': 4, '(eyewitness.mr.itd.umich.edu': 2, '[141.211.93.142])': 2, 'mission.mail.umich.edu': 1, 'm04JoHJi019755;': 1, '14:50:17': 1, '477E8DF2.67B91.5278': 1, '14:50:13': 1, '2D1B9BB492;': 1, '19:47:10': 1, '<200801041948.m04JmdwO007705@nakamura.uits.iupui.edu>': 1, '960': 1, '19:46:50': 1, 'B3E6742F4A': 1, '19:49:51': 1, 'm04JmeV9007707': 1, '14:48:40': 1, 'm04JmdwO007705': 1, '14:48:39': 2, 'r39765': 1, 'gradebook/trunk/app:': 1, 'business/src/java/org/sakaiproject/tool/gradebook/business': 1, 'business/src/java/org/sakaiproject/tool/gradebook/business/impl': 1, 'ui': 2, 'ui/src/java/org/sakaiproject/tool/gradebook/ui/helpers/beans': 1, 'ui/src/java/org/sakaiproject/tool/gradebook/ui/helpers/entity': 1, 'ui/src/java/org/sakaiproject/tool/gradebook/ui/helpers/params': 1, 'ui/src/java/org/sakaiproject/tool/gradebook/ui/helpers/producers': 1, 'ui/src/webapp/WEB-INF': 1, 'ui/src/webapp/WEB-INF/bundle': 1, 'ui/src/webapp/content/templates': 1, '0.7556': 2, 'http://source.sakaiproject.org/viewsvn/?view=rev&rev=39765': 1, '14:48:37': 1, '39765': 1, 'Added:': 4, 'gradebook/trunk/app/ui/src/java/org/sakaiproject/tool/gradebook/ui/helpers/beans/AssignmentGradeRecordCreator.java': 1, 'gradebook/trunk/app/ui/src/java/org/sakaiproject/tool/gradebook/ui/helpers/entity/GradebookEntryGradeEntityProvider.java': 1, 'gradebook/trunk/app/ui/src/java/org/sakaiproject/tool/gradebook/ui/helpers/params/GradeGradebookItemViewParams.java': 1, 'gradebook/trunk/app/ui/src/webapp/content/templates/grade-gradebook-item.html': 1, 'gradebook/trunk/app/business/src/java/org/sakaiproject/tool/gradebook/business/GradebookManager.java': 1, 'gradebook/trunk/app/business/src/java/org/sakaiproject/tool/gradebook/business/impl/GradebookManagerHibernateImpl.java': 2, 'gradebook/trunk/app/ui/pom.xml': 1, 'gradebook/trunk/app/ui/src/java/org/sakaiproject/tool/gradebook/ui/helpers/beans/GradebookItemBean.java': 1, 'gradebook/trunk/app/ui/src/java/org/sakaiproject/tool/gradebook/ui/helpers/entity/GradebookEntryEntityProvider.java': 1, 'gradebook/trunk/app/ui/src/java/org/sakaiproject/tool/gradebook/ui/helpers/producers/AddGradebookItemProducer.java': 1, 'tool': 4, 'grade': 2, 'an': 1, 'assignment': 1, 'cwen@iupui.edu': 20, '11:37:30': 4, 'tadpole.mr.itd.umich.edu': 2, '(tadpole.mr.itd.umich.edu': 1, '[141.211.14.72])': 1, 'm04GbT9x022078;': 1, '11:37:29': 1, '477E60B2.82756.9904': 1, '11:37:09': 1, '8D13DBB001;': 1, '16:37:07': 1, '<200801041635.m04GZQGZ007313@nakamura.uits.iupui.edu>': 1, '120': 1, '16:36:40': 1, 'D430B42E42': 1, '16:36:37': 1, 'm04GZQ7W007315': 1, '11:35:26': 3, 'm04GZQGZ007313': 1, 'r39764': 1, 'msgcntr/trunk/messageforums-app/src/java/org/sakaiproject/tool/messageforums:': 1, '.': 3, '0.7002': 2, 'http://source.sakaiproject.org/viewsvn/?view=rev&rev=39764': 1, '11:35:25': 1, '39764': 1, 'msgcntr/trunk/messageforums-app/src/java/org/sakaiproject/tool/messageforums/PrivateMessagesTool.java': 2, 'msgcntr/trunk/messageforums-app/src/java/org/sakaiproject/tool/messageforums/ui/PrivateMessageDecoratedBean.java': 1, 'unmerge': 2, \"Xingtang's\": 2, 'checkin': 1, 'SAK-12488.': 1, '-r39558:39557': 1, 'https://source.sakaiproject.org/svn/msgcntr/trunk': 2, 'U': 14, 'messageforums-app/src/java/org/sakaiproject/tool/messageforums/PrivateMessagesTool.java': 2, 'messageforums-app/src/java/org/sakaiproject/tool/messageforums/ui/PrivateMessageDecoratedBean.java': 1, 'log': 7, '39558': 1, '------------------------------------------------------------------------': 14, 'r39558': 1, '|': 21, 'hu2@iupui.edu': 2, '2007-12-20': 2, '15:25:38': 1, '(Thu,': 8, '20': 2, 'Dec': 5, '2007)': 6, '3': 61, 'lines': 4, 'SAK-12488': 1, 'send': 1, 'yourself.': 1, 'click': 1, 'reply': 2, 'all,': 1, 'cc': 2, 'row': 1, 'should': 2, 'null.': 1, 'http://jira.sakaiproject.org/jira/browse/SAK-12488': 1, '11:35:08': 4, 'it.mr.itd.umich.edu': 2, '(it.mr.itd.umich.edu': 1, '[141.211.93.151])': 1, 'm04GZ6lt020480;': 1, '11:35:06': 1, '477E6033.6469D.21870': 1, '11:35:02': 1, 'E40FABAE5B;': 1, '16:34:38': 1, '<200801041633.m04GX6eG007292@nakamura.uits.iupui.edu>': 1, '697': 1, '16:34:01': 1, '1CD0C42E42': 1, '16:34:17': 1, 'm04GX6Y3007294': 1, '11:33:06': 3, 'm04GX6eG007292': 1, 'r39763': 1, 'msgcntr/trunk:': 1, 'messageforums-api/src/bundle/org/sakaiproject/api/app/messagecenter/bundle': 1, 'messageforums-app/src/java/org/sakaiproject/tool/messageforums': 1, '0.7615': 1, 'http://source.sakaiproject.org/viewsvn/?view=rev&rev=39763': 1, '11:33:05': 1, '39763': 1, 'msgcntr/trunk/messageforums-api/src/bundle/org/sakaiproject/api/app/messagecenter/bundle/Messages.properties': 1, 'check': 1, 'SAK-12484.': 1, '-r39571:39570': 1, 'messageforums-api/src/bundle/org/sakaiproject/api/app/messagecenter/bundle/Messages.properties': 1, '39571': 1, 'r39571': 1, '21:26:28': 1, 'SAK-12484': 1, 'all': 1, 'not': 2, 'include': 1, 'current': 1, 'name.': 1, 'http://jira.sakaiproject.org/jira/browse/SAK-12484': 1, 'gsilver@umich.edu': 12, '11:12:37': 4, 'm04GCaHB030887;': 1, '11:12:36': 1, '477E5AEB.E670B.28397': 1, '11:12:30': 1, '99715BAE7D;': 1, '16:12:27': 1, '<200801041611.m04GB1Lb007221@nakamura.uits.iupui.edu>': 1, '272': 1, '16:12:14': 1, '0A6ED42DFC': 1, '16:12:12': 1, 'm04GB1Wt007223': 1, '11:11:01': 3, 'm04GB1Lb007221': 1, 'r39762': 1, 'web/trunk/web-tool/tool/src/bundle': 1, '0.7601': 1, 'http://source.sakaiproject.org/viewsvn/?view=rev&rev=39762': 1, '11:11:00': 1, '39762': 1, 'web/trunk/web-tool/tool/src/bundle/iframe.properties': 1, 'SAK-12596': 1, 'http://bugs.sakaiproject.org/jira/browse/SAK-12596': 1, 'left': 3, 'moot': 3, '(unused)': 3, 'entries': 3, 'commented': 3, 'now': 3, '11:11:52': 5, '[141.211.14.36])': 1, 'creepshow.mr.itd.umich.edu': 4, '(creepshow.mr.itd.umich.edu': 2, '[141.211.14.84])': 2, 'godsend.mail.umich.edu': 1, 'm04GBqqv025330;': 1, '477E5AB3.5CC32.30840': 1, '11:11:34': 1, '62AA4BAE46;': 1, '16:11:31': 1, '<200801041610.m04GA5KP007209@nakamura.uits.iupui.edu>': 1, '1006': 1, '16:11:18': 1, 'C596A3DFA2': 1, '16:11:16': 1, 'm04GA5LR007211': 1, '11:10:05': 3, 'm04GA5KP007209': 1, 'r39761': 1, 'site/trunk/site-tool/tool/src/bundle': 1, '0.7605': 2, 'http://source.sakaiproject.org/viewsvn/?view=rev&rev=39761': 1, '11:10:04': 1, '39761': 1, 'site/trunk/site-tool/tool/src/bundle/admin.properties': 1, 'SAK-12595': 1, 'http://bugs.sakaiproject.org/jira/browse/SAK-12595': 1, '11:11:03': 5, 'carrie.mr.itd.umich.edu': 2, '(carrie.mr.itd.umich.edu': 1, '[141.211.93.152])': 1, 'm04GB3Vg011502;': 1, '477E5A8D.B378F.24200': 1, '11:10:56': 1, 'C7251BAD44;': 1, '16:10:53': 1, '<200801041609.m04G9EuX007197@nakamura.uits.iupui.edu>': 1, '483': 1, '16:10:27': 1, '2E7043DFA2': 1, '16:10:26': 1, 'm04G9Eqg007199': 1, '11:09:15': 1, 'm04G9EuX007197': 1, '11:09:14': 2, 'r39760': 1, 'site-manage/trunk/site-manage-tool/tool/src:': 1, 'webapp/vm/sitesetup': 3, '0.6959': 2, 'http://source.sakaiproject.org/viewsvn/?view=rev&rev=39760': 1, '11:09:12': 1, '39760': 1, 'site-manage/trunk/site-manage-tool/tool/src/java/org/sakaiproject/site/tool/SiteAction.java': 1, 'site-manage/trunk/site-manage-tool/tool/src/webapp/vm/sitesetup/chef_site-siteInfo-list.vm': 1, 'SAK-10911:': 1, 'Refactor': 1, 'use': 1, 'of': 4, 'site.upd,': 1, 'site.upd.site.mbrship': 1, 'site.upd.grp.mbrship': 1, 'permissions': 2, '11:10:22': 4, '[141.211.14.39])': 3, 'faithful.mail.umich.edu': 3, 'm04GAL9k010604;': 1, '11:10:21': 1, '477E5A67.34350.23015': 1, '11:10:18': 1, '98D04BAD43;': 1, '16:10:11': 1, '<200801041608.m04G8d7w007184@nakamura.uits.iupui.edu>': 1, '966': 1, '16:09:51': 1, '9F89542DD0': 1, '16:09:50': 1, 'm04G8dXN007186': 1, '11:08:39': 3, 'm04G8d7w007184': 1, 'r39759': 1, 'mailarchive/trunk/mailarchive-tool/tool/src/bundle': 1, '0.7606': 1, 'http://source.sakaiproject.org/viewsvn/?view=rev&rev=39759': 1, '11:08:38': 1, '39759': 1, 'mailarchive/trunk/mailarchive-tool/tool/src/bundle/email.properties': 1, 'SAK-12592': 1, 'http://bugs.sakaiproject.org/jira/browse/SAK-12592': 1, 'wagnermr@iupui.edu': 6, '10:38:42': 4, 'shining.mr.itd.umich.edu': 2, '(shining.mr.itd.umich.edu': 1, '[141.211.93.153])': 1, 'm04Fcfjm012313;': 1, '10:38:41': 1, '477E52FA.E6C6E.24093': 1, '10:38:37': 1, '6A39594CD2;': 1, '15:37:36': 1, '<200801041537.m04Fb6Ci007092@nakamura.uits.iupui.edu>': 1, '690': 1, '15:37:21': 1, 'CEFA037ACE': 1, '15:38:17': 1, 'm04Fb6nh007094': 1, '10:37:06': 3, 'm04Fb6Ci007092': 1, 'r39758': 1, 'gradebook/trunk:': 1, 'app/business/src/java/org/sakaiproject/tool/gradebook/business/impl': 1, 'service/api/src/java/org/sakaiproject/service/gradebook/shared': 1, 'service/impl/src/java/org/sakaiproject/component/gradebook': 1, '0.7559': 1, 'http://source.sakaiproject.org/viewsvn/?view=rev&rev=39758': 1, '10:37:04': 1, '39758': 1, 'gradebook/trunk/service/api/src/java/org/sakaiproject/service/gradebook/shared/GradebookService.java': 1, 'gradebook/trunk/service/impl/src/java/org/sakaiproject/component/gradebook/GradebookServiceHibernateImpl.java': 1, 'SAK-12175': 1, 'http://bugs.sakaiproject.org/jira/browse/SAK-12175': 1, 'Create': 1, 'methods': 1, 'required': 1, 'gb': 2, 'integration': 1, 'Assignment2': 1, 'getGradeDefinitionForStudentForItem': 1, '10:17:43': 2, '10:17:42': 3, 'm04FHgfs011536;': 1, '477E4E0F.CCA4B.926': 1, '10:17:38': 1, 'BD02DBAC64;': 1, '15:17:34': 1, '<200801041515.m04FFv42007050@nakamura.uits.iupui.edu>': 1, '25': 1, '15:17:11': 1, '5B396236B9': 1, '15:17:08': 1, 'm04FFv85007052': 1, '10:15:57': 3, 'm04FFv42007050': 1, 'r39757': 1, 'assignment/trunk:': 1, 'assignment-impl/impl/src/java/org/sakaiproject/assignment/impl': 1, 'assignment-tool/tool/src/webapp/vm/assignment': 1, 'http://source.sakaiproject.org/viewsvn/?view=rev&rev=39757': 1, '10:15:54': 1, '39757': 1, 'assignment/trunk/assignment-impl/impl/src/java/org/sakaiproject/assignment/impl/BaseAssignmentService.java': 1, 'assignment/trunk/assignment-tool/tool/src/webapp/vm/assignment/chef_assignments_instructor_list_submissions.vm': 1, \"SAK-12604:Don't\": 1, 'show': 1, 'groups/sections': 1, 'filter': 1, 'if': 2, 'have': 1, 'antranig@caret.cam.ac.uk': 4, '10:04:14': 4, 'm04F4Dci015108;': 1, '10:04:13': 1, '477E4AE3.D7AF.31669': 1, '10:04:05': 1, '933E3BAC17;': 1, '15:04:00': 1, '<200801041502.m04F21Jo007031@nakamura.uits.iupui.edu>': 1, '32': 1, 'AC2F6236B9': 1, '15:03:12': 1, 'm04F21hn007033': 1, '10:02:01': 3, 'm04F21Jo007031': 1, 'r39756': 1, 'component/branches/SAK-12166/component-api/component/src/java/org/sakaiproject/component:': 1, 'impl': 1, 'impl/spring/support': 1, 'impl/spring/support/dynamic': 1, 'impl/support': 1, 'util': 1, '0.6932': 1, 'http://source.sakaiproject.org/viewsvn/?view=rev&rev=39756': 1, '10:01:40': 1, '39756': 1, 'component/branches/SAK-12166/component-api/component/src/java/org/sakaiproject/component/impl/spring/support/dynamic/': 1, 'component/branches/SAK-12166/component-api/component/src/java/org/sakaiproject/component/impl/spring/support/dynamic/DynamicComponentManager.java': 1, 'component/branches/SAK-12166/component-api/component/src/java/org/sakaiproject/component/impl/support/': 1, 'component/branches/SAK-12166/component-api/component/src/java/org/sakaiproject/component/impl/support/DynamicComponentRecord.java': 1, 'component/branches/SAK-12166/component-api/component/src/java/org/sakaiproject/component/impl/support/DynamicJARManager.java': 1, 'component/branches/SAK-12166/component-api/component/src/java/org/sakaiproject/component/impl/support/JARRecord.java': 1, 'component/branches/SAK-12166/component-api/component/src/java/org/sakaiproject/component/util/ByteToCharBase64.java': 1, 'component/branches/SAK-12166/component-api/component/src/java/org/sakaiproject/component/util/FileUtil.java': 1, 'component/branches/SAK-12166/component-api/component/src/java/org/sakaiproject/component/util/RecordFileIO.java': 1, 'component/branches/SAK-12166/component-api/component/src/java/org/sakaiproject/component/util/RecordReader.java': 1, 'component/branches/SAK-12166/component-api/component/src/java/org/sakaiproject/component/util/RecordWriter.java': 1, 'component/branches/SAK-12166/component-api/component/src/java/org/sakaiproject/component/util/StreamDigestor.java': 1, 'component/branches/SAK-12166/component-api/component/src/java/org/sakaiproject/component/impl/spring/support/ComponentsLoaderImpl.java': 1, 'Temporary': 1, 'commit': 1, 'incomplete': 1, 'work': 1, 'on': 2, 'JAR': 1, 'caching': 1, 'gopal.ramasammycook@gmail.com': 4, '09:05:31': 4, 'guys.mr.itd.umich.edu': 4, '(guys.mr.itd.umich.edu': 2, '[141.211.14.76])': 2, 'm04E5U3C029277;': 1, '09:05:30': 1, '477E3D23.EE2E7.5237': 1, '09:05:26': 1, '33C7856DC0;': 1, '14:05:26': 1, '<200801041403.m04E3psW006926@nakamura.uits.iupui.edu>': 1, '575': 1, '14:05:04': 1, '3C0261D617': 1, '14:05:03': 1, 'm04E3pQS006928': 1, '09:03:52': 1, 'm04E3psW006926': 1, '09:03:51': 2, 'r39755': 1, 'sam/branches/SAK-12065:': 1, 'samigo-api/src/java/org/sakaiproject/tool/assessment/shared/api/grading': 1, 'samigo-app/src/java/org/sakaiproject/tool/assessment/ui/bean/evaluation': 1, 'samigo-app/src/java/org/sakaiproject/tool/assessment/ui/listener/evaluation': 1, 'samigo-services/src/java/org/sakaiproject/tool/assessment/facade': 1, 'samigo-services/src/java/org/sakaiproject/tool/assessment/integration/helper/ifc': 1, 'samigo-services/src/java/org/sakaiproject/tool/assessment/integration/helper/integrated': 1, 'samigo-services/src/java/org/sakaiproject/tool/assessment/integration/helper/standalone': 1, 'samigo-services/src/java/org/sakaiproject/tool/assessment/shared/impl/grading': 1, '0.7558': 1, 'http://source.sakaiproject.org/viewsvn/?view=rev&rev=39755': 1, '09:02:54': 1, '39755': 1, 'sam/branches/SAK-12065/samigo-api/src/java/org/sakaiproject/tool/assessment/shared/api/grading/GradingSectionAwareServiceAPI.java': 1, 'sam/branches/SAK-12065/samigo-app/src/java/org/sakaiproject/tool/assessment/ui/bean/evaluation/QuestionScoresBean.java': 1, 'sam/branches/SAK-12065/samigo-app/src/java/org/sakaiproject/tool/assessment/ui/bean/evaluation/SubmissionStatusBean.java': 1, 'sam/branches/SAK-12065/samigo-app/src/java/org/sakaiproject/tool/assessment/ui/bean/evaluation/TotalScoresBean.java': 1, 'sam/branches/SAK-12065/samigo-app/src/java/org/sakaiproject/tool/assessment/ui/listener/evaluation/SubmissionStatusListener.java': 1, 'sam/branches/SAK-12065/samigo-services/src/java/org/sakaiproject/tool/assessment/facade/PublishedAssessmentFacadeQueries.java': 1, 'sam/branches/SAK-12065/samigo-services/src/java/org/sakaiproject/tool/assessment/facade/PublishedAssessmentFacadeQueriesAPI.java': 1, 'sam/branches/SAK-12065/samigo-services/src/java/org/sakaiproject/tool/assessment/integration/helper/ifc/SectionAwareServiceHelper.java': 1, 'sam/branches/SAK-12065/samigo-services/src/java/org/sakaiproject/tool/assessment/integration/helper/integrated/SectionAwareServiceHelperImpl.java': 1, 'sam/branches/SAK-12065/samigo-services/src/java/org/sakaiproject/tool/assessment/integration/helper/standalone/SectionAwareServiceHelperImpl.java': 1, 'sam/branches/SAK-12065/samigo-services/src/java/org/sakaiproject/tool/assessment/shared/impl/grading/GradingSectionAwareServiceImpl.java': 1, 'SAK-12065': 1, 'Gopal': 1, 'Samigo': 1, 'Group': 1, 'Release.': 1, 'SubmissionStatus/TotalScores/Questions': 1, 'View': 1, 'filter.': 1, 'david.horwitz@uct.ac.za': 17, '07:02:32': 4, 'm04C2VN7026678;': 1, '07:02:31': 1, '477E2050.C2599.3263': 1, '07:02:27': 1, '6497FBA906;': 1, '12:02:11': 1, '<200801041200.m04C0gfK006793@nakamura.uits.iupui.edu>': 1, '611': 2, '12:01:53': 2, '5296342D3C': 1, 'm04C0gnm006795': 1, '07:00:42': 3, 'm04C0gfK006793': 1, 'r39754': 1, 'polls/branches/sakai_2-5-x:': 1, 'tool/src/java/org/sakaiproject/poll/tool': 2, 'tool/src/java/org/sakaiproject/poll/tool/evolvers': 2, 'tool/src/webapp/WEB-INF': 2, '0.6526': 1, 'http://source.sakaiproject.org/viewsvn/?view=rev&rev=39754': 1, '07:00:10': 1, '39754': 1, 'polls/branches/sakai_2-5-x/tool/src/java/org/sakaiproject/poll/tool/evolvers/': 1, 'polls/branches/sakai_2-5-x/tool/src/java/org/sakaiproject/poll/tool/evolvers/SakaiFCKTextEvolver.java': 2, 'Removed:': 2, 'polls/branches/sakai_2-5-x/.classpath': 1, 'polls/branches/sakai_2-5-x/tool/pom.xml': 1, 'polls/branches/sakai_2-5-x/tool/src/webapp/WEB-INF/requestContext.xml': 1, '-r39753': 1, 'https://source.sakaiproject.org/svn/polls/trunk': 2, 'r39753': 2, '13:05:51': 1, '+0200': 3, '1': 3, 'line': 3, 'SAK-12228': 2, 'implmented': 2, 'workaround': 2, 'sugested': 2, 'AB': 2, 'needs': 2, 'tested': 2, 'against': 2, 'trunk': 2, 'build': 2, 'dhorwitz@david-horwitz-6:~/branchManagemnt/sakai_2-5-x>': 4, '-c39753': 1, 'polls/': 1, 'polls/.classpath': 1, 'A': 2, 'polls/tool/src/java/org/sakaiproject/poll/tool/evolvers': 1, 'polls/tool/src/java/org/sakaiproject/poll/tool/evolvers/SakaiFCKTextEvolver.java': 1, 'C': 2, 'polls/tool/src/webapp/WEB-INF/requestContext.xml': 2, 'polls/tool/pom.xml': 1, 'resolved': 1, 'Resolved': 1, 'conflicted': 1, 'state': 1, \"'polls/tool/src/webapp/WEB-INF/requestContext.xml\": 1, '06:08:27': 4, '[141.211.14.98])': 1, 'casino.mail.umich.edu': 1, 'm04B8Qw9001368;': 1, '06:08:26': 1, '477E13A5.30FC0.24054': 1, '06:08:23': 1, '784A476D7B;': 1, '11:08:12': 1, '<200801041106.m04B6lK3006677@nakamura.uits.iupui.edu>': 1, '585': 1, '11:07:56': 1, '1CACC42D0C': 1, '11:07:58': 1, 'm04B6lWM006679': 1, '06:06:47': 3, 'm04B6lK3006677': 1, 'polls/trunk:': 1, '0.6948': 1, 'http://source.sakaiproject.org/viewsvn/?view=rev&rev=39753': 1, '06:05:51': 1, '39753': 1, 'polls/trunk/tool/src/java/org/sakaiproject/poll/tool/evolvers/': 1, 'polls/trunk/tool/src/java/org/sakaiproject/poll/tool/evolvers/SakaiFCKTextEvolver.java': 1, 'polls/trunk/.classpath': 1, 'polls/trunk/tool/pom.xml': 1, 'polls/trunk/tool/src/webapp/WEB-INF/requestContext.xml': 1, '04:49:08': 4, '[141.211.14.92])': 1, 'galaxyquest.mr.itd.umich.edu': 4, '(galaxyquest.mr.itd.umich.edu': 2, '[141.211.93.145])': 2, 'score.mail.umich.edu': 1, 'm049n60G017588;': 1, '04:49:06': 1, '477E010C.48C2.10259': 1, '04:49:03': 1, '254CC8CDEE;': 1, '09:48:55': 1, '<200801040947.m049lUxo006517@nakamura.uits.iupui.edu>': 1, '246': 1, '09:48:36': 1, '8C13342C92': 1, '09:48:40': 1, 'm049lU3P006519': 1, '04:47:30': 3, 'm049lUxo006517': 1, 'r39752': 1, 'podcasts/branches/sakai_2-5-x/podcasts-app/src/webapp:': 2, 'css': 2, 'podcasts': 2, '0.6528': 1, 'http://source.sakaiproject.org/viewsvn/?view=rev&rev=39752': 1, '04:47:16': 1, '39752': 1, 'podcasts/branches/sakai_2-5-x/podcasts-app/src/webapp/css/podcaster.css': 2, 'podcasts/branches/sakai_2-5-x/podcasts-app/src/webapp/podcasts/podMain.jsp': 2, '-r39641': 1, 'https://source.sakaiproject.org/svn/podcasts/trunk': 4, 'r39641': 1, 'josrodri@iupui.edu': 2, '2007-12-28': 1, '23:44:24': 1, '28': 1, 'SAK-9882:': 2, 'refactored': 2, 'podMain.jsp': 1, 'right': 1, 'way': 1, '(at': 1, 'least': 1, 'much': 1, 'closer': 1, 'to)': 1, '-c39641': 1, 'podcasts/': 2, 'podcasts/podcasts-app/src/webapp/podcasts/podMain.jsp': 2, 'podcasts/podcasts-app/src/webapp/css/podcaster.css': 2, 'merged': 1, 'manualy': 1, '04:33:44': 4, 'workinggirl.mr.itd.umich.edu': 2, '(workinggirl.mr.itd.umich.edu': 1, '[141.211.93.143])': 1, 'm049Xge3031803;': 1, '04:33:42': 1, '477DFD6C.75DBE.26054': 1, '04:33:35': 1, '6C929BA656;': 1, '09:33:27': 1, '<200801040932.m049W2i5006493@nakamura.uits.iupui.edu>': 1, '153': 1, '09:33:10': 1, '6C69423767': 1, '09:33:13': 1, 'm049W3fl006495': 1, '04:32:03': 1, 'm049W2i5006493': 1, '04:32:02': 2, 'r39751': 1, 'images': 1, 'http://source.sakaiproject.org/viewsvn/?view=rev&rev=39751': 1, '04:31:35': 1, '39751': 1, 'podcasts/branches/sakai_2-5-x/podcasts-app/src/webapp/images/rss-feed-icon.png': 1, 'podcasts/branches/sakai_2-5-x/podcasts-app/src/webapp/podcasts/podPermissions.jsp': 1, 'podcasts/branches/sakai_2-5-x/podcasts-app/src/webapp/podcasts/podDelete.jsp': 1, 'podcasts/branches/sakai_2-5-x/podcasts-app/src/webapp/podcasts/podNoResource.jsp': 1, 'podcasts/branches/sakai_2-5-x/podcasts-app/src/webapp/podcasts/podOptions.jsp': 1, '-r39146': 1, 'r39146': 1, '2007-12-12': 1, '21:40:33': 1, '(Wed,': 2, '12': 2, 'other': 1, 'pages': 1, 'as': 4, 'well': 2, 'take': 1, 'advantage': 1, 'proper': 1, 'jsp': 1, 'components': 1, 'validation': 1, 'cleanup.': 1, '-c39146': 1, 'D': 2, 'podcasts/podcasts-app/src/webapp/podcasts/podPermissions.jsp': 1, 'podcasts/podcasts-app/src/webapp/podcasts/podDelete.jsp': 1, 'podcasts/podcasts-app/src/webapp/podcasts/podNoResource.jsp': 1, 'podcasts/podcasts-app/src/webapp/podcasts/podOptions.jsp': 1, 'podcasts/podcasts-app/src/webapp/images/rss-feed-icon.png': 1, '04:07:34': 4, 'salemslot.mr.itd.umich.edu': 6, '(salemslot.mr.itd.umich.edu': 3, '[141.211.14.58])': 3, 'm0497WAN027902;': 1, '04:07:32': 1, '477DF74E.49493.30415': 1, '04:07:29': 1, '88598BA5B6;': 1, '09:07:19': 1, '<200801040905.m0495rWB006420@nakamura.uits.iupui.edu>': 1, '385': 1, '09:07:04': 2, '90636418A8': 1, 'm0495sZs006422': 1, '04:05:54': 1, 'm0495rWB006420': 1, '04:05:53': 2, 'r39750': 1, 'event/branches/SAK-6216/event-util/util/src/java/org/sakaiproject/util': 1, '0.7554': 1, 'http://source.sakaiproject.org/viewsvn/?view=rev&rev=39750': 1, '04:05:43': 1, '39750': 1, 'event/branches/SAK-6216/event-util/util/src/java/org/sakaiproject/util/EmailNotification.java': 1, 'SAK-6216': 1, 'event': 1, 'change': 1, 'SAK-11169': 1, '(r39033)': 1, 'synchronize': 1, 'branch': 1, '(for': 1, 'convenience': 1, 'UCT': 1, 'local': 1, 'build)': 1, 'Thu': 12, '19:51:21': 3, '[141.211.14.91])': 3, 'Thu,': 51, '03': 18, 'jacknife.mail.umich.edu': 3, 'm040pJHB027171;': 1, '19:51:19': 1, '477D8300.AC098.32562': 1, '19:51:15': 1, 'E6CC4B9F8A;': 1, '00:36:06': 1, '<200801040023.m040NpCc005473@nakamura.uits.iupui.edu>': 1, '754': 1, '00:35:43': 1, '8889842C49': 1, '00:25:00': 1, 'm040NpgM005475': 1, '19:23:51': 3, 'm040NpCc005473': 1, 'r39749': 1, '19:51:20': 1, '0.6956': 1, 'http://source.sakaiproject.org/viewsvn/?view=rev&rev=39749': 1, '2008-01-03': 6, '19:23:46': 1, '39749': 1, 'bspace/site-manage/sakai_2-4-x/site-manage-tool/tool/src/webapp/vm/sitesetup/chef_site-importSites.vm': 1, 'BSP-1420': 1, 'Update': 1, 'text': 2, 'clarify': 2, '\"Re-Use': 1, 'Materials...\"': 1, 'option': 2, 'WS': 1, 'Setup': 1, '17:18:23': 4, 'm03MIMXY027729;': 1, '17:18:22': 1, '477D5F23.797F6.16348': 1, '17:18:14': 1, 'EF439B98CE;': 1, '22:18:19': 1, '<200801032216.m03MGhDa005292@nakamura.uits.iupui.edu>': 1, '236': 1, '22:18:04': 1, '905D53C2FD': 1, '22:17:52': 1, 'm03MGhrs005294': 1, '17:16:43': 3, 'm03MGhDa005292': 1, 'r39746': 1, 'http://source.sakaiproject.org/viewsvn/?view=rev&rev=39746': 1, '17:16:39': 1, '39746': 1, 'bspace/site-manage/sakai_2-4-x/site-manage-tool/tool/src/webapp/vm/sitesetup/chef_site-siteInfo-duplicate.vm': 1, 'BSP-1421': 1, 'Add': 1, '\"Duplicate': 1, 'Site\"': 1, 'ray@media.berkeley.edu': 4, '17:07:00': 4, 'anniehall.mr.itd.umich.edu': 2, '(anniehall.mr.itd.umich.edu': 1, '[141.211.93.141])': 1, 'm03M6xaq014868;': 1, '17:06:59': 1, '477D5C7A.4FE1F.22211': 1, '17:06:53': 1, '0BC8D7225E;': 1, '22:06:57': 1, '<200801032205.m03M5Ea7005273@nakamura.uits.iupui.edu>': 1, '554': 1, '22:06:34': 1, '2AB513C2FD': 1, '22:06:23': 1, 'm03M5EQa005275': 1, '17:05:14': 3, 'm03M5Ea7005273': 1, 'r39745': 1, 'providers/trunk/cm/cm-authz-provider/src/java/org/sakaiproject/coursemanagement/impl/provider': 1, 'http://source.sakaiproject.org/viewsvn/?view=rev&rev=39745': 1, '17:05:11': 1, '39745': 1, 'providers/trunk/cm/cm-authz-provider/src/java/org/sakaiproject/coursemanagement/impl/provider/CourseManagementGroupProvider.java': 1, 'SAK-12602': 1, 'logic': 1, 'has': 1, 'multiple': 1, 'roles': 1, 'section': 1, '16:34:40': 4, '[141.211.14.34])': 1, 'chaos.mail.umich.edu': 1, 'm03LYdY1029538;': 1, '16:34:39': 1, '477D54EA.13F34.26602': 1, '16:34:36': 1, 'CC710ADC79;': 1, '21:34:29': 1, '<200801032133.m03LX3gG005191@nakamura.uits.iupui.edu>': 1, '21:34:08': 1, '43C4242B55': 1, '21:34:12': 1, 'm03LX3Vb005193': 1, '16:33:03': 3, 'm03LX3gG005191': 1, 'r39744': 1, 'oncourse/branches/oncourse_OPC_122007': 1, '0.9846': 1, 'http://source.sakaiproject.org/viewsvn/?view=rev&rev=39744': 1, '16:33:02': 1, '39744': 1, 'oncourse/branches/oncourse_OPC_122007/': 1, 'oncourse/branches/oncourse_OPC_122007/.externals': 1, 'update': 1, 'external': 1, 'GB.': 1, '16:29:07': 4, 'm03LT6uw027749;': 1, '16:29:06': 1, '477D5397.E161D.20326': 1, '16:28:58': 1, 'DEC65ADC79;': 1, '21:28:52': 1, '<200801032127.m03LRUqH005177@nakamura.uits.iupui.edu>': 1, '917': 1, '21:28:39': 1, '1FBB042B30': 1, '21:28:38': 1, 'm03LRUk4005179': 1, '16:27:30': 3, 'm03LRUqH005177': 1, 'r39743': 1, 'gradebook/branches/oncourse_2-4-2/app/ui/src/java/org/sakaiproject/tool/gradebook/ui': 2, '0.8509': 1, 'http://source.sakaiproject.org/viewsvn/?view=rev&rev=39743': 1, '16:27:29': 1, '39743': 1, 'gradebook/branches/oncourse_2-4-2/app/ui/src/java/org/sakaiproject/tool/gradebook/ui/RosterBean.java': 2, '-c': 2, '39403': 2, 'https://source.sakaiproject.org/svn/gradebook/trunk': 4, 'app/ui/src/java/org/sakaiproject/tool/gradebook/ui/RosterBean.java': 2, 'r39403': 1, '2007-12-17': 1, '17:11:08': 1, '(Mon,': 1, '17': 1, 'SAK-12504': 1, 'http://jira.sakaiproject.org/jira/browse/SAK-12504': 1, 'Viewing': 1, '\"All': 2, 'Grades\"': 2, 'page': 2, 'TA': 1, 'grader': 1, 'causes': 1, 'stack': 1, 'trace': 1, '16:23:48': 4, 'm03LNlf0002115;': 1, '16:23:47': 1, '477D525E.1448.30389': 1, '16:23:44': 1, '9D005B9D06;': 1, '21:23:38': 1, '<200801032122.m03LMFo4005148@nakamura.uits.iupui.edu>': 1, '6': 1, '21:23:24': 2, '3535542B69': 1, 'm03LMFtT005150': 1, '16:22:15': 3, 'm03LMFo4005148': 1, 'r39742': 1, '0.9907': 1, 'http://source.sakaiproject.org/viewsvn/?view=rev&rev=39742': 1, '16:22:14': 1, '39742': 1, '35014': 2, 'r35014': 1, '2007-09-12': 1, '16:17:59': 1, '-0400': 1, 'Sep': 1, 'SAK-11458': 1, 'http://bugs.sakaiproject.org/jira/browse/SAK-11458': 1, 'Course': 1, 'does': 1, 'appear': 1, 'no': 1, 'categories': 1}\n",
            "Jan 352\n"
          ]
        }
      ]
    },
    {
      "cell_type": "code",
      "source": [
        "#stuff = dict()\n",
        "#print(stuff['candy'])\n",
        "stuff = dict()\n",
        "print(stuff.get('candy',-1))"
      ],
      "metadata": {
        "colab": {
          "base_uri": "https://localhost:8080/"
        },
        "id": "r4n_IhviWF10",
        "outputId": "75a9a80b-6709-4f3d-b069-37ec8a3a1419"
      },
      "execution_count": null,
      "outputs": [
        {
          "output_type": "stream",
          "name": "stdout",
          "text": [
            "-1\n"
          ]
        }
      ]
    },
    {
      "cell_type": "markdown",
      "source": [
        "Write a program to read through the hello2.txt and figure out who has sent the greatest number of mail messages. The program looks for 'From ' lines and takes the second word of those lines as the person who sent the mail. The program creates a Python dictionary that maps the sender's mail address to a count of the number of times they appear in the file. After the dictionary is produced, the program reads through the dictionary using a maximum loop to find the most prolific committer.\n",
        "\n"
      ],
      "metadata": {
        "id": "1n_VrfEqYYqA"
      }
    },
    {
      "cell_type": "code",
      "source": [
        "name=open(\"hello2.txt\")\n",
        "counts=dict()\n",
        "for line in name:\n",
        "  if not line.startswith((\"From \")):\n",
        "    continue\n",
        "  else:\n",
        "    word=line.rstrip().split()\n",
        "    words=word[1]\n",
        "    counts[words]=counts.get(words,0)+1\n",
        "bigCount=None\n",
        "bigWord=None\n",
        "for key,value in counts.items():\n",
        "  if bigCount is None or value>bigCount:\n",
        "    bigCount=value\n",
        "    bigWord=key\n",
        "print (bigWord,bigCount)"
      ],
      "metadata": {
        "colab": {
          "base_uri": "https://localhost:8080/"
        },
        "id": "UWR20WhvYdda",
        "outputId": "ff2764c4-46a7-45ed-ca76-65f62fd16e20"
      },
      "execution_count": null,
      "outputs": [
        {
          "output_type": "stream",
          "name": "stdout",
          "text": [
            "cwen@iupui.edu 5\n"
          ]
        }
      ]
    },
    {
      "cell_type": "markdown",
      "source": [
        "## tuple"
      ],
      "metadata": {
        "id": "00VJbmA00zqs"
      }
    },
    {
      "cell_type": "code",
      "source": [
        "a=(\"hamad\",\"ali\",\"zeeshan\")\n",
        "print(a)\n",
        "type(a)\n",
        "print(a[2])\n",
        "b=(1,3,2,4,0)\n",
        "print(max(b))\n",
        "for number in b:\n",
        "  print(number)"
      ],
      "metadata": {
        "colab": {
          "base_uri": "https://localhost:8080/"
        },
        "id": "CXp7P9Qs03Mx",
        "outputId": "714f76cc-ec03-4756-b98d-4bf5700506f8"
      },
      "execution_count": null,
      "outputs": [
        {
          "output_type": "stream",
          "name": "stdout",
          "text": [
            "('hamad', 'ali', 'zeeshan')\n",
            "zeeshan\n",
            "4\n",
            "1\n",
            "3\n",
            "2\n",
            "4\n",
            "0\n"
          ]
        }
      ]
    },
    {
      "cell_type": "code",
      "source": [
        "#like string tupple are immutable\n",
        "b[2]=1#give error\n",
        "print(b)"
      ],
      "metadata": {
        "colab": {
          "base_uri": "https://localhost:8080/"
        },
        "id": "5fU-6TzR1xrb",
        "outputId": "971a9847-fea2-4bc6-e3c8-f7e7daacbeda"
      },
      "execution_count": null,
      "outputs": [
        {
          "output_type": "stream",
          "name": "stdout",
          "text": [
            "(1, 3, 2, 4, 0)\n"
          ]
        }
      ]
    },
    {
      "cell_type": "code",
      "source": [
        "t=tuple()\n",
        "dir(t)"
      ],
      "metadata": {
        "colab": {
          "base_uri": "https://localhost:8080/"
        },
        "id": "61Mvboi12IIS",
        "outputId": "8a204973-2a56-4d07-a453-91f8cacef2c5"
      },
      "execution_count": null,
      "outputs": [
        {
          "output_type": "execute_result",
          "data": {
            "text/plain": [
              "['__add__',\n",
              " '__class__',\n",
              " '__class_getitem__',\n",
              " '__contains__',\n",
              " '__delattr__',\n",
              " '__dir__',\n",
              " '__doc__',\n",
              " '__eq__',\n",
              " '__format__',\n",
              " '__ge__',\n",
              " '__getattribute__',\n",
              " '__getitem__',\n",
              " '__getnewargs__',\n",
              " '__gt__',\n",
              " '__hash__',\n",
              " '__init__',\n",
              " '__init_subclass__',\n",
              " '__iter__',\n",
              " '__le__',\n",
              " '__len__',\n",
              " '__lt__',\n",
              " '__mul__',\n",
              " '__ne__',\n",
              " '__new__',\n",
              " '__reduce__',\n",
              " '__reduce_ex__',\n",
              " '__repr__',\n",
              " '__rmul__',\n",
              " '__setattr__',\n",
              " '__sizeof__',\n",
              " '__str__',\n",
              " '__subclasshook__',\n",
              " 'count',\n",
              " 'index']"
            ]
          },
          "metadata": {},
          "execution_count": 9
        }
      ]
    },
    {
      "cell_type": "code",
      "source": [
        "(x,y)=(4,\"hamad\")\n",
        "print(y)\n",
        "(a,b)=(2,3)\n",
        "print(a,b)"
      ],
      "metadata": {
        "colab": {
          "base_uri": "https://localhost:8080/"
        },
        "id": "WPrvfGsB2j8s",
        "outputId": "0003446b-1d2f-4c37-beeb-f97d20a5239f"
      },
      "execution_count": null,
      "outputs": [
        {
          "output_type": "stream",
          "name": "stdout",
          "text": [
            "hamad\n",
            "2 3\n"
          ]
        }
      ]
    },
    {
      "cell_type": "code",
      "source": [
        "d=dict()\n",
        "d[\"hamad\"]=2\n",
        "d[\"ali\"]=4\n",
        "for (key,value) in d.items():\n",
        "  print(key,value)\n",
        "tup=d.items()\n",
        "print(tup)"
      ],
      "metadata": {
        "colab": {
          "base_uri": "https://localhost:8080/"
        },
        "id": "wK1XMLvT3kUE",
        "outputId": "97f630bd-3e6c-4592-e4ce-9a76b885922c"
      },
      "execution_count": null,
      "outputs": [
        {
          "output_type": "stream",
          "name": "stdout",
          "text": [
            "hamad 2\n",
            "ali 4\n",
            "dict_items([('hamad', 2), ('ali', 4)])\n"
          ]
        }
      ]
    },
    {
      "cell_type": "code",
      "source": [
        "(1,2,3)>(2,3,4)\n",
        "(\"ali\")>(\"alia\")\n",
        "(\"ali\",\"hamad\")>(\"ali\",\"Hamad\")"
      ],
      "metadata": {
        "colab": {
          "base_uri": "https://localhost:8080/"
        },
        "id": "ujyWtMNX4tQX",
        "outputId": "c04fee14-8598-43de-a7d9-189eb7a6d9a7"
      },
      "execution_count": null,
      "outputs": [
        {
          "output_type": "execute_result",
          "data": {
            "text/plain": [
              "True"
            ]
          },
          "metadata": {},
          "execution_count": 7
        }
      ]
    },
    {
      "cell_type": "code",
      "source": [
        "t={\"a\":1,\"c\":2,\"b\":3}\n",
        "print(t.items())\n",
        "print(sorted(t.items()))"
      ],
      "metadata": {
        "colab": {
          "base_uri": "https://localhost:8080/"
        },
        "id": "8XCtFYga9qEB",
        "outputId": "64d550b8-4010-491d-c776-017805da6966"
      },
      "execution_count": null,
      "outputs": [
        {
          "output_type": "stream",
          "name": "stdout",
          "text": [
            "dict_items([('a', 1), ('c', 2), ('b', 3)])\n",
            "[('a', 1), ('b', 3), ('c', 2)]\n"
          ]
        }
      ]
    },
    {
      "cell_type": "code",
      "source": [
        "#sorted in key order\n",
        "d={\"a\":1,\"c\":2,\"b\":3}\n",
        "t=sorted(d.items())\n",
        "print(t)\n",
        "for k,v in sorted(d.items()):\n",
        "  print(k,v)"
      ],
      "metadata": {
        "colab": {
          "base_uri": "https://localhost:8080/"
        },
        "id": "Ep59mbLV-QSQ",
        "outputId": "2d409d2f-d01c-4ab2-ed09-68a1219bcc59"
      },
      "execution_count": null,
      "outputs": [
        {
          "output_type": "stream",
          "name": "stdout",
          "text": [
            "[('a', 1), ('b', 3), ('c', 2)]\n",
            "a 1\n",
            "b 3\n",
            "c 2\n"
          ]
        }
      ]
    },
    {
      "cell_type": "code",
      "source": [
        "c={\"a\":10,\"b\":2,\"c\":5}\n",
        "temp=list()\n",
        "for (key,value) in c.items():\n",
        "  temp.append((value,key))\n",
        "  print(temp)\n",
        "temp=sorted(temp,reverse=True)\n",
        "print(temp)\n",
        "temp1=list()\n",
        "for key,val in temp:\n",
        "  temp1.append((val,key))\n",
        "print(temp1)"
      ],
      "metadata": {
        "colab": {
          "base_uri": "https://localhost:8080/"
        },
        "id": "2HjaGRx7-2vf",
        "outputId": "11692fbb-48bf-4d8a-ccef-09cf664c8c5f"
      },
      "execution_count": null,
      "outputs": [
        {
          "output_type": "stream",
          "name": "stdout",
          "text": [
            "[(10, 'a')]\n",
            "[(10, 'a'), (2, 'b')]\n",
            "[(10, 'a'), (2, 'b'), (5, 'c')]\n",
            "[(10, 'a'), (5, 'c'), (2, 'b')]\n",
            "[('a', 10), ('c', 5), ('b', 2)]\n"
          ]
        }
      ]
    },
    {
      "cell_type": "code",
      "source": [
        "name=open(\"hello2.txt\")\n",
        "counts=dict()\n",
        "for line in name:\n",
        "  word=line.rstrip().split()\n",
        "  for words in word:\n",
        "    counts[words]=counts.get(words,0)+1\n",
        "print(counts)\n",
        "lst=list()\n",
        "for (key,value) in counts.items():\n",
        "  lst.append((value,key))\n",
        "lst=sorted(lst,reverse=True)\n",
        "print(lst)\n",
        "for value,key in lst[:10]:\n",
        "  print(key,value)"
      ],
      "metadata": {
        "colab": {
          "base_uri": "https://localhost:8080/"
        },
        "id": "ERgGFBd6EuuE",
        "outputId": "25080006-fdec-445a-d172-2fba38a57fac"
      },
      "execution_count": null,
      "outputs": [
        {
          "output_type": "stream",
          "name": "stdout",
          "text": [
            "{'From': 27, 'stephen.marquard@uct.ac.za': 8, 'Sat': 2, 'Jan': 352, '5': 10, '09:14:16': 4, '2008': 324, 'Return-Path:': 27, '<postmaster@collab.sakaiproject.org>': 27, 'Received:': 243, 'from': 218, 'murder': 54, '(mail.umich.edu': 27, '[141.211.14.90])': 3, 'by': 245, 'frankenstein.mail.umich.edu': 27, '(Cyrus': 54, 'v2.3.8)': 27, 'with': 194, 'LMTPA;': 54, 'Sat,': 9, '05': 3, '-0500': 219, 'X-Sieve:': 27, 'CMU': 27, 'Sieve': 27, '2.3': 27, '([unix': 27, 'socket])': 27, 'mail.umich.edu': 27, 'v2.2.12)': 27, 'holes.mr.itd.umich.edu': 8, '(holes.mr.itd.umich.edu': 4, '[141.211.14.79])': 4, 'flawless.mail.umich.edu': 3, '()': 27, 'ESMTP': 108, 'id': 136, 'm05EEFR1013674;': 1, '09:14:15': 1, 'FROM': 27, 'paploo.uhi.ac.uk': 108, '(app1.prod.collab.uhi.ac.uk': 27, '[194.35.219.184])': 27, 'BY': 27, 'ID': 54, '477F90B0.2DB2F.12494': 1, ';': 27, '09:14:10': 1, '(localhost': 54, '[127.0.0.1])': 54, '(Postfix)': 54, '5F919BC2F2;': 1, '14:10:05': 1, '+0000': 81, '(GMT)': 81, 'Message-ID:': 27, '<200801051412.m05ECIaH010327@nakamura.uits.iupui.edu>': 1, 'Mime-Version:': 27, '1.0': 27, 'Content-Transfer-Encoding:': 27, '7bit': 27, 'prod.collab.uhi.ac.uk': 27, '([194.35.219.182])': 27, '(JAMES': 27, 'SMTP': 54, 'Server': 27, '2.1.3)': 27, '899': 1, 'for': 118, '<source@collab.sakaiproject.org>;': 81, '14:09:50': 1, 'nakamura.uits.iupui.edu': 108, '(nakamura.uits.iupui.edu': 27, '[134.68.220.122])': 27, 'shmi.uhi.ac.uk': 27, 'A215243002': 1, '14:13:33': 1, '(8.12.11.20060308/8.12.11)': 27, 'm05ECJVp010329': 1, '09:12:19': 1, '(from': 27, 'apache@localhost)': 27, '(8.12.11.20060308/8.12.11/Submit)': 27, 'm05ECIaH010327': 1, 'source@collab.sakaiproject.org;': 27, '09:12:18': 2, 'Date:': 54, 'X-Authentication-Warning:': 27, 'nakamura.uits.iupui.edu:': 27, 'apache': 27, 'set': 27, 'sender': 27, 'to': 43, 'using': 27, '-f': 27, 'To:': 27, 'source@collab.sakaiproject.org': 27, 'From:': 27, 'Subject:': 27, '[sakai]': 27, 'svn': 43, 'commit:': 27, 'r39772': 1, '-': 35, 'content/branches/sakai_2-5-x/content-impl/impl/src/java/org/sakaiproject/content/impl': 1, 'X-Content-Type-Outer-Envelope:': 27, 'text/plain;': 81, 'charset=UTF-8': 81, 'X-Content-Type-Message-Body:': 27, 'Content-Type:': 27, 'X-DSPAM-Result:': 27, 'Innocent': 27, 'X-DSPAM-Processed:': 27, 'X-DSPAM-Confidence:': 27, '0.8475': 1, 'X-DSPAM-Probability:': 27, '0.0000': 27, 'Details:': 27, 'http://source.sakaiproject.org/viewsvn/?view=rev&rev=39772': 1, 'Author:': 27, '2008-01-05': 1, '09:12:07': 1, '(Sat,': 1, '2008)': 28, 'New': 29, 'Revision:': 27, '39772': 1, 'Modified:': 27, 'content/branches/sakai_2-5-x/content-impl/impl/src/java/org/sakaiproject/content/impl/ContentServiceSqlOracle.java': 1, 'content/branches/sakai_2-5-x/content-impl/impl/src/java/org/sakaiproject/content/impl/DbContentService.java': 1, 'Log:': 27, 'SAK-12501': 1, 'merge': 12, '2-5-x:': 1, 'r39622,': 1, 'r39624:5,': 1, 'r39632:3': 1, '(resolve': 1, 'conflict': 2, 'differing': 1, 'linebreaks': 1, 'r39622)': 1, '----------------------': 27, 'This': 27, 'automatic': 27, 'notification': 27, 'message': 28, 'was': 27, 'sent': 27, 'Sakai': 28, 'Collab': 27, '(https://collab.sakaiproject.org/portal)': 27, 'the': 32, 'Source': 28, 'site.': 27, 'You': 27, 'can': 27, 'modify': 27, 'how': 27, 'you': 27, 'receive': 27, 'notifications': 27, 'at': 27, 'My': 27, 'Workspace': 27, '>': 27, 'Preferences.': 27, 'louis@media.berkeley.edu': 12, 'Fri': 40, '4': 203, '18:10:48': 4, '[141.211.14.97])': 3, 'Fri,': 183, '04': 61, 'icestorm.mr.itd.umich.edu': 4, '(icestorm.mr.itd.umich.edu': 2, '[141.211.93.149])': 2, 'sleepers.mail.umich.edu': 3, 'm04NAbGa029441;': 1, '18:10:37': 1, '477EBCE3.161BB.4320': 1, '18:10:31': 1, '07969BB706;': 1, '23:10:33': 1, '<200801042308.m04N8v6O008125@nakamura.uits.iupui.edu>': 1, '710': 1, '23:10:10': 2, '4BA2F42F57': 1, 'm04N8vHG008127': 1, '18:08:57': 3, 'm04N8v6O008125': 1, 'r39771': 1, 'in': 22, 'bspace/site-manage/sakai_2-4-x/site-manage-tool/tool/src:': 3, 'bundle': 3, 'java/org/sakaiproject/site/tool': 2, '0.6178': 1, 'http://source.sakaiproject.org/viewsvn/?view=rev&rev=39771': 1, '2008-01-04': 21, '18:08:50': 1, '(Fri,': 22, '39771': 1, 'bspace/site-manage/sakai_2-4-x/site-manage-tool/tool/src/bundle/sitesetupgeneric.properties': 3, 'bspace/site-manage/sakai_2-4-x/site-manage-tool/tool/src/java/org/sakaiproject/site/tool/SiteAction.java': 1, 'BSP-1415': 1, '(Guest)': 1, 'user': 4, 'Notification': 1, 'zqian@umich.edu': 17, '16:10:39': 4, '[141.211.14.25])': 5, 'ghostbusters.mr.itd.umich.edu': 2, '(ghostbusters.mr.itd.umich.edu': 1, '[141.211.93.144])': 1, 'panther.mail.umich.edu': 5, 'm04LAcZw014275;': 1, '16:10:38': 1, '477EA0C6.A0214.25480': 1, '16:10:33': 1, 'C48CDBB490;': 1, '21:10:31': 1, '<200801042109.m04L92hb007923@nakamura.uits.iupui.edu>': 1, '906': 1, '21:10:18': 1, '7D13042F71': 1, '21:10:14': 1, 'm04L927E007925': 1, '16:09:02': 3, 'm04L92hb007923': 1, 'r39770': 1, 'site-manage/branches/sakai_2-5-x/site-manage-tool/tool/src/webapp/vm/sitesetup': 1, '0.6961': 1, 'http://source.sakaiproject.org/viewsvn/?view=rev&rev=39770': 1, '16:09:01': 1, '39770': 1, 'site-manage/branches/sakai_2-5-x/site-manage-tool/tool/src/webapp/vm/sitesetup/chef_site-siteInfo-list.vm': 1, 'fix': 4, 'SAK-9996': 1, 'into': 2, '2-5-x': 2, 'branch:': 2, '-r': 5, '39687:39688': 1, 'https://source.sakaiproject.org/svn/site-manage/trunk/': 1, 'rjlowe@iupui.edu': 8, '15:46:24': 4, 'dreamcatcher.mr.itd.umich.edu': 2, '(dreamcatcher.mr.itd.umich.edu': 1, '[141.211.14.43])': 1, 'm04KkNbx032077;': 1, '15:46:23': 1, '477E9B13.2F3BC.22965': 1, '15:46:13': 1, '4AE03BB552;': 1, '20:46:13': 1, '<200801042044.m04Kiem3007881@nakamura.uits.iupui.edu>': 1, '38': 1, '20:45:56': 1, 'A55D242F57': 1, '20:45:52': 1, 'm04KieqE007883': 1, '15:44:40': 3, 'm04Kiem3007881': 1, 'r39769': 1, 'gradebook/trunk/app/ui/src:': 1, 'java/org/sakaiproject/tool/gradebook/ui/helpers/beans': 1, 'java/org/sakaiproject/tool/gradebook/ui/helpers/producers': 1, 'webapp/WEB-INF': 1, 'webapp/WEB-INF/bundle': 1, '0.7565': 1, 'http://source.sakaiproject.org/viewsvn/?view=rev&rev=39769': 1, '15:44:39': 1, '39769': 1, 'gradebook/trunk/app/ui/src/java/org/sakaiproject/tool/gradebook/ui/helpers/beans/AssignmentGradeRecordBean.java': 2, 'gradebook/trunk/app/ui/src/java/org/sakaiproject/tool/gradebook/ui/helpers/producers/GradeGradebookItemProducer.java': 2, 'gradebook/trunk/app/ui/src/webapp/WEB-INF/applicationContext.xml': 2, 'gradebook/trunk/app/ui/src/webapp/WEB-INF/bundle/messages.properties': 2, 'gradebook/trunk/app/ui/src/webapp/WEB-INF/requestContext.xml': 2, 'SAK-12180': 2, 'Fixed': 1, 'errors': 1, 'grading': 1, 'helper': 2, '15:03:18': 4, '[141.211.14.46])': 5, 'firestarter.mr.itd.umich.edu': 4, '(firestarter.mr.itd.umich.edu': 2, '[141.211.14.83])': 2, 'fan.mail.umich.edu': 5, 'm04K3HGF006563;': 1, '15:03:17': 1, '477E9100.8F7F4.1590': 1, '15:03:15': 2, '57770BB477;': 1, '20:03:09': 1, '<200801042001.m04K1cO0007738@nakamura.uits.iupui.edu>': 1, '622': 1, '20:02:46': 1, 'AB4D042F4D': 1, '20:02:50': 1, 'm04K1cXv007740': 1, '15:01:38': 3, 'm04K1cO0007738': 1, 'r39766': 1, 'site-manage/branches/sakai_2-4-x/site-manage-tool/tool/src/java/org/sakaiproject/site/tool': 1, '0.7626': 1, 'http://source.sakaiproject.org/viewsvn/?view=rev&rev=39766': 1, '15:01:37': 1, '39766': 1, 'site-manage/branches/sakai_2-4-x/site-manage-tool/tool/src/java/org/sakaiproject/site/tool/SiteAction.java': 1, 'SAK-10788': 1, 'site-manage': 1, '2.4.x': 1, 'Repository': 1, '#38024': 1, 'Wed': 1, 'Nov': 1, '07': 1, '14:54:46': 1, 'MST': 1, '2007': 1, 'Fix': 2, 'SAK-10788:': 1, 'If': 1, 'a': 8, 'provided': 1, 'couse': 1, 'site': 3, 'is': 1, 'fake': 1, 'or': 1, \"doesn't\": 2, 'provide': 1, 'any': 2, 'information,': 1, 'Site': 2, 'Info': 2, 'appears': 1, 'be': 4, 'like': 1, 'project': 1, 'empty': 1, 'participant': 1, 'list': 2, 'Watch': 1, 'enrollments': 1, 'object': 1, 'being': 1, 'null': 1, 'and': 2, 'concatenate': 1, 'provider': 1, 'ids': 1, 'when': 3, 'there': 1, 'are': 1, 'more': 1, 'than': 1, 'one.': 1, 'Files': 1, 'Changed': 1, 'MODIFY': 1, '/site-manage/trunk/site-manage-tool/tool/src/java/org/sakaiproject/site/tool/SiteAction.java': 1, '14:50:18': 4, '[141.211.14.93])': 1, 'eyewitness.mr.itd.umich.edu': 4, '(eyewitness.mr.itd.umich.edu': 2, '[141.211.93.142])': 2, 'mission.mail.umich.edu': 1, 'm04JoHJi019755;': 1, '14:50:17': 1, '477E8DF2.67B91.5278': 1, '14:50:13': 1, '2D1B9BB492;': 1, '19:47:10': 1, '<200801041948.m04JmdwO007705@nakamura.uits.iupui.edu>': 1, '960': 1, '19:46:50': 1, 'B3E6742F4A': 1, '19:49:51': 1, 'm04JmeV9007707': 1, '14:48:40': 1, 'm04JmdwO007705': 1, '14:48:39': 2, 'r39765': 1, 'gradebook/trunk/app:': 1, 'business/src/java/org/sakaiproject/tool/gradebook/business': 1, 'business/src/java/org/sakaiproject/tool/gradebook/business/impl': 1, 'ui': 2, 'ui/src/java/org/sakaiproject/tool/gradebook/ui/helpers/beans': 1, 'ui/src/java/org/sakaiproject/tool/gradebook/ui/helpers/entity': 1, 'ui/src/java/org/sakaiproject/tool/gradebook/ui/helpers/params': 1, 'ui/src/java/org/sakaiproject/tool/gradebook/ui/helpers/producers': 1, 'ui/src/webapp/WEB-INF': 1, 'ui/src/webapp/WEB-INF/bundle': 1, 'ui/src/webapp/content/templates': 1, '0.7556': 2, 'http://source.sakaiproject.org/viewsvn/?view=rev&rev=39765': 1, '14:48:37': 1, '39765': 1, 'Added:': 4, 'gradebook/trunk/app/ui/src/java/org/sakaiproject/tool/gradebook/ui/helpers/beans/AssignmentGradeRecordCreator.java': 1, 'gradebook/trunk/app/ui/src/java/org/sakaiproject/tool/gradebook/ui/helpers/entity/GradebookEntryGradeEntityProvider.java': 1, 'gradebook/trunk/app/ui/src/java/org/sakaiproject/tool/gradebook/ui/helpers/params/GradeGradebookItemViewParams.java': 1, 'gradebook/trunk/app/ui/src/webapp/content/templates/grade-gradebook-item.html': 1, 'gradebook/trunk/app/business/src/java/org/sakaiproject/tool/gradebook/business/GradebookManager.java': 1, 'gradebook/trunk/app/business/src/java/org/sakaiproject/tool/gradebook/business/impl/GradebookManagerHibernateImpl.java': 2, 'gradebook/trunk/app/ui/pom.xml': 1, 'gradebook/trunk/app/ui/src/java/org/sakaiproject/tool/gradebook/ui/helpers/beans/GradebookItemBean.java': 1, 'gradebook/trunk/app/ui/src/java/org/sakaiproject/tool/gradebook/ui/helpers/entity/GradebookEntryEntityProvider.java': 1, 'gradebook/trunk/app/ui/src/java/org/sakaiproject/tool/gradebook/ui/helpers/producers/AddGradebookItemProducer.java': 1, 'tool': 4, 'grade': 2, 'an': 1, 'assignment': 1, 'cwen@iupui.edu': 20, '11:37:30': 4, 'tadpole.mr.itd.umich.edu': 2, '(tadpole.mr.itd.umich.edu': 1, '[141.211.14.72])': 1, 'm04GbT9x022078;': 1, '11:37:29': 1, '477E60B2.82756.9904': 1, '11:37:09': 1, '8D13DBB001;': 1, '16:37:07': 1, '<200801041635.m04GZQGZ007313@nakamura.uits.iupui.edu>': 1, '120': 1, '16:36:40': 1, 'D430B42E42': 1, '16:36:37': 1, 'm04GZQ7W007315': 1, '11:35:26': 3, 'm04GZQGZ007313': 1, 'r39764': 1, 'msgcntr/trunk/messageforums-app/src/java/org/sakaiproject/tool/messageforums:': 1, '.': 3, '0.7002': 2, 'http://source.sakaiproject.org/viewsvn/?view=rev&rev=39764': 1, '11:35:25': 1, '39764': 1, 'msgcntr/trunk/messageforums-app/src/java/org/sakaiproject/tool/messageforums/PrivateMessagesTool.java': 2, 'msgcntr/trunk/messageforums-app/src/java/org/sakaiproject/tool/messageforums/ui/PrivateMessageDecoratedBean.java': 1, 'unmerge': 2, \"Xingtang's\": 2, 'checkin': 1, 'SAK-12488.': 1, '-r39558:39557': 1, 'https://source.sakaiproject.org/svn/msgcntr/trunk': 2, 'U': 14, 'messageforums-app/src/java/org/sakaiproject/tool/messageforums/PrivateMessagesTool.java': 2, 'messageforums-app/src/java/org/sakaiproject/tool/messageforums/ui/PrivateMessageDecoratedBean.java': 1, 'log': 7, '39558': 1, '------------------------------------------------------------------------': 14, 'r39558': 1, '|': 21, 'hu2@iupui.edu': 2, '2007-12-20': 2, '15:25:38': 1, '(Thu,': 8, '20': 2, 'Dec': 5, '2007)': 6, '3': 61, 'lines': 4, 'SAK-12488': 1, 'send': 1, 'yourself.': 1, 'click': 1, 'reply': 2, 'all,': 1, 'cc': 2, 'row': 1, 'should': 2, 'null.': 1, 'http://jira.sakaiproject.org/jira/browse/SAK-12488': 1, '11:35:08': 4, 'it.mr.itd.umich.edu': 2, '(it.mr.itd.umich.edu': 1, '[141.211.93.151])': 1, 'm04GZ6lt020480;': 1, '11:35:06': 1, '477E6033.6469D.21870': 1, '11:35:02': 1, 'E40FABAE5B;': 1, '16:34:38': 1, '<200801041633.m04GX6eG007292@nakamura.uits.iupui.edu>': 1, '697': 1, '16:34:01': 1, '1CD0C42E42': 1, '16:34:17': 1, 'm04GX6Y3007294': 1, '11:33:06': 3, 'm04GX6eG007292': 1, 'r39763': 1, 'msgcntr/trunk:': 1, 'messageforums-api/src/bundle/org/sakaiproject/api/app/messagecenter/bundle': 1, 'messageforums-app/src/java/org/sakaiproject/tool/messageforums': 1, '0.7615': 1, 'http://source.sakaiproject.org/viewsvn/?view=rev&rev=39763': 1, '11:33:05': 1, '39763': 1, 'msgcntr/trunk/messageforums-api/src/bundle/org/sakaiproject/api/app/messagecenter/bundle/Messages.properties': 1, 'check': 1, 'SAK-12484.': 1, '-r39571:39570': 1, 'messageforums-api/src/bundle/org/sakaiproject/api/app/messagecenter/bundle/Messages.properties': 1, '39571': 1, 'r39571': 1, '21:26:28': 1, 'SAK-12484': 1, 'all': 1, 'not': 2, 'include': 1, 'current': 1, 'name.': 1, 'http://jira.sakaiproject.org/jira/browse/SAK-12484': 1, 'gsilver@umich.edu': 12, '11:12:37': 4, 'm04GCaHB030887;': 1, '11:12:36': 1, '477E5AEB.E670B.28397': 1, '11:12:30': 1, '99715BAE7D;': 1, '16:12:27': 1, '<200801041611.m04GB1Lb007221@nakamura.uits.iupui.edu>': 1, '272': 1, '16:12:14': 1, '0A6ED42DFC': 1, '16:12:12': 1, 'm04GB1Wt007223': 1, '11:11:01': 3, 'm04GB1Lb007221': 1, 'r39762': 1, 'web/trunk/web-tool/tool/src/bundle': 1, '0.7601': 1, 'http://source.sakaiproject.org/viewsvn/?view=rev&rev=39762': 1, '11:11:00': 1, '39762': 1, 'web/trunk/web-tool/tool/src/bundle/iframe.properties': 1, 'SAK-12596': 1, 'http://bugs.sakaiproject.org/jira/browse/SAK-12596': 1, 'left': 3, 'moot': 3, '(unused)': 3, 'entries': 3, 'commented': 3, 'now': 3, '11:11:52': 5, '[141.211.14.36])': 1, 'creepshow.mr.itd.umich.edu': 4, '(creepshow.mr.itd.umich.edu': 2, '[141.211.14.84])': 2, 'godsend.mail.umich.edu': 1, 'm04GBqqv025330;': 1, '477E5AB3.5CC32.30840': 1, '11:11:34': 1, '62AA4BAE46;': 1, '16:11:31': 1, '<200801041610.m04GA5KP007209@nakamura.uits.iupui.edu>': 1, '1006': 1, '16:11:18': 1, 'C596A3DFA2': 1, '16:11:16': 1, 'm04GA5LR007211': 1, '11:10:05': 3, 'm04GA5KP007209': 1, 'r39761': 1, 'site/trunk/site-tool/tool/src/bundle': 1, '0.7605': 2, 'http://source.sakaiproject.org/viewsvn/?view=rev&rev=39761': 1, '11:10:04': 1, '39761': 1, 'site/trunk/site-tool/tool/src/bundle/admin.properties': 1, 'SAK-12595': 1, 'http://bugs.sakaiproject.org/jira/browse/SAK-12595': 1, '11:11:03': 5, 'carrie.mr.itd.umich.edu': 2, '(carrie.mr.itd.umich.edu': 1, '[141.211.93.152])': 1, 'm04GB3Vg011502;': 1, '477E5A8D.B378F.24200': 1, '11:10:56': 1, 'C7251BAD44;': 1, '16:10:53': 1, '<200801041609.m04G9EuX007197@nakamura.uits.iupui.edu>': 1, '483': 1, '16:10:27': 1, '2E7043DFA2': 1, '16:10:26': 1, 'm04G9Eqg007199': 1, '11:09:15': 1, 'm04G9EuX007197': 1, '11:09:14': 2, 'r39760': 1, 'site-manage/trunk/site-manage-tool/tool/src:': 1, 'webapp/vm/sitesetup': 3, '0.6959': 2, 'http://source.sakaiproject.org/viewsvn/?view=rev&rev=39760': 1, '11:09:12': 1, '39760': 1, 'site-manage/trunk/site-manage-tool/tool/src/java/org/sakaiproject/site/tool/SiteAction.java': 1, 'site-manage/trunk/site-manage-tool/tool/src/webapp/vm/sitesetup/chef_site-siteInfo-list.vm': 1, 'SAK-10911:': 1, 'Refactor': 1, 'use': 1, 'of': 4, 'site.upd,': 1, 'site.upd.site.mbrship': 1, 'site.upd.grp.mbrship': 1, 'permissions': 2, '11:10:22': 4, '[141.211.14.39])': 3, 'faithful.mail.umich.edu': 3, 'm04GAL9k010604;': 1, '11:10:21': 1, '477E5A67.34350.23015': 1, '11:10:18': 1, '98D04BAD43;': 1, '16:10:11': 1, '<200801041608.m04G8d7w007184@nakamura.uits.iupui.edu>': 1, '966': 1, '16:09:51': 1, '9F89542DD0': 1, '16:09:50': 1, 'm04G8dXN007186': 1, '11:08:39': 3, 'm04G8d7w007184': 1, 'r39759': 1, 'mailarchive/trunk/mailarchive-tool/tool/src/bundle': 1, '0.7606': 1, 'http://source.sakaiproject.org/viewsvn/?view=rev&rev=39759': 1, '11:08:38': 1, '39759': 1, 'mailarchive/trunk/mailarchive-tool/tool/src/bundle/email.properties': 1, 'SAK-12592': 1, 'http://bugs.sakaiproject.org/jira/browse/SAK-12592': 1, 'wagnermr@iupui.edu': 6, '10:38:42': 4, 'shining.mr.itd.umich.edu': 2, '(shining.mr.itd.umich.edu': 1, '[141.211.93.153])': 1, 'm04Fcfjm012313;': 1, '10:38:41': 1, '477E52FA.E6C6E.24093': 1, '10:38:37': 1, '6A39594CD2;': 1, '15:37:36': 1, '<200801041537.m04Fb6Ci007092@nakamura.uits.iupui.edu>': 1, '690': 1, '15:37:21': 1, 'CEFA037ACE': 1, '15:38:17': 1, 'm04Fb6nh007094': 1, '10:37:06': 3, 'm04Fb6Ci007092': 1, 'r39758': 1, 'gradebook/trunk:': 1, 'app/business/src/java/org/sakaiproject/tool/gradebook/business/impl': 1, 'service/api/src/java/org/sakaiproject/service/gradebook/shared': 1, 'service/impl/src/java/org/sakaiproject/component/gradebook': 1, '0.7559': 1, 'http://source.sakaiproject.org/viewsvn/?view=rev&rev=39758': 1, '10:37:04': 1, '39758': 1, 'gradebook/trunk/service/api/src/java/org/sakaiproject/service/gradebook/shared/GradebookService.java': 1, 'gradebook/trunk/service/impl/src/java/org/sakaiproject/component/gradebook/GradebookServiceHibernateImpl.java': 1, 'SAK-12175': 1, 'http://bugs.sakaiproject.org/jira/browse/SAK-12175': 1, 'Create': 1, 'methods': 1, 'required': 1, 'gb': 2, 'integration': 1, 'Assignment2': 1, 'getGradeDefinitionForStudentForItem': 1, '10:17:43': 2, '10:17:42': 3, 'm04FHgfs011536;': 1, '477E4E0F.CCA4B.926': 1, '10:17:38': 1, 'BD02DBAC64;': 1, '15:17:34': 1, '<200801041515.m04FFv42007050@nakamura.uits.iupui.edu>': 1, '25': 1, '15:17:11': 1, '5B396236B9': 1, '15:17:08': 1, 'm04FFv85007052': 1, '10:15:57': 3, 'm04FFv42007050': 1, 'r39757': 1, 'assignment/trunk:': 1, 'assignment-impl/impl/src/java/org/sakaiproject/assignment/impl': 1, 'assignment-tool/tool/src/webapp/vm/assignment': 1, 'http://source.sakaiproject.org/viewsvn/?view=rev&rev=39757': 1, '10:15:54': 1, '39757': 1, 'assignment/trunk/assignment-impl/impl/src/java/org/sakaiproject/assignment/impl/BaseAssignmentService.java': 1, 'assignment/trunk/assignment-tool/tool/src/webapp/vm/assignment/chef_assignments_instructor_list_submissions.vm': 1, \"SAK-12604:Don't\": 1, 'show': 1, 'groups/sections': 1, 'filter': 1, 'if': 2, 'have': 1, 'antranig@caret.cam.ac.uk': 4, '10:04:14': 4, 'm04F4Dci015108;': 1, '10:04:13': 1, '477E4AE3.D7AF.31669': 1, '10:04:05': 1, '933E3BAC17;': 1, '15:04:00': 1, '<200801041502.m04F21Jo007031@nakamura.uits.iupui.edu>': 1, '32': 1, 'AC2F6236B9': 1, '15:03:12': 1, 'm04F21hn007033': 1, '10:02:01': 3, 'm04F21Jo007031': 1, 'r39756': 1, 'component/branches/SAK-12166/component-api/component/src/java/org/sakaiproject/component:': 1, 'impl': 1, 'impl/spring/support': 1, 'impl/spring/support/dynamic': 1, 'impl/support': 1, 'util': 1, '0.6932': 1, 'http://source.sakaiproject.org/viewsvn/?view=rev&rev=39756': 1, '10:01:40': 1, '39756': 1, 'component/branches/SAK-12166/component-api/component/src/java/org/sakaiproject/component/impl/spring/support/dynamic/': 1, 'component/branches/SAK-12166/component-api/component/src/java/org/sakaiproject/component/impl/spring/support/dynamic/DynamicComponentManager.java': 1, 'component/branches/SAK-12166/component-api/component/src/java/org/sakaiproject/component/impl/support/': 1, 'component/branches/SAK-12166/component-api/component/src/java/org/sakaiproject/component/impl/support/DynamicComponentRecord.java': 1, 'component/branches/SAK-12166/component-api/component/src/java/org/sakaiproject/component/impl/support/DynamicJARManager.java': 1, 'component/branches/SAK-12166/component-api/component/src/java/org/sakaiproject/component/impl/support/JARRecord.java': 1, 'component/branches/SAK-12166/component-api/component/src/java/org/sakaiproject/component/util/ByteToCharBase64.java': 1, 'component/branches/SAK-12166/component-api/component/src/java/org/sakaiproject/component/util/FileUtil.java': 1, 'component/branches/SAK-12166/component-api/component/src/java/org/sakaiproject/component/util/RecordFileIO.java': 1, 'component/branches/SAK-12166/component-api/component/src/java/org/sakaiproject/component/util/RecordReader.java': 1, 'component/branches/SAK-12166/component-api/component/src/java/org/sakaiproject/component/util/RecordWriter.java': 1, 'component/branches/SAK-12166/component-api/component/src/java/org/sakaiproject/component/util/StreamDigestor.java': 1, 'component/branches/SAK-12166/component-api/component/src/java/org/sakaiproject/component/impl/spring/support/ComponentsLoaderImpl.java': 1, 'Temporary': 1, 'commit': 1, 'incomplete': 1, 'work': 1, 'on': 2, 'JAR': 1, 'caching': 1, 'gopal.ramasammycook@gmail.com': 4, '09:05:31': 4, 'guys.mr.itd.umich.edu': 4, '(guys.mr.itd.umich.edu': 2, '[141.211.14.76])': 2, 'm04E5U3C029277;': 1, '09:05:30': 1, '477E3D23.EE2E7.5237': 1, '09:05:26': 1, '33C7856DC0;': 1, '14:05:26': 1, '<200801041403.m04E3psW006926@nakamura.uits.iupui.edu>': 1, '575': 1, '14:05:04': 1, '3C0261D617': 1, '14:05:03': 1, 'm04E3pQS006928': 1, '09:03:52': 1, 'm04E3psW006926': 1, '09:03:51': 2, 'r39755': 1, 'sam/branches/SAK-12065:': 1, 'samigo-api/src/java/org/sakaiproject/tool/assessment/shared/api/grading': 1, 'samigo-app/src/java/org/sakaiproject/tool/assessment/ui/bean/evaluation': 1, 'samigo-app/src/java/org/sakaiproject/tool/assessment/ui/listener/evaluation': 1, 'samigo-services/src/java/org/sakaiproject/tool/assessment/facade': 1, 'samigo-services/src/java/org/sakaiproject/tool/assessment/integration/helper/ifc': 1, 'samigo-services/src/java/org/sakaiproject/tool/assessment/integration/helper/integrated': 1, 'samigo-services/src/java/org/sakaiproject/tool/assessment/integration/helper/standalone': 1, 'samigo-services/src/java/org/sakaiproject/tool/assessment/shared/impl/grading': 1, '0.7558': 1, 'http://source.sakaiproject.org/viewsvn/?view=rev&rev=39755': 1, '09:02:54': 1, '39755': 1, 'sam/branches/SAK-12065/samigo-api/src/java/org/sakaiproject/tool/assessment/shared/api/grading/GradingSectionAwareServiceAPI.java': 1, 'sam/branches/SAK-12065/samigo-app/src/java/org/sakaiproject/tool/assessment/ui/bean/evaluation/QuestionScoresBean.java': 1, 'sam/branches/SAK-12065/samigo-app/src/java/org/sakaiproject/tool/assessment/ui/bean/evaluation/SubmissionStatusBean.java': 1, 'sam/branches/SAK-12065/samigo-app/src/java/org/sakaiproject/tool/assessment/ui/bean/evaluation/TotalScoresBean.java': 1, 'sam/branches/SAK-12065/samigo-app/src/java/org/sakaiproject/tool/assessment/ui/listener/evaluation/SubmissionStatusListener.java': 1, 'sam/branches/SAK-12065/samigo-services/src/java/org/sakaiproject/tool/assessment/facade/PublishedAssessmentFacadeQueries.java': 1, 'sam/branches/SAK-12065/samigo-services/src/java/org/sakaiproject/tool/assessment/facade/PublishedAssessmentFacadeQueriesAPI.java': 1, 'sam/branches/SAK-12065/samigo-services/src/java/org/sakaiproject/tool/assessment/integration/helper/ifc/SectionAwareServiceHelper.java': 1, 'sam/branches/SAK-12065/samigo-services/src/java/org/sakaiproject/tool/assessment/integration/helper/integrated/SectionAwareServiceHelperImpl.java': 1, 'sam/branches/SAK-12065/samigo-services/src/java/org/sakaiproject/tool/assessment/integration/helper/standalone/SectionAwareServiceHelperImpl.java': 1, 'sam/branches/SAK-12065/samigo-services/src/java/org/sakaiproject/tool/assessment/shared/impl/grading/GradingSectionAwareServiceImpl.java': 1, 'SAK-12065': 1, 'Gopal': 1, 'Samigo': 1, 'Group': 1, 'Release.': 1, 'SubmissionStatus/TotalScores/Questions': 1, 'View': 1, 'filter.': 1, 'david.horwitz@uct.ac.za': 17, '07:02:32': 4, 'm04C2VN7026678;': 1, '07:02:31': 1, '477E2050.C2599.3263': 1, '07:02:27': 1, '6497FBA906;': 1, '12:02:11': 1, '<200801041200.m04C0gfK006793@nakamura.uits.iupui.edu>': 1, '611': 2, '12:01:53': 2, '5296342D3C': 1, 'm04C0gnm006795': 1, '07:00:42': 3, 'm04C0gfK006793': 1, 'r39754': 1, 'polls/branches/sakai_2-5-x:': 1, 'tool/src/java/org/sakaiproject/poll/tool': 2, 'tool/src/java/org/sakaiproject/poll/tool/evolvers': 2, 'tool/src/webapp/WEB-INF': 2, '0.6526': 1, 'http://source.sakaiproject.org/viewsvn/?view=rev&rev=39754': 1, '07:00:10': 1, '39754': 1, 'polls/branches/sakai_2-5-x/tool/src/java/org/sakaiproject/poll/tool/evolvers/': 1, 'polls/branches/sakai_2-5-x/tool/src/java/org/sakaiproject/poll/tool/evolvers/SakaiFCKTextEvolver.java': 2, 'Removed:': 2, 'polls/branches/sakai_2-5-x/.classpath': 1, 'polls/branches/sakai_2-5-x/tool/pom.xml': 1, 'polls/branches/sakai_2-5-x/tool/src/webapp/WEB-INF/requestContext.xml': 1, '-r39753': 1, 'https://source.sakaiproject.org/svn/polls/trunk': 2, 'r39753': 2, '13:05:51': 1, '+0200': 3, '1': 3, 'line': 3, 'SAK-12228': 2, 'implmented': 2, 'workaround': 2, 'sugested': 2, 'AB': 2, 'needs': 2, 'tested': 2, 'against': 2, 'trunk': 2, 'build': 2, 'dhorwitz@david-horwitz-6:~/branchManagemnt/sakai_2-5-x>': 4, '-c39753': 1, 'polls/': 1, 'polls/.classpath': 1, 'A': 2, 'polls/tool/src/java/org/sakaiproject/poll/tool/evolvers': 1, 'polls/tool/src/java/org/sakaiproject/poll/tool/evolvers/SakaiFCKTextEvolver.java': 1, 'C': 2, 'polls/tool/src/webapp/WEB-INF/requestContext.xml': 2, 'polls/tool/pom.xml': 1, 'resolved': 1, 'Resolved': 1, 'conflicted': 1, 'state': 1, \"'polls/tool/src/webapp/WEB-INF/requestContext.xml\": 1, '06:08:27': 4, '[141.211.14.98])': 1, 'casino.mail.umich.edu': 1, 'm04B8Qw9001368;': 1, '06:08:26': 1, '477E13A5.30FC0.24054': 1, '06:08:23': 1, '784A476D7B;': 1, '11:08:12': 1, '<200801041106.m04B6lK3006677@nakamura.uits.iupui.edu>': 1, '585': 1, '11:07:56': 1, '1CACC42D0C': 1, '11:07:58': 1, 'm04B6lWM006679': 1, '06:06:47': 3, 'm04B6lK3006677': 1, 'polls/trunk:': 1, '0.6948': 1, 'http://source.sakaiproject.org/viewsvn/?view=rev&rev=39753': 1, '06:05:51': 1, '39753': 1, 'polls/trunk/tool/src/java/org/sakaiproject/poll/tool/evolvers/': 1, 'polls/trunk/tool/src/java/org/sakaiproject/poll/tool/evolvers/SakaiFCKTextEvolver.java': 1, 'polls/trunk/.classpath': 1, 'polls/trunk/tool/pom.xml': 1, 'polls/trunk/tool/src/webapp/WEB-INF/requestContext.xml': 1, '04:49:08': 4, '[141.211.14.92])': 1, 'galaxyquest.mr.itd.umich.edu': 4, '(galaxyquest.mr.itd.umich.edu': 2, '[141.211.93.145])': 2, 'score.mail.umich.edu': 1, 'm049n60G017588;': 1, '04:49:06': 1, '477E010C.48C2.10259': 1, '04:49:03': 1, '254CC8CDEE;': 1, '09:48:55': 1, '<200801040947.m049lUxo006517@nakamura.uits.iupui.edu>': 1, '246': 1, '09:48:36': 1, '8C13342C92': 1, '09:48:40': 1, 'm049lU3P006519': 1, '04:47:30': 3, 'm049lUxo006517': 1, 'r39752': 1, 'podcasts/branches/sakai_2-5-x/podcasts-app/src/webapp:': 2, 'css': 2, 'podcasts': 2, '0.6528': 1, 'http://source.sakaiproject.org/viewsvn/?view=rev&rev=39752': 1, '04:47:16': 1, '39752': 1, 'podcasts/branches/sakai_2-5-x/podcasts-app/src/webapp/css/podcaster.css': 2, 'podcasts/branches/sakai_2-5-x/podcasts-app/src/webapp/podcasts/podMain.jsp': 2, '-r39641': 1, 'https://source.sakaiproject.org/svn/podcasts/trunk': 4, 'r39641': 1, 'josrodri@iupui.edu': 2, '2007-12-28': 1, '23:44:24': 1, '28': 1, 'SAK-9882:': 2, 'refactored': 2, 'podMain.jsp': 1, 'right': 1, 'way': 1, '(at': 1, 'least': 1, 'much': 1, 'closer': 1, 'to)': 1, '-c39641': 1, 'podcasts/': 2, 'podcasts/podcasts-app/src/webapp/podcasts/podMain.jsp': 2, 'podcasts/podcasts-app/src/webapp/css/podcaster.css': 2, 'merged': 1, 'manualy': 1, '04:33:44': 4, 'workinggirl.mr.itd.umich.edu': 2, '(workinggirl.mr.itd.umich.edu': 1, '[141.211.93.143])': 1, 'm049Xge3031803;': 1, '04:33:42': 1, '477DFD6C.75DBE.26054': 1, '04:33:35': 1, '6C929BA656;': 1, '09:33:27': 1, '<200801040932.m049W2i5006493@nakamura.uits.iupui.edu>': 1, '153': 1, '09:33:10': 1, '6C69423767': 1, '09:33:13': 1, 'm049W3fl006495': 1, '04:32:03': 1, 'm049W2i5006493': 1, '04:32:02': 2, 'r39751': 1, 'images': 1, 'http://source.sakaiproject.org/viewsvn/?view=rev&rev=39751': 1, '04:31:35': 1, '39751': 1, 'podcasts/branches/sakai_2-5-x/podcasts-app/src/webapp/images/rss-feed-icon.png': 1, 'podcasts/branches/sakai_2-5-x/podcasts-app/src/webapp/podcasts/podPermissions.jsp': 1, 'podcasts/branches/sakai_2-5-x/podcasts-app/src/webapp/podcasts/podDelete.jsp': 1, 'podcasts/branches/sakai_2-5-x/podcasts-app/src/webapp/podcasts/podNoResource.jsp': 1, 'podcasts/branches/sakai_2-5-x/podcasts-app/src/webapp/podcasts/podOptions.jsp': 1, '-r39146': 1, 'r39146': 1, '2007-12-12': 1, '21:40:33': 1, '(Wed,': 2, '12': 2, 'other': 1, 'pages': 1, 'as': 4, 'well': 2, 'take': 1, 'advantage': 1, 'proper': 1, 'jsp': 1, 'components': 1, 'validation': 1, 'cleanup.': 1, '-c39146': 1, 'D': 2, 'podcasts/podcasts-app/src/webapp/podcasts/podPermissions.jsp': 1, 'podcasts/podcasts-app/src/webapp/podcasts/podDelete.jsp': 1, 'podcasts/podcasts-app/src/webapp/podcasts/podNoResource.jsp': 1, 'podcasts/podcasts-app/src/webapp/podcasts/podOptions.jsp': 1, 'podcasts/podcasts-app/src/webapp/images/rss-feed-icon.png': 1, '04:07:34': 4, 'salemslot.mr.itd.umich.edu': 6, '(salemslot.mr.itd.umich.edu': 3, '[141.211.14.58])': 3, 'm0497WAN027902;': 1, '04:07:32': 1, '477DF74E.49493.30415': 1, '04:07:29': 1, '88598BA5B6;': 1, '09:07:19': 1, '<200801040905.m0495rWB006420@nakamura.uits.iupui.edu>': 1, '385': 1, '09:07:04': 2, '90636418A8': 1, 'm0495sZs006422': 1, '04:05:54': 1, 'm0495rWB006420': 1, '04:05:53': 2, 'r39750': 1, 'event/branches/SAK-6216/event-util/util/src/java/org/sakaiproject/util': 1, '0.7554': 1, 'http://source.sakaiproject.org/viewsvn/?view=rev&rev=39750': 1, '04:05:43': 1, '39750': 1, 'event/branches/SAK-6216/event-util/util/src/java/org/sakaiproject/util/EmailNotification.java': 1, 'SAK-6216': 1, 'event': 1, 'change': 1, 'SAK-11169': 1, '(r39033)': 1, 'synchronize': 1, 'branch': 1, '(for': 1, 'convenience': 1, 'UCT': 1, 'local': 1, 'build)': 1, 'Thu': 12, '19:51:21': 3, '[141.211.14.91])': 3, 'Thu,': 51, '03': 18, 'jacknife.mail.umich.edu': 3, 'm040pJHB027171;': 1, '19:51:19': 1, '477D8300.AC098.32562': 1, '19:51:15': 1, 'E6CC4B9F8A;': 1, '00:36:06': 1, '<200801040023.m040NpCc005473@nakamura.uits.iupui.edu>': 1, '754': 1, '00:35:43': 1, '8889842C49': 1, '00:25:00': 1, 'm040NpgM005475': 1, '19:23:51': 3, 'm040NpCc005473': 1, 'r39749': 1, '19:51:20': 1, '0.6956': 1, 'http://source.sakaiproject.org/viewsvn/?view=rev&rev=39749': 1, '2008-01-03': 6, '19:23:46': 1, '39749': 1, 'bspace/site-manage/sakai_2-4-x/site-manage-tool/tool/src/webapp/vm/sitesetup/chef_site-importSites.vm': 1, 'BSP-1420': 1, 'Update': 1, 'text': 2, 'clarify': 2, '\"Re-Use': 1, 'Materials...\"': 1, 'option': 2, 'WS': 1, 'Setup': 1, '17:18:23': 4, 'm03MIMXY027729;': 1, '17:18:22': 1, '477D5F23.797F6.16348': 1, '17:18:14': 1, 'EF439B98CE;': 1, '22:18:19': 1, '<200801032216.m03MGhDa005292@nakamura.uits.iupui.edu>': 1, '236': 1, '22:18:04': 1, '905D53C2FD': 1, '22:17:52': 1, 'm03MGhrs005294': 1, '17:16:43': 3, 'm03MGhDa005292': 1, 'r39746': 1, 'http://source.sakaiproject.org/viewsvn/?view=rev&rev=39746': 1, '17:16:39': 1, '39746': 1, 'bspace/site-manage/sakai_2-4-x/site-manage-tool/tool/src/webapp/vm/sitesetup/chef_site-siteInfo-duplicate.vm': 1, 'BSP-1421': 1, 'Add': 1, '\"Duplicate': 1, 'Site\"': 1, 'ray@media.berkeley.edu': 4, '17:07:00': 4, 'anniehall.mr.itd.umich.edu': 2, '(anniehall.mr.itd.umich.edu': 1, '[141.211.93.141])': 1, 'm03M6xaq014868;': 1, '17:06:59': 1, '477D5C7A.4FE1F.22211': 1, '17:06:53': 1, '0BC8D7225E;': 1, '22:06:57': 1, '<200801032205.m03M5Ea7005273@nakamura.uits.iupui.edu>': 1, '554': 1, '22:06:34': 1, '2AB513C2FD': 1, '22:06:23': 1, 'm03M5EQa005275': 1, '17:05:14': 3, 'm03M5Ea7005273': 1, 'r39745': 1, 'providers/trunk/cm/cm-authz-provider/src/java/org/sakaiproject/coursemanagement/impl/provider': 1, 'http://source.sakaiproject.org/viewsvn/?view=rev&rev=39745': 1, '17:05:11': 1, '39745': 1, 'providers/trunk/cm/cm-authz-provider/src/java/org/sakaiproject/coursemanagement/impl/provider/CourseManagementGroupProvider.java': 1, 'SAK-12602': 1, 'logic': 1, 'has': 1, 'multiple': 1, 'roles': 1, 'section': 1, '16:34:40': 4, '[141.211.14.34])': 1, 'chaos.mail.umich.edu': 1, 'm03LYdY1029538;': 1, '16:34:39': 1, '477D54EA.13F34.26602': 1, '16:34:36': 1, 'CC710ADC79;': 1, '21:34:29': 1, '<200801032133.m03LX3gG005191@nakamura.uits.iupui.edu>': 1, '21:34:08': 1, '43C4242B55': 1, '21:34:12': 1, 'm03LX3Vb005193': 1, '16:33:03': 3, 'm03LX3gG005191': 1, 'r39744': 1, 'oncourse/branches/oncourse_OPC_122007': 1, '0.9846': 1, 'http://source.sakaiproject.org/viewsvn/?view=rev&rev=39744': 1, '16:33:02': 1, '39744': 1, 'oncourse/branches/oncourse_OPC_122007/': 1, 'oncourse/branches/oncourse_OPC_122007/.externals': 1, 'update': 1, 'external': 1, 'GB.': 1, '16:29:07': 4, 'm03LT6uw027749;': 1, '16:29:06': 1, '477D5397.E161D.20326': 1, '16:28:58': 1, 'DEC65ADC79;': 1, '21:28:52': 1, '<200801032127.m03LRUqH005177@nakamura.uits.iupui.edu>': 1, '917': 1, '21:28:39': 1, '1FBB042B30': 1, '21:28:38': 1, 'm03LRUk4005179': 1, '16:27:30': 3, 'm03LRUqH005177': 1, 'r39743': 1, 'gradebook/branches/oncourse_2-4-2/app/ui/src/java/org/sakaiproject/tool/gradebook/ui': 2, '0.8509': 1, 'http://source.sakaiproject.org/viewsvn/?view=rev&rev=39743': 1, '16:27:29': 1, '39743': 1, 'gradebook/branches/oncourse_2-4-2/app/ui/src/java/org/sakaiproject/tool/gradebook/ui/RosterBean.java': 2, '-c': 2, '39403': 2, 'https://source.sakaiproject.org/svn/gradebook/trunk': 4, 'app/ui/src/java/org/sakaiproject/tool/gradebook/ui/RosterBean.java': 2, 'r39403': 1, '2007-12-17': 1, '17:11:08': 1, '(Mon,': 1, '17': 1, 'SAK-12504': 1, 'http://jira.sakaiproject.org/jira/browse/SAK-12504': 1, 'Viewing': 1, '\"All': 2, 'Grades\"': 2, 'page': 2, 'TA': 1, 'grader': 1, 'causes': 1, 'stack': 1, 'trace': 1, '16:23:48': 4, 'm03LNlf0002115;': 1, '16:23:47': 1, '477D525E.1448.30389': 1, '16:23:44': 1, '9D005B9D06;': 1, '21:23:38': 1, '<200801032122.m03LMFo4005148@nakamura.uits.iupui.edu>': 1, '6': 1, '21:23:24': 2, '3535542B69': 1, 'm03LMFtT005150': 1, '16:22:15': 3, 'm03LMFo4005148': 1, 'r39742': 1, '0.9907': 1, 'http://source.sakaiproject.org/viewsvn/?view=rev&rev=39742': 1, '16:22:14': 1, '39742': 1, '35014': 2, 'r35014': 1, '2007-09-12': 1, '16:17:59': 1, '-0400': 1, 'Sep': 1, 'SAK-11458': 1, 'http://bugs.sakaiproject.org/jira/browse/SAK-11458': 1, 'Course': 1, 'does': 1, 'appear': 1, 'no': 1, 'categories': 1}\n",
            "[(352, 'Jan'), (324, '2008'), (245, 'by'), (243, 'Received:'), (219, '-0500'), (218, 'from'), (203, '4'), (194, 'with'), (183, 'Fri,'), (136, 'id'), (118, 'for'), (108, 'paploo.uhi.ac.uk'), (108, 'nakamura.uits.iupui.edu'), (108, 'ESMTP'), (81, 'text/plain;'), (81, 'charset=UTF-8'), (81, '<source@collab.sakaiproject.org>;'), (81, '+0000'), (81, '(GMT)'), (61, '3'), (61, '04'), (54, 'murder'), (54, '[127.0.0.1])'), (54, 'SMTP'), (54, 'LMTPA;'), (54, 'ID'), (54, 'Date:'), (54, '(localhost'), (54, '(Postfix)'), (54, '(Cyrus'), (51, 'Thu,'), (43, 'to'), (43, 'svn'), (40, 'Fri'), (35, '-'), (32, 'the'), (29, 'New'), (28, 'message'), (28, 'Source'), (28, 'Sakai'), (28, '2008)'), (27, 'you'), (27, 'was'), (27, 'v2.3.8)'), (27, 'v2.2.12)'), (27, 'using'), (27, 'source@collab.sakaiproject.org;'), (27, 'source@collab.sakaiproject.org'), (27, 'socket])'), (27, 'site.'), (27, 'shmi.uhi.ac.uk'), (27, 'set'), (27, 'sent'), (27, 'sender'), (27, 'receive'), (27, 'prod.collab.uhi.ac.uk'), (27, 'notifications'), (27, 'notification'), (27, 'nakamura.uits.iupui.edu:'), (27, 'modify'), (27, 'mail.umich.edu'), (27, 'how'), (27, 'frankenstein.mail.umich.edu'), (27, 'commit:'), (27, 'can'), (27, 'automatic'), (27, 'at'), (27, 'apache@localhost)'), (27, 'apache'), (27, '[sakai]'), (27, '[194.35.219.184])'), (27, '[134.68.220.122])'), (27, 'You'), (27, 'X-Sieve:'), (27, 'X-DSPAM-Result:'), (27, 'X-DSPAM-Processed:'), (27, 'X-DSPAM-Probability:'), (27, 'X-DSPAM-Confidence:'), (27, 'X-Content-Type-Outer-Envelope:'), (27, 'X-Content-Type-Message-Body:'), (27, 'X-Authentication-Warning:'), (27, 'Workspace'), (27, 'To:'), (27, 'This'), (27, 'Subject:'), (27, 'Sieve'), (27, 'Server'), (27, 'Revision:'), (27, 'Return-Path:'), (27, 'Preferences.'), (27, 'My'), (27, 'Modified:'), (27, 'Mime-Version:'), (27, 'Message-ID:'), (27, 'Log:'), (27, 'Innocent'), (27, 'From:'), (27, 'From'), (27, 'FROM'), (27, 'Details:'), (27, 'Content-Type:'), (27, 'Content-Transfer-Encoding:'), (27, 'Collab'), (27, 'CMU'), (27, 'BY'), (27, 'Author:'), (27, '>'), (27, '<postmaster@collab.sakaiproject.org>'), (27, ';'), (27, '7bit'), (27, '2.3'), (27, '2.1.3)'), (27, '1.0'), (27, '0.0000'), (27, '-f'), (27, '----------------------'), (27, '(nakamura.uits.iupui.edu'), (27, '(mail.umich.edu'), (27, '(https://collab.sakaiproject.org/portal)'), (27, '(from'), (27, '(app1.prod.collab.uhi.ac.uk'), (27, '([unix'), (27, '([194.35.219.182])'), (27, '(JAMES'), (27, '(8.12.11.20060308/8.12.11/Submit)'), (27, '(8.12.11.20060308/8.12.11)'), (27, '()'), (22, 'in'), (22, '(Fri,'), (21, '|'), (21, '2008-01-04'), (20, 'cwen@iupui.edu'), (18, '03'), (17, 'zqian@umich.edu'), (17, 'david.horwitz@uct.ac.za'), (14, 'U'), (14, '------------------------------------------------------------------------'), (12, 'merge'), (12, 'louis@media.berkeley.edu'), (12, 'gsilver@umich.edu'), (12, 'Thu'), (10, '5'), (9, 'Sat,'), (8, 'stephen.marquard@uct.ac.za'), (8, 'rjlowe@iupui.edu'), (8, 'holes.mr.itd.umich.edu'), (8, 'a'), (8, '(Thu,'), (7, 'log'), (6, 'wagnermr@iupui.edu'), (6, 'salemslot.mr.itd.umich.edu'), (6, '2008-01-03'), (6, '2007)'), (5, 'panther.mail.umich.edu'), (5, 'fan.mail.umich.edu'), (5, '[141.211.14.46])'), (5, '[141.211.14.25])'), (5, 'Dec'), (5, '11:11:52'), (5, '11:11:03'), (5, '-r'), (4, 'user'), (4, 'tool'), (4, 'ray@media.berkeley.edu'), (4, 'of'), (4, 'lines'), (4, 'icestorm.mr.itd.umich.edu'), (4, 'https://source.sakaiproject.org/svn/podcasts/trunk'), (4, 'https://source.sakaiproject.org/svn/gradebook/trunk'), (4, 'guys.mr.itd.umich.edu'), (4, 'gopal.ramasammycook@gmail.com'), (4, 'galaxyquest.mr.itd.umich.edu'), (4, 'fix'), (4, 'firestarter.mr.itd.umich.edu'), (4, 'eyewitness.mr.itd.umich.edu'), (4, 'dhorwitz@david-horwitz-6:~/branchManagemnt/sakai_2-5-x>'), (4, 'creepshow.mr.itd.umich.edu'), (4, 'be'), (4, 'as'), (4, 'antranig@caret.cam.ac.uk'), (4, '[141.211.14.79])'), (4, 'Added:'), (4, '18:10:48'), (4, '17:18:23'), (4, '17:07:00'), (4, '16:34:40'), (4, '16:29:07'), (4, '16:23:48'), (4, '16:10:39'), (4, '15:46:24'), (4, '15:03:18'), (4, '14:50:18'), (4, '11:37:30'), (4, '11:35:08'), (4, '11:12:37'), (4, '11:10:22'), (4, '10:38:42'), (4, '10:04:14'), (4, '09:14:16'), (4, '09:05:31'), (4, '07:02:32'), (4, '06:08:27'), (4, '04:49:08'), (4, '04:33:44'), (4, '04:07:34'), (4, '(holes.mr.itd.umich.edu'), (3, 'when'), (3, 'webapp/vm/sitesetup'), (3, 'sleepers.mail.umich.edu'), (3, 'site'), (3, 'now'), (3, 'moot'), (3, 'line'), (3, 'left'), (3, 'jacknife.mail.umich.edu'), (3, 'flawless.mail.umich.edu'), (3, 'faithful.mail.umich.edu'), (3, 'entries'), (3, 'commented'), (3, 'bundle'), (3, 'bspace/site-manage/sakai_2-4-x/site-manage-tool/tool/src:'), (3, 'bspace/site-manage/sakai_2-4-x/site-manage-tool/tool/src/bundle/sitesetupgeneric.properties'), (3, '[141.211.14.97])'), (3, '[141.211.14.91])'), (3, '[141.211.14.90])'), (3, '[141.211.14.58])'), (3, '[141.211.14.39])'), (3, '19:51:21'), (3, '19:23:51'), (3, '18:08:57'), (3, '17:16:43'), (3, '17:05:14'), (3, '16:33:03'), (3, '16:27:30'), (3, '16:22:15'), (3, '16:09:02'), (3, '15:44:40'), (3, '15:01:38'), (3, '11:35:26'), (3, '11:33:06'), (3, '11:11:01'), (3, '11:10:05'), (3, '11:08:39'), (3, '10:37:06'), (3, '10:17:42'), (3, '10:15:57'), (3, '10:02:01'), (3, '1'), (3, '07:00:42'), (3, '06:06:47'), (3, '05'), (3, '04:47:30'), (3, '.'), (3, '+0200'), (3, '(unused)'), (3, '(salemslot.mr.itd.umich.edu'), (2, 'workinggirl.mr.itd.umich.edu'), (2, 'workaround'), (2, 'well'), (2, 'unmerge'), (2, 'ui'), (2, 'trunk'), (2, 'tool/src/webapp/WEB-INF'), (2, 'tool/src/java/org/sakaiproject/poll/tool/evolvers'), (2, 'tool/src/java/org/sakaiproject/poll/tool'), (2, 'text'), (2, 'tested'), (2, 'tadpole.mr.itd.umich.edu'), (2, 'sugested'), (2, 'should'), (2, 'shining.mr.itd.umich.edu'), (2, 'reply'), (2, 'refactored'), (2, 'r39753'), (2, 'polls/tool/src/webapp/WEB-INF/requestContext.xml'), (2, 'polls/branches/sakai_2-5-x/tool/src/java/org/sakaiproject/poll/tool/evolvers/SakaiFCKTextEvolver.java'), (2, 'podcasts/podcasts-app/src/webapp/podcasts/podMain.jsp'), (2, 'podcasts/podcasts-app/src/webapp/css/podcaster.css'), (2, 'podcasts/branches/sakai_2-5-x/podcasts-app/src/webapp:'), (2, 'podcasts/branches/sakai_2-5-x/podcasts-app/src/webapp/podcasts/podMain.jsp'), (2, 'podcasts/branches/sakai_2-5-x/podcasts-app/src/webapp/css/podcaster.css'), (2, 'podcasts/'), (2, 'podcasts'), (2, 'permissions'), (2, 'page'), (2, 'option'), (2, 'on'), (2, 'not'), (2, 'needs'), (2, 'msgcntr/trunk/messageforums-app/src/java/org/sakaiproject/tool/messageforums/PrivateMessagesTool.java'), (2, 'messageforums-app/src/java/org/sakaiproject/tool/messageforums/PrivateMessagesTool.java'), (2, 'list'), (2, 'josrodri@iupui.edu'), (2, 'java/org/sakaiproject/site/tool'), (2, 'it.mr.itd.umich.edu'), (2, 'into'), (2, 'implmented'), (2, 'if'), (2, 'hu2@iupui.edu'), (2, 'https://source.sakaiproject.org/svn/polls/trunk'), (2, 'https://source.sakaiproject.org/svn/msgcntr/trunk'), (2, 'helper'), (2, 'gradebook/trunk/app/ui/src/webapp/WEB-INF/requestContext.xml'), (2, 'gradebook/trunk/app/ui/src/webapp/WEB-INF/bundle/messages.properties'), (2, 'gradebook/trunk/app/ui/src/webapp/WEB-INF/applicationContext.xml'), (2, 'gradebook/trunk/app/ui/src/java/org/sakaiproject/tool/gradebook/ui/helpers/producers/GradeGradebookItemProducer.java'), (2, 'gradebook/trunk/app/ui/src/java/org/sakaiproject/tool/gradebook/ui/helpers/beans/AssignmentGradeRecordBean.java'), (2, 'gradebook/trunk/app/business/src/java/org/sakaiproject/tool/gradebook/business/impl/GradebookManagerHibernateImpl.java'), (2, 'gradebook/branches/oncourse_2-4-2/app/ui/src/java/org/sakaiproject/tool/gradebook/ui/RosterBean.java'), (2, 'gradebook/branches/oncourse_2-4-2/app/ui/src/java/org/sakaiproject/tool/gradebook/ui'), (2, 'grade'), (2, 'ghostbusters.mr.itd.umich.edu'), (2, 'gb'), (2, 'dreamcatcher.mr.itd.umich.edu'), (2, \"doesn't\"), (2, 'css'), (2, 'conflict'), (2, 'clarify'), (2, 'cc'), (2, 'carrie.mr.itd.umich.edu'), (2, 'build'), (2, 'branch:'), (2, 'app/ui/src/java/org/sakaiproject/tool/gradebook/ui/RosterBean.java'), (2, 'any'), (2, 'anniehall.mr.itd.umich.edu'), (2, 'and'), (2, 'against'), (2, '[141.211.93.149])'), (2, '[141.211.93.145])'), (2, '[141.211.93.142])'), (2, '[141.211.14.84])'), (2, '[141.211.14.83])'), (2, '[141.211.14.76])'), (2, \"Xingtang's\"), (2, 'Site'), (2, 'Sat'), (2, 'SAK-9882:'), (2, 'SAK-12228'), (2, 'SAK-12180'), (2, 'Removed:'), (2, 'Info'), (2, 'Grades\"'), (2, 'Fix'), (2, 'D'), (2, 'C'), (2, 'AB'), (2, 'A'), (2, '611'), (2, '39403'), (2, '35014'), (2, '23:10:10'), (2, '21:23:24'), (2, '2007-12-20'), (2, '20'), (2, '2-5-x'), (2, '15:03:15'), (2, '14:48:39'), (2, '12:01:53'), (2, '12'), (2, '11:09:14'), (2, '10:17:43'), (2, '09:12:18'), (2, '09:07:04'), (2, '09:03:51'), (2, '04:32:02'), (2, '04:05:53'), (2, '0.7605'), (2, '0.7556'), (2, '0.7002'), (2, '0.6959'), (2, '-c'), (2, '(icestorm.mr.itd.umich.edu'), (2, '(guys.mr.itd.umich.edu'), (2, '(galaxyquest.mr.itd.umich.edu'), (2, '(firestarter.mr.itd.umich.edu'), (2, '(eyewitness.mr.itd.umich.edu'), (2, '(creepshow.mr.itd.umich.edu'), (2, '(Wed,'), (2, '\"All'), (1, 'yourself.'), (1, 'work'), (1, 'webapp/WEB-INF/bundle'), (1, 'webapp/WEB-INF'), (1, 'web/trunk/web-tool/tool/src/bundle/iframe.properties'), (1, 'web/trunk/web-tool/tool/src/bundle'), (1, 'way'), (1, 'validation'), (1, 'util'), (1, 'use'), (1, 'update'), (1, 'ui/src/webapp/content/templates'), (1, 'ui/src/webapp/WEB-INF/bundle'), (1, 'ui/src/webapp/WEB-INF'), (1, 'ui/src/java/org/sakaiproject/tool/gradebook/ui/helpers/producers'), (1, 'ui/src/java/org/sakaiproject/tool/gradebook/ui/helpers/params'), (1, 'ui/src/java/org/sakaiproject/tool/gradebook/ui/helpers/entity'), (1, 'ui/src/java/org/sakaiproject/tool/gradebook/ui/helpers/beans'), (1, 'trace'), (1, 'to)'), (1, 'there'), (1, 'than'), (1, 'take'), (1, 'synchronize'), (1, 'state'), (1, 'stack'), (1, 'site/trunk/site-tool/tool/src/bundle/admin.properties'), (1, 'site/trunk/site-tool/tool/src/bundle'), (1, 'site.upd.site.mbrship'), (1, 'site.upd.grp.mbrship'), (1, 'site.upd,'), (1, 'site-manage/trunk/site-manage-tool/tool/src:'), (1, 'site-manage/trunk/site-manage-tool/tool/src/webapp/vm/sitesetup/chef_site-siteInfo-list.vm'), (1, 'site-manage/trunk/site-manage-tool/tool/src/java/org/sakaiproject/site/tool/SiteAction.java'), (1, 'site-manage/branches/sakai_2-5-x/site-manage-tool/tool/src/webapp/vm/sitesetup/chef_site-siteInfo-list.vm'), (1, 'site-manage/branches/sakai_2-5-x/site-manage-tool/tool/src/webapp/vm/sitesetup'), (1, 'site-manage/branches/sakai_2-4-x/site-manage-tool/tool/src/java/org/sakaiproject/site/tool/SiteAction.java'), (1, 'site-manage/branches/sakai_2-4-x/site-manage-tool/tool/src/java/org/sakaiproject/site/tool'), (1, 'site-manage'), (1, 'show'), (1, 'service/impl/src/java/org/sakaiproject/component/gradebook'), (1, 'service/api/src/java/org/sakaiproject/service/gradebook/shared'), (1, 'send'), (1, 'section'), (1, 'score.mail.umich.edu'), (1, 'samigo-services/src/java/org/sakaiproject/tool/assessment/shared/impl/grading'), (1, 'samigo-services/src/java/org/sakaiproject/tool/assessment/integration/helper/standalone'), (1, 'samigo-services/src/java/org/sakaiproject/tool/assessment/integration/helper/integrated'), (1, 'samigo-services/src/java/org/sakaiproject/tool/assessment/integration/helper/ifc'), (1, 'samigo-services/src/java/org/sakaiproject/tool/assessment/facade'), (1, 'samigo-app/src/java/org/sakaiproject/tool/assessment/ui/listener/evaluation'), (1, 'samigo-app/src/java/org/sakaiproject/tool/assessment/ui/bean/evaluation'), (1, 'samigo-api/src/java/org/sakaiproject/tool/assessment/shared/api/grading'), (1, 'sam/branches/SAK-12065:'), (1, 'sam/branches/SAK-12065/samigo-services/src/java/org/sakaiproject/tool/assessment/shared/impl/grading/GradingSectionAwareServiceImpl.java'), (1, 'sam/branches/SAK-12065/samigo-services/src/java/org/sakaiproject/tool/assessment/integration/helper/standalone/SectionAwareServiceHelperImpl.java'), (1, 'sam/branches/SAK-12065/samigo-services/src/java/org/sakaiproject/tool/assessment/integration/helper/integrated/SectionAwareServiceHelperImpl.java'), (1, 'sam/branches/SAK-12065/samigo-services/src/java/org/sakaiproject/tool/assessment/integration/helper/ifc/SectionAwareServiceHelper.java'), (1, 'sam/branches/SAK-12065/samigo-services/src/java/org/sakaiproject/tool/assessment/facade/PublishedAssessmentFacadeQueriesAPI.java'), (1, 'sam/branches/SAK-12065/samigo-services/src/java/org/sakaiproject/tool/assessment/facade/PublishedAssessmentFacadeQueries.java'), (1, 'sam/branches/SAK-12065/samigo-app/src/java/org/sakaiproject/tool/assessment/ui/listener/evaluation/SubmissionStatusListener.java'), (1, 'sam/branches/SAK-12065/samigo-app/src/java/org/sakaiproject/tool/assessment/ui/bean/evaluation/TotalScoresBean.java'), (1, 'sam/branches/SAK-12065/samigo-app/src/java/org/sakaiproject/tool/assessment/ui/bean/evaluation/SubmissionStatusBean.java'), (1, 'sam/branches/SAK-12065/samigo-app/src/java/org/sakaiproject/tool/assessment/ui/bean/evaluation/QuestionScoresBean.java'), (1, 'sam/branches/SAK-12065/samigo-api/src/java/org/sakaiproject/tool/assessment/shared/api/grading/GradingSectionAwareServiceAPI.java'), (1, 'row'), (1, 'roles'), (1, 'right'), (1, 'resolved'), (1, 'required'), (1, 'r39772'), (1, 'r39771'), (1, 'r39770'), (1, 'r39769'), (1, 'r39766'), (1, 'r39765'), (1, 'r39764'), (1, 'r39763'), (1, 'r39762'), (1, 'r39761'), (1, 'r39760'), (1, 'r39759'), (1, 'r39758'), (1, 'r39757'), (1, 'r39756'), (1, 'r39755'), (1, 'r39754'), (1, 'r39752'), (1, 'r39751'), (1, 'r39750'), (1, 'r39749'), (1, 'r39746'), (1, 'r39745'), (1, 'r39744'), (1, 'r39743'), (1, 'r39742'), (1, 'r39641'), (1, 'r39632:3'), (1, 'r39624:5,'), (1, 'r39622,'), (1, 'r39622)'), (1, 'r39571'), (1, 'r39558'), (1, 'r39403'), (1, 'r39146'), (1, 'r35014'), (1, 'providers/trunk/cm/cm-authz-provider/src/java/org/sakaiproject/coursemanagement/impl/provider/CourseManagementGroupProvider.java'), (1, 'providers/trunk/cm/cm-authz-provider/src/java/org/sakaiproject/coursemanagement/impl/provider'), (1, 'provider'), (1, 'provided'), (1, 'provide'), (1, 'proper'), (1, 'project'), (1, 'polls/trunk:'), (1, 'polls/trunk/tool/src/webapp/WEB-INF/requestContext.xml'), (1, 'polls/trunk/tool/src/java/org/sakaiproject/poll/tool/evolvers/SakaiFCKTextEvolver.java'), (1, 'polls/trunk/tool/src/java/org/sakaiproject/poll/tool/evolvers/'), (1, 'polls/trunk/tool/pom.xml'), (1, 'polls/trunk/.classpath'), (1, 'polls/tool/src/java/org/sakaiproject/poll/tool/evolvers/SakaiFCKTextEvolver.java'), (1, 'polls/tool/src/java/org/sakaiproject/poll/tool/evolvers'), (1, 'polls/tool/pom.xml'), (1, 'polls/branches/sakai_2-5-x:'), (1, 'polls/branches/sakai_2-5-x/tool/src/webapp/WEB-INF/requestContext.xml'), (1, 'polls/branches/sakai_2-5-x/tool/src/java/org/sakaiproject/poll/tool/evolvers/'), (1, 'polls/branches/sakai_2-5-x/tool/pom.xml'), (1, 'polls/branches/sakai_2-5-x/.classpath'), (1, 'polls/.classpath'), (1, 'polls/'), (1, 'podcasts/podcasts-app/src/webapp/podcasts/podPermissions.jsp'), (1, 'podcasts/podcasts-app/src/webapp/podcasts/podOptions.jsp'), (1, 'podcasts/podcasts-app/src/webapp/podcasts/podNoResource.jsp'), (1, 'podcasts/podcasts-app/src/webapp/podcasts/podDelete.jsp'), (1, 'podcasts/podcasts-app/src/webapp/images/rss-feed-icon.png'), (1, 'podcasts/branches/sakai_2-5-x/podcasts-app/src/webapp/podcasts/podPermissions.jsp'), (1, 'podcasts/branches/sakai_2-5-x/podcasts-app/src/webapp/podcasts/podOptions.jsp'), (1, 'podcasts/branches/sakai_2-5-x/podcasts-app/src/webapp/podcasts/podNoResource.jsp'), (1, 'podcasts/branches/sakai_2-5-x/podcasts-app/src/webapp/podcasts/podDelete.jsp'), (1, 'podcasts/branches/sakai_2-5-x/podcasts-app/src/webapp/images/rss-feed-icon.png'), (1, 'podMain.jsp'), (1, 'participant'), (1, 'pages'), (1, 'other'), (1, 'or'), (1, 'one.'), (1, 'oncourse/branches/oncourse_OPC_122007/.externals'), (1, 'oncourse/branches/oncourse_OPC_122007/'), (1, 'oncourse/branches/oncourse_OPC_122007'), (1, 'object'), (1, 'null.'), (1, 'null'), (1, 'no'), (1, 'name.'), (1, 'multiple'), (1, 'much'), (1, 'msgcntr/trunk:'), (1, 'msgcntr/trunk/messageforums-app/src/java/org/sakaiproject/tool/messageforums:'), (1, 'msgcntr/trunk/messageforums-app/src/java/org/sakaiproject/tool/messageforums/ui/PrivateMessageDecoratedBean.java'), (1, 'msgcntr/trunk/messageforums-api/src/bundle/org/sakaiproject/api/app/messagecenter/bundle/Messages.properties'), (1, 'more'), (1, 'mission.mail.umich.edu'), (1, 'methods'), (1, 'messageforums-app/src/java/org/sakaiproject/tool/messageforums/ui/PrivateMessageDecoratedBean.java'), (1, 'messageforums-app/src/java/org/sakaiproject/tool/messageforums'), (1, 'messageforums-api/src/bundle/org/sakaiproject/api/app/messagecenter/bundle/Messages.properties'), (1, 'messageforums-api/src/bundle/org/sakaiproject/api/app/messagecenter/bundle'), (1, 'merged'), (1, 'manualy'), (1, 'mailarchive/trunk/mailarchive-tool/tool/src/bundle/email.properties'), (1, 'mailarchive/trunk/mailarchive-tool/tool/src/bundle'), (1, 'm05EEFR1013674;'), (1, 'm05ECJVp010329'), (1, 'm05ECIaH010327'), (1, 'm04NAbGa029441;'), (1, 'm04N8vHG008127'), (1, 'm04N8v6O008125'), (1, 'm04LAcZw014275;'), (1, 'm04L92hb007923'), (1, 'm04L927E007925'), (1, 'm04KkNbx032077;'), (1, 'm04KieqE007883'), (1, 'm04Kiem3007881'), (1, 'm04K3HGF006563;'), (1, 'm04K1cXv007740'), (1, 'm04K1cO0007738'), (1, 'm04JoHJi019755;'), (1, 'm04JmeV9007707'), (1, 'm04JmdwO007705'), (1, 'm04GbT9x022078;'), (1, 'm04GZQGZ007313'), (1, 'm04GZQ7W007315'), (1, 'm04GZ6lt020480;'), (1, 'm04GX6eG007292'), (1, 'm04GX6Y3007294'), (1, 'm04GCaHB030887;'), (1, 'm04GBqqv025330;'), (1, 'm04GB3Vg011502;'), (1, 'm04GB1Wt007223'), (1, 'm04GB1Lb007221'), (1, 'm04GAL9k010604;'), (1, 'm04GA5LR007211'), (1, 'm04GA5KP007209'), (1, 'm04G9EuX007197'), (1, 'm04G9Eqg007199'), (1, 'm04G8dXN007186'), (1, 'm04G8d7w007184'), (1, 'm04Fcfjm012313;'), (1, 'm04Fb6nh007094'), (1, 'm04Fb6Ci007092'), (1, 'm04FHgfs011536;'), (1, 'm04FFv85007052'), (1, 'm04FFv42007050'), (1, 'm04F4Dci015108;'), (1, 'm04F21hn007033'), (1, 'm04F21Jo007031'), (1, 'm04E5U3C029277;'), (1, 'm04E3psW006926'), (1, 'm04E3pQS006928'), (1, 'm04C2VN7026678;'), (1, 'm04C0gnm006795'), (1, 'm04C0gfK006793'), (1, 'm04B8Qw9001368;'), (1, 'm04B6lWM006679'), (1, 'm04B6lK3006677'), (1, 'm049n60G017588;'), (1, 'm049lUxo006517'), (1, 'm049lU3P006519'), (1, 'm049Xge3031803;'), (1, 'm049W3fl006495'), (1, 'm049W2i5006493'), (1, 'm0497WAN027902;'), (1, 'm0495sZs006422'), (1, 'm0495rWB006420'), (1, 'm040pJHB027171;'), (1, 'm040NpgM005475'), (1, 'm040NpCc005473'), (1, 'm03MIMXY027729;'), (1, 'm03MGhrs005294'), (1, 'm03MGhDa005292'), (1, 'm03M6xaq014868;'), (1, 'm03M5Ea7005273'), (1, 'm03M5EQa005275'), (1, 'm03LYdY1029538;'), (1, 'm03LX3gG005191'), (1, 'm03LX3Vb005193'), (1, 'm03LT6uw027749;'), (1, 'm03LRUqH005177'), (1, 'm03LRUk4005179'), (1, 'm03LNlf0002115;'), (1, 'm03LMFtT005150'), (1, 'm03LMFo4005148'), (1, 'logic'), (1, 'local'), (1, 'linebreaks'), (1, 'like'), (1, 'least'), (1, 'jsp'), (1, 'java/org/sakaiproject/tool/gradebook/ui/helpers/producers'), (1, 'java/org/sakaiproject/tool/gradebook/ui/helpers/beans'), (1, 'is'), (1, 'integration'), (1, 'information,'), (1, 'incomplete'), (1, 'include'), (1, 'impl/support'), (1, 'impl/spring/support/dynamic'), (1, 'impl/spring/support'), (1, 'impl'), (1, 'images'), (1, 'ids'), (1, 'https://source.sakaiproject.org/svn/site-manage/trunk/'), (1, 'http://source.sakaiproject.org/viewsvn/?view=rev&rev=39772'), (1, 'http://source.sakaiproject.org/viewsvn/?view=rev&rev=39771'), (1, 'http://source.sakaiproject.org/viewsvn/?view=rev&rev=39770'), (1, 'http://source.sakaiproject.org/viewsvn/?view=rev&rev=39769'), (1, 'http://source.sakaiproject.org/viewsvn/?view=rev&rev=39766'), (1, 'http://source.sakaiproject.org/viewsvn/?view=rev&rev=39765'), (1, 'http://source.sakaiproject.org/viewsvn/?view=rev&rev=39764'), (1, 'http://source.sakaiproject.org/viewsvn/?view=rev&rev=39763'), (1, 'http://source.sakaiproject.org/viewsvn/?view=rev&rev=39762'), (1, 'http://source.sakaiproject.org/viewsvn/?view=rev&rev=39761'), (1, 'http://source.sakaiproject.org/viewsvn/?view=rev&rev=39760'), (1, 'http://source.sakaiproject.org/viewsvn/?view=rev&rev=39759'), (1, 'http://source.sakaiproject.org/viewsvn/?view=rev&rev=39758'), (1, 'http://source.sakaiproject.org/viewsvn/?view=rev&rev=39757'), (1, 'http://source.sakaiproject.org/viewsvn/?view=rev&rev=39756'), (1, 'http://source.sakaiproject.org/viewsvn/?view=rev&rev=39755'), (1, 'http://source.sakaiproject.org/viewsvn/?view=rev&rev=39754'), (1, 'http://source.sakaiproject.org/viewsvn/?view=rev&rev=39753'), (1, 'http://source.sakaiproject.org/viewsvn/?view=rev&rev=39752'), (1, 'http://source.sakaiproject.org/viewsvn/?view=rev&rev=39751'), (1, 'http://source.sakaiproject.org/viewsvn/?view=rev&rev=39750'), (1, 'http://source.sakaiproject.org/viewsvn/?view=rev&rev=39749'), (1, 'http://source.sakaiproject.org/viewsvn/?view=rev&rev=39746'), (1, 'http://source.sakaiproject.org/viewsvn/?view=rev&rev=39745'), (1, 'http://source.sakaiproject.org/viewsvn/?view=rev&rev=39744'), (1, 'http://source.sakaiproject.org/viewsvn/?view=rev&rev=39743'), (1, 'http://source.sakaiproject.org/viewsvn/?view=rev&rev=39742'), (1, 'http://jira.sakaiproject.org/jira/browse/SAK-12504'), (1, 'http://jira.sakaiproject.org/jira/browse/SAK-12488'), (1, 'http://jira.sakaiproject.org/jira/browse/SAK-12484'), (1, 'http://bugs.sakaiproject.org/jira/browse/SAK-12596'), (1, 'http://bugs.sakaiproject.org/jira/browse/SAK-12595'), (1, 'http://bugs.sakaiproject.org/jira/browse/SAK-12592'), (1, 'http://bugs.sakaiproject.org/jira/browse/SAK-12175'), (1, 'http://bugs.sakaiproject.org/jira/browse/SAK-11458'), (1, 'have'), (1, 'has'), (1, 'groups/sections'), (1, 'grading'), (1, 'grader'), (1, 'gradebook/trunk:'), (1, 'gradebook/trunk/service/impl/src/java/org/sakaiproject/component/gradebook/GradebookServiceHibernateImpl.java'), (1, 'gradebook/trunk/service/api/src/java/org/sakaiproject/service/gradebook/shared/GradebookService.java'), (1, 'gradebook/trunk/app:'), (1, 'gradebook/trunk/app/ui/src:'), (1, 'gradebook/trunk/app/ui/src/webapp/content/templates/grade-gradebook-item.html'), (1, 'gradebook/trunk/app/ui/src/java/org/sakaiproject/tool/gradebook/ui/helpers/producers/AddGradebookItemProducer.java'), (1, 'gradebook/trunk/app/ui/src/java/org/sakaiproject/tool/gradebook/ui/helpers/params/GradeGradebookItemViewParams.java'), (1, 'gradebook/trunk/app/ui/src/java/org/sakaiproject/tool/gradebook/ui/helpers/entity/GradebookEntryGradeEntityProvider.java'), (1, 'gradebook/trunk/app/ui/src/java/org/sakaiproject/tool/gradebook/ui/helpers/entity/GradebookEntryEntityProvider.java'), (1, 'gradebook/trunk/app/ui/src/java/org/sakaiproject/tool/gradebook/ui/helpers/beans/GradebookItemBean.java'), (1, 'gradebook/trunk/app/ui/src/java/org/sakaiproject/tool/gradebook/ui/helpers/beans/AssignmentGradeRecordCreator.java'), (1, 'gradebook/trunk/app/ui/pom.xml'), (1, 'gradebook/trunk/app/business/src/java/org/sakaiproject/tool/gradebook/business/GradebookManager.java'), (1, 'godsend.mail.umich.edu'), (1, 'getGradeDefinitionForStudentForItem'), (1, 'filter.'), (1, 'filter'), (1, 'fake'), (1, 'external'), (1, 'event/branches/SAK-6216/event-util/util/src/java/org/sakaiproject/util/EmailNotification.java'), (1, 'event/branches/SAK-6216/event-util/util/src/java/org/sakaiproject/util'), (1, 'event'), (1, 'errors'), (1, 'enrollments'), (1, 'empty'), (1, 'does'), (1, 'differing'), (1, 'current'), (1, 'couse'), (1, 'convenience'), (1, 'content/branches/sakai_2-5-x/content-impl/impl/src/java/org/sakaiproject/content/impl/DbContentService.java'), (1, 'content/branches/sakai_2-5-x/content-impl/impl/src/java/org/sakaiproject/content/impl/ContentServiceSqlOracle.java'), (1, 'content/branches/sakai_2-5-x/content-impl/impl/src/java/org/sakaiproject/content/impl'), (1, 'conflicted'), (1, 'concatenate'), (1, 'components'), (1, 'component/branches/SAK-12166/component-api/component/src/java/org/sakaiproject/component:'), (1, 'component/branches/SAK-12166/component-api/component/src/java/org/sakaiproject/component/util/StreamDigestor.java'), (1, 'component/branches/SAK-12166/component-api/component/src/java/org/sakaiproject/component/util/RecordWriter.java'), (1, 'component/branches/SAK-12166/component-api/component/src/java/org/sakaiproject/component/util/RecordReader.java'), (1, 'component/branches/SAK-12166/component-api/component/src/java/org/sakaiproject/component/util/RecordFileIO.java'), (1, 'component/branches/SAK-12166/component-api/component/src/java/org/sakaiproject/component/util/FileUtil.java'), (1, 'component/branches/SAK-12166/component-api/component/src/java/org/sakaiproject/component/util/ByteToCharBase64.java'), (1, 'component/branches/SAK-12166/component-api/component/src/java/org/sakaiproject/component/impl/support/JARRecord.java'), (1, 'component/branches/SAK-12166/component-api/component/src/java/org/sakaiproject/component/impl/support/DynamicJARManager.java'), (1, 'component/branches/SAK-12166/component-api/component/src/java/org/sakaiproject/component/impl/support/DynamicComponentRecord.java'), (1, 'component/branches/SAK-12166/component-api/component/src/java/org/sakaiproject/component/impl/support/'), (1, 'component/branches/SAK-12166/component-api/component/src/java/org/sakaiproject/component/impl/spring/support/dynamic/DynamicComponentManager.java'), (1, 'component/branches/SAK-12166/component-api/component/src/java/org/sakaiproject/component/impl/spring/support/dynamic/'), (1, 'component/branches/SAK-12166/component-api/component/src/java/org/sakaiproject/component/impl/spring/support/ComponentsLoaderImpl.java'), (1, 'commit'), (1, 'closer'), (1, 'click'), (1, 'cleanup.'), (1, 'checkin'), (1, 'check'), (1, 'chaos.mail.umich.edu'), (1, 'change'), (1, 'causes'), (1, 'categories'), (1, 'casino.mail.umich.edu'), (1, 'caching'), (1, 'business/src/java/org/sakaiproject/tool/gradebook/business/impl'), (1, 'business/src/java/org/sakaiproject/tool/gradebook/business'), (1, 'build)'), (1, 'bspace/site-manage/sakai_2-4-x/site-manage-tool/tool/src/webapp/vm/sitesetup/chef_site-siteInfo-duplicate.vm'), (1, 'bspace/site-manage/sakai_2-4-x/site-manage-tool/tool/src/webapp/vm/sitesetup/chef_site-importSites.vm'), (1, 'bspace/site-manage/sakai_2-4-x/site-manage-tool/tool/src/java/org/sakaiproject/site/tool/SiteAction.java'), (1, 'branch'), (1, 'being'), (1, 'assignment/trunk:'), (1, 'assignment/trunk/assignment-tool/tool/src/webapp/vm/assignment/chef_assignments_instructor_list_submissions.vm'), (1, 'assignment/trunk/assignment-impl/impl/src/java/org/sakaiproject/assignment/impl/BaseAssignmentService.java'), (1, 'assignment-tool/tool/src/webapp/vm/assignment'), (1, 'assignment-impl/impl/src/java/org/sakaiproject/assignment/impl'), (1, 'assignment'), (1, 'are'), (1, 'appears'), (1, 'appear'), (1, 'app/business/src/java/org/sakaiproject/tool/gradebook/business/impl'), (1, 'an'), (1, 'all,'), (1, 'all'), (1, 'advantage'), (1, '[141.211.93.153])'), (1, '[141.211.93.152])'), (1, '[141.211.93.151])'), (1, '[141.211.93.144])'), (1, '[141.211.93.143])'), (1, '[141.211.93.141])'), (1, '[141.211.14.98])'), (1, '[141.211.14.93])'), (1, '[141.211.14.92])'), (1, '[141.211.14.72])'), (1, '[141.211.14.43])'), (1, '[141.211.14.36])'), (1, '[141.211.14.34])'), (1, 'Wed'), (1, 'Watch'), (1, 'WS'), (1, 'Viewing'), (1, 'View'), (1, 'Update'), (1, 'UCT'), (1, 'Temporary'), (1, 'TA'), (1, 'SubmissionStatus/TotalScores/Questions'), (1, 'Site\"'), (1, 'Setup'), (1, 'Sep'), (1, 'Samigo'), (1, 'SAK-9996'), (1, 'SAK-6216'), (1, \"SAK-12604:Don't\"), (1, 'SAK-12602'), (1, 'SAK-12596'), (1, 'SAK-12595'), (1, 'SAK-12592'), (1, 'SAK-12504'), (1, 'SAK-12501'), (1, 'SAK-12488.'), (1, 'SAK-12488'), (1, 'SAK-12484.'), (1, 'SAK-12484'), (1, 'SAK-12175'), (1, 'SAK-12065'), (1, 'SAK-11458'), (1, 'SAK-11169'), (1, 'SAK-10911:'), (1, 'SAK-10788:'), (1, 'SAK-10788'), (1, 'Resolved'), (1, 'Repository'), (1, 'Release.'), (1, 'Refactor'), (1, 'Nov'), (1, 'Notification'), (1, 'Materials...\"'), (1, 'MST'), (1, 'MODIFY'), (1, 'JAR'), (1, 'If'), (1, 'Group'), (1, 'Gopal'), (1, 'GB.'), (1, 'Fixed'), (1, 'Files'), (1, 'EF439B98CE;'), (1, 'E6CC4B9F8A;'), (1, 'E40FABAE5B;'), (1, 'DEC65ADC79;'), (1, 'D430B42E42'), (1, 'Create'), (1, 'Course'), (1, 'Changed'), (1, 'CEFA037ACE'), (1, 'CC710ADC79;'), (1, 'C7251BAD44;'), (1, 'C596A3DFA2'), (1, 'C48CDBB490;'), (1, 'BSP-1421'), (1, 'BSP-1420'), (1, 'BSP-1415'), (1, 'BD02DBAC64;'), (1, 'B3E6742F4A'), (1, 'Assignment2'), (1, 'Add'), (1, 'AC2F6236B9'), (1, 'AB4D042F4D'), (1, 'A55D242F57'), (1, 'A215243002'), (1, '<200801051412.m05ECIaH010327@nakamura.uits.iupui.edu>'), (1, '<200801042308.m04N8v6O008125@nakamura.uits.iupui.edu>'), (1, '<200801042109.m04L92hb007923@nakamura.uits.iupui.edu>'), (1, '<200801042044.m04Kiem3007881@nakamura.uits.iupui.edu>'), (1, '<200801042001.m04K1cO0007738@nakamura.uits.iupui.edu>'), (1, '<200801041948.m04JmdwO007705@nakamura.uits.iupui.edu>'), (1, '<200801041635.m04GZQGZ007313@nakamura.uits.iupui.edu>'), (1, '<200801041633.m04GX6eG007292@nakamura.uits.iupui.edu>'), (1, '<200801041611.m04GB1Lb007221@nakamura.uits.iupui.edu>'), (1, '<200801041610.m04GA5KP007209@nakamura.uits.iupui.edu>'), (1, '<200801041609.m04G9EuX007197@nakamura.uits.iupui.edu>'), (1, '<200801041608.m04G8d7w007184@nakamura.uits.iupui.edu>'), (1, '<200801041537.m04Fb6Ci007092@nakamura.uits.iupui.edu>'), (1, '<200801041515.m04FFv42007050@nakamura.uits.iupui.edu>'), (1, '<200801041502.m04F21Jo007031@nakamura.uits.iupui.edu>'), (1, '<200801041403.m04E3psW006926@nakamura.uits.iupui.edu>'), (1, '<200801041200.m04C0gfK006793@nakamura.uits.iupui.edu>'), (1, '<200801041106.m04B6lK3006677@nakamura.uits.iupui.edu>'), (1, '<200801040947.m049lUxo006517@nakamura.uits.iupui.edu>'), (1, '<200801040932.m049W2i5006493@nakamura.uits.iupui.edu>'), (1, '<200801040905.m0495rWB006420@nakamura.uits.iupui.edu>'), (1, '<200801040023.m040NpCc005473@nakamura.uits.iupui.edu>'), (1, '<200801032216.m03MGhDa005292@nakamura.uits.iupui.edu>'), (1, '<200801032205.m03M5Ea7005273@nakamura.uits.iupui.edu>'), (1, '<200801032133.m03LX3gG005191@nakamura.uits.iupui.edu>'), (1, '<200801032127.m03LRUqH005177@nakamura.uits.iupui.edu>'), (1, '<200801032122.m03LMFo4005148@nakamura.uits.iupui.edu>'), (1, '9F89542DD0'), (1, '9D005B9D06;'), (1, '99715BAE7D;'), (1, '98D04BAD43;'), (1, '966'), (1, '960'), (1, '933E3BAC17;'), (1, '917'), (1, '90636418A8'), (1, '906'), (1, '905D53C2FD'), (1, '8D13DBB001;'), (1, '8C13342C92'), (1, '899'), (1, '8889842C49'), (1, '88598BA5B6;'), (1, '7D13042F71'), (1, '784A476D7B;'), (1, '754'), (1, '710'), (1, '6C929BA656;'), (1, '6C69423767'), (1, '6A39594CD2;'), (1, '697'), (1, '690'), (1, '6497FBA906;'), (1, '62AA4BAE46;'), (1, '622'), (1, '6'), (1, '5F919BC2F2;'), (1, '5B396236B9'), (1, '585'), (1, '57770BB477;'), (1, '575'), (1, '554'), (1, '5296342D3C'), (1, '4BA2F42F57'), (1, '4AE03BB552;'), (1, '483'), (1, '477F90B0.2DB2F.12494'), (1, '477EBCE3.161BB.4320'), (1, '477EA0C6.A0214.25480'), (1, '477E9B13.2F3BC.22965'), (1, '477E9100.8F7F4.1590'), (1, '477E8DF2.67B91.5278'), (1, '477E60B2.82756.9904'), (1, '477E6033.6469D.21870'), (1, '477E5AEB.E670B.28397'), (1, '477E5AB3.5CC32.30840'), (1, '477E5A8D.B378F.24200'), (1, '477E5A67.34350.23015'), (1, '477E52FA.E6C6E.24093'), (1, '477E4E0F.CCA4B.926'), (1, '477E4AE3.D7AF.31669'), (1, '477E3D23.EE2E7.5237'), (1, '477E2050.C2599.3263'), (1, '477E13A5.30FC0.24054'), (1, '477E010C.48C2.10259'), (1, '477DFD6C.75DBE.26054'), (1, '477DF74E.49493.30415'), (1, '477D8300.AC098.32562'), (1, '477D5F23.797F6.16348'), (1, '477D5C7A.4FE1F.22211'), (1, '477D54EA.13F34.26602'), (1, '477D5397.E161D.20326'), (1, '477D525E.1448.30389'), (1, '43C4242B55'), (1, '3C0261D617'), (1, '39772'), (1, '39771'), (1, '39770'), (1, '39769'), (1, '39766'), (1, '39765'), (1, '39764'), (1, '39763'), (1, '39762'), (1, '39761'), (1, '39760'), (1, '39759'), (1, '39758'), (1, '39757'), (1, '39756'), (1, '39755'), (1, '39754'), (1, '39753'), (1, '39752'), (1, '39751'), (1, '39750'), (1, '39749'), (1, '39746'), (1, '39745'), (1, '39744'), (1, '39743'), (1, '39742'), (1, '39687:39688'), (1, '39571'), (1, '39558'), (1, '385'), (1, '38'), (1, '3535542B69'), (1, '33C7856DC0;'), (1, '32'), (1, '2E7043DFA2'), (1, '2D1B9BB492;'), (1, '2AB513C2FD'), (1, '28'), (1, '272'), (1, '254CC8CDEE;'), (1, '25'), (1, '246'), (1, '23:44:24'), (1, '23:10:33'), (1, '236'), (1, '22:18:19'), (1, '22:18:04'), (1, '22:17:52'), (1, '22:06:57'), (1, '22:06:34'), (1, '22:06:23'), (1, '21:40:33'), (1, '21:34:29'), (1, '21:34:12'), (1, '21:34:08'), (1, '21:28:52'), (1, '21:28:39'), (1, '21:28:38'), (1, '21:26:28'), (1, '21:23:38'), (1, '21:10:31'), (1, '21:10:18'), (1, '21:10:14'), (1, '20:46:13'), (1, '20:45:56'), (1, '20:45:52'), (1, '20:03:09'), (1, '20:02:50'), (1, '20:02:46'), (1, '2008-01-05'), (1, '2007-12-28'), (1, '2007-12-17'), (1, '2007-12-12'), (1, '2007-09-12'), (1, '2007'), (1, '2.4.x'), (1, '2-5-x:'), (1, '1FBB042B30'), (1, '1CD0C42E42'), (1, '1CACC42D0C'), (1, '19:51:20'), (1, '19:51:19'), (1, '19:51:15'), (1, '19:49:51'), (1, '19:47:10'), (1, '19:46:50'), (1, '19:23:46'), (1, '18:10:37'), (1, '18:10:31'), (1, '18:08:50'), (1, '17:18:22'), (1, '17:18:14'), (1, '17:16:39'), (1, '17:11:08'), (1, '17:06:59'), (1, '17:06:53'), (1, '17:05:11'), (1, '17'), (1, '16:37:07'), (1, '16:36:40'), (1, '16:36:37'), (1, '16:34:39'), (1, '16:34:38'), (1, '16:34:36'), (1, '16:34:17'), (1, '16:34:01'), (1, '16:33:02'), (1, '16:29:06'), (1, '16:28:58'), (1, '16:27:29'), (1, '16:23:47'), (1, '16:23:44'), (1, '16:22:14'), (1, '16:17:59'), (1, '16:12:27'), (1, '16:12:14'), (1, '16:12:12'), (1, '16:11:31'), (1, '16:11:18'), (1, '16:11:16'), (1, '16:10:53'), (1, '16:10:38'), (1, '16:10:33'), (1, '16:10:27'), (1, '16:10:26'), (1, '16:10:11'), (1, '16:09:51'), (1, '16:09:50'), (1, '16:09:01'), (1, '15:46:23'), (1, '15:46:13'), (1, '15:44:39'), (1, '15:38:17'), (1, '15:37:36'), (1, '15:37:21'), (1, '15:25:38'), (1, '15:17:34'), (1, '15:17:11'), (1, '15:17:08'), (1, '15:04:00'), (1, '15:03:17'), (1, '15:03:12'), (1, '15:01:37'), (1, '153'), (1, '14:54:46'), (1, '14:50:17'), (1, '14:50:13'), (1, '14:48:40'), (1, '14:48:37'), (1, '14:13:33'), (1, '14:10:05'), (1, '14:09:50'), (1, '14:05:26'), (1, '14:05:04'), (1, '14:05:03'), (1, '13:05:51'), (1, '12:02:11'), (1, '120'), (1, '11:37:29'), (1, '11:37:09'), (1, '11:35:25'), (1, '11:35:06'), (1, '11:35:02'), (1, '11:33:05'), (1, '11:12:36'), (1, '11:12:30'), (1, '11:11:34'), (1, '11:11:00'), (1, '11:10:56'), (1, '11:10:21'), (1, '11:10:18'), (1, '11:10:04'), (1, '11:09:15'), (1, '11:09:12'), (1, '11:08:38'), (1, '11:08:12'), (1, '11:07:58'), (1, '11:07:56'), (1, '10:38:41'), (1, '10:38:37'), (1, '10:37:04'), (1, '10:17:38'), (1, '10:15:54'), (1, '10:04:13'), (1, '10:04:05'), (1, '10:01:40'), (1, '1006'), (1, '0BC8D7225E;'), (1, '0A6ED42DFC'), (1, '09:48:55'), (1, '09:48:40'), (1, '09:48:36'), (1, '09:33:27'), (1, '09:33:13'), (1, '09:33:10'), (1, '09:14:15'), (1, '09:14:10'), (1, '09:12:19'), (1, '09:12:07'), (1, '09:07:19'), (1, '09:05:30'), (1, '09:05:26'), (1, '09:03:52'), (1, '09:02:54'), (1, '07:02:31'), (1, '07:02:27'), (1, '07:00:10'), (1, '07969BB706;'), (1, '07'), (1, '06:08:26'), (1, '06:08:23'), (1, '06:05:51'), (1, '04:49:06'), (1, '04:49:03'), (1, '04:47:16'), (1, '04:33:42'), (1, '04:33:35'), (1, '04:32:03'), (1, '04:31:35'), (1, '04:07:32'), (1, '04:07:29'), (1, '04:05:54'), (1, '04:05:43'), (1, '00:36:06'), (1, '00:35:43'), (1, '00:25:00'), (1, '0.9907'), (1, '0.9846'), (1, '0.8509'), (1, '0.8475'), (1, '0.7626'), (1, '0.7615'), (1, '0.7606'), (1, '0.7601'), (1, '0.7565'), (1, '0.7559'), (1, '0.7558'), (1, '0.7554'), (1, '0.6961'), (1, '0.6956'), (1, '0.6948'), (1, '0.6932'), (1, '0.6528'), (1, '0.6526'), (1, '0.6178'), (1, '/site-manage/trunk/site-manage-tool/tool/src/java/org/sakaiproject/site/tool/SiteAction.java'), (1, '-r39753'), (1, '-r39641'), (1, '-r39571:39570'), (1, '-r39558:39557'), (1, '-r39146'), (1, '-c39753'), (1, '-c39641'), (1, '-c39146'), (1, '-0400'), (1, '(workinggirl.mr.itd.umich.edu'), (1, '(tadpole.mr.itd.umich.edu'), (1, '(shining.mr.itd.umich.edu'), (1, '(resolve'), (1, '(r39033)'), (1, '(it.mr.itd.umich.edu'), (1, '(ghostbusters.mr.itd.umich.edu'), (1, '(for'), (1, '(dreamcatcher.mr.itd.umich.edu'), (1, '(carrie.mr.itd.umich.edu'), (1, '(at'), (1, '(anniehall.mr.itd.umich.edu'), (1, '(Sat,'), (1, '(Mon,'), (1, '(Guest)'), (1, \"'polls/tool/src/webapp/WEB-INF/requestContext.xml\"), (1, '#38024'), (1, '\"Re-Use'), (1, '\"Duplicate')]\n",
            "Jan 352\n",
            "2008 324\n",
            "by 245\n",
            "Received: 243\n",
            "-0500 219\n",
            "from 218\n",
            "4 203\n",
            "with 194\n",
            "Fri, 183\n",
            "id 136\n"
          ]
        }
      ]
    },
    {
      "cell_type": "code",
      "source": [
        "name=open(\"hello2.txt\")\n",
        "counts=dict()\n",
        "for line in name:\n",
        "  word=line.rstrip().split()\n",
        "  for words in word:\n",
        "    counts[words]=counts.get(words,0)+1\n",
        "print(counts)\n",
        "print(sorted([(value,key) for (key,value) in counts.items()],reverse=True))\n",
        "for value,key in lst[:10]:\n",
        "  print(key,value)"
      ],
      "metadata": {
        "colab": {
          "base_uri": "https://localhost:8080/"
        },
        "id": "r6rcsm3ZK1jO",
        "outputId": "cec5830f-e3ce-428f-d409-f6042e20c50a"
      },
      "execution_count": null,
      "outputs": [
        {
          "output_type": "stream",
          "name": "stdout",
          "text": [
            "{'From': 27, 'stephen.marquard@uct.ac.za': 8, 'Sat': 2, 'Jan': 352, '5': 10, '09:14:16': 4, '2008': 324, 'Return-Path:': 27, '<postmaster@collab.sakaiproject.org>': 27, 'Received:': 243, 'from': 218, 'murder': 54, '(mail.umich.edu': 27, '[141.211.14.90])': 3, 'by': 245, 'frankenstein.mail.umich.edu': 27, '(Cyrus': 54, 'v2.3.8)': 27, 'with': 194, 'LMTPA;': 54, 'Sat,': 9, '05': 3, '-0500': 219, 'X-Sieve:': 27, 'CMU': 27, 'Sieve': 27, '2.3': 27, '([unix': 27, 'socket])': 27, 'mail.umich.edu': 27, 'v2.2.12)': 27, 'holes.mr.itd.umich.edu': 8, '(holes.mr.itd.umich.edu': 4, '[141.211.14.79])': 4, 'flawless.mail.umich.edu': 3, '()': 27, 'ESMTP': 108, 'id': 136, 'm05EEFR1013674;': 1, '09:14:15': 1, 'FROM': 27, 'paploo.uhi.ac.uk': 108, '(app1.prod.collab.uhi.ac.uk': 27, '[194.35.219.184])': 27, 'BY': 27, 'ID': 54, '477F90B0.2DB2F.12494': 1, ';': 27, '09:14:10': 1, '(localhost': 54, '[127.0.0.1])': 54, '(Postfix)': 54, '5F919BC2F2;': 1, '14:10:05': 1, '+0000': 81, '(GMT)': 81, 'Message-ID:': 27, '<200801051412.m05ECIaH010327@nakamura.uits.iupui.edu>': 1, 'Mime-Version:': 27, '1.0': 27, 'Content-Transfer-Encoding:': 27, '7bit': 27, 'prod.collab.uhi.ac.uk': 27, '([194.35.219.182])': 27, '(JAMES': 27, 'SMTP': 54, 'Server': 27, '2.1.3)': 27, '899': 1, 'for': 118, '<source@collab.sakaiproject.org>;': 81, '14:09:50': 1, 'nakamura.uits.iupui.edu': 108, '(nakamura.uits.iupui.edu': 27, '[134.68.220.122])': 27, 'shmi.uhi.ac.uk': 27, 'A215243002': 1, '14:13:33': 1, '(8.12.11.20060308/8.12.11)': 27, 'm05ECJVp010329': 1, '09:12:19': 1, '(from': 27, 'apache@localhost)': 27, '(8.12.11.20060308/8.12.11/Submit)': 27, 'm05ECIaH010327': 1, 'source@collab.sakaiproject.org;': 27, '09:12:18': 2, 'Date:': 54, 'X-Authentication-Warning:': 27, 'nakamura.uits.iupui.edu:': 27, 'apache': 27, 'set': 27, 'sender': 27, 'to': 43, 'using': 27, '-f': 27, 'To:': 27, 'source@collab.sakaiproject.org': 27, 'From:': 27, 'Subject:': 27, '[sakai]': 27, 'svn': 43, 'commit:': 27, 'r39772': 1, '-': 35, 'content/branches/sakai_2-5-x/content-impl/impl/src/java/org/sakaiproject/content/impl': 1, 'X-Content-Type-Outer-Envelope:': 27, 'text/plain;': 81, 'charset=UTF-8': 81, 'X-Content-Type-Message-Body:': 27, 'Content-Type:': 27, 'X-DSPAM-Result:': 27, 'Innocent': 27, 'X-DSPAM-Processed:': 27, 'X-DSPAM-Confidence:': 27, '0.8475': 1, 'X-DSPAM-Probability:': 27, '0.0000': 27, 'Details:': 27, 'http://source.sakaiproject.org/viewsvn/?view=rev&rev=39772': 1, 'Author:': 27, '2008-01-05': 1, '09:12:07': 1, '(Sat,': 1, '2008)': 28, 'New': 29, 'Revision:': 27, '39772': 1, 'Modified:': 27, 'content/branches/sakai_2-5-x/content-impl/impl/src/java/org/sakaiproject/content/impl/ContentServiceSqlOracle.java': 1, 'content/branches/sakai_2-5-x/content-impl/impl/src/java/org/sakaiproject/content/impl/DbContentService.java': 1, 'Log:': 27, 'SAK-12501': 1, 'merge': 12, '2-5-x:': 1, 'r39622,': 1, 'r39624:5,': 1, 'r39632:3': 1, '(resolve': 1, 'conflict': 2, 'differing': 1, 'linebreaks': 1, 'r39622)': 1, '----------------------': 27, 'This': 27, 'automatic': 27, 'notification': 27, 'message': 28, 'was': 27, 'sent': 27, 'Sakai': 28, 'Collab': 27, '(https://collab.sakaiproject.org/portal)': 27, 'the': 32, 'Source': 28, 'site.': 27, 'You': 27, 'can': 27, 'modify': 27, 'how': 27, 'you': 27, 'receive': 27, 'notifications': 27, 'at': 27, 'My': 27, 'Workspace': 27, '>': 27, 'Preferences.': 27, 'louis@media.berkeley.edu': 12, 'Fri': 40, '4': 203, '18:10:48': 4, '[141.211.14.97])': 3, 'Fri,': 183, '04': 61, 'icestorm.mr.itd.umich.edu': 4, '(icestorm.mr.itd.umich.edu': 2, '[141.211.93.149])': 2, 'sleepers.mail.umich.edu': 3, 'm04NAbGa029441;': 1, '18:10:37': 1, '477EBCE3.161BB.4320': 1, '18:10:31': 1, '07969BB706;': 1, '23:10:33': 1, '<200801042308.m04N8v6O008125@nakamura.uits.iupui.edu>': 1, '710': 1, '23:10:10': 2, '4BA2F42F57': 1, 'm04N8vHG008127': 1, '18:08:57': 3, 'm04N8v6O008125': 1, 'r39771': 1, 'in': 22, 'bspace/site-manage/sakai_2-4-x/site-manage-tool/tool/src:': 3, 'bundle': 3, 'java/org/sakaiproject/site/tool': 2, '0.6178': 1, 'http://source.sakaiproject.org/viewsvn/?view=rev&rev=39771': 1, '2008-01-04': 21, '18:08:50': 1, '(Fri,': 22, '39771': 1, 'bspace/site-manage/sakai_2-4-x/site-manage-tool/tool/src/bundle/sitesetupgeneric.properties': 3, 'bspace/site-manage/sakai_2-4-x/site-manage-tool/tool/src/java/org/sakaiproject/site/tool/SiteAction.java': 1, 'BSP-1415': 1, '(Guest)': 1, 'user': 4, 'Notification': 1, 'zqian@umich.edu': 17, '16:10:39': 4, '[141.211.14.25])': 5, 'ghostbusters.mr.itd.umich.edu': 2, '(ghostbusters.mr.itd.umich.edu': 1, '[141.211.93.144])': 1, 'panther.mail.umich.edu': 5, 'm04LAcZw014275;': 1, '16:10:38': 1, '477EA0C6.A0214.25480': 1, '16:10:33': 1, 'C48CDBB490;': 1, '21:10:31': 1, '<200801042109.m04L92hb007923@nakamura.uits.iupui.edu>': 1, '906': 1, '21:10:18': 1, '7D13042F71': 1, '21:10:14': 1, 'm04L927E007925': 1, '16:09:02': 3, 'm04L92hb007923': 1, 'r39770': 1, 'site-manage/branches/sakai_2-5-x/site-manage-tool/tool/src/webapp/vm/sitesetup': 1, '0.6961': 1, 'http://source.sakaiproject.org/viewsvn/?view=rev&rev=39770': 1, '16:09:01': 1, '39770': 1, 'site-manage/branches/sakai_2-5-x/site-manage-tool/tool/src/webapp/vm/sitesetup/chef_site-siteInfo-list.vm': 1, 'fix': 4, 'SAK-9996': 1, 'into': 2, '2-5-x': 2, 'branch:': 2, '-r': 5, '39687:39688': 1, 'https://source.sakaiproject.org/svn/site-manage/trunk/': 1, 'rjlowe@iupui.edu': 8, '15:46:24': 4, 'dreamcatcher.mr.itd.umich.edu': 2, '(dreamcatcher.mr.itd.umich.edu': 1, '[141.211.14.43])': 1, 'm04KkNbx032077;': 1, '15:46:23': 1, '477E9B13.2F3BC.22965': 1, '15:46:13': 1, '4AE03BB552;': 1, '20:46:13': 1, '<200801042044.m04Kiem3007881@nakamura.uits.iupui.edu>': 1, '38': 1, '20:45:56': 1, 'A55D242F57': 1, '20:45:52': 1, 'm04KieqE007883': 1, '15:44:40': 3, 'm04Kiem3007881': 1, 'r39769': 1, 'gradebook/trunk/app/ui/src:': 1, 'java/org/sakaiproject/tool/gradebook/ui/helpers/beans': 1, 'java/org/sakaiproject/tool/gradebook/ui/helpers/producers': 1, 'webapp/WEB-INF': 1, 'webapp/WEB-INF/bundle': 1, '0.7565': 1, 'http://source.sakaiproject.org/viewsvn/?view=rev&rev=39769': 1, '15:44:39': 1, '39769': 1, 'gradebook/trunk/app/ui/src/java/org/sakaiproject/tool/gradebook/ui/helpers/beans/AssignmentGradeRecordBean.java': 2, 'gradebook/trunk/app/ui/src/java/org/sakaiproject/tool/gradebook/ui/helpers/producers/GradeGradebookItemProducer.java': 2, 'gradebook/trunk/app/ui/src/webapp/WEB-INF/applicationContext.xml': 2, 'gradebook/trunk/app/ui/src/webapp/WEB-INF/bundle/messages.properties': 2, 'gradebook/trunk/app/ui/src/webapp/WEB-INF/requestContext.xml': 2, 'SAK-12180': 2, 'Fixed': 1, 'errors': 1, 'grading': 1, 'helper': 2, '15:03:18': 4, '[141.211.14.46])': 5, 'firestarter.mr.itd.umich.edu': 4, '(firestarter.mr.itd.umich.edu': 2, '[141.211.14.83])': 2, 'fan.mail.umich.edu': 5, 'm04K3HGF006563;': 1, '15:03:17': 1, '477E9100.8F7F4.1590': 1, '15:03:15': 2, '57770BB477;': 1, '20:03:09': 1, '<200801042001.m04K1cO0007738@nakamura.uits.iupui.edu>': 1, '622': 1, '20:02:46': 1, 'AB4D042F4D': 1, '20:02:50': 1, 'm04K1cXv007740': 1, '15:01:38': 3, 'm04K1cO0007738': 1, 'r39766': 1, 'site-manage/branches/sakai_2-4-x/site-manage-tool/tool/src/java/org/sakaiproject/site/tool': 1, '0.7626': 1, 'http://source.sakaiproject.org/viewsvn/?view=rev&rev=39766': 1, '15:01:37': 1, '39766': 1, 'site-manage/branches/sakai_2-4-x/site-manage-tool/tool/src/java/org/sakaiproject/site/tool/SiteAction.java': 1, 'SAK-10788': 1, 'site-manage': 1, '2.4.x': 1, 'Repository': 1, '#38024': 1, 'Wed': 1, 'Nov': 1, '07': 1, '14:54:46': 1, 'MST': 1, '2007': 1, 'Fix': 2, 'SAK-10788:': 1, 'If': 1, 'a': 8, 'provided': 1, 'couse': 1, 'site': 3, 'is': 1, 'fake': 1, 'or': 1, \"doesn't\": 2, 'provide': 1, 'any': 2, 'information,': 1, 'Site': 2, 'Info': 2, 'appears': 1, 'be': 4, 'like': 1, 'project': 1, 'empty': 1, 'participant': 1, 'list': 2, 'Watch': 1, 'enrollments': 1, 'object': 1, 'being': 1, 'null': 1, 'and': 2, 'concatenate': 1, 'provider': 1, 'ids': 1, 'when': 3, 'there': 1, 'are': 1, 'more': 1, 'than': 1, 'one.': 1, 'Files': 1, 'Changed': 1, 'MODIFY': 1, '/site-manage/trunk/site-manage-tool/tool/src/java/org/sakaiproject/site/tool/SiteAction.java': 1, '14:50:18': 4, '[141.211.14.93])': 1, 'eyewitness.mr.itd.umich.edu': 4, '(eyewitness.mr.itd.umich.edu': 2, '[141.211.93.142])': 2, 'mission.mail.umich.edu': 1, 'm04JoHJi019755;': 1, '14:50:17': 1, '477E8DF2.67B91.5278': 1, '14:50:13': 1, '2D1B9BB492;': 1, '19:47:10': 1, '<200801041948.m04JmdwO007705@nakamura.uits.iupui.edu>': 1, '960': 1, '19:46:50': 1, 'B3E6742F4A': 1, '19:49:51': 1, 'm04JmeV9007707': 1, '14:48:40': 1, 'm04JmdwO007705': 1, '14:48:39': 2, 'r39765': 1, 'gradebook/trunk/app:': 1, 'business/src/java/org/sakaiproject/tool/gradebook/business': 1, 'business/src/java/org/sakaiproject/tool/gradebook/business/impl': 1, 'ui': 2, 'ui/src/java/org/sakaiproject/tool/gradebook/ui/helpers/beans': 1, 'ui/src/java/org/sakaiproject/tool/gradebook/ui/helpers/entity': 1, 'ui/src/java/org/sakaiproject/tool/gradebook/ui/helpers/params': 1, 'ui/src/java/org/sakaiproject/tool/gradebook/ui/helpers/producers': 1, 'ui/src/webapp/WEB-INF': 1, 'ui/src/webapp/WEB-INF/bundle': 1, 'ui/src/webapp/content/templates': 1, '0.7556': 2, 'http://source.sakaiproject.org/viewsvn/?view=rev&rev=39765': 1, '14:48:37': 1, '39765': 1, 'Added:': 4, 'gradebook/trunk/app/ui/src/java/org/sakaiproject/tool/gradebook/ui/helpers/beans/AssignmentGradeRecordCreator.java': 1, 'gradebook/trunk/app/ui/src/java/org/sakaiproject/tool/gradebook/ui/helpers/entity/GradebookEntryGradeEntityProvider.java': 1, 'gradebook/trunk/app/ui/src/java/org/sakaiproject/tool/gradebook/ui/helpers/params/GradeGradebookItemViewParams.java': 1, 'gradebook/trunk/app/ui/src/webapp/content/templates/grade-gradebook-item.html': 1, 'gradebook/trunk/app/business/src/java/org/sakaiproject/tool/gradebook/business/GradebookManager.java': 1, 'gradebook/trunk/app/business/src/java/org/sakaiproject/tool/gradebook/business/impl/GradebookManagerHibernateImpl.java': 2, 'gradebook/trunk/app/ui/pom.xml': 1, 'gradebook/trunk/app/ui/src/java/org/sakaiproject/tool/gradebook/ui/helpers/beans/GradebookItemBean.java': 1, 'gradebook/trunk/app/ui/src/java/org/sakaiproject/tool/gradebook/ui/helpers/entity/GradebookEntryEntityProvider.java': 1, 'gradebook/trunk/app/ui/src/java/org/sakaiproject/tool/gradebook/ui/helpers/producers/AddGradebookItemProducer.java': 1, 'tool': 4, 'grade': 2, 'an': 1, 'assignment': 1, 'cwen@iupui.edu': 20, '11:37:30': 4, 'tadpole.mr.itd.umich.edu': 2, '(tadpole.mr.itd.umich.edu': 1, '[141.211.14.72])': 1, 'm04GbT9x022078;': 1, '11:37:29': 1, '477E60B2.82756.9904': 1, '11:37:09': 1, '8D13DBB001;': 1, '16:37:07': 1, '<200801041635.m04GZQGZ007313@nakamura.uits.iupui.edu>': 1, '120': 1, '16:36:40': 1, 'D430B42E42': 1, '16:36:37': 1, 'm04GZQ7W007315': 1, '11:35:26': 3, 'm04GZQGZ007313': 1, 'r39764': 1, 'msgcntr/trunk/messageforums-app/src/java/org/sakaiproject/tool/messageforums:': 1, '.': 3, '0.7002': 2, 'http://source.sakaiproject.org/viewsvn/?view=rev&rev=39764': 1, '11:35:25': 1, '39764': 1, 'msgcntr/trunk/messageforums-app/src/java/org/sakaiproject/tool/messageforums/PrivateMessagesTool.java': 2, 'msgcntr/trunk/messageforums-app/src/java/org/sakaiproject/tool/messageforums/ui/PrivateMessageDecoratedBean.java': 1, 'unmerge': 2, \"Xingtang's\": 2, 'checkin': 1, 'SAK-12488.': 1, '-r39558:39557': 1, 'https://source.sakaiproject.org/svn/msgcntr/trunk': 2, 'U': 14, 'messageforums-app/src/java/org/sakaiproject/tool/messageforums/PrivateMessagesTool.java': 2, 'messageforums-app/src/java/org/sakaiproject/tool/messageforums/ui/PrivateMessageDecoratedBean.java': 1, 'log': 7, '39558': 1, '------------------------------------------------------------------------': 14, 'r39558': 1, '|': 21, 'hu2@iupui.edu': 2, '2007-12-20': 2, '15:25:38': 1, '(Thu,': 8, '20': 2, 'Dec': 5, '2007)': 6, '3': 61, 'lines': 4, 'SAK-12488': 1, 'send': 1, 'yourself.': 1, 'click': 1, 'reply': 2, 'all,': 1, 'cc': 2, 'row': 1, 'should': 2, 'null.': 1, 'http://jira.sakaiproject.org/jira/browse/SAK-12488': 1, '11:35:08': 4, 'it.mr.itd.umich.edu': 2, '(it.mr.itd.umich.edu': 1, '[141.211.93.151])': 1, 'm04GZ6lt020480;': 1, '11:35:06': 1, '477E6033.6469D.21870': 1, '11:35:02': 1, 'E40FABAE5B;': 1, '16:34:38': 1, '<200801041633.m04GX6eG007292@nakamura.uits.iupui.edu>': 1, '697': 1, '16:34:01': 1, '1CD0C42E42': 1, '16:34:17': 1, 'm04GX6Y3007294': 1, '11:33:06': 3, 'm04GX6eG007292': 1, 'r39763': 1, 'msgcntr/trunk:': 1, 'messageforums-api/src/bundle/org/sakaiproject/api/app/messagecenter/bundle': 1, 'messageforums-app/src/java/org/sakaiproject/tool/messageforums': 1, '0.7615': 1, 'http://source.sakaiproject.org/viewsvn/?view=rev&rev=39763': 1, '11:33:05': 1, '39763': 1, 'msgcntr/trunk/messageforums-api/src/bundle/org/sakaiproject/api/app/messagecenter/bundle/Messages.properties': 1, 'check': 1, 'SAK-12484.': 1, '-r39571:39570': 1, 'messageforums-api/src/bundle/org/sakaiproject/api/app/messagecenter/bundle/Messages.properties': 1, '39571': 1, 'r39571': 1, '21:26:28': 1, 'SAK-12484': 1, 'all': 1, 'not': 2, 'include': 1, 'current': 1, 'name.': 1, 'http://jira.sakaiproject.org/jira/browse/SAK-12484': 1, 'gsilver@umich.edu': 12, '11:12:37': 4, 'm04GCaHB030887;': 1, '11:12:36': 1, '477E5AEB.E670B.28397': 1, '11:12:30': 1, '99715BAE7D;': 1, '16:12:27': 1, '<200801041611.m04GB1Lb007221@nakamura.uits.iupui.edu>': 1, '272': 1, '16:12:14': 1, '0A6ED42DFC': 1, '16:12:12': 1, 'm04GB1Wt007223': 1, '11:11:01': 3, 'm04GB1Lb007221': 1, 'r39762': 1, 'web/trunk/web-tool/tool/src/bundle': 1, '0.7601': 1, 'http://source.sakaiproject.org/viewsvn/?view=rev&rev=39762': 1, '11:11:00': 1, '39762': 1, 'web/trunk/web-tool/tool/src/bundle/iframe.properties': 1, 'SAK-12596': 1, 'http://bugs.sakaiproject.org/jira/browse/SAK-12596': 1, 'left': 3, 'moot': 3, '(unused)': 3, 'entries': 3, 'commented': 3, 'now': 3, '11:11:52': 5, '[141.211.14.36])': 1, 'creepshow.mr.itd.umich.edu': 4, '(creepshow.mr.itd.umich.edu': 2, '[141.211.14.84])': 2, 'godsend.mail.umich.edu': 1, 'm04GBqqv025330;': 1, '477E5AB3.5CC32.30840': 1, '11:11:34': 1, '62AA4BAE46;': 1, '16:11:31': 1, '<200801041610.m04GA5KP007209@nakamura.uits.iupui.edu>': 1, '1006': 1, '16:11:18': 1, 'C596A3DFA2': 1, '16:11:16': 1, 'm04GA5LR007211': 1, '11:10:05': 3, 'm04GA5KP007209': 1, 'r39761': 1, 'site/trunk/site-tool/tool/src/bundle': 1, '0.7605': 2, 'http://source.sakaiproject.org/viewsvn/?view=rev&rev=39761': 1, '11:10:04': 1, '39761': 1, 'site/trunk/site-tool/tool/src/bundle/admin.properties': 1, 'SAK-12595': 1, 'http://bugs.sakaiproject.org/jira/browse/SAK-12595': 1, '11:11:03': 5, 'carrie.mr.itd.umich.edu': 2, '(carrie.mr.itd.umich.edu': 1, '[141.211.93.152])': 1, 'm04GB3Vg011502;': 1, '477E5A8D.B378F.24200': 1, '11:10:56': 1, 'C7251BAD44;': 1, '16:10:53': 1, '<200801041609.m04G9EuX007197@nakamura.uits.iupui.edu>': 1, '483': 1, '16:10:27': 1, '2E7043DFA2': 1, '16:10:26': 1, 'm04G9Eqg007199': 1, '11:09:15': 1, 'm04G9EuX007197': 1, '11:09:14': 2, 'r39760': 1, 'site-manage/trunk/site-manage-tool/tool/src:': 1, 'webapp/vm/sitesetup': 3, '0.6959': 2, 'http://source.sakaiproject.org/viewsvn/?view=rev&rev=39760': 1, '11:09:12': 1, '39760': 1, 'site-manage/trunk/site-manage-tool/tool/src/java/org/sakaiproject/site/tool/SiteAction.java': 1, 'site-manage/trunk/site-manage-tool/tool/src/webapp/vm/sitesetup/chef_site-siteInfo-list.vm': 1, 'SAK-10911:': 1, 'Refactor': 1, 'use': 1, 'of': 4, 'site.upd,': 1, 'site.upd.site.mbrship': 1, 'site.upd.grp.mbrship': 1, 'permissions': 2, '11:10:22': 4, '[141.211.14.39])': 3, 'faithful.mail.umich.edu': 3, 'm04GAL9k010604;': 1, '11:10:21': 1, '477E5A67.34350.23015': 1, '11:10:18': 1, '98D04BAD43;': 1, '16:10:11': 1, '<200801041608.m04G8d7w007184@nakamura.uits.iupui.edu>': 1, '966': 1, '16:09:51': 1, '9F89542DD0': 1, '16:09:50': 1, 'm04G8dXN007186': 1, '11:08:39': 3, 'm04G8d7w007184': 1, 'r39759': 1, 'mailarchive/trunk/mailarchive-tool/tool/src/bundle': 1, '0.7606': 1, 'http://source.sakaiproject.org/viewsvn/?view=rev&rev=39759': 1, '11:08:38': 1, '39759': 1, 'mailarchive/trunk/mailarchive-tool/tool/src/bundle/email.properties': 1, 'SAK-12592': 1, 'http://bugs.sakaiproject.org/jira/browse/SAK-12592': 1, 'wagnermr@iupui.edu': 6, '10:38:42': 4, 'shining.mr.itd.umich.edu': 2, '(shining.mr.itd.umich.edu': 1, '[141.211.93.153])': 1, 'm04Fcfjm012313;': 1, '10:38:41': 1, '477E52FA.E6C6E.24093': 1, '10:38:37': 1, '6A39594CD2;': 1, '15:37:36': 1, '<200801041537.m04Fb6Ci007092@nakamura.uits.iupui.edu>': 1, '690': 1, '15:37:21': 1, 'CEFA037ACE': 1, '15:38:17': 1, 'm04Fb6nh007094': 1, '10:37:06': 3, 'm04Fb6Ci007092': 1, 'r39758': 1, 'gradebook/trunk:': 1, 'app/business/src/java/org/sakaiproject/tool/gradebook/business/impl': 1, 'service/api/src/java/org/sakaiproject/service/gradebook/shared': 1, 'service/impl/src/java/org/sakaiproject/component/gradebook': 1, '0.7559': 1, 'http://source.sakaiproject.org/viewsvn/?view=rev&rev=39758': 1, '10:37:04': 1, '39758': 1, 'gradebook/trunk/service/api/src/java/org/sakaiproject/service/gradebook/shared/GradebookService.java': 1, 'gradebook/trunk/service/impl/src/java/org/sakaiproject/component/gradebook/GradebookServiceHibernateImpl.java': 1, 'SAK-12175': 1, 'http://bugs.sakaiproject.org/jira/browse/SAK-12175': 1, 'Create': 1, 'methods': 1, 'required': 1, 'gb': 2, 'integration': 1, 'Assignment2': 1, 'getGradeDefinitionForStudentForItem': 1, '10:17:43': 2, '10:17:42': 3, 'm04FHgfs011536;': 1, '477E4E0F.CCA4B.926': 1, '10:17:38': 1, 'BD02DBAC64;': 1, '15:17:34': 1, '<200801041515.m04FFv42007050@nakamura.uits.iupui.edu>': 1, '25': 1, '15:17:11': 1, '5B396236B9': 1, '15:17:08': 1, 'm04FFv85007052': 1, '10:15:57': 3, 'm04FFv42007050': 1, 'r39757': 1, 'assignment/trunk:': 1, 'assignment-impl/impl/src/java/org/sakaiproject/assignment/impl': 1, 'assignment-tool/tool/src/webapp/vm/assignment': 1, 'http://source.sakaiproject.org/viewsvn/?view=rev&rev=39757': 1, '10:15:54': 1, '39757': 1, 'assignment/trunk/assignment-impl/impl/src/java/org/sakaiproject/assignment/impl/BaseAssignmentService.java': 1, 'assignment/trunk/assignment-tool/tool/src/webapp/vm/assignment/chef_assignments_instructor_list_submissions.vm': 1, \"SAK-12604:Don't\": 1, 'show': 1, 'groups/sections': 1, 'filter': 1, 'if': 2, 'have': 1, 'antranig@caret.cam.ac.uk': 4, '10:04:14': 4, 'm04F4Dci015108;': 1, '10:04:13': 1, '477E4AE3.D7AF.31669': 1, '10:04:05': 1, '933E3BAC17;': 1, '15:04:00': 1, '<200801041502.m04F21Jo007031@nakamura.uits.iupui.edu>': 1, '32': 1, 'AC2F6236B9': 1, '15:03:12': 1, 'm04F21hn007033': 1, '10:02:01': 3, 'm04F21Jo007031': 1, 'r39756': 1, 'component/branches/SAK-12166/component-api/component/src/java/org/sakaiproject/component:': 1, 'impl': 1, 'impl/spring/support': 1, 'impl/spring/support/dynamic': 1, 'impl/support': 1, 'util': 1, '0.6932': 1, 'http://source.sakaiproject.org/viewsvn/?view=rev&rev=39756': 1, '10:01:40': 1, '39756': 1, 'component/branches/SAK-12166/component-api/component/src/java/org/sakaiproject/component/impl/spring/support/dynamic/': 1, 'component/branches/SAK-12166/component-api/component/src/java/org/sakaiproject/component/impl/spring/support/dynamic/DynamicComponentManager.java': 1, 'component/branches/SAK-12166/component-api/component/src/java/org/sakaiproject/component/impl/support/': 1, 'component/branches/SAK-12166/component-api/component/src/java/org/sakaiproject/component/impl/support/DynamicComponentRecord.java': 1, 'component/branches/SAK-12166/component-api/component/src/java/org/sakaiproject/component/impl/support/DynamicJARManager.java': 1, 'component/branches/SAK-12166/component-api/component/src/java/org/sakaiproject/component/impl/support/JARRecord.java': 1, 'component/branches/SAK-12166/component-api/component/src/java/org/sakaiproject/component/util/ByteToCharBase64.java': 1, 'component/branches/SAK-12166/component-api/component/src/java/org/sakaiproject/component/util/FileUtil.java': 1, 'component/branches/SAK-12166/component-api/component/src/java/org/sakaiproject/component/util/RecordFileIO.java': 1, 'component/branches/SAK-12166/component-api/component/src/java/org/sakaiproject/component/util/RecordReader.java': 1, 'component/branches/SAK-12166/component-api/component/src/java/org/sakaiproject/component/util/RecordWriter.java': 1, 'component/branches/SAK-12166/component-api/component/src/java/org/sakaiproject/component/util/StreamDigestor.java': 1, 'component/branches/SAK-12166/component-api/component/src/java/org/sakaiproject/component/impl/spring/support/ComponentsLoaderImpl.java': 1, 'Temporary': 1, 'commit': 1, 'incomplete': 1, 'work': 1, 'on': 2, 'JAR': 1, 'caching': 1, 'gopal.ramasammycook@gmail.com': 4, '09:05:31': 4, 'guys.mr.itd.umich.edu': 4, '(guys.mr.itd.umich.edu': 2, '[141.211.14.76])': 2, 'm04E5U3C029277;': 1, '09:05:30': 1, '477E3D23.EE2E7.5237': 1, '09:05:26': 1, '33C7856DC0;': 1, '14:05:26': 1, '<200801041403.m04E3psW006926@nakamura.uits.iupui.edu>': 1, '575': 1, '14:05:04': 1, '3C0261D617': 1, '14:05:03': 1, 'm04E3pQS006928': 1, '09:03:52': 1, 'm04E3psW006926': 1, '09:03:51': 2, 'r39755': 1, 'sam/branches/SAK-12065:': 1, 'samigo-api/src/java/org/sakaiproject/tool/assessment/shared/api/grading': 1, 'samigo-app/src/java/org/sakaiproject/tool/assessment/ui/bean/evaluation': 1, 'samigo-app/src/java/org/sakaiproject/tool/assessment/ui/listener/evaluation': 1, 'samigo-services/src/java/org/sakaiproject/tool/assessment/facade': 1, 'samigo-services/src/java/org/sakaiproject/tool/assessment/integration/helper/ifc': 1, 'samigo-services/src/java/org/sakaiproject/tool/assessment/integration/helper/integrated': 1, 'samigo-services/src/java/org/sakaiproject/tool/assessment/integration/helper/standalone': 1, 'samigo-services/src/java/org/sakaiproject/tool/assessment/shared/impl/grading': 1, '0.7558': 1, 'http://source.sakaiproject.org/viewsvn/?view=rev&rev=39755': 1, '09:02:54': 1, '39755': 1, 'sam/branches/SAK-12065/samigo-api/src/java/org/sakaiproject/tool/assessment/shared/api/grading/GradingSectionAwareServiceAPI.java': 1, 'sam/branches/SAK-12065/samigo-app/src/java/org/sakaiproject/tool/assessment/ui/bean/evaluation/QuestionScoresBean.java': 1, 'sam/branches/SAK-12065/samigo-app/src/java/org/sakaiproject/tool/assessment/ui/bean/evaluation/SubmissionStatusBean.java': 1, 'sam/branches/SAK-12065/samigo-app/src/java/org/sakaiproject/tool/assessment/ui/bean/evaluation/TotalScoresBean.java': 1, 'sam/branches/SAK-12065/samigo-app/src/java/org/sakaiproject/tool/assessment/ui/listener/evaluation/SubmissionStatusListener.java': 1, 'sam/branches/SAK-12065/samigo-services/src/java/org/sakaiproject/tool/assessment/facade/PublishedAssessmentFacadeQueries.java': 1, 'sam/branches/SAK-12065/samigo-services/src/java/org/sakaiproject/tool/assessment/facade/PublishedAssessmentFacadeQueriesAPI.java': 1, 'sam/branches/SAK-12065/samigo-services/src/java/org/sakaiproject/tool/assessment/integration/helper/ifc/SectionAwareServiceHelper.java': 1, 'sam/branches/SAK-12065/samigo-services/src/java/org/sakaiproject/tool/assessment/integration/helper/integrated/SectionAwareServiceHelperImpl.java': 1, 'sam/branches/SAK-12065/samigo-services/src/java/org/sakaiproject/tool/assessment/integration/helper/standalone/SectionAwareServiceHelperImpl.java': 1, 'sam/branches/SAK-12065/samigo-services/src/java/org/sakaiproject/tool/assessment/shared/impl/grading/GradingSectionAwareServiceImpl.java': 1, 'SAK-12065': 1, 'Gopal': 1, 'Samigo': 1, 'Group': 1, 'Release.': 1, 'SubmissionStatus/TotalScores/Questions': 1, 'View': 1, 'filter.': 1, 'david.horwitz@uct.ac.za': 17, '07:02:32': 4, 'm04C2VN7026678;': 1, '07:02:31': 1, '477E2050.C2599.3263': 1, '07:02:27': 1, '6497FBA906;': 1, '12:02:11': 1, '<200801041200.m04C0gfK006793@nakamura.uits.iupui.edu>': 1, '611': 2, '12:01:53': 2, '5296342D3C': 1, 'm04C0gnm006795': 1, '07:00:42': 3, 'm04C0gfK006793': 1, 'r39754': 1, 'polls/branches/sakai_2-5-x:': 1, 'tool/src/java/org/sakaiproject/poll/tool': 2, 'tool/src/java/org/sakaiproject/poll/tool/evolvers': 2, 'tool/src/webapp/WEB-INF': 2, '0.6526': 1, 'http://source.sakaiproject.org/viewsvn/?view=rev&rev=39754': 1, '07:00:10': 1, '39754': 1, 'polls/branches/sakai_2-5-x/tool/src/java/org/sakaiproject/poll/tool/evolvers/': 1, 'polls/branches/sakai_2-5-x/tool/src/java/org/sakaiproject/poll/tool/evolvers/SakaiFCKTextEvolver.java': 2, 'Removed:': 2, 'polls/branches/sakai_2-5-x/.classpath': 1, 'polls/branches/sakai_2-5-x/tool/pom.xml': 1, 'polls/branches/sakai_2-5-x/tool/src/webapp/WEB-INF/requestContext.xml': 1, '-r39753': 1, 'https://source.sakaiproject.org/svn/polls/trunk': 2, 'r39753': 2, '13:05:51': 1, '+0200': 3, '1': 3, 'line': 3, 'SAK-12228': 2, 'implmented': 2, 'workaround': 2, 'sugested': 2, 'AB': 2, 'needs': 2, 'tested': 2, 'against': 2, 'trunk': 2, 'build': 2, 'dhorwitz@david-horwitz-6:~/branchManagemnt/sakai_2-5-x>': 4, '-c39753': 1, 'polls/': 1, 'polls/.classpath': 1, 'A': 2, 'polls/tool/src/java/org/sakaiproject/poll/tool/evolvers': 1, 'polls/tool/src/java/org/sakaiproject/poll/tool/evolvers/SakaiFCKTextEvolver.java': 1, 'C': 2, 'polls/tool/src/webapp/WEB-INF/requestContext.xml': 2, 'polls/tool/pom.xml': 1, 'resolved': 1, 'Resolved': 1, 'conflicted': 1, 'state': 1, \"'polls/tool/src/webapp/WEB-INF/requestContext.xml\": 1, '06:08:27': 4, '[141.211.14.98])': 1, 'casino.mail.umich.edu': 1, 'm04B8Qw9001368;': 1, '06:08:26': 1, '477E13A5.30FC0.24054': 1, '06:08:23': 1, '784A476D7B;': 1, '11:08:12': 1, '<200801041106.m04B6lK3006677@nakamura.uits.iupui.edu>': 1, '585': 1, '11:07:56': 1, '1CACC42D0C': 1, '11:07:58': 1, 'm04B6lWM006679': 1, '06:06:47': 3, 'm04B6lK3006677': 1, 'polls/trunk:': 1, '0.6948': 1, 'http://source.sakaiproject.org/viewsvn/?view=rev&rev=39753': 1, '06:05:51': 1, '39753': 1, 'polls/trunk/tool/src/java/org/sakaiproject/poll/tool/evolvers/': 1, 'polls/trunk/tool/src/java/org/sakaiproject/poll/tool/evolvers/SakaiFCKTextEvolver.java': 1, 'polls/trunk/.classpath': 1, 'polls/trunk/tool/pom.xml': 1, 'polls/trunk/tool/src/webapp/WEB-INF/requestContext.xml': 1, '04:49:08': 4, '[141.211.14.92])': 1, 'galaxyquest.mr.itd.umich.edu': 4, '(galaxyquest.mr.itd.umich.edu': 2, '[141.211.93.145])': 2, 'score.mail.umich.edu': 1, 'm049n60G017588;': 1, '04:49:06': 1, '477E010C.48C2.10259': 1, '04:49:03': 1, '254CC8CDEE;': 1, '09:48:55': 1, '<200801040947.m049lUxo006517@nakamura.uits.iupui.edu>': 1, '246': 1, '09:48:36': 1, '8C13342C92': 1, '09:48:40': 1, 'm049lU3P006519': 1, '04:47:30': 3, 'm049lUxo006517': 1, 'r39752': 1, 'podcasts/branches/sakai_2-5-x/podcasts-app/src/webapp:': 2, 'css': 2, 'podcasts': 2, '0.6528': 1, 'http://source.sakaiproject.org/viewsvn/?view=rev&rev=39752': 1, '04:47:16': 1, '39752': 1, 'podcasts/branches/sakai_2-5-x/podcasts-app/src/webapp/css/podcaster.css': 2, 'podcasts/branches/sakai_2-5-x/podcasts-app/src/webapp/podcasts/podMain.jsp': 2, '-r39641': 1, 'https://source.sakaiproject.org/svn/podcasts/trunk': 4, 'r39641': 1, 'josrodri@iupui.edu': 2, '2007-12-28': 1, '23:44:24': 1, '28': 1, 'SAK-9882:': 2, 'refactored': 2, 'podMain.jsp': 1, 'right': 1, 'way': 1, '(at': 1, 'least': 1, 'much': 1, 'closer': 1, 'to)': 1, '-c39641': 1, 'podcasts/': 2, 'podcasts/podcasts-app/src/webapp/podcasts/podMain.jsp': 2, 'podcasts/podcasts-app/src/webapp/css/podcaster.css': 2, 'merged': 1, 'manualy': 1, '04:33:44': 4, 'workinggirl.mr.itd.umich.edu': 2, '(workinggirl.mr.itd.umich.edu': 1, '[141.211.93.143])': 1, 'm049Xge3031803;': 1, '04:33:42': 1, '477DFD6C.75DBE.26054': 1, '04:33:35': 1, '6C929BA656;': 1, '09:33:27': 1, '<200801040932.m049W2i5006493@nakamura.uits.iupui.edu>': 1, '153': 1, '09:33:10': 1, '6C69423767': 1, '09:33:13': 1, 'm049W3fl006495': 1, '04:32:03': 1, 'm049W2i5006493': 1, '04:32:02': 2, 'r39751': 1, 'images': 1, 'http://source.sakaiproject.org/viewsvn/?view=rev&rev=39751': 1, '04:31:35': 1, '39751': 1, 'podcasts/branches/sakai_2-5-x/podcasts-app/src/webapp/images/rss-feed-icon.png': 1, 'podcasts/branches/sakai_2-5-x/podcasts-app/src/webapp/podcasts/podPermissions.jsp': 1, 'podcasts/branches/sakai_2-5-x/podcasts-app/src/webapp/podcasts/podDelete.jsp': 1, 'podcasts/branches/sakai_2-5-x/podcasts-app/src/webapp/podcasts/podNoResource.jsp': 1, 'podcasts/branches/sakai_2-5-x/podcasts-app/src/webapp/podcasts/podOptions.jsp': 1, '-r39146': 1, 'r39146': 1, '2007-12-12': 1, '21:40:33': 1, '(Wed,': 2, '12': 2, 'other': 1, 'pages': 1, 'as': 4, 'well': 2, 'take': 1, 'advantage': 1, 'proper': 1, 'jsp': 1, 'components': 1, 'validation': 1, 'cleanup.': 1, '-c39146': 1, 'D': 2, 'podcasts/podcasts-app/src/webapp/podcasts/podPermissions.jsp': 1, 'podcasts/podcasts-app/src/webapp/podcasts/podDelete.jsp': 1, 'podcasts/podcasts-app/src/webapp/podcasts/podNoResource.jsp': 1, 'podcasts/podcasts-app/src/webapp/podcasts/podOptions.jsp': 1, 'podcasts/podcasts-app/src/webapp/images/rss-feed-icon.png': 1, '04:07:34': 4, 'salemslot.mr.itd.umich.edu': 6, '(salemslot.mr.itd.umich.edu': 3, '[141.211.14.58])': 3, 'm0497WAN027902;': 1, '04:07:32': 1, '477DF74E.49493.30415': 1, '04:07:29': 1, '88598BA5B6;': 1, '09:07:19': 1, '<200801040905.m0495rWB006420@nakamura.uits.iupui.edu>': 1, '385': 1, '09:07:04': 2, '90636418A8': 1, 'm0495sZs006422': 1, '04:05:54': 1, 'm0495rWB006420': 1, '04:05:53': 2, 'r39750': 1, 'event/branches/SAK-6216/event-util/util/src/java/org/sakaiproject/util': 1, '0.7554': 1, 'http://source.sakaiproject.org/viewsvn/?view=rev&rev=39750': 1, '04:05:43': 1, '39750': 1, 'event/branches/SAK-6216/event-util/util/src/java/org/sakaiproject/util/EmailNotification.java': 1, 'SAK-6216': 1, 'event': 1, 'change': 1, 'SAK-11169': 1, '(r39033)': 1, 'synchronize': 1, 'branch': 1, '(for': 1, 'convenience': 1, 'UCT': 1, 'local': 1, 'build)': 1, 'Thu': 12, '19:51:21': 3, '[141.211.14.91])': 3, 'Thu,': 51, '03': 18, 'jacknife.mail.umich.edu': 3, 'm040pJHB027171;': 1, '19:51:19': 1, '477D8300.AC098.32562': 1, '19:51:15': 1, 'E6CC4B9F8A;': 1, '00:36:06': 1, '<200801040023.m040NpCc005473@nakamura.uits.iupui.edu>': 1, '754': 1, '00:35:43': 1, '8889842C49': 1, '00:25:00': 1, 'm040NpgM005475': 1, '19:23:51': 3, 'm040NpCc005473': 1, 'r39749': 1, '19:51:20': 1, '0.6956': 1, 'http://source.sakaiproject.org/viewsvn/?view=rev&rev=39749': 1, '2008-01-03': 6, '19:23:46': 1, '39749': 1, 'bspace/site-manage/sakai_2-4-x/site-manage-tool/tool/src/webapp/vm/sitesetup/chef_site-importSites.vm': 1, 'BSP-1420': 1, 'Update': 1, 'text': 2, 'clarify': 2, '\"Re-Use': 1, 'Materials...\"': 1, 'option': 2, 'WS': 1, 'Setup': 1, '17:18:23': 4, 'm03MIMXY027729;': 1, '17:18:22': 1, '477D5F23.797F6.16348': 1, '17:18:14': 1, 'EF439B98CE;': 1, '22:18:19': 1, '<200801032216.m03MGhDa005292@nakamura.uits.iupui.edu>': 1, '236': 1, '22:18:04': 1, '905D53C2FD': 1, '22:17:52': 1, 'm03MGhrs005294': 1, '17:16:43': 3, 'm03MGhDa005292': 1, 'r39746': 1, 'http://source.sakaiproject.org/viewsvn/?view=rev&rev=39746': 1, '17:16:39': 1, '39746': 1, 'bspace/site-manage/sakai_2-4-x/site-manage-tool/tool/src/webapp/vm/sitesetup/chef_site-siteInfo-duplicate.vm': 1, 'BSP-1421': 1, 'Add': 1, '\"Duplicate': 1, 'Site\"': 1, 'ray@media.berkeley.edu': 4, '17:07:00': 4, 'anniehall.mr.itd.umich.edu': 2, '(anniehall.mr.itd.umich.edu': 1, '[141.211.93.141])': 1, 'm03M6xaq014868;': 1, '17:06:59': 1, '477D5C7A.4FE1F.22211': 1, '17:06:53': 1, '0BC8D7225E;': 1, '22:06:57': 1, '<200801032205.m03M5Ea7005273@nakamura.uits.iupui.edu>': 1, '554': 1, '22:06:34': 1, '2AB513C2FD': 1, '22:06:23': 1, 'm03M5EQa005275': 1, '17:05:14': 3, 'm03M5Ea7005273': 1, 'r39745': 1, 'providers/trunk/cm/cm-authz-provider/src/java/org/sakaiproject/coursemanagement/impl/provider': 1, 'http://source.sakaiproject.org/viewsvn/?view=rev&rev=39745': 1, '17:05:11': 1, '39745': 1, 'providers/trunk/cm/cm-authz-provider/src/java/org/sakaiproject/coursemanagement/impl/provider/CourseManagementGroupProvider.java': 1, 'SAK-12602': 1, 'logic': 1, 'has': 1, 'multiple': 1, 'roles': 1, 'section': 1, '16:34:40': 4, '[141.211.14.34])': 1, 'chaos.mail.umich.edu': 1, 'm03LYdY1029538;': 1, '16:34:39': 1, '477D54EA.13F34.26602': 1, '16:34:36': 1, 'CC710ADC79;': 1, '21:34:29': 1, '<200801032133.m03LX3gG005191@nakamura.uits.iupui.edu>': 1, '21:34:08': 1, '43C4242B55': 1, '21:34:12': 1, 'm03LX3Vb005193': 1, '16:33:03': 3, 'm03LX3gG005191': 1, 'r39744': 1, 'oncourse/branches/oncourse_OPC_122007': 1, '0.9846': 1, 'http://source.sakaiproject.org/viewsvn/?view=rev&rev=39744': 1, '16:33:02': 1, '39744': 1, 'oncourse/branches/oncourse_OPC_122007/': 1, 'oncourse/branches/oncourse_OPC_122007/.externals': 1, 'update': 1, 'external': 1, 'GB.': 1, '16:29:07': 4, 'm03LT6uw027749;': 1, '16:29:06': 1, '477D5397.E161D.20326': 1, '16:28:58': 1, 'DEC65ADC79;': 1, '21:28:52': 1, '<200801032127.m03LRUqH005177@nakamura.uits.iupui.edu>': 1, '917': 1, '21:28:39': 1, '1FBB042B30': 1, '21:28:38': 1, 'm03LRUk4005179': 1, '16:27:30': 3, 'm03LRUqH005177': 1, 'r39743': 1, 'gradebook/branches/oncourse_2-4-2/app/ui/src/java/org/sakaiproject/tool/gradebook/ui': 2, '0.8509': 1, 'http://source.sakaiproject.org/viewsvn/?view=rev&rev=39743': 1, '16:27:29': 1, '39743': 1, 'gradebook/branches/oncourse_2-4-2/app/ui/src/java/org/sakaiproject/tool/gradebook/ui/RosterBean.java': 2, '-c': 2, '39403': 2, 'https://source.sakaiproject.org/svn/gradebook/trunk': 4, 'app/ui/src/java/org/sakaiproject/tool/gradebook/ui/RosterBean.java': 2, 'r39403': 1, '2007-12-17': 1, '17:11:08': 1, '(Mon,': 1, '17': 1, 'SAK-12504': 1, 'http://jira.sakaiproject.org/jira/browse/SAK-12504': 1, 'Viewing': 1, '\"All': 2, 'Grades\"': 2, 'page': 2, 'TA': 1, 'grader': 1, 'causes': 1, 'stack': 1, 'trace': 1, '16:23:48': 4, 'm03LNlf0002115;': 1, '16:23:47': 1, '477D525E.1448.30389': 1, '16:23:44': 1, '9D005B9D06;': 1, '21:23:38': 1, '<200801032122.m03LMFo4005148@nakamura.uits.iupui.edu>': 1, '6': 1, '21:23:24': 2, '3535542B69': 1, 'm03LMFtT005150': 1, '16:22:15': 3, 'm03LMFo4005148': 1, 'r39742': 1, '0.9907': 1, 'http://source.sakaiproject.org/viewsvn/?view=rev&rev=39742': 1, '16:22:14': 1, '39742': 1, '35014': 2, 'r35014': 1, '2007-09-12': 1, '16:17:59': 1, '-0400': 1, 'Sep': 1, 'SAK-11458': 1, 'http://bugs.sakaiproject.org/jira/browse/SAK-11458': 1, 'Course': 1, 'does': 1, 'appear': 1, 'no': 1, 'categories': 1}\n",
            "[(352, 'Jan'), (324, '2008'), (245, 'by'), (243, 'Received:'), (219, '-0500'), (218, 'from'), (203, '4'), (194, 'with'), (183, 'Fri,'), (136, 'id'), (118, 'for'), (108, 'paploo.uhi.ac.uk'), (108, 'nakamura.uits.iupui.edu'), (108, 'ESMTP'), (81, 'text/plain;'), (81, 'charset=UTF-8'), (81, '<source@collab.sakaiproject.org>;'), (81, '+0000'), (81, '(GMT)'), (61, '3'), (61, '04'), (54, 'murder'), (54, '[127.0.0.1])'), (54, 'SMTP'), (54, 'LMTPA;'), (54, 'ID'), (54, 'Date:'), (54, '(localhost'), (54, '(Postfix)'), (54, '(Cyrus'), (51, 'Thu,'), (43, 'to'), (43, 'svn'), (40, 'Fri'), (35, '-'), (32, 'the'), (29, 'New'), (28, 'message'), (28, 'Source'), (28, 'Sakai'), (28, '2008)'), (27, 'you'), (27, 'was'), (27, 'v2.3.8)'), (27, 'v2.2.12)'), (27, 'using'), (27, 'source@collab.sakaiproject.org;'), (27, 'source@collab.sakaiproject.org'), (27, 'socket])'), (27, 'site.'), (27, 'shmi.uhi.ac.uk'), (27, 'set'), (27, 'sent'), (27, 'sender'), (27, 'receive'), (27, 'prod.collab.uhi.ac.uk'), (27, 'notifications'), (27, 'notification'), (27, 'nakamura.uits.iupui.edu:'), (27, 'modify'), (27, 'mail.umich.edu'), (27, 'how'), (27, 'frankenstein.mail.umich.edu'), (27, 'commit:'), (27, 'can'), (27, 'automatic'), (27, 'at'), (27, 'apache@localhost)'), (27, 'apache'), (27, '[sakai]'), (27, '[194.35.219.184])'), (27, '[134.68.220.122])'), (27, 'You'), (27, 'X-Sieve:'), (27, 'X-DSPAM-Result:'), (27, 'X-DSPAM-Processed:'), (27, 'X-DSPAM-Probability:'), (27, 'X-DSPAM-Confidence:'), (27, 'X-Content-Type-Outer-Envelope:'), (27, 'X-Content-Type-Message-Body:'), (27, 'X-Authentication-Warning:'), (27, 'Workspace'), (27, 'To:'), (27, 'This'), (27, 'Subject:'), (27, 'Sieve'), (27, 'Server'), (27, 'Revision:'), (27, 'Return-Path:'), (27, 'Preferences.'), (27, 'My'), (27, 'Modified:'), (27, 'Mime-Version:'), (27, 'Message-ID:'), (27, 'Log:'), (27, 'Innocent'), (27, 'From:'), (27, 'From'), (27, 'FROM'), (27, 'Details:'), (27, 'Content-Type:'), (27, 'Content-Transfer-Encoding:'), (27, 'Collab'), (27, 'CMU'), (27, 'BY'), (27, 'Author:'), (27, '>'), (27, '<postmaster@collab.sakaiproject.org>'), (27, ';'), (27, '7bit'), (27, '2.3'), (27, '2.1.3)'), (27, '1.0'), (27, '0.0000'), (27, '-f'), (27, '----------------------'), (27, '(nakamura.uits.iupui.edu'), (27, '(mail.umich.edu'), (27, '(https://collab.sakaiproject.org/portal)'), (27, '(from'), (27, '(app1.prod.collab.uhi.ac.uk'), (27, '([unix'), (27, '([194.35.219.182])'), (27, '(JAMES'), (27, '(8.12.11.20060308/8.12.11/Submit)'), (27, '(8.12.11.20060308/8.12.11)'), (27, '()'), (22, 'in'), (22, '(Fri,'), (21, '|'), (21, '2008-01-04'), (20, 'cwen@iupui.edu'), (18, '03'), (17, 'zqian@umich.edu'), (17, 'david.horwitz@uct.ac.za'), (14, 'U'), (14, '------------------------------------------------------------------------'), (12, 'merge'), (12, 'louis@media.berkeley.edu'), (12, 'gsilver@umich.edu'), (12, 'Thu'), (10, '5'), (9, 'Sat,'), (8, 'stephen.marquard@uct.ac.za'), (8, 'rjlowe@iupui.edu'), (8, 'holes.mr.itd.umich.edu'), (8, 'a'), (8, '(Thu,'), (7, 'log'), (6, 'wagnermr@iupui.edu'), (6, 'salemslot.mr.itd.umich.edu'), (6, '2008-01-03'), (6, '2007)'), (5, 'panther.mail.umich.edu'), (5, 'fan.mail.umich.edu'), (5, '[141.211.14.46])'), (5, '[141.211.14.25])'), (5, 'Dec'), (5, '11:11:52'), (5, '11:11:03'), (5, '-r'), (4, 'user'), (4, 'tool'), (4, 'ray@media.berkeley.edu'), (4, 'of'), (4, 'lines'), (4, 'icestorm.mr.itd.umich.edu'), (4, 'https://source.sakaiproject.org/svn/podcasts/trunk'), (4, 'https://source.sakaiproject.org/svn/gradebook/trunk'), (4, 'guys.mr.itd.umich.edu'), (4, 'gopal.ramasammycook@gmail.com'), (4, 'galaxyquest.mr.itd.umich.edu'), (4, 'fix'), (4, 'firestarter.mr.itd.umich.edu'), (4, 'eyewitness.mr.itd.umich.edu'), (4, 'dhorwitz@david-horwitz-6:~/branchManagemnt/sakai_2-5-x>'), (4, 'creepshow.mr.itd.umich.edu'), (4, 'be'), (4, 'as'), (4, 'antranig@caret.cam.ac.uk'), (4, '[141.211.14.79])'), (4, 'Added:'), (4, '18:10:48'), (4, '17:18:23'), (4, '17:07:00'), (4, '16:34:40'), (4, '16:29:07'), (4, '16:23:48'), (4, '16:10:39'), (4, '15:46:24'), (4, '15:03:18'), (4, '14:50:18'), (4, '11:37:30'), (4, '11:35:08'), (4, '11:12:37'), (4, '11:10:22'), (4, '10:38:42'), (4, '10:04:14'), (4, '09:14:16'), (4, '09:05:31'), (4, '07:02:32'), (4, '06:08:27'), (4, '04:49:08'), (4, '04:33:44'), (4, '04:07:34'), (4, '(holes.mr.itd.umich.edu'), (3, 'when'), (3, 'webapp/vm/sitesetup'), (3, 'sleepers.mail.umich.edu'), (3, 'site'), (3, 'now'), (3, 'moot'), (3, 'line'), (3, 'left'), (3, 'jacknife.mail.umich.edu'), (3, 'flawless.mail.umich.edu'), (3, 'faithful.mail.umich.edu'), (3, 'entries'), (3, 'commented'), (3, 'bundle'), (3, 'bspace/site-manage/sakai_2-4-x/site-manage-tool/tool/src:'), (3, 'bspace/site-manage/sakai_2-4-x/site-manage-tool/tool/src/bundle/sitesetupgeneric.properties'), (3, '[141.211.14.97])'), (3, '[141.211.14.91])'), (3, '[141.211.14.90])'), (3, '[141.211.14.58])'), (3, '[141.211.14.39])'), (3, '19:51:21'), (3, '19:23:51'), (3, '18:08:57'), (3, '17:16:43'), (3, '17:05:14'), (3, '16:33:03'), (3, '16:27:30'), (3, '16:22:15'), (3, '16:09:02'), (3, '15:44:40'), (3, '15:01:38'), (3, '11:35:26'), (3, '11:33:06'), (3, '11:11:01'), (3, '11:10:05'), (3, '11:08:39'), (3, '10:37:06'), (3, '10:17:42'), (3, '10:15:57'), (3, '10:02:01'), (3, '1'), (3, '07:00:42'), (3, '06:06:47'), (3, '05'), (3, '04:47:30'), (3, '.'), (3, '+0200'), (3, '(unused)'), (3, '(salemslot.mr.itd.umich.edu'), (2, 'workinggirl.mr.itd.umich.edu'), (2, 'workaround'), (2, 'well'), (2, 'unmerge'), (2, 'ui'), (2, 'trunk'), (2, 'tool/src/webapp/WEB-INF'), (2, 'tool/src/java/org/sakaiproject/poll/tool/evolvers'), (2, 'tool/src/java/org/sakaiproject/poll/tool'), (2, 'text'), (2, 'tested'), (2, 'tadpole.mr.itd.umich.edu'), (2, 'sugested'), (2, 'should'), (2, 'shining.mr.itd.umich.edu'), (2, 'reply'), (2, 'refactored'), (2, 'r39753'), (2, 'polls/tool/src/webapp/WEB-INF/requestContext.xml'), (2, 'polls/branches/sakai_2-5-x/tool/src/java/org/sakaiproject/poll/tool/evolvers/SakaiFCKTextEvolver.java'), (2, 'podcasts/podcasts-app/src/webapp/podcasts/podMain.jsp'), (2, 'podcasts/podcasts-app/src/webapp/css/podcaster.css'), (2, 'podcasts/branches/sakai_2-5-x/podcasts-app/src/webapp:'), (2, 'podcasts/branches/sakai_2-5-x/podcasts-app/src/webapp/podcasts/podMain.jsp'), (2, 'podcasts/branches/sakai_2-5-x/podcasts-app/src/webapp/css/podcaster.css'), (2, 'podcasts/'), (2, 'podcasts'), (2, 'permissions'), (2, 'page'), (2, 'option'), (2, 'on'), (2, 'not'), (2, 'needs'), (2, 'msgcntr/trunk/messageforums-app/src/java/org/sakaiproject/tool/messageforums/PrivateMessagesTool.java'), (2, 'messageforums-app/src/java/org/sakaiproject/tool/messageforums/PrivateMessagesTool.java'), (2, 'list'), (2, 'josrodri@iupui.edu'), (2, 'java/org/sakaiproject/site/tool'), (2, 'it.mr.itd.umich.edu'), (2, 'into'), (2, 'implmented'), (2, 'if'), (2, 'hu2@iupui.edu'), (2, 'https://source.sakaiproject.org/svn/polls/trunk'), (2, 'https://source.sakaiproject.org/svn/msgcntr/trunk'), (2, 'helper'), (2, 'gradebook/trunk/app/ui/src/webapp/WEB-INF/requestContext.xml'), (2, 'gradebook/trunk/app/ui/src/webapp/WEB-INF/bundle/messages.properties'), (2, 'gradebook/trunk/app/ui/src/webapp/WEB-INF/applicationContext.xml'), (2, 'gradebook/trunk/app/ui/src/java/org/sakaiproject/tool/gradebook/ui/helpers/producers/GradeGradebookItemProducer.java'), (2, 'gradebook/trunk/app/ui/src/java/org/sakaiproject/tool/gradebook/ui/helpers/beans/AssignmentGradeRecordBean.java'), (2, 'gradebook/trunk/app/business/src/java/org/sakaiproject/tool/gradebook/business/impl/GradebookManagerHibernateImpl.java'), (2, 'gradebook/branches/oncourse_2-4-2/app/ui/src/java/org/sakaiproject/tool/gradebook/ui/RosterBean.java'), (2, 'gradebook/branches/oncourse_2-4-2/app/ui/src/java/org/sakaiproject/tool/gradebook/ui'), (2, 'grade'), (2, 'ghostbusters.mr.itd.umich.edu'), (2, 'gb'), (2, 'dreamcatcher.mr.itd.umich.edu'), (2, \"doesn't\"), (2, 'css'), (2, 'conflict'), (2, 'clarify'), (2, 'cc'), (2, 'carrie.mr.itd.umich.edu'), (2, 'build'), (2, 'branch:'), (2, 'app/ui/src/java/org/sakaiproject/tool/gradebook/ui/RosterBean.java'), (2, 'any'), (2, 'anniehall.mr.itd.umich.edu'), (2, 'and'), (2, 'against'), (2, '[141.211.93.149])'), (2, '[141.211.93.145])'), (2, '[141.211.93.142])'), (2, '[141.211.14.84])'), (2, '[141.211.14.83])'), (2, '[141.211.14.76])'), (2, \"Xingtang's\"), (2, 'Site'), (2, 'Sat'), (2, 'SAK-9882:'), (2, 'SAK-12228'), (2, 'SAK-12180'), (2, 'Removed:'), (2, 'Info'), (2, 'Grades\"'), (2, 'Fix'), (2, 'D'), (2, 'C'), (2, 'AB'), (2, 'A'), (2, '611'), (2, '39403'), (2, '35014'), (2, '23:10:10'), (2, '21:23:24'), (2, '2007-12-20'), (2, '20'), (2, '2-5-x'), (2, '15:03:15'), (2, '14:48:39'), (2, '12:01:53'), (2, '12'), (2, '11:09:14'), (2, '10:17:43'), (2, '09:12:18'), (2, '09:07:04'), (2, '09:03:51'), (2, '04:32:02'), (2, '04:05:53'), (2, '0.7605'), (2, '0.7556'), (2, '0.7002'), (2, '0.6959'), (2, '-c'), (2, '(icestorm.mr.itd.umich.edu'), (2, '(guys.mr.itd.umich.edu'), (2, '(galaxyquest.mr.itd.umich.edu'), (2, '(firestarter.mr.itd.umich.edu'), (2, '(eyewitness.mr.itd.umich.edu'), (2, '(creepshow.mr.itd.umich.edu'), (2, '(Wed,'), (2, '\"All'), (1, 'yourself.'), (1, 'work'), (1, 'webapp/WEB-INF/bundle'), (1, 'webapp/WEB-INF'), (1, 'web/trunk/web-tool/tool/src/bundle/iframe.properties'), (1, 'web/trunk/web-tool/tool/src/bundle'), (1, 'way'), (1, 'validation'), (1, 'util'), (1, 'use'), (1, 'update'), (1, 'ui/src/webapp/content/templates'), (1, 'ui/src/webapp/WEB-INF/bundle'), (1, 'ui/src/webapp/WEB-INF'), (1, 'ui/src/java/org/sakaiproject/tool/gradebook/ui/helpers/producers'), (1, 'ui/src/java/org/sakaiproject/tool/gradebook/ui/helpers/params'), (1, 'ui/src/java/org/sakaiproject/tool/gradebook/ui/helpers/entity'), (1, 'ui/src/java/org/sakaiproject/tool/gradebook/ui/helpers/beans'), (1, 'trace'), (1, 'to)'), (1, 'there'), (1, 'than'), (1, 'take'), (1, 'synchronize'), (1, 'state'), (1, 'stack'), (1, 'site/trunk/site-tool/tool/src/bundle/admin.properties'), (1, 'site/trunk/site-tool/tool/src/bundle'), (1, 'site.upd.site.mbrship'), (1, 'site.upd.grp.mbrship'), (1, 'site.upd,'), (1, 'site-manage/trunk/site-manage-tool/tool/src:'), (1, 'site-manage/trunk/site-manage-tool/tool/src/webapp/vm/sitesetup/chef_site-siteInfo-list.vm'), (1, 'site-manage/trunk/site-manage-tool/tool/src/java/org/sakaiproject/site/tool/SiteAction.java'), (1, 'site-manage/branches/sakai_2-5-x/site-manage-tool/tool/src/webapp/vm/sitesetup/chef_site-siteInfo-list.vm'), (1, 'site-manage/branches/sakai_2-5-x/site-manage-tool/tool/src/webapp/vm/sitesetup'), (1, 'site-manage/branches/sakai_2-4-x/site-manage-tool/tool/src/java/org/sakaiproject/site/tool/SiteAction.java'), (1, 'site-manage/branches/sakai_2-4-x/site-manage-tool/tool/src/java/org/sakaiproject/site/tool'), (1, 'site-manage'), (1, 'show'), (1, 'service/impl/src/java/org/sakaiproject/component/gradebook'), (1, 'service/api/src/java/org/sakaiproject/service/gradebook/shared'), (1, 'send'), (1, 'section'), (1, 'score.mail.umich.edu'), (1, 'samigo-services/src/java/org/sakaiproject/tool/assessment/shared/impl/grading'), (1, 'samigo-services/src/java/org/sakaiproject/tool/assessment/integration/helper/standalone'), (1, 'samigo-services/src/java/org/sakaiproject/tool/assessment/integration/helper/integrated'), (1, 'samigo-services/src/java/org/sakaiproject/tool/assessment/integration/helper/ifc'), (1, 'samigo-services/src/java/org/sakaiproject/tool/assessment/facade'), (1, 'samigo-app/src/java/org/sakaiproject/tool/assessment/ui/listener/evaluation'), (1, 'samigo-app/src/java/org/sakaiproject/tool/assessment/ui/bean/evaluation'), (1, 'samigo-api/src/java/org/sakaiproject/tool/assessment/shared/api/grading'), (1, 'sam/branches/SAK-12065:'), (1, 'sam/branches/SAK-12065/samigo-services/src/java/org/sakaiproject/tool/assessment/shared/impl/grading/GradingSectionAwareServiceImpl.java'), (1, 'sam/branches/SAK-12065/samigo-services/src/java/org/sakaiproject/tool/assessment/integration/helper/standalone/SectionAwareServiceHelperImpl.java'), (1, 'sam/branches/SAK-12065/samigo-services/src/java/org/sakaiproject/tool/assessment/integration/helper/integrated/SectionAwareServiceHelperImpl.java'), (1, 'sam/branches/SAK-12065/samigo-services/src/java/org/sakaiproject/tool/assessment/integration/helper/ifc/SectionAwareServiceHelper.java'), (1, 'sam/branches/SAK-12065/samigo-services/src/java/org/sakaiproject/tool/assessment/facade/PublishedAssessmentFacadeQueriesAPI.java'), (1, 'sam/branches/SAK-12065/samigo-services/src/java/org/sakaiproject/tool/assessment/facade/PublishedAssessmentFacadeQueries.java'), (1, 'sam/branches/SAK-12065/samigo-app/src/java/org/sakaiproject/tool/assessment/ui/listener/evaluation/SubmissionStatusListener.java'), (1, 'sam/branches/SAK-12065/samigo-app/src/java/org/sakaiproject/tool/assessment/ui/bean/evaluation/TotalScoresBean.java'), (1, 'sam/branches/SAK-12065/samigo-app/src/java/org/sakaiproject/tool/assessment/ui/bean/evaluation/SubmissionStatusBean.java'), (1, 'sam/branches/SAK-12065/samigo-app/src/java/org/sakaiproject/tool/assessment/ui/bean/evaluation/QuestionScoresBean.java'), (1, 'sam/branches/SAK-12065/samigo-api/src/java/org/sakaiproject/tool/assessment/shared/api/grading/GradingSectionAwareServiceAPI.java'), (1, 'row'), (1, 'roles'), (1, 'right'), (1, 'resolved'), (1, 'required'), (1, 'r39772'), (1, 'r39771'), (1, 'r39770'), (1, 'r39769'), (1, 'r39766'), (1, 'r39765'), (1, 'r39764'), (1, 'r39763'), (1, 'r39762'), (1, 'r39761'), (1, 'r39760'), (1, 'r39759'), (1, 'r39758'), (1, 'r39757'), (1, 'r39756'), (1, 'r39755'), (1, 'r39754'), (1, 'r39752'), (1, 'r39751'), (1, 'r39750'), (1, 'r39749'), (1, 'r39746'), (1, 'r39745'), (1, 'r39744'), (1, 'r39743'), (1, 'r39742'), (1, 'r39641'), (1, 'r39632:3'), (1, 'r39624:5,'), (1, 'r39622,'), (1, 'r39622)'), (1, 'r39571'), (1, 'r39558'), (1, 'r39403'), (1, 'r39146'), (1, 'r35014'), (1, 'providers/trunk/cm/cm-authz-provider/src/java/org/sakaiproject/coursemanagement/impl/provider/CourseManagementGroupProvider.java'), (1, 'providers/trunk/cm/cm-authz-provider/src/java/org/sakaiproject/coursemanagement/impl/provider'), (1, 'provider'), (1, 'provided'), (1, 'provide'), (1, 'proper'), (1, 'project'), (1, 'polls/trunk:'), (1, 'polls/trunk/tool/src/webapp/WEB-INF/requestContext.xml'), (1, 'polls/trunk/tool/src/java/org/sakaiproject/poll/tool/evolvers/SakaiFCKTextEvolver.java'), (1, 'polls/trunk/tool/src/java/org/sakaiproject/poll/tool/evolvers/'), (1, 'polls/trunk/tool/pom.xml'), (1, 'polls/trunk/.classpath'), (1, 'polls/tool/src/java/org/sakaiproject/poll/tool/evolvers/SakaiFCKTextEvolver.java'), (1, 'polls/tool/src/java/org/sakaiproject/poll/tool/evolvers'), (1, 'polls/tool/pom.xml'), (1, 'polls/branches/sakai_2-5-x:'), (1, 'polls/branches/sakai_2-5-x/tool/src/webapp/WEB-INF/requestContext.xml'), (1, 'polls/branches/sakai_2-5-x/tool/src/java/org/sakaiproject/poll/tool/evolvers/'), (1, 'polls/branches/sakai_2-5-x/tool/pom.xml'), (1, 'polls/branches/sakai_2-5-x/.classpath'), (1, 'polls/.classpath'), (1, 'polls/'), (1, 'podcasts/podcasts-app/src/webapp/podcasts/podPermissions.jsp'), (1, 'podcasts/podcasts-app/src/webapp/podcasts/podOptions.jsp'), (1, 'podcasts/podcasts-app/src/webapp/podcasts/podNoResource.jsp'), (1, 'podcasts/podcasts-app/src/webapp/podcasts/podDelete.jsp'), (1, 'podcasts/podcasts-app/src/webapp/images/rss-feed-icon.png'), (1, 'podcasts/branches/sakai_2-5-x/podcasts-app/src/webapp/podcasts/podPermissions.jsp'), (1, 'podcasts/branches/sakai_2-5-x/podcasts-app/src/webapp/podcasts/podOptions.jsp'), (1, 'podcasts/branches/sakai_2-5-x/podcasts-app/src/webapp/podcasts/podNoResource.jsp'), (1, 'podcasts/branches/sakai_2-5-x/podcasts-app/src/webapp/podcasts/podDelete.jsp'), (1, 'podcasts/branches/sakai_2-5-x/podcasts-app/src/webapp/images/rss-feed-icon.png'), (1, 'podMain.jsp'), (1, 'participant'), (1, 'pages'), (1, 'other'), (1, 'or'), (1, 'one.'), (1, 'oncourse/branches/oncourse_OPC_122007/.externals'), (1, 'oncourse/branches/oncourse_OPC_122007/'), (1, 'oncourse/branches/oncourse_OPC_122007'), (1, 'object'), (1, 'null.'), (1, 'null'), (1, 'no'), (1, 'name.'), (1, 'multiple'), (1, 'much'), (1, 'msgcntr/trunk:'), (1, 'msgcntr/trunk/messageforums-app/src/java/org/sakaiproject/tool/messageforums:'), (1, 'msgcntr/trunk/messageforums-app/src/java/org/sakaiproject/tool/messageforums/ui/PrivateMessageDecoratedBean.java'), (1, 'msgcntr/trunk/messageforums-api/src/bundle/org/sakaiproject/api/app/messagecenter/bundle/Messages.properties'), (1, 'more'), (1, 'mission.mail.umich.edu'), (1, 'methods'), (1, 'messageforums-app/src/java/org/sakaiproject/tool/messageforums/ui/PrivateMessageDecoratedBean.java'), (1, 'messageforums-app/src/java/org/sakaiproject/tool/messageforums'), (1, 'messageforums-api/src/bundle/org/sakaiproject/api/app/messagecenter/bundle/Messages.properties'), (1, 'messageforums-api/src/bundle/org/sakaiproject/api/app/messagecenter/bundle'), (1, 'merged'), (1, 'manualy'), (1, 'mailarchive/trunk/mailarchive-tool/tool/src/bundle/email.properties'), (1, 'mailarchive/trunk/mailarchive-tool/tool/src/bundle'), (1, 'm05EEFR1013674;'), (1, 'm05ECJVp010329'), (1, 'm05ECIaH010327'), (1, 'm04NAbGa029441;'), (1, 'm04N8vHG008127'), (1, 'm04N8v6O008125'), (1, 'm04LAcZw014275;'), (1, 'm04L92hb007923'), (1, 'm04L927E007925'), (1, 'm04KkNbx032077;'), (1, 'm04KieqE007883'), (1, 'm04Kiem3007881'), (1, 'm04K3HGF006563;'), (1, 'm04K1cXv007740'), (1, 'm04K1cO0007738'), (1, 'm04JoHJi019755;'), (1, 'm04JmeV9007707'), (1, 'm04JmdwO007705'), (1, 'm04GbT9x022078;'), (1, 'm04GZQGZ007313'), (1, 'm04GZQ7W007315'), (1, 'm04GZ6lt020480;'), (1, 'm04GX6eG007292'), (1, 'm04GX6Y3007294'), (1, 'm04GCaHB030887;'), (1, 'm04GBqqv025330;'), (1, 'm04GB3Vg011502;'), (1, 'm04GB1Wt007223'), (1, 'm04GB1Lb007221'), (1, 'm04GAL9k010604;'), (1, 'm04GA5LR007211'), (1, 'm04GA5KP007209'), (1, 'm04G9EuX007197'), (1, 'm04G9Eqg007199'), (1, 'm04G8dXN007186'), (1, 'm04G8d7w007184'), (1, 'm04Fcfjm012313;'), (1, 'm04Fb6nh007094'), (1, 'm04Fb6Ci007092'), (1, 'm04FHgfs011536;'), (1, 'm04FFv85007052'), (1, 'm04FFv42007050'), (1, 'm04F4Dci015108;'), (1, 'm04F21hn007033'), (1, 'm04F21Jo007031'), (1, 'm04E5U3C029277;'), (1, 'm04E3psW006926'), (1, 'm04E3pQS006928'), (1, 'm04C2VN7026678;'), (1, 'm04C0gnm006795'), (1, 'm04C0gfK006793'), (1, 'm04B8Qw9001368;'), (1, 'm04B6lWM006679'), (1, 'm04B6lK3006677'), (1, 'm049n60G017588;'), (1, 'm049lUxo006517'), (1, 'm049lU3P006519'), (1, 'm049Xge3031803;'), (1, 'm049W3fl006495'), (1, 'm049W2i5006493'), (1, 'm0497WAN027902;'), (1, 'm0495sZs006422'), (1, 'm0495rWB006420'), (1, 'm040pJHB027171;'), (1, 'm040NpgM005475'), (1, 'm040NpCc005473'), (1, 'm03MIMXY027729;'), (1, 'm03MGhrs005294'), (1, 'm03MGhDa005292'), (1, 'm03M6xaq014868;'), (1, 'm03M5Ea7005273'), (1, 'm03M5EQa005275'), (1, 'm03LYdY1029538;'), (1, 'm03LX3gG005191'), (1, 'm03LX3Vb005193'), (1, 'm03LT6uw027749;'), (1, 'm03LRUqH005177'), (1, 'm03LRUk4005179'), (1, 'm03LNlf0002115;'), (1, 'm03LMFtT005150'), (1, 'm03LMFo4005148'), (1, 'logic'), (1, 'local'), (1, 'linebreaks'), (1, 'like'), (1, 'least'), (1, 'jsp'), (1, 'java/org/sakaiproject/tool/gradebook/ui/helpers/producers'), (1, 'java/org/sakaiproject/tool/gradebook/ui/helpers/beans'), (1, 'is'), (1, 'integration'), (1, 'information,'), (1, 'incomplete'), (1, 'include'), (1, 'impl/support'), (1, 'impl/spring/support/dynamic'), (1, 'impl/spring/support'), (1, 'impl'), (1, 'images'), (1, 'ids'), (1, 'https://source.sakaiproject.org/svn/site-manage/trunk/'), (1, 'http://source.sakaiproject.org/viewsvn/?view=rev&rev=39772'), (1, 'http://source.sakaiproject.org/viewsvn/?view=rev&rev=39771'), (1, 'http://source.sakaiproject.org/viewsvn/?view=rev&rev=39770'), (1, 'http://source.sakaiproject.org/viewsvn/?view=rev&rev=39769'), (1, 'http://source.sakaiproject.org/viewsvn/?view=rev&rev=39766'), (1, 'http://source.sakaiproject.org/viewsvn/?view=rev&rev=39765'), (1, 'http://source.sakaiproject.org/viewsvn/?view=rev&rev=39764'), (1, 'http://source.sakaiproject.org/viewsvn/?view=rev&rev=39763'), (1, 'http://source.sakaiproject.org/viewsvn/?view=rev&rev=39762'), (1, 'http://source.sakaiproject.org/viewsvn/?view=rev&rev=39761'), (1, 'http://source.sakaiproject.org/viewsvn/?view=rev&rev=39760'), (1, 'http://source.sakaiproject.org/viewsvn/?view=rev&rev=39759'), (1, 'http://source.sakaiproject.org/viewsvn/?view=rev&rev=39758'), (1, 'http://source.sakaiproject.org/viewsvn/?view=rev&rev=39757'), (1, 'http://source.sakaiproject.org/viewsvn/?view=rev&rev=39756'), (1, 'http://source.sakaiproject.org/viewsvn/?view=rev&rev=39755'), (1, 'http://source.sakaiproject.org/viewsvn/?view=rev&rev=39754'), (1, 'http://source.sakaiproject.org/viewsvn/?view=rev&rev=39753'), (1, 'http://source.sakaiproject.org/viewsvn/?view=rev&rev=39752'), (1, 'http://source.sakaiproject.org/viewsvn/?view=rev&rev=39751'), (1, 'http://source.sakaiproject.org/viewsvn/?view=rev&rev=39750'), (1, 'http://source.sakaiproject.org/viewsvn/?view=rev&rev=39749'), (1, 'http://source.sakaiproject.org/viewsvn/?view=rev&rev=39746'), (1, 'http://source.sakaiproject.org/viewsvn/?view=rev&rev=39745'), (1, 'http://source.sakaiproject.org/viewsvn/?view=rev&rev=39744'), (1, 'http://source.sakaiproject.org/viewsvn/?view=rev&rev=39743'), (1, 'http://source.sakaiproject.org/viewsvn/?view=rev&rev=39742'), (1, 'http://jira.sakaiproject.org/jira/browse/SAK-12504'), (1, 'http://jira.sakaiproject.org/jira/browse/SAK-12488'), (1, 'http://jira.sakaiproject.org/jira/browse/SAK-12484'), (1, 'http://bugs.sakaiproject.org/jira/browse/SAK-12596'), (1, 'http://bugs.sakaiproject.org/jira/browse/SAK-12595'), (1, 'http://bugs.sakaiproject.org/jira/browse/SAK-12592'), (1, 'http://bugs.sakaiproject.org/jira/browse/SAK-12175'), (1, 'http://bugs.sakaiproject.org/jira/browse/SAK-11458'), (1, 'have'), (1, 'has'), (1, 'groups/sections'), (1, 'grading'), (1, 'grader'), (1, 'gradebook/trunk:'), (1, 'gradebook/trunk/service/impl/src/java/org/sakaiproject/component/gradebook/GradebookServiceHibernateImpl.java'), (1, 'gradebook/trunk/service/api/src/java/org/sakaiproject/service/gradebook/shared/GradebookService.java'), (1, 'gradebook/trunk/app:'), (1, 'gradebook/trunk/app/ui/src:'), (1, 'gradebook/trunk/app/ui/src/webapp/content/templates/grade-gradebook-item.html'), (1, 'gradebook/trunk/app/ui/src/java/org/sakaiproject/tool/gradebook/ui/helpers/producers/AddGradebookItemProducer.java'), (1, 'gradebook/trunk/app/ui/src/java/org/sakaiproject/tool/gradebook/ui/helpers/params/GradeGradebookItemViewParams.java'), (1, 'gradebook/trunk/app/ui/src/java/org/sakaiproject/tool/gradebook/ui/helpers/entity/GradebookEntryGradeEntityProvider.java'), (1, 'gradebook/trunk/app/ui/src/java/org/sakaiproject/tool/gradebook/ui/helpers/entity/GradebookEntryEntityProvider.java'), (1, 'gradebook/trunk/app/ui/src/java/org/sakaiproject/tool/gradebook/ui/helpers/beans/GradebookItemBean.java'), (1, 'gradebook/trunk/app/ui/src/java/org/sakaiproject/tool/gradebook/ui/helpers/beans/AssignmentGradeRecordCreator.java'), (1, 'gradebook/trunk/app/ui/pom.xml'), (1, 'gradebook/trunk/app/business/src/java/org/sakaiproject/tool/gradebook/business/GradebookManager.java'), (1, 'godsend.mail.umich.edu'), (1, 'getGradeDefinitionForStudentForItem'), (1, 'filter.'), (1, 'filter'), (1, 'fake'), (1, 'external'), (1, 'event/branches/SAK-6216/event-util/util/src/java/org/sakaiproject/util/EmailNotification.java'), (1, 'event/branches/SAK-6216/event-util/util/src/java/org/sakaiproject/util'), (1, 'event'), (1, 'errors'), (1, 'enrollments'), (1, 'empty'), (1, 'does'), (1, 'differing'), (1, 'current'), (1, 'couse'), (1, 'convenience'), (1, 'content/branches/sakai_2-5-x/content-impl/impl/src/java/org/sakaiproject/content/impl/DbContentService.java'), (1, 'content/branches/sakai_2-5-x/content-impl/impl/src/java/org/sakaiproject/content/impl/ContentServiceSqlOracle.java'), (1, 'content/branches/sakai_2-5-x/content-impl/impl/src/java/org/sakaiproject/content/impl'), (1, 'conflicted'), (1, 'concatenate'), (1, 'components'), (1, 'component/branches/SAK-12166/component-api/component/src/java/org/sakaiproject/component:'), (1, 'component/branches/SAK-12166/component-api/component/src/java/org/sakaiproject/component/util/StreamDigestor.java'), (1, 'component/branches/SAK-12166/component-api/component/src/java/org/sakaiproject/component/util/RecordWriter.java'), (1, 'component/branches/SAK-12166/component-api/component/src/java/org/sakaiproject/component/util/RecordReader.java'), (1, 'component/branches/SAK-12166/component-api/component/src/java/org/sakaiproject/component/util/RecordFileIO.java'), (1, 'component/branches/SAK-12166/component-api/component/src/java/org/sakaiproject/component/util/FileUtil.java'), (1, 'component/branches/SAK-12166/component-api/component/src/java/org/sakaiproject/component/util/ByteToCharBase64.java'), (1, 'component/branches/SAK-12166/component-api/component/src/java/org/sakaiproject/component/impl/support/JARRecord.java'), (1, 'component/branches/SAK-12166/component-api/component/src/java/org/sakaiproject/component/impl/support/DynamicJARManager.java'), (1, 'component/branches/SAK-12166/component-api/component/src/java/org/sakaiproject/component/impl/support/DynamicComponentRecord.java'), (1, 'component/branches/SAK-12166/component-api/component/src/java/org/sakaiproject/component/impl/support/'), (1, 'component/branches/SAK-12166/component-api/component/src/java/org/sakaiproject/component/impl/spring/support/dynamic/DynamicComponentManager.java'), (1, 'component/branches/SAK-12166/component-api/component/src/java/org/sakaiproject/component/impl/spring/support/dynamic/'), (1, 'component/branches/SAK-12166/component-api/component/src/java/org/sakaiproject/component/impl/spring/support/ComponentsLoaderImpl.java'), (1, 'commit'), (1, 'closer'), (1, 'click'), (1, 'cleanup.'), (1, 'checkin'), (1, 'check'), (1, 'chaos.mail.umich.edu'), (1, 'change'), (1, 'causes'), (1, 'categories'), (1, 'casino.mail.umich.edu'), (1, 'caching'), (1, 'business/src/java/org/sakaiproject/tool/gradebook/business/impl'), (1, 'business/src/java/org/sakaiproject/tool/gradebook/business'), (1, 'build)'), (1, 'bspace/site-manage/sakai_2-4-x/site-manage-tool/tool/src/webapp/vm/sitesetup/chef_site-siteInfo-duplicate.vm'), (1, 'bspace/site-manage/sakai_2-4-x/site-manage-tool/tool/src/webapp/vm/sitesetup/chef_site-importSites.vm'), (1, 'bspace/site-manage/sakai_2-4-x/site-manage-tool/tool/src/java/org/sakaiproject/site/tool/SiteAction.java'), (1, 'branch'), (1, 'being'), (1, 'assignment/trunk:'), (1, 'assignment/trunk/assignment-tool/tool/src/webapp/vm/assignment/chef_assignments_instructor_list_submissions.vm'), (1, 'assignment/trunk/assignment-impl/impl/src/java/org/sakaiproject/assignment/impl/BaseAssignmentService.java'), (1, 'assignment-tool/tool/src/webapp/vm/assignment'), (1, 'assignment-impl/impl/src/java/org/sakaiproject/assignment/impl'), (1, 'assignment'), (1, 'are'), (1, 'appears'), (1, 'appear'), (1, 'app/business/src/java/org/sakaiproject/tool/gradebook/business/impl'), (1, 'an'), (1, 'all,'), (1, 'all'), (1, 'advantage'), (1, '[141.211.93.153])'), (1, '[141.211.93.152])'), (1, '[141.211.93.151])'), (1, '[141.211.93.144])'), (1, '[141.211.93.143])'), (1, '[141.211.93.141])'), (1, '[141.211.14.98])'), (1, '[141.211.14.93])'), (1, '[141.211.14.92])'), (1, '[141.211.14.72])'), (1, '[141.211.14.43])'), (1, '[141.211.14.36])'), (1, '[141.211.14.34])'), (1, 'Wed'), (1, 'Watch'), (1, 'WS'), (1, 'Viewing'), (1, 'View'), (1, 'Update'), (1, 'UCT'), (1, 'Temporary'), (1, 'TA'), (1, 'SubmissionStatus/TotalScores/Questions'), (1, 'Site\"'), (1, 'Setup'), (1, 'Sep'), (1, 'Samigo'), (1, 'SAK-9996'), (1, 'SAK-6216'), (1, \"SAK-12604:Don't\"), (1, 'SAK-12602'), (1, 'SAK-12596'), (1, 'SAK-12595'), (1, 'SAK-12592'), (1, 'SAK-12504'), (1, 'SAK-12501'), (1, 'SAK-12488.'), (1, 'SAK-12488'), (1, 'SAK-12484.'), (1, 'SAK-12484'), (1, 'SAK-12175'), (1, 'SAK-12065'), (1, 'SAK-11458'), (1, 'SAK-11169'), (1, 'SAK-10911:'), (1, 'SAK-10788:'), (1, 'SAK-10788'), (1, 'Resolved'), (1, 'Repository'), (1, 'Release.'), (1, 'Refactor'), (1, 'Nov'), (1, 'Notification'), (1, 'Materials...\"'), (1, 'MST'), (1, 'MODIFY'), (1, 'JAR'), (1, 'If'), (1, 'Group'), (1, 'Gopal'), (1, 'GB.'), (1, 'Fixed'), (1, 'Files'), (1, 'EF439B98CE;'), (1, 'E6CC4B9F8A;'), (1, 'E40FABAE5B;'), (1, 'DEC65ADC79;'), (1, 'D430B42E42'), (1, 'Create'), (1, 'Course'), (1, 'Changed'), (1, 'CEFA037ACE'), (1, 'CC710ADC79;'), (1, 'C7251BAD44;'), (1, 'C596A3DFA2'), (1, 'C48CDBB490;'), (1, 'BSP-1421'), (1, 'BSP-1420'), (1, 'BSP-1415'), (1, 'BD02DBAC64;'), (1, 'B3E6742F4A'), (1, 'Assignment2'), (1, 'Add'), (1, 'AC2F6236B9'), (1, 'AB4D042F4D'), (1, 'A55D242F57'), (1, 'A215243002'), (1, '<200801051412.m05ECIaH010327@nakamura.uits.iupui.edu>'), (1, '<200801042308.m04N8v6O008125@nakamura.uits.iupui.edu>'), (1, '<200801042109.m04L92hb007923@nakamura.uits.iupui.edu>'), (1, '<200801042044.m04Kiem3007881@nakamura.uits.iupui.edu>'), (1, '<200801042001.m04K1cO0007738@nakamura.uits.iupui.edu>'), (1, '<200801041948.m04JmdwO007705@nakamura.uits.iupui.edu>'), (1, '<200801041635.m04GZQGZ007313@nakamura.uits.iupui.edu>'), (1, '<200801041633.m04GX6eG007292@nakamura.uits.iupui.edu>'), (1, '<200801041611.m04GB1Lb007221@nakamura.uits.iupui.edu>'), (1, '<200801041610.m04GA5KP007209@nakamura.uits.iupui.edu>'), (1, '<200801041609.m04G9EuX007197@nakamura.uits.iupui.edu>'), (1, '<200801041608.m04G8d7w007184@nakamura.uits.iupui.edu>'), (1, '<200801041537.m04Fb6Ci007092@nakamura.uits.iupui.edu>'), (1, '<200801041515.m04FFv42007050@nakamura.uits.iupui.edu>'), (1, '<200801041502.m04F21Jo007031@nakamura.uits.iupui.edu>'), (1, '<200801041403.m04E3psW006926@nakamura.uits.iupui.edu>'), (1, '<200801041200.m04C0gfK006793@nakamura.uits.iupui.edu>'), (1, '<200801041106.m04B6lK3006677@nakamura.uits.iupui.edu>'), (1, '<200801040947.m049lUxo006517@nakamura.uits.iupui.edu>'), (1, '<200801040932.m049W2i5006493@nakamura.uits.iupui.edu>'), (1, '<200801040905.m0495rWB006420@nakamura.uits.iupui.edu>'), (1, '<200801040023.m040NpCc005473@nakamura.uits.iupui.edu>'), (1, '<200801032216.m03MGhDa005292@nakamura.uits.iupui.edu>'), (1, '<200801032205.m03M5Ea7005273@nakamura.uits.iupui.edu>'), (1, '<200801032133.m03LX3gG005191@nakamura.uits.iupui.edu>'), (1, '<200801032127.m03LRUqH005177@nakamura.uits.iupui.edu>'), (1, '<200801032122.m03LMFo4005148@nakamura.uits.iupui.edu>'), (1, '9F89542DD0'), (1, '9D005B9D06;'), (1, '99715BAE7D;'), (1, '98D04BAD43;'), (1, '966'), (1, '960'), (1, '933E3BAC17;'), (1, '917'), (1, '90636418A8'), (1, '906'), (1, '905D53C2FD'), (1, '8D13DBB001;'), (1, '8C13342C92'), (1, '899'), (1, '8889842C49'), (1, '88598BA5B6;'), (1, '7D13042F71'), (1, '784A476D7B;'), (1, '754'), (1, '710'), (1, '6C929BA656;'), (1, '6C69423767'), (1, '6A39594CD2;'), (1, '697'), (1, '690'), (1, '6497FBA906;'), (1, '62AA4BAE46;'), (1, '622'), (1, '6'), (1, '5F919BC2F2;'), (1, '5B396236B9'), (1, '585'), (1, '57770BB477;'), (1, '575'), (1, '554'), (1, '5296342D3C'), (1, '4BA2F42F57'), (1, '4AE03BB552;'), (1, '483'), (1, '477F90B0.2DB2F.12494'), (1, '477EBCE3.161BB.4320'), (1, '477EA0C6.A0214.25480'), (1, '477E9B13.2F3BC.22965'), (1, '477E9100.8F7F4.1590'), (1, '477E8DF2.67B91.5278'), (1, '477E60B2.82756.9904'), (1, '477E6033.6469D.21870'), (1, '477E5AEB.E670B.28397'), (1, '477E5AB3.5CC32.30840'), (1, '477E5A8D.B378F.24200'), (1, '477E5A67.34350.23015'), (1, '477E52FA.E6C6E.24093'), (1, '477E4E0F.CCA4B.926'), (1, '477E4AE3.D7AF.31669'), (1, '477E3D23.EE2E7.5237'), (1, '477E2050.C2599.3263'), (1, '477E13A5.30FC0.24054'), (1, '477E010C.48C2.10259'), (1, '477DFD6C.75DBE.26054'), (1, '477DF74E.49493.30415'), (1, '477D8300.AC098.32562'), (1, '477D5F23.797F6.16348'), (1, '477D5C7A.4FE1F.22211'), (1, '477D54EA.13F34.26602'), (1, '477D5397.E161D.20326'), (1, '477D525E.1448.30389'), (1, '43C4242B55'), (1, '3C0261D617'), (1, '39772'), (1, '39771'), (1, '39770'), (1, '39769'), (1, '39766'), (1, '39765'), (1, '39764'), (1, '39763'), (1, '39762'), (1, '39761'), (1, '39760'), (1, '39759'), (1, '39758'), (1, '39757'), (1, '39756'), (1, '39755'), (1, '39754'), (1, '39753'), (1, '39752'), (1, '39751'), (1, '39750'), (1, '39749'), (1, '39746'), (1, '39745'), (1, '39744'), (1, '39743'), (1, '39742'), (1, '39687:39688'), (1, '39571'), (1, '39558'), (1, '385'), (1, '38'), (1, '3535542B69'), (1, '33C7856DC0;'), (1, '32'), (1, '2E7043DFA2'), (1, '2D1B9BB492;'), (1, '2AB513C2FD'), (1, '28'), (1, '272'), (1, '254CC8CDEE;'), (1, '25'), (1, '246'), (1, '23:44:24'), (1, '23:10:33'), (1, '236'), (1, '22:18:19'), (1, '22:18:04'), (1, '22:17:52'), (1, '22:06:57'), (1, '22:06:34'), (1, '22:06:23'), (1, '21:40:33'), (1, '21:34:29'), (1, '21:34:12'), (1, '21:34:08'), (1, '21:28:52'), (1, '21:28:39'), (1, '21:28:38'), (1, '21:26:28'), (1, '21:23:38'), (1, '21:10:31'), (1, '21:10:18'), (1, '21:10:14'), (1, '20:46:13'), (1, '20:45:56'), (1, '20:45:52'), (1, '20:03:09'), (1, '20:02:50'), (1, '20:02:46'), (1, '2008-01-05'), (1, '2007-12-28'), (1, '2007-12-17'), (1, '2007-12-12'), (1, '2007-09-12'), (1, '2007'), (1, '2.4.x'), (1, '2-5-x:'), (1, '1FBB042B30'), (1, '1CD0C42E42'), (1, '1CACC42D0C'), (1, '19:51:20'), (1, '19:51:19'), (1, '19:51:15'), (1, '19:49:51'), (1, '19:47:10'), (1, '19:46:50'), (1, '19:23:46'), (1, '18:10:37'), (1, '18:10:31'), (1, '18:08:50'), (1, '17:18:22'), (1, '17:18:14'), (1, '17:16:39'), (1, '17:11:08'), (1, '17:06:59'), (1, '17:06:53'), (1, '17:05:11'), (1, '17'), (1, '16:37:07'), (1, '16:36:40'), (1, '16:36:37'), (1, '16:34:39'), (1, '16:34:38'), (1, '16:34:36'), (1, '16:34:17'), (1, '16:34:01'), (1, '16:33:02'), (1, '16:29:06'), (1, '16:28:58'), (1, '16:27:29'), (1, '16:23:47'), (1, '16:23:44'), (1, '16:22:14'), (1, '16:17:59'), (1, '16:12:27'), (1, '16:12:14'), (1, '16:12:12'), (1, '16:11:31'), (1, '16:11:18'), (1, '16:11:16'), (1, '16:10:53'), (1, '16:10:38'), (1, '16:10:33'), (1, '16:10:27'), (1, '16:10:26'), (1, '16:10:11'), (1, '16:09:51'), (1, '16:09:50'), (1, '16:09:01'), (1, '15:46:23'), (1, '15:46:13'), (1, '15:44:39'), (1, '15:38:17'), (1, '15:37:36'), (1, '15:37:21'), (1, '15:25:38'), (1, '15:17:34'), (1, '15:17:11'), (1, '15:17:08'), (1, '15:04:00'), (1, '15:03:17'), (1, '15:03:12'), (1, '15:01:37'), (1, '153'), (1, '14:54:46'), (1, '14:50:17'), (1, '14:50:13'), (1, '14:48:40'), (1, '14:48:37'), (1, '14:13:33'), (1, '14:10:05'), (1, '14:09:50'), (1, '14:05:26'), (1, '14:05:04'), (1, '14:05:03'), (1, '13:05:51'), (1, '12:02:11'), (1, '120'), (1, '11:37:29'), (1, '11:37:09'), (1, '11:35:25'), (1, '11:35:06'), (1, '11:35:02'), (1, '11:33:05'), (1, '11:12:36'), (1, '11:12:30'), (1, '11:11:34'), (1, '11:11:00'), (1, '11:10:56'), (1, '11:10:21'), (1, '11:10:18'), (1, '11:10:04'), (1, '11:09:15'), (1, '11:09:12'), (1, '11:08:38'), (1, '11:08:12'), (1, '11:07:58'), (1, '11:07:56'), (1, '10:38:41'), (1, '10:38:37'), (1, '10:37:04'), (1, '10:17:38'), (1, '10:15:54'), (1, '10:04:13'), (1, '10:04:05'), (1, '10:01:40'), (1, '1006'), (1, '0BC8D7225E;'), (1, '0A6ED42DFC'), (1, '09:48:55'), (1, '09:48:40'), (1, '09:48:36'), (1, '09:33:27'), (1, '09:33:13'), (1, '09:33:10'), (1, '09:14:15'), (1, '09:14:10'), (1, '09:12:19'), (1, '09:12:07'), (1, '09:07:19'), (1, '09:05:30'), (1, '09:05:26'), (1, '09:03:52'), (1, '09:02:54'), (1, '07:02:31'), (1, '07:02:27'), (1, '07:00:10'), (1, '07969BB706;'), (1, '07'), (1, '06:08:26'), (1, '06:08:23'), (1, '06:05:51'), (1, '04:49:06'), (1, '04:49:03'), (1, '04:47:16'), (1, '04:33:42'), (1, '04:33:35'), (1, '04:32:03'), (1, '04:31:35'), (1, '04:07:32'), (1, '04:07:29'), (1, '04:05:54'), (1, '04:05:43'), (1, '00:36:06'), (1, '00:35:43'), (1, '00:25:00'), (1, '0.9907'), (1, '0.9846'), (1, '0.8509'), (1, '0.8475'), (1, '0.7626'), (1, '0.7615'), (1, '0.7606'), (1, '0.7601'), (1, '0.7565'), (1, '0.7559'), (1, '0.7558'), (1, '0.7554'), (1, '0.6961'), (1, '0.6956'), (1, '0.6948'), (1, '0.6932'), (1, '0.6528'), (1, '0.6526'), (1, '0.6178'), (1, '/site-manage/trunk/site-manage-tool/tool/src/java/org/sakaiproject/site/tool/SiteAction.java'), (1, '-r39753'), (1, '-r39641'), (1, '-r39571:39570'), (1, '-r39558:39557'), (1, '-r39146'), (1, '-c39753'), (1, '-c39641'), (1, '-c39146'), (1, '-0400'), (1, '(workinggirl.mr.itd.umich.edu'), (1, '(tadpole.mr.itd.umich.edu'), (1, '(shining.mr.itd.umich.edu'), (1, '(resolve'), (1, '(r39033)'), (1, '(it.mr.itd.umich.edu'), (1, '(ghostbusters.mr.itd.umich.edu'), (1, '(for'), (1, '(dreamcatcher.mr.itd.umich.edu'), (1, '(carrie.mr.itd.umich.edu'), (1, '(at'), (1, '(anniehall.mr.itd.umich.edu'), (1, '(Sat,'), (1, '(Mon,'), (1, '(Guest)'), (1, \"'polls/tool/src/webapp/WEB-INF/requestContext.xml\"), (1, '#38024'), (1, '\"Re-Use'), (1, '\"Duplicate')]\n",
            "Jan 352\n",
            "2008 324\n",
            "by 245\n",
            "Received: 243\n",
            "-0500 219\n",
            "from 218\n",
            "4 203\n",
            "with 194\n",
            "Fri, 183\n",
            "id 136\n"
          ]
        }
      ]
    },
    {
      "cell_type": "markdown",
      "source": [
        "# Write a program to read through the **mbox-short.txt** and figure out the distribution by hour of the day for each of the messages. You can pull the hour out from the 'From ' line by finding the time and then splitting the string a second time using a colon.\n",
        "# From stephen.marquard@uct.ac.za Sat Jan  5 09:14:16 2008\n",
        "# Once you have accumulated the counts for each hour, print out the counts, sorted by hour as shown below."
      ],
      "metadata": {
        "id": "gjnQ5gXgSWYE"
      }
    },
    {
      "cell_type": "code",
      "source": [
        "name = open(\"hello2.txt\")\n",
        "counts=dict()\n",
        "for line in name:\n",
        "  if not line.startswith(\"From \"):\n",
        "    continue\n",
        "  else:\n",
        "    word=line.rstrip().split()\n",
        "    word=word[5].split(\":\")\n",
        "    counts[word[0]]=counts.get(word[0],0)+1\n",
        "tup=sorted([(key,value) for (key,value) in counts.items()])\n",
        "for(key,value) in tup:\n",
        "  print(key,value)"
      ],
      "metadata": {
        "colab": {
          "base_uri": "https://localhost:8080/"
        },
        "id": "DFfLYZCUSV6-",
        "outputId": "8cc58665-80a5-4824-912a-b5be2dec4830"
      },
      "execution_count": null,
      "outputs": [
        {
          "output_type": "stream",
          "name": "stdout",
          "text": [
            "04 3\n",
            "06 1\n",
            "07 1\n",
            "09 2\n",
            "10 3\n",
            "11 6\n",
            "14 1\n",
            "15 2\n",
            "16 4\n",
            "17 2\n",
            "18 1\n",
            "19 1\n"
          ]
        }
      ]
    },
    {
      "cell_type": "code",
      "source": [
        "name = input(\"Enter file:\")\n",
        "if len(name) < 1:\n",
        "    name = \"mbox-short.txt\"\n",
        "handle = open(name)\n",
        "counts=dict()\n",
        "for line in handle:\n",
        "    if not line.startswith(\"From \"):\n",
        "        continue\n",
        "    else:\n",
        "        word=line.rstrip().split()\n",
        "        word=word[5].split(\":\")\n",
        "        counts[word[0]]=counts.get(word[0],0)+1\n",
        "tup=sorted([(key,value) for (key,value) in counts.items()])\n",
        "for (key,value) in tup:\n",
        "    print(key,value)"
      ],
      "metadata": {
        "colab": {
          "base_uri": "https://localhost:8080/"
        },
        "id": "IIx_JBJUaJCk",
        "outputId": "3162606b-6e11-4367-d520-2e5bf2cc2d08"
      },
      "execution_count": null,
      "outputs": [
        {
          "output_type": "stream",
          "name": "stdout",
          "text": [
            "Enter file:hello2.txt\n",
            "04 3\n",
            "06 1\n",
            "07 1\n",
            "09 2\n",
            "10 3\n",
            "11 6\n",
            "14 1\n",
            "15 2\n",
            "16 4\n",
            "17 2\n",
            "18 1\n",
            "19 1\n"
          ]
        }
      ]
    }
  ]
}